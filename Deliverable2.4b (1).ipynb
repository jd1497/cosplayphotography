{
 "cells": [
  {
   "cell_type": "code",
   "execution_count": 1,
   "metadata": {},
   "outputs": [
    {
     "name": "stderr",
     "output_type": "stream",
     "text": [
      "Warning message:\n",
      "\"package 'ISLR' was built under R version 3.4.3\"\n",
      "Attaching package: 'dplyr'\n",
      "\n",
      "The following objects are masked from 'package:data.table':\n",
      "\n",
      "    between, first, last\n",
      "\n",
      "The following object is masked from 'package:MASS':\n",
      "\n",
      "    select\n",
      "\n",
      "The following objects are masked from 'package:stats':\n",
      "\n",
      "    filter, lag\n",
      "\n",
      "The following objects are masked from 'package:base':\n",
      "\n",
      "    intersect, setdiff, setequal, union\n",
      "\n",
      "Warning message:\n",
      "\"package 'e1071' was built under R version 3.4.3\"Loading required package: lattice\n",
      "Loading tidyverse: tibble\n",
      "Loading tidyverse: tidyr\n",
      "Loading tidyverse: readr\n",
      "Loading tidyverse: purrr\n",
      "Conflicts with tidy packages ---------------------------------------------------\n",
      "between():   dplyr, data.table\n",
      "filter():    dplyr, stats\n",
      "first():     dplyr, data.table\n",
      "lag():       dplyr, stats\n",
      "last():      dplyr, data.table\n",
      "lift():      purrr, caret\n",
      "select():    dplyr, MASS\n",
      "transpose(): purrr, data.table\n"
     ]
    }
   ],
   "source": [
    "library(ISLR)\n",
    "library(MASS)\n",
    "library(data.table) \n",
    "library(ggplot2)\n",
    "library(dplyr)\n",
    "library(e1071)\n",
    "library(rpart)\n",
    "library(caret)\n",
    "library(tidyverse)\n",
    "library(ggplot2)\n",
    "library(stringr)\n",
    "library(ISLR)"
   ]
  },
  {
   "cell_type": "code",
   "execution_count": 2,
   "metadata": {},
   "outputs": [],
   "source": [
    "colorstats <- read.csv('Stats.csv')\n",
    "colorstats %>%\n",
    "  select(Percentage.Black, Percentage.White, Percentage.Blue, Percentage.Red, Percentage.Yellow,\n",
    "         Percentage.Green, Percentage.Purple, People, Percentage.Cyan, Number.of.Likes) ->stat\n",
    "stat %>%\n",
    "    filter(Number.of.Likes <=100) -> stat1\n",
    "\n",
    "stat1 %>%\n",
    "    select(Percentage.Black, Percentage.White, Percentage.Blue, Percentage.Red, Percentage.Yellow,\n",
    "         Percentage.Green, Percentage.Purple, Percentage.Cyan) ->sorted\n",
    "cbind(sorted, t(apply(sorted, 1, sort, decreasing = TRUE))) -> sorted1\n",
    "colnames(sorted1) <- c(\"Percentage.Black\", \"Percentage.White\", \"Percentage.Blue\", \"Percentage.Red\", \"Percentage.Yellow\",\n",
    "                     \"Percentage.Green\",\"Percentage.Purple\",\"Percentage.Cyan\", \"Color1\", \"Color2\", \"Color3\",\n",
    "                     \"Color4\", \"Color5\", \"Color6\", \"Color7\", \"Color8\")\n",
    "sorted1 %>%\n",
    " select(Color1, Color2, Color3, Color4, Color5, Color6, Color7, Color8) ->domcolor\n",
    "dompcolor <- domcolor\n",
    "domcolor$Likes <- stat1$Number.of.Likes\n",
    "dompcolor$People <- stat1$People"
   ]
  },
  {
   "cell_type": "code",
   "execution_count": 4,
   "metadata": {},
   "outputs": [],
   "source": [
    "stat$Likes=log(stat$Number.of.Likes)\n",
    "train = 1:200\n",
    "Colors.train = stat[train, ]\n",
    "Colors.test = stat[-train, ]"
   ]
  },
  {
   "cell_type": "code",
   "execution_count": 5,
   "metadata": {},
   "outputs": [
    {
     "name": "stderr",
     "output_type": "stream",
     "text": [
      "Warning message:\n",
      "\"package 'gbm' was built under R version 3.4.3\"Loading required package: survival\n",
      "\n",
      "Attaching package: 'survival'\n",
      "\n",
      "The following object is masked from 'package:caret':\n",
      "\n",
      "    cluster\n",
      "\n",
      "Loading required package: splines\n",
      "Loading required package: parallel\n",
      "Loaded gbm 2.1.3\n"
     ]
    },
    {
     "data": {
      "image/png": "[encoded data removed]",
      "text/plain": [
       "plot without title"
      ]
     },
     "metadata": {},
     "output_type": "display_data"
    }
   ],
   "source": [
    "library(gbm)\n",
    "set.seed(20)\n",
    "pows <- seq(-10, -0.2, by = 0.1)\n",
    "lambdas <- 10^pows\n",
    "trainerror <- rep(0, length(lambdas))\n",
    "for (i in 1:length(lambdas)) {\n",
    "    boost.color <- gbm(Likes~., data=Colors.train, distribution = \"gaussian\",n.trees=1000,shrinkage=lambdas[i])\n",
    "    pred.train <- predict(boost.color,Colors.train, n.trees = 1000)\n",
    "    trainerror[i] <- mean((pred.train - Colors.train$Likes)^2)\n",
    "}\n",
    "\n",
    "plot(lambdas, trainerror, type = \"b\", xlab = \"Shrinkage values\", ylab = \"Training MSE\")\n"
   ]
  },
  {
   "cell_type": "code",
   "execution_count": 6,
   "metadata": {},
   "outputs": [
    {
     "data": {
      "text/html": [
       "0.107691598261982"
      ],
      "text/latex": [
       "0.107691598261982"
      ],
      "text/markdown": [
       "0.107691598261982"
      ],
      "text/plain": [
       "[1] 0.1076916"
      ]
     },
     "metadata": {},
     "output_type": "display_data"
    },
    {
     "data": {
      "text/html": [
       "0.0630957344480194"
      ],
      "text/latex": [
       "0.0630957344480194"
      ],
      "text/markdown": [
       "0.0630957344480194"
      ],
      "text/plain": [
       "[1] 0.06309573"
      ]
     },
     "metadata": {},
     "output_type": "display_data"
    },
    {
     "data": {
      "image/png": "[encoded data removed]",
      "text/plain": [
       "plot without title"
      ]
     },
     "metadata": {},
     "output_type": "display_data"
    }
   ],
   "source": [
    "testerr = rep(NA, length(lambdas))\n",
    "for (i in 1:length(lambdas)) {\n",
    "    hit = gbm(Likes ~., data=Colors.train, distribution = \"gaussian\", n.trees = 1000, shrinkage = lambdas[i])\n",
    "    pred1 = predict(hit, Colors.test, n.trees = 1000)\n",
    "    testerr[i] = mean((pred1 - Colors.test$Likes)^2)\n",
    "}\n",
    "plot(lambdas, testerr, type = \"b\", xlab = \"Shrinkage values\", ylab = \"Test MSE\")\n",
    "\n",
    "\n",
    "min(testerr)\n",
    "lambdas[which.min(testerr)]"
   ]
  },
  {
   "cell_type": "code",
   "execution_count": 7,
   "metadata": {},
   "outputs": [
    {
     "name": "stderr",
     "output_type": "stream",
     "text": [
      "Loading required package: Matrix\n",
      "\n",
      "Attaching package: 'Matrix'\n",
      "\n",
      "The following object is masked from 'package:tidyr':\n",
      "\n",
      "    expand\n",
      "\n",
      "Loading required package: foreach\n",
      "\n",
      "Attaching package: 'foreach'\n",
      "\n",
      "The following objects are masked from 'package:purrr':\n",
      "\n",
      "    accumulate, when\n",
      "\n",
      "Loaded glmnet 2.0-13\n",
      "\n"
     ]
    },
    {
     "data": {
      "text/html": [
       "0.817391067523145"
      ],
      "text/latex": [
       "0.817391067523145"
      ],
      "text/markdown": [
       "0.817391067523145"
      ],
      "text/plain": [
       "[1] 0.8173911"
      ]
     },
     "metadata": {},
     "output_type": "display_data"
    },
    {
     "data": {
      "text/html": [
       "0.816301468889156"
      ],
      "text/latex": [
       "0.816301468889156"
      ],
      "text/markdown": [
       "0.816301468889156"
      ],
      "text/plain": [
       "[1] 0.8163015"
      ]
     },
     "metadata": {},
     "output_type": "display_data"
    },
    {
     "data": {
      "text/html": [
       "0.811648787298767"
      ],
      "text/latex": [
       "0.811648787298767"
      ],
      "text/markdown": [
       "0.811648787298767"
      ],
      "text/plain": [
       "[1] 0.8116488"
      ]
     },
     "metadata": {},
     "output_type": "display_data"
    }
   ],
   "source": [
    "library(glmnet)\n",
    "fit1 = lm(Likes ~ ., data = Colors.train)\n",
    "pred1 = predict(fit1, Colors.test)\n",
    "mean((pred1 - Colors.test$Likes)^2)\n",
    "\n",
    "x = model.matrix(Likes ~ ., data = Colors.train)\n",
    "x.test = model.matrix(Likes ~ ., data = Colors.test)\n",
    "y = Colors.train$Likes\n",
    "fit2 = glmnet(x, y, alpha = 0)\n",
    "pred2 = predict(fit2, s = 0.01, newx = x.test)\n",
    "mean((pred2 - Colors.test$Likes)^2)\n",
    "\n",
    "lassofit = glmnet(x, y, alpha = 1) \n",
    "lassopred = predict(lassofit, s = 0.01, newx = x.test) \n",
    "mean((lassopred - Colors.test$Likes)^2)"
   ]
  },
  {
   "cell_type": "code",
   "execution_count": 8,
   "metadata": {},
   "outputs": [
    {
     "data": {
      "text/html": [
       "<table>\n",
       "<thead><tr><th></th><th scope=col>var</th><th scope=col>rel.inf</th></tr></thead>\n",
       "<tbody>\n",
       "\t<tr><th scope=row>Color4</th><td>Color4   </td><td>62.495400</td></tr>\n",
       "\t<tr><th scope=row>Color3</th><td>Color3   </td><td> 8.117217</td></tr>\n",
       "\t<tr><th scope=row>Color7</th><td>Color7   </td><td> 7.613051</td></tr>\n",
       "\t<tr><th scope=row>Color6</th><td>Color6   </td><td> 6.085062</td></tr>\n",
       "\t<tr><th scope=row>Color5</th><td>Color5   </td><td> 5.329393</td></tr>\n",
       "\t<tr><th scope=row>Color1</th><td>Color1   </td><td> 4.874469</td></tr>\n",
       "\t<tr><th scope=row>Color2</th><td>Color2   </td><td> 3.735630</td></tr>\n",
       "\t<tr><th scope=row>Color8</th><td>Color8   </td><td> 1.749778</td></tr>\n",
       "</tbody>\n",
       "</table>\n"
      ],
      "text/latex": [
       "\\begin{tabular}{r|ll}\n",
       "  & var & rel.inf\\\\\n",
       "\\hline\n",
       "\tColor4 & Color4    & 62.495400\\\\\n",
       "\tColor3 & Color3    &  8.117217\\\\\n",
       "\tColor7 & Color7    &  7.613051\\\\\n",
       "\tColor6 & Color6    &  6.085062\\\\\n",
       "\tColor5 & Color5    &  5.329393\\\\\n",
       "\tColor1 & Color1    &  4.874469\\\\\n",
       "\tColor2 & Color2    &  3.735630\\\\\n",
       "\tColor8 & Color8    &  1.749778\\\\\n",
       "\\end{tabular}\n"
      ],
      "text/markdown": [
       "\n",
       "| <!--/--> | var | rel.inf | \n",
       "|---|---|---|---|---|---|---|---|\n",
       "| Color4 | Color4    | 62.495400 | \n",
       "| Color3 | Color3    |  8.117217 | \n",
       "| Color7 | Color7    |  7.613051 | \n",
       "| Color6 | Color6    |  6.085062 | \n",
       "| Color5 | Color5    |  5.329393 | \n",
       "| Color1 | Color1    |  4.874469 | \n",
       "| Color2 | Color2    |  3.735630 | \n",
       "| Color8 | Color8    |  1.749778 | \n",
       "\n",
       "\n"
      ],
      "text/plain": [
       "       var    rel.inf  \n",
       "Color4 Color4 62.495400\n",
       "Color3 Color3  8.117217\n",
       "Color7 Color7  7.613051\n",
       "Color6 Color6  6.085062\n",
       "Color5 Color5  5.329393\n",
       "Color1 Color1  4.874469\n",
       "Color2 Color2  3.735630\n",
       "Color8 Color8  1.749778"
      ]
     },
     "metadata": {},
     "output_type": "display_data"
    },
    {
     "data": {
      "image/png": "[encoded data removed]",
      "text/plain": [
       "plot without title"
      ]
     },
     "metadata": {},
     "output_type": "display_data"
    }
   ],
   "source": [
    "boost = gbm(Likes~.,data=Colors.train,distribution=\"gaussian\", n.trees = 1000,shrinkage = lambdas[which.min(testerr)])\n",
    "#or is it testerror instead?\n",
    "summary(boost)\n"
   ]
  },
  {
   "cell_type": "code",
   "execution_count": 9,
   "metadata": {},
   "outputs": [
    {
     "name": "stderr",
     "output_type": "stream",
     "text": [
      "randomForest 4.6-12\n",
      "Type rfNews() to see new features/changes/bug fixes.\n",
      "\n",
      "Attaching package: 'randomForest'\n",
      "\n",
      "The following object is masked from 'package:dplyr':\n",
      "\n",
      "    combine\n",
      "\n",
      "The following object is masked from 'package:ggplot2':\n",
      "\n",
      "    margin\n",
      "\n",
      "Warning message in randomForest.default(m, y, ...):\n",
      "\"invalid mtry: reset to within valid range\""
     ]
    },
    {
     "data": {
      "text/html": [
       "0.946972696497282"
      ],
      "text/latex": [
       "0.946972696497282"
      ],
      "text/markdown": [
       "0.946972696497282"
      ],
      "text/plain": [
       "[1] 0.9469727"
      ]
     },
     "metadata": {},
     "output_type": "display_data"
    }
   ],
   "source": [
    "library(randomForest)\n",
    "set.seed(120)\n",
    "\n",
    "#2\n",
    "bag=randomForest(Likes~.,Colors.train,mtry=19,importance=TRUE) \n",
    "bagpredict=predict(bag,Colors.test)\n",
    "bagmse=mean((bagpredict-Colors.test$Likes)^2)\n",
    "bagmse"
   ]
  },
  {
   "cell_type": "code",
   "execution_count": 10,
   "metadata": {},
   "outputs": [
    {
     "data": {
      "text/html": [
       "<table>\n",
       "<thead><tr><th></th><th scope=col>Color1</th><th scope=col>Color2</th><th scope=col>Color3</th><th scope=col>Color4</th><th scope=col>Color5</th><th scope=col>Color6</th><th scope=col>Color7</th><th scope=col>Color8</th><th scope=col>Likes</th></tr></thead>\n",
       "<tbody>\n",
       "\t<tr><th scope=row>Color1</th><td> 1.00000000 </td><td>-0.848522171</td><td>-0.78308859 </td><td>-0.70368377 </td><td>-0.40681532 </td><td>-0.31049455 </td><td>-0.24192055 </td><td>-0.16655144 </td><td> 0.026992013</td></tr>\n",
       "\t<tr><th scope=row>Color2</th><td>-0.84852217 </td><td> 1.000000000</td><td> 0.41080632 </td><td> 0.32154209 </td><td> 0.15761007 </td><td> 0.13241396 </td><td> 0.09774035 </td><td> 0.09201363 </td><td>-0.007904246</td></tr>\n",
       "\t<tr><th scope=row>Color3</th><td>-0.78308859 </td><td> 0.410806317</td><td> 1.00000000 </td><td> 0.71826102 </td><td> 0.26515461 </td><td> 0.13849063 </td><td> 0.10917472 </td><td> 0.07046142 </td><td>-0.037413936</td></tr>\n",
       "\t<tr><th scope=row>Color4</th><td>-0.70368377 </td><td> 0.321542092</td><td> 0.71826102 </td><td> 1.00000000 </td><td> 0.35566452 </td><td> 0.21862878 </td><td> 0.14480937 </td><td> 0.07696058 </td><td>-0.074996830</td></tr>\n",
       "\t<tr><th scope=row>Color5</th><td>-0.40681532 </td><td> 0.157610073</td><td> 0.26515461 </td><td> 0.35566452 </td><td> 1.00000000 </td><td> 0.72517927 </td><td> 0.55916067 </td><td> 0.27894333 </td><td> 0.027604555</td></tr>\n",
       "\t<tr><th scope=row>Color6</th><td>-0.31049455 </td><td> 0.132413959</td><td> 0.13849063 </td><td> 0.21862878 </td><td> 0.72517927 </td><td> 1.00000000 </td><td> 0.66959557 </td><td> 0.40028235 </td><td> 0.048467370</td></tr>\n",
       "\t<tr><th scope=row>Color7</th><td>-0.24192055 </td><td> 0.097740348</td><td> 0.10917472 </td><td> 0.14480937 </td><td> 0.55916067 </td><td> 0.66959557 </td><td> 1.00000000 </td><td> 0.59533180 </td><td> 0.064598371</td></tr>\n",
       "\t<tr><th scope=row>Color8</th><td>-0.16655144 </td><td> 0.092013632</td><td> 0.07046142 </td><td> 0.07696058 </td><td> 0.27894333 </td><td> 0.40028235 </td><td> 0.59533180 </td><td> 1.00000000 </td><td> 0.015651149</td></tr>\n",
       "\t<tr><th scope=row>Likes</th><td> 0.02699201 </td><td>-0.007904246</td><td>-0.03741394 </td><td>-0.07499683 </td><td> 0.02760455 </td><td> 0.04846737 </td><td> 0.06459837 </td><td> 0.01565115 </td><td> 1.000000000</td></tr>\n",
       "</tbody>\n",
       "</table>\n"
      ],
      "text/latex": [
       "\\begin{tabular}{r|lllllllll}\n",
       "  & Color1 & Color2 & Color3 & Color4 & Color5 & Color6 & Color7 & Color8 & Likes\\\\\n",
       "\\hline\n",
       "\tColor1 &  1.00000000  & -0.848522171 & -0.78308859  & -0.70368377  & -0.40681532  & -0.31049455  & -0.24192055  & -0.16655144  &  0.026992013\\\\\n",
       "\tColor2 & -0.84852217  &  1.000000000 &  0.41080632  &  0.32154209  &  0.15761007  &  0.13241396  &  0.09774035  &  0.09201363  & -0.007904246\\\\\n",
       "\tColor3 & -0.78308859  &  0.410806317 &  1.00000000  &  0.71826102  &  0.26515461  &  0.13849063  &  0.10917472  &  0.07046142  & -0.037413936\\\\\n",
       "\tColor4 & -0.70368377  &  0.321542092 &  0.71826102  &  1.00000000  &  0.35566452  &  0.21862878  &  0.14480937  &  0.07696058  & -0.074996830\\\\\n",
       "\tColor5 & -0.40681532  &  0.157610073 &  0.26515461  &  0.35566452  &  1.00000000  &  0.72517927  &  0.55916067  &  0.27894333  &  0.027604555\\\\\n",
       "\tColor6 & -0.31049455  &  0.132413959 &  0.13849063  &  0.21862878  &  0.72517927  &  1.00000000  &  0.66959557  &  0.40028235  &  0.048467370\\\\\n",
       "\tColor7 & -0.24192055  &  0.097740348 &  0.10917472  &  0.14480937  &  0.55916067  &  0.66959557  &  1.00000000  &  0.59533180  &  0.064598371\\\\\n",
       "\tColor8 & -0.16655144  &  0.092013632 &  0.07046142  &  0.07696058  &  0.27894333  &  0.40028235  &  0.59533180  &  1.00000000  &  0.015651149\\\\\n",
       "\tLikes &  0.02699201  & -0.007904246 & -0.03741394  & -0.07499683  &  0.02760455  &  0.04846737  &  0.06459837  &  0.01565115  &  1.000000000\\\\\n",
       "\\end{tabular}\n"
      ],
      "text/markdown": [
       "\n",
       "| <!--/--> | Color1 | Color2 | Color3 | Color4 | Color5 | Color6 | Color7 | Color8 | Likes | \n",
       "|---|---|---|---|---|---|---|---|---|\n",
       "| Color1 |  1.00000000  | -0.848522171 | -0.78308859  | -0.70368377  | -0.40681532  | -0.31049455  | -0.24192055  | -0.16655144  |  0.026992013 | \n",
       "| Color2 | -0.84852217  |  1.000000000 |  0.41080632  |  0.32154209  |  0.15761007  |  0.13241396  |  0.09774035  |  0.09201363  | -0.007904246 | \n",
       "| Color3 | -0.78308859  |  0.410806317 |  1.00000000  |  0.71826102  |  0.26515461  |  0.13849063  |  0.10917472  |  0.07046142  | -0.037413936 | \n",
       "| Color4 | -0.70368377  |  0.321542092 |  0.71826102  |  1.00000000  |  0.35566452  |  0.21862878  |  0.14480937  |  0.07696058  | -0.074996830 | \n",
       "| Color5 | -0.40681532  |  0.157610073 |  0.26515461  |  0.35566452  |  1.00000000  |  0.72517927  |  0.55916067  |  0.27894333  |  0.027604555 | \n",
       "| Color6 | -0.31049455  |  0.132413959 |  0.13849063  |  0.21862878  |  0.72517927  |  1.00000000  |  0.66959557  |  0.40028235  |  0.048467370 | \n",
       "| Color7 | -0.24192055  |  0.097740348 |  0.10917472  |  0.14480937  |  0.55916067  |  0.66959557  |  1.00000000  |  0.59533180  |  0.064598371 | \n",
       "| Color8 | -0.16655144  |  0.092013632 |  0.07046142  |  0.07696058  |  0.27894333  |  0.40028235  |  0.59533180  |  1.00000000  |  0.015651149 | \n",
       "| Likes |  0.02699201  | -0.007904246 | -0.03741394  | -0.07499683  |  0.02760455  |  0.04846737  |  0.06459837  |  0.01565115  |  1.000000000 | \n",
       "\n",
       "\n"
      ],
      "text/plain": [
       "       Color1      Color2       Color3      Color4      Color5      Color6     \n",
       "Color1  1.00000000 -0.848522171 -0.78308859 -0.70368377 -0.40681532 -0.31049455\n",
       "Color2 -0.84852217  1.000000000  0.41080632  0.32154209  0.15761007  0.13241396\n",
       "Color3 -0.78308859  0.410806317  1.00000000  0.71826102  0.26515461  0.13849063\n",
       "Color4 -0.70368377  0.321542092  0.71826102  1.00000000  0.35566452  0.21862878\n",
       "Color5 -0.40681532  0.157610073  0.26515461  0.35566452  1.00000000  0.72517927\n",
       "Color6 -0.31049455  0.132413959  0.13849063  0.21862878  0.72517927  1.00000000\n",
       "Color7 -0.24192055  0.097740348  0.10917472  0.14480937  0.55916067  0.66959557\n",
       "Color8 -0.16655144  0.092013632  0.07046142  0.07696058  0.27894333  0.40028235\n",
       "Likes   0.02699201 -0.007904246 -0.03741394 -0.07499683  0.02760455  0.04846737\n",
       "       Color7      Color8      Likes       \n",
       "Color1 -0.24192055 -0.16655144  0.026992013\n",
       "Color2  0.09774035  0.09201363 -0.007904246\n",
       "Color3  0.10917472  0.07046142 -0.037413936\n",
       "Color4  0.14480937  0.07696058 -0.074996830\n",
       "Color5  0.55916067  0.27894333  0.027604555\n",
       "Color6  0.66959557  0.40028235  0.048467370\n",
       "Color7  1.00000000  0.59533180  0.064598371\n",
       "Color8  0.59533180  1.00000000  0.015651149\n",
       "Likes   0.06459837  0.01565115  1.000000000"
      ]
     },
     "metadata": {},
     "output_type": "display_data"
    }
   ],
   "source": [
    "cor(domcolor)\n",
    "#cor(domcolor[,-9])"
   ]
  },
  {
   "cell_type": "code",
   "execution_count": 11,
   "metadata": {},
   "outputs": [
    {
     "data": {
      "image/png": "[encoded data removed]",
      "text/plain": [
       "plot without title"
      ]
     },
     "metadata": {},
     "output_type": "display_data"
    }
   ],
   "source": [
    "attach(domcolor)\n",
    "plot(Likes)"
   ]
  },
  {
   "cell_type": "code",
   "execution_count": 12,
   "metadata": {},
   "outputs": [
    {
     "ename": "ERROR",
     "evalue": "Error in eval(family$initialize): y values must be 0 <= y <= 1\n",
     "output_type": "error",
     "traceback": [
      "Error in eval(family$initialize): y values must be 0 <= y <= 1\nTraceback:\n",
      "1. glm(Likes ~ ., data = domcolor, family = binomial)",
      "2. eval(call(if (is.function(method)) \"method\" else method, x = X, \n .     y = Y, weights = weights, start = start, etastart = etastart, \n .     mustart = mustart, offset = offset, family = family, control = control, \n .     intercept = attr(mt, \"intercept\") > 0L))",
      "3. eval(call(if (is.function(method)) \"method\" else method, x = X, \n .     y = Y, weights = weights, start = start, etastart = etastart, \n .     mustart = mustart, offset = offset, family = family, control = control, \n .     intercept = attr(mt, \"intercept\") > 0L))",
      "4. glm.fit(x = structure(c(1, 1, 1, 1, 1, 1, 1, 1, 1, 1, 1, 1, 1, \n . 1, 1, 1, 1, 1, 1, 1, 1, 1, 1, 1, 1, 1, 1, 1, 1, 1, 1, 1, 1, 1, \n . 1, 1, 1, 1, 1, 1, 1, 1, 1, 1, 1, 1, 1, 1, 1, 1, 1, 1, 1, 1, 1, \n . 1, 1, 1, 1, 1, 1, 1, 1, 1, 1, 1, 1, 1, 1, 1, 1, 1, 1, 1, 1, 1, \n . 1, 1, 1, 1, 1, 1, 1, 1, 1, 1, 1, 1, 1, 1, 1, 1, 1, 1, 1, 1, 1, \n . 1, 1, 1, 1, 1, 1, 1, 1, 1, 1, 1, 1, 1, 1, 1, 1, 1, 1, 1, 1, 1, \n . 1, 1, 1, 1, 1, 1, 1, 1, 1, 1, 1, 1, 1, 1, 1, 1, 1, 1, 1, 1, 1, \n . 1, 1, 1, 1, 1, 1, 1, 1, 1, 1, 1, 1, 1, 1, 1, 1, 1, 1, 1, 1, 1, \n . 1, 1, 1, 1, 1, 1, 1, 1, 1, 1, 1, 1, 1, 1, 1, 1, 1, 1, 1, 1, 1, \n . 1, 1, 1, 1, 1, 1, 1, 1, 1, 1, 1, 1, 1, 1, 1, 1, 1, 1, 1, 1, 1, \n . 1, 1, 1, 1, 1, 1, 1, 1, 1, 1, 1, 1, 1, 1, 1, 1, 1, 1, 1, 1, 1, \n . 1, 1, 1, 1, 1, 1, 1, 1, 1, 1, 1, 1, 1, 1, 1, 1, 1, 1, 1, 1, 1, \n . 1, 1, 1, 1, 1, 1, 1, 1, 1, 1, 1, 1, 1, 1, 1, 1, 1, 1, 1, 1, 1, \n . 1, 1, 1, 1, 1, 1, 1, 1, 1, 1, 1, 1, 1, 1, 1, 1, 1, 1, 1, 1, 1, \n . 1, 1, 1, 1, 1, 1, 1, 1, 1, 1, 1, 1, 1, 1, 1, 1, 1, 1, 1, 1, 1, \n . 1, 1, 1, 1, 1, 1, 1, 1, 1, 1, 1, 1, 1, 1, 1, 1, 1, 1, 1, 1, 1, \n . 1, 1, 1, 1, 1, 1, 1, 1, 1, 1, 1, 1, 1, 1, 1, 1, 1, 1, 1, 1, 1, \n . 1, 1, 1, 1, 1, 1, 1, 1, 1, 1, 1, 1, 1, 1, 1, 1, 1, 1, 1, 1, 1, \n . 1, 1, 1, 1, 1, 1, 1, 1, 1, 1, 1, 1, 1, 1, 1, 1, 1, 1, 1, 1, 1, \n . 1, 1, 1, 1, 1, 1, 1, 1, 1, 1, 1, 1, 1, 1, 1, 1, 1, 1, 1, 1, 1, \n . 1, 1, 1, 1, 1, 1, 1, 1, 1, 1, 1, 1, 1, 1, 1, 1, 1, 1, 1, 1, 1, \n . 1, 1, 1, 1, 1, 1, 1, 1, 1, 1, 1, 1, 1, 1, 1, 1, 1, 1, 1, 1, 1, \n . 1, 1, 1, 1, 1, 1, 1, 1, 1, 1, 1, 1, 1, 1, 1, 1, 1, 1, 1, 1, 1, \n . 1, 1, 1, 1, 1, 1, 1, 1, 1, 1, 1, 1, 1, 1, 1, 1, 1, 1, 1, 1, 1, \n . 1, 1, 1, 1, 1, 1, 1, 1, 1, 1, 1, 1, 1, 1, 1, 1, 1, 1, 1, 1, 1, \n . 1, 1, 1, 1, 1, 1, 1, 1, 1, 1, 1, 1, 1, 1, 1, 1, 1, 1, 1, 1, 1, \n . 1, 1, 1, 1, 1, 1, 1, 1, 1, 1, 1, 1, 1, 1, 1, 1, 1, 1, 1, 1, 1, \n . 1, 1, 1, 1, 1, 1, 1, 1, 1, 1, 1, 1, 1, 1, 1, 1, 1, 1, 1, 1, 1, \n . 1, 1, 1, 1, 1, 1, 1, 1, 1, 1, 1, 1, 1, 1, 1, 1, 1, 1, 1, 1, 1, \n . 1, 1, 1, 1, 1, 1, 1, 1, 1, 1, 1, 1, 1, 1, 1, 1, 1, 1, 1, 1, 1, \n . 1, 1, 1, 1, 1, 1, 1, 1, 1, 1, 1, 1, 1, 1, 1, 1, 1, 1, 1, 1, 1, \n . 1, 1, 1, 1, 1, 1, 1, 1, 1, 1, 1, 1, 1, 1, 1, 1, 1, 1, 1, 1, 1, \n . 1, 1, 1, 1, 1, 1, 1, 1, 1, 1, 1, 1, 1, 1, 1, 1, 1, 1, 1, 1, 1, \n . 1, 1, 1, 1, 1, 1, 1, 1, 1, 1, 1, 1, 1, 1, 1, 1, 1, 1, 1, 1, 1, \n . 1, 1, 1, 1, 1, 1, 1, 1, 1, 1, 1, 1, 1, 1, 1, 1, 1, 1, 1, 1, 1, \n . 1, 1, 1, 1, 1, 1, 1, 1, 1, 1, 1, 1, 1, 1, 1, 1, 1, 1, 1, 1, 1, \n . 1, 1, 1, 1, 1, 1, 1, 1, 1, 1, 1, 1, 1, 1, 1, 1, 1, 1, 1, 1, 1, \n . 1, 1, 1, 1, 1, 1, 1, 1, 1, 1, 1, 1, 1, 1, 1, 1, 1, 1, 1, 1, 1, \n . 1, 1, 1, 1, 1, 1, 1, 1, 1, 1, 1, 1, 1, 1, 1, 1, 1, 1, 1, 1, 1, \n . 1, 1, 1, 1, 1, 1, 1, 1, 1, 1, 1, 1, 1, 1, 1, 1, 1, 1, 1, 1, 1, \n . 1, 1, 1, 1, 1, 1, 1, 1, 1, 1, 1, 1, 1, 1, 1, 1, 1, 1, 1, 1, 1, \n . 1, 1, 1, 1, 1, 1, 1, 1, 1, 1, 1, 1, 1, 1, 1, 1, 1, 1, 1, 1, 1, \n . 1, 1, 1, 1, 1, 1, 1, 1, 1, 1, 1, 1, 1, 1, 1, 1, 1, 1, 1, 1, 1, \n . 1, 1, 1, 1, 1, 1, 1, 1, 1, 1, 1, 1, 1, 1, 1, 1, 1, 1, 1, 1, 1, \n . 1, 1, 1, 1, 1, 1, 1, 1, 1, 1, 1, 1, 1, 1, 1, 1, 1, 1, 1, 1, 1, \n . 1, 1, 1, 1, 1, 1, 1, 1, 1, 0.818318, 0.849782, 0.6666, 0.74431, \n . 0.676587, 0.642222, 0.444333, 0.546263, 0.551717, 0.613007, 0.483467, \n . 0.563631, 0.591328, 0.743267, 0.610667, 0.781133, 0.555133, 0.529867, \n . 0.880357, 0.849933, 0.90619, 0.332391, 0.486532, 0.523367, 0.4038, \n . 0.976498, 0.693468, 0.536162, 0.7064, 0.781333, 0.723367, 0.693199, \n . 0.405724, 0.955667, 0.565926, 0.7444, 0.406133, 0.973266, 0.78, \n . 0.7998, 0.6802, 0.503933, 0.786933, 0.750467, 0.439733, 0.519, \n . 0.972133, 0.503667, 0.976027, 0.919018, 0.595867, 0.437867, 0.783502, \n . 0.748, 0.983098, 0.6896, 0.491067, 0.397933, 0.545118, 0.9624, \n . 0.576933, 0.692795, 0.506599, 0.858627, 0.400733, 0.7266, 0.49138, \n . 0.76835, 0.633333, 0.825867, 0.491733, 0.828754, 0.792104, 0.4138, \n . 0.870933, 0.578188, 0.511533, 0.4286, 0.65, 0.778333, 0.498451, \n . 0.401145, 0.746667, 0.5908, 0.678533, 0.794933, 0.7124, 0.433, \n . 0.5366, 0.721333, 0.731429, 0.5758, 0.541382, 0.516933, 0.402155, \n . 0.346599, 0.897933, 0.406964, 0.894867, 0.645959, 0.489333, 0.918795, \n . 0.932842, 0.484267, 0.580135, 0.737508, 0.892267, 0.654545, 0.740202, \n . 0.519667, 0.914762, 0.52404, 0.526061, 0.969667, 0.734323, 0.545179, \n . 0.353944, 0.664444, 0.774564, 0.659881, 0.636634, 0.7236, 0.762, \n . 0.579867, 0.9442, 0.6758, 0.368067, 0.669, 0.828933, 0.761212, \n . 0.388333, 0.820533, 0.820533, 0.550067, 0.553267, 0.416162, 0.534478, \n . 0.720826, 0.770133, 0.482533, 0.6294, 0.7128, 0.614, 0.829867, \n . 0.693333, 0.369933, 0.991133, 0.464108, 0.349933, 0.366133, 0.373333, \n . 0.907368, 0.5442, 0.871, 0.9288, 0.654545, 0.740202, 0.519667, \n . 0.914762, 0.5686, 0.613133, 0.766, 0.838434, 0.912857, 0.914067, \n . 0.365267, 0.897444, 0.875238, 0.585533, 0.738182, 0.679259, 0.42119, \n . 0.6454, 0.852043, 0.456296, 0.806195, 0.619192, 0.538944, 0.992933, \n . 0.696505, 0.363462, 0.5674, 0.743462, 0.61181, 0.897182, 0.458933, \n . 0.4746, 0.903067, 0.705387, 0.706067, 0.570707, 0.977933, 0.437104, \n . 0.328302, 0.768988, 0.597954, 0.880911, 0.344867, 0.6474, 0.743095, \n . 0.50532, 0.596902, 0.5662, 0.941733, 0.924127, 0.956094, 0.5122, \n . 0.524714, 0.707879, 0.535515, 0.5952, 0.513741, 0.754706, 0.470909, \n . 0.464422, 0.481684, 0.871246, 0.614464, 0.665185, 0.423165, 0.354226, \n . 0.971267, 0.475536, 0.6334, 0.958889, 0.8654, 0.7726, 0.380267, \n . 0.65138, 0.735623, 0.868044, 0.505429, 0.661145, 0.569, 0.4906, \n . 0.8768, 0.937172, 0.632997, 0.644, 0.884444, 0.899933, 0.427, \n . 0.7004, 0.730909, 0.7842, 0.840833, 0.387, 0.491667, 0.669932, \n . 0.70141, 0.981533, 0.847867, 0.313667, 0.608418, 0.384798, 0.438533, \n . 0.702467, 0.873, 0.669853, 0.720733, 0.881933, 0.350867, 0.6336, \n . 0.494276, 0.426869, 0.489249, 0.881, 0.638833, 0.351467, 0.640667, \n . 0.802133, 0.580733, 0.6398, 0.64734, 0.923165, 0.923165, 0.946933, \n . 0.955867, 0.620067, 0.618855, 0.900933, 0.422067, 0.8526, 0.854333, \n . 0.882653, 0.359267, 0.42007, 0.481818, 0.409467, 0.495714, 0.821067, \n . 0.3822, 0.825067, 0.96936, 0.970236, 0.807067, 0.8004, 0.780269, \n . 0.430438, 0.702733, 0.614933, 0.5094, 0.700867, 0.879731, 0.613535, \n . 0.82, 0.576601, 0.623838, 0.768743, 0.807811, 0.724333, 0.528, \n . 0.480267, 0.9154, 0.437169, 0.3166, 0.859192, 0.6086, 0.581549, \n . 0.406133, 0.692933, 0.780269, 0.9674, 0.892121, 0.6076, 0.615406, \n . 0.359259, 0.607407, 0.459133, 0.920397, 0.612491, 0.883, 0.9056, \n . 0.342056, 0.4982, 0.441867, 0.8152, 0.422, 0.364533, 0.425467, \n . 0.5958, 0.711467, 0.842733, 0.6992, 0.947407, 0.586133, 0.811411, \n . 0.646667, 0.3446, 0.533805, 0.576835, 0.82, 0.743165, 0.451636, \n . 0.429881, 0.505133, 0.734035, 0.376933, 0.366133, 0.559663, 0.800135, \n . 0.839762, 0.625467, 0.4378, 0.404909, 0.633667, 0.5828, 0.487467, \n . 0.720533, 0.684175, 0.808155, 0.88381, 0.7084, 0.771369, 0.392391, \n . 0.693492, 0.736133, 0.567467, 0.837933, 0.706263, 0.808267, 0.465933, \n . 0.58125, 0.524133, 0.851919, 0.867273, 0.599327, 0.609133, 0.865841, \n . 0.663434, 0.616733, 0.498929, 0.372133, 0.437267, 0.607933, 0.684226, \n . 0.608729, 0.68, 0.517508, 0.6012, 0.794276, 0.515467, 0.792054, \n . 0.461933, 0.696467, 0.6748, 0.943, 0.624133, 0.5132, 0.627946, \n . 0.78963, 0.909158, 0.692933, 0.724226, 0.810539, 0.929226, 0.967107, \n . 0.683704, 0.944933, 0.5258, 0.497619, 0.495111, 0.9572, 0.327133, \n . 0.397063, 0.452333, 0.41, 0.635683, 0.487415, 0.3428, 0.769467, \n . 0.8078, 0.661467, 0.77873, 0.481837, 0.4026, 0.44284, 0.88756, \n . 0.672333, 0.769333, 0.379733, 0.655152, 0.890467, 0.845706, 0.892727, \n . 0.884833, 0.7062, 0.393, 0.382357, 0.479524, 0.911556, 0.663067, \n . 0.693733, 0.57569, 0.805867, 0.378533, 0.8356, 0.748467, 0.622559, \n . 0.5974, 0.841616, 0.612627, 0.662133, 0.558923, 0.42633, 0.528733, \n . 0.378533, 0.502533, 0.948733, 0.889533, 0.799933, 0.942133, 0.526195, \n . 0.632727, 0.802333, 0.868283, 0.418533, 0.812054, 0.651515, 0.813468, \n . 0.976241, 0.911178, 0.402537, 0.772862, 0.596803, 0.843894, 0.629733, \n . 0.789832, 0.986667, 0.681954, 0.512027, 0.71569, 0.5936, 0.967542, \n . 0.564, 0.801133, 0.523667, 0.913133, 0.563133, 0.445307, 0.513852, \n . 0.77614, 0.458958, 0.344781, 0.341133, 0.446333, 0.659529, 0.500808, \n . 0.534533, 0.4938, 0.702029, 0.464646, 0.561077, 0.875636, 0.480867, \n . 0.542867, 0.475267, 0.582533, 0.363119, 0.854733, 0.5228, 0.5978, \n . 0.541549, 0.4328, 0.732133, 0.634236, 0.3734, 0.506867, 0.721414, \n . 0.727205, 0.430236, 0.429733, 0.586173, 0.575533, 0.598667, 0.753939, \n . 0.488263, 0.674209, 0.766667, 0.506797, 0.741133, 0.843533, 0.494365, \n . 0.588933, 0.7038, 0.699663, 0.433133, 0.710976, 0.743733, 0.926267, \n . 0.857037, 0.547867, 0.720946, 0.687133, 0.9304, 0.8876, 0.744952, \n . 0.683133, 0.690533, 0.50371, 0.498467, 0.823333, 0.677072, 0.633267, \n . 0.452667, 0.585118, 0.4792, 0.99697, 0.931538, 0.582333, 0.430467, \n . 0.925467, 0.836533, 0.87619, 0.480067, 0.702533, 0.461133, 0.89165, \n . 0.4136, 0.952133, 0.426128, 0.346599, 0.497, 0.9136, 0.481467, \n . 0.503973, 0.611467, 0.458047, 0.599667, 0.825051, 0.520404, 0.8716, \n . 0.534333, 0.442556, 0.776162, 0.757917, 0.616964, 0.5302, 0.337, \n . 0.597374, 0.667667, 0.660595, 0.911789, 0.911789, 0.62532, 0.777239, \n . 0.422311, 0.308687, 0.832667, 0.708533, 0.44202, 0.498, 0.459028, \n . 0.5122, 0.481533, 0.527733, 0.452362, 0.458933, 0.459663, 0.614733, \n . 0.474658, 0.87, 0.685067, 0.465267, 0.313533, 0.658788, 0.582761, \n . 0.474467, 0.6936, 0.680267, 0.593133, 0.412133, 0.677661, 0.643133, \n . 0.846733, 0.589267, 0.761333, 0.909091, 0.97771, 0.896835, 0.762695, \n . 0.839867, 0.3478, 0.401279, 0.79064, 0.948533, 0.543267, 0.290168, \n . 0.792409, 0.801867, 0.505333, 0.504, 0.312733, 0.713778, 0.713196, \n . 0.464464, 0.928133, 0.320135, 0.485118, 0.379798, 0.467539, 0.7433, \n . 0.468155, 0.4826, 0.328316, 0.557104, 0.755219, 0.8746, 0.828425, \n . 0.890467, 0.394333, 0.566465, 0.806333, 0.604533, 0.479461, 0.646, \n . 0.875733, 0.605, 0.408933, 0.490505, 0.728418, 0.735152, 0.712083, \n . 0.674267, 0.785859, 0.294487, 0.531282, 0.5784, 0.6526, 0.860362, \n . 0.816871, 0.639423, 0.335016, 0.5684, 0.4464, 0.531717, 0.644067, \n . 0.378067, 0.814667, 0.980381, 0.400667, 0.462267, 0.245, 0.509764, \n . 0.504067, 0.6062, 0.811582, 0.425867, 0.634067, 0.670774, 0.701333, \n . 0.528956, 0.7404, 0.739865, 0.994007, 0.820733, 0.767542, 0.56959, \n . 0.871267, 0.555533, 0.577845, 0.863771, 0.5574, 0.425357, 0.7528, \n . 0.760333, 0.895467, 0.613782, 0.551231, 0.490637, 0.569832, 0.43037, \n . 0.6044, 0.910031, 0.8922, 0.637133, 0.549408, 0.405206, 0.468687, \n . 0.38, 0.5768, 0.897267, 0.72835, 0.508485, 0.582896, 0.578586, \n . 0.358586, 0.75355, 0.810533, 0.4902, 0.645667, 0.481953, 0.769899, \n . 0.710572, 0.473333, 0.8884, 0.867067, 0.374667, 0.3954, 0.654333, \n . 0.4622, 0.570133, 0.725993, 0.574933, 0.8488, 0.8252, 0.335333, \n . 0.734613, 0.567667, 0.807071, 0.541212, 0.793333, 0.586219, 0.350467, \n . 0.578047, 0.551785, 0.9684, 0.433733, 0.616867, 0.865192, 0.463333, \n . 0.629821, 0.851933, 0.885522, 0.863502, 0.562067, 0.7168, 0.713667, \n . 0.4978, 0.5542, 0.634502, 0.692937, 0.502533, 0.877667, 0.466067, \n . 0.617276, 0.6348, 0.822151, 0.511838, 0.439867, 0.497067, 0.396094, \n . 0.780617, 0.783636, 0.563232, 0.955556, 0.867071, 0.899203, 0.742088, \n . 0.6833, 0.590168, 0.773805, 0.634405, 0.6436, 0.538106, 0.416735, \n . 0.803254, 0.4866, 0.989267, 0.615842, 0.598103, 0.553939, 0.708215, \n . 0.900202, 0.53697, 0.737267, 0.856357, 0.663333, 0.648, 0.827667, \n . 0.505589, 0.283973, 0.957447, 0.675177, 0.923733, 0.457133, 0.777333, \n . 0.78202, 0.717582, 0.8354, 0.844067, 0.7668, 0.877986, 0.429184, \n . 0.995, 0.684848, 0.7794, 0.554411, 0.514052, 0.577389, 0.499574, \n . 0.4408, 0.531533, 0.353968, 0.337832, 0.65551, 0.496867, 0.460875, \n . 0.786533, 0.869533, 0.533805, 0.471933, 0.374533, 0.333872, 0.359667, \n . 0.524405, 0.924667, 0.790556, 0.8668, 0.6386, 0.741503, 0.560671, \n . 0.600404, 0.541467, 0.888, 0.808933, 0.782667, 0.8708, 0.321978, \n . 0.666263, 0.663911, 0.484272, 0.303165, 0.399667, 0.369158, 0.435267, \n . 0.338393, 0.713, 0.689533, 0.386012, 0.773404, 0.507946, 0.526667, \n . 0.441133, 0.533133, 0.879467, 0.2696, 0.4598, 0.4666, 0.567542, \n . 0.959924, 0.958667, 0.703, 0.875267, 0.467352, 0.74862, 0.618667, \n . 0.503165, 0.369226, 0.6828, 0.504583, 0.4126, 0.4786, 0.386467, \n . 0.639333, 0.606067, 0.880202, 0.48595, 0.639533, 0.4476, 0.512933, \n . 0.820606, 0.7714, 0.874747, 0.886667, 0.861347, 0.490034, 0.552333, \n . 0.792323, 0.522667, 0.8992, 0.800533, 0.738533, 0.797867, 0.642067, \n . 0.620267, 0.581467, 0.9578, 0.6096, 0.798333, 0.454276, 0.709744, \n . 0.392593, 0.649966, 0.669684, 0.481953, 0.095576, 0.087414, 0.155867, \n . 0.106465, 0.13254, 0.164175, 0.4206, 0.305657, 0.215488, 0.17732, \n . 0.3158, 0.28006, 0.255539, 0.101, 0.247933, 0.139933, 0.3538, \n . 0.231667, 0.060714, 0.063267, 0.069365, 0.308687, 0.168418, 0.263636, \n . 0.330467, 0.008013, 0.188754, 0.182963, 0.097267, 0.0946, 0.15367, \n . 0.171717, 0.252256, 0.0296, 0.240539, 0.2112, 0.3272, 0.015892, \n . 0.179933, 0.171, 0.1642, 0.288733, 0.186067, 0.214067, 0.389533, \n . 0.220667, 0.008533, 0.2472, 0.01266, 0.057754, 0.174467, 0.405067, \n . 0.131111, 0.139278, 0.008283, 0.1154, 0.304667, 0.279067, 0.399125, \n . 0.035467, 0.211933, 0.129024, 0.224848, 0.083268, 0.361867, 0.1512, \n . 0.307946, 0.154545, 0.261145, 0.0928, 0.2724, 0.100741, 0.116181, \n . 0.3474, 0.1002, 0.268414, 0.231333, 0.354933, 0.240133, 0.195556, \n . 0.375354, 0.396094, 0.113133, 0.2004, 0.2104, 0.095933, 0.121267, \n . 0.321333, 0.2582, 0.191867, 0.080476, 0.2076, 0.37878, 0.232533, \n . 0.34229, 0.196902, 0.0298, 0.292976, 0.0814, 0.186608, 0.243111, \n . 0.032048, 0.03614, 0.195867, 0.332929, 0.187879, 0.0494, 0.268889, \n . 0.129764, 0.1688, 0.030079, 0.290101, 0.16229, 0.016333, 0.247129, \n . 0.240536, 0.321167, 0.279663, 0.06557, 0.092381, 0.146667, 0.1704, \n . 0.0898, 0.201733, 0.039, 0.1328, 0.3656, 0.177333, 0.092133, \n . 0.108215, 0.2884, 0.158467, 0.158467, 0.2346, 0.191467, 0.205926, \n . 0.331246, 0.181239, 0.1324, 0.294333, 0.295267, 0.110467, 0.2798, \n . 0.070267, 0.106599, 0.3084, 0.003333, 0.339933, 0.244467, 0.2808, \n . 0.308733, 0.077614, 0.211267, 0.072267, 0.0346, 0.268889, 0.129764, \n . 0.1688, 0.030079, 0.2326, 0.2552, 0.089091, 0.071633, 0.050317, \n . 0.052867, 0.226867, 0.043611, 0.04754, 0.169133, 0.116566, 0.119731, \n . 0.407381, 0.132667, 0.105161, 0.238519, 0.121212, 0.187946, 0.289175, \n . 0.002667, 0.223301, 0.247756, 0.258133, 0.158077, 0.244952, 0.068247, \n . 0.200133, 0.2542, 0.0518, 0.211246, 0.234933, 0.188889, 0.010933, \n . 0.330101, 0.277421, 0.1675, 0.223828, 0.056595, 0.308733, 0.162333, \n . 0.184702, 0.320404, 0.330303, 0.318733, 0.02, 0.061841, 0.029158, \n . 0.295333, 0.229495, 0.163973, 0.250303, 0.2162, 0.337279, 0.098039, \n . 0.388552, 0.248163, 0.379057, 0.04734, 0.200298, 0.237374, 0.266869, \n . 0.329881, 0.020333, 0.379583, 0.226067, 0.026825, 0.058533, 0.096733, \n . 0.296133, 0.308754, 0.142896, 0.092489, 0.190857, 0.185657, 0.316, \n . 0.212533, 0.042333, 0.041145, 0.292121, 0.329733, 0.035623, 0.095, \n . 0.258933, 0.1594, 0.103704, 0.118467, 0.080486, 0.297333, 0.216746, \n . 0.130204, 0.179038, 0.016858, 0.1378, 0.267133, 0.229024, 0.382181, \n . 0.387, 0.118867, 0.055133, 0.174572, 0.096267, 0.0612, 0.218133, \n . 0.271333, 0.254747, 0.32734, 0.391231, 0.075267, 0.229667, 0.2964, \n . 0.3382, 0.1054, 0.288333, 0.194067, 0.179865, 0.030909, 0.030909, \n . 0.0164, 0.021267, 0.277467, 0.169899, 0.073333, 0.404267, 0.102667, \n . 0.089333, 0.105646, 0.335467, 0.253193, 0.391044, 0.385067, 0.19119, \n . 0.115467, 0.3538, 0.136733, 0.00963, 0.015354, 0.120133, 0.102333, \n . 0.181347, 0.229899, 0.158733, 0.258, 0.343067, 0.0986, 0.071111, \n . 0.164108, 0.083267, 0.156732, 0.146263, 0.134208, 0.09596, 0.16, \n . 0.282733, 0.375667, 0.0438, 0.338904, 0.315, 0.070976, 0.188867, \n . 0.277104, 0.305667, 0.080933, 0.1167, 0.014667, 0.054074, 0.211133, \n . 0.30084, 0.342761, 0.171313, 0.343867, 0.04627, 0.287158, 0.092667, \n . 0.0472, 0.338442, 0.3542, 0.214333, 0.114733, 0.340833, 0.290467, \n . 0.328933, 0.1272, 0.191733, 0.126267, 0.1432, 0.033333, 0.296667, \n . 0.081742, 0.166263, 0.3308, 0.294613, 0.166734, 0.076296, 0.183098, \n . 0.302182, 0.299048, 0.405733, 0.204912, 0.3166, 0.244667, 0.298182, \n . 0.073468, 0.127857, 0.133333, 0.342267, 0.215333, 0.205733, 0.220867, \n . 0.337467, 0.168, 0.121886, 0.096369, 0.082222, 0.110467, 0.107083, \n . 0.271313, 0.172381, 0.2316, 0.211933, 0.0594, 0.165185, 0.150667, \n . 0.398267, 0.280833, 0.303533, 0.09569, 0.079798, 0.23165, 0.1766, \n . 0.068698, 0.169428, 0.228333, 0.394226, 0.328333, 0.375333, 0.147, \n . 0.152083, 0.144467, 0.207003, 0.324361, 0.338533, 0.115219, 0.3534, \n . 0.132929, 0.311733, 0.130467, 0.223133, 0.029533, 0.203067, 0.386467, \n . 0.18404, 0.084377, 0.048552, 0.117533, 0.131964, 0.181863, 0.041684, \n . 0.022642, 0.204916, 0.038467, 0.4574, 0.233605, 0.205524, 0.024067, \n . 0.2954, 0.341587, 0.167667, 0.322222, 0.199619, 0.362789, 0.242933, \n . 0.1146, 0.087333, 0.1986, 0.184508, 0.261633, 0.2524, 0.415062, \n . 0.055952, 0.2372, 0.111733, 0.262267, 0.235017, 0.0456, 0.064985, \n . 0.070168, 0.053444, 0.168267, 0.341933, 0.275892, 0.232381, 0.043704, \n . 0.105667, 0.088067, 0.26303, 0.1756, 0.247667, 0.105067, 0.140667, \n . 0.212121, 0.218133, 0.134882, 0.24949, 0.210333, 0.216498, 0.392054, \n . 0.3322, 0.2172, 0.235867, 0.020933, 0.058333, 0.093, 0.029667, \n . 0.262828, 0.263434, 0.0976, 0.07138, 0.320333, 0.092323, 0.118923, \n . 0.177508, 0.015887, 0.053333, 0.361357, 0.145589, 0.25449, 0.082508, \n . 0.138133, 0.123838, 0.003367, 0.102414, 0.204605, 0.199327, 0.2234, \n . 0.011852, 0.259733, 0.135467, 0.192933, 0.056333, 0.3818, 0.280712, \n . 0.430444, 0.150947, 0.224236, 0.300067, 0.3398, 0.378333, 0.316498, \n . 0.428889, 0.390933, 0.4892, 0.11558, 0.395084, 0.160875, 0.050424, \n . 0.182867, 0.1952, 0.254867, 0.2546, 0.337859, 0.0524, 0.370733, \n . 0.140067, 0.270774, 0.3158, 0.140933, 0.196111, 0.279333, 0.204133, \n . 0.167677, 0.23468, 0.414411, 0.345933, 0.178086, 0.2878, 0.185533, \n . 0.074882, 0.239155, 0.17899, 0.082222, 0.182614, 0.116, 0.113, \n . 0.406429, 0.246733, 0.1228, 0.234545, 0.430667, 0.098249, 0.104933, \n . 0.055733, 0.050438, 0.162667, 0.123026, 0.132467, 0.0404, 0.0688, \n . 0.186603, 0.133267, 0.1116, 0.199731, 0.4576, 0.106867, 0.182181, \n . 0.189467, 0.275733, 0.16202, 0.470467, 0.001481, 0.03, 0.1542, \n . 0.4162, 0.028667, 0.055733, 0.066081, 0.3378, 0.172733, 0.2594, \n . 0.06303, 0.270667, 0.037267, 0.240202, 0.344781, 0.231133, 0.0474, \n . 0.2772, 0.265993, 0.164267, 0.277441, 0.336533, 0.099394, 0.27266, \n . 0.079267, 0.378733, 0.430889, 0.060673, 0.090119, 0.158631, 0.351467, \n . 0.255933, 0.242694, 0.179533, 0.174345, 0.052842, 0.052842, 0.240202, \n . 0.149428, 0.3128, 0.297643, 0.085667, 0.159, 0.409899, 0.267933, \n . 0.355069, 0.288, 0.451933, 0.293, 0.237411, 0.3448, 0.340875, \n . 0.329933, 0.254429, 0.0522, 0.151, 0.313267, 0.2766, 0.180202, \n . 0.347609, 0.3486, 0.1576, 0.143733, 0.3014, 0.388667, 0.168947, \n . 0.211667, 0.095533, 0.339067, 0.079933, 0.068687, 0.018451, 0.074949, \n . 0.121773, 0.0534, 0.324333, 0.252458, 0.126801, 0.022133, 0.282, \n . 0.28229, 0.141716, 0.1262, 0.305067, 0.3702, 0.261333, 0.092952, \n . 0.104192, 0.182798, 0.045867, 0.260875, 0.28202, 0.28303, 0.444673, \n . 0.233737, 0.443366, 0.3526, 0.256838, 0.306734, 0.118586, 0.095667, \n . 0.169597, 0.070733, 0.308067, 0.273872, 0.101, 0.189867, 0.25266, \n . 0.213467, 0.0738, 0.354133, 0.388, 0.410034, 0.124646, 0.184848, \n . 0.111667, 0.1636, 0.153737, 0.279038, 0.278681, 0.244533, 0.1648, \n . 0.111377, 0.049796, 0.210833, 0.294239, 0.1868, 0.2362, 0.230842, \n . 0.174467, 0.2666, 0.094467, 0.014032, 0.247733, 0.449267, 0.220133, \n . 0.163098, 0.172133, 0.277733, 0.147744, 0.3834, 0.191733, 0.127138, \n . 0.226867, 0.226263, 0.148933, 0.135152, 0.003434, 0.067933, 0.100875, \n . 0.263846, 0.0772, 0.150867, 0.23266, 0.098586, 0.3794, 0.2775, \n . 0.105867, 0.101733, 0.0298, 0.196303, 0.386967, 0.453858, 0.238788, \n . 0.351987, 0.307533, 0.050841, 0.0564, 0.146133, 0.258941, 0.297651, \n . 0.387475, 0.304516, 0.200133, 0.059867, 0.137441, 0.300269, 0.172593, \n . 0.120337, 0.232323, 0.111111, 0.129467, 0.446, 0.213867, 0.246128, \n . 0.113468, 0.118586, 0.299808, 0.035467, 0.074533, 0.290867, 0.3462, \n . 0.133933, 0.3878, 0.310733, 0.147205, 0.273867, 0.1144, 0.0672, \n . 0.216267, 0.183636, 0.200667, 0.121886, 0.188687, 0.168667, 0.21408, \n . 0.342533, 0.142492, 0.305455, 0.0316, 0.337867, 0.271067, 0.088614, \n . 0.36619, 0.245417, 0.112133, 0.063098, 0.07266, 0.345333, 0.1204, \n . 0.244933, 0.3806, 0.260267, 0.149759, 0.164524, 0.316133, 0.068, \n . 0.315667, 0.175556, 0.200267, 0.172186, 0.234455, 0.426067, 0.2586, \n . 0.30835, 0.122716, 0.111044, 0.263502, 0.022424, 0.03798, 0.052246, \n . 0.122963, 0.218384, 0.271717, 0.127811, 0.209643, 0.316133, 0.320303, \n . 0.312245, 0.173889, 0.422133, 0.009267, 0.249677, 0.170081, 0.350572, \n . 0.266734, 0.068485, 0.328485, 0.121133, 0.058557, 0.120222, 0.309467, \n . 0.059733, 0.171044, 0.270976, 0.03766, 0.120709, 0.0652, 0.3946, \n . 0.169933, 0.102424, 0.193114, 0.101267, 0.0896, 0.150133, 0.100278, \n . 0.282925, 0.003133, 0.168013, 0.134933, 0.285522, 0.22268, 0.260833, \n . 0.308511, 0.3976, 0.161733, 0.297937, 0.330894, 0.285578, 0.376467, \n . 0.257643, 0.105667, 0.094533, 0.380202, 0.392067, 0.272533, 0.316633, \n . 0.3368, 0.21869, 0.045533, 0.099444, 0.063933, 0.148467, 0.16268, \n . 0.36689, 0.202492, 0.1558, 0.073667, 0.114667, 0.132133, 0.074667, \n . 0.266154, 0.235421, 0.259733, 0.452816, 0.271448, 0.2718, 0.27367, \n . 0.3162, 0.310952, 0.215133, 0.181467, 0.250179, 0.180142, 0.352727, \n . 0.369024, 0.232267, 0.217333, 0.072333, 0.255333, 0.25, 0.340733, \n . 0.210505, 0.016742, 0.020611, 0.219067, 0.088333, 0.324174, 0.180269, \n . 0.236533, 0.250168, 0.321481, 0.081067, 0.36525, 0.3546, 0.343667, \n . 0.239333, 0.1928, 0.3624, 0.071044, 0.336918, 0.293667, 0.407067, \n . 0.197067, 0.068552, 0.116133, 0.089764, 0.068081, 0.070236, 0.456431, \n . 0.2338, 0.09596, 0.284, 0.0782, 0.093, 0.1038, 0.174867, 0.143067, \n . 0.1698, 0.1864, 0.014333, 0.322933, 0.125467, 0.448485, 0.148923, \n . 0.270438, 0.227475, 0.114807, 0.197374, 0.047477, 0.025919, 0.065267, \n . 0.10532, 0.08254, 0.111448, 0.094, 0.126263, 0.153939, 0.139346, \n . 0.134133, 0.08506, 0.079699, 0.092933, 0.058733, 0.032667, 0.033867, \n . 0.161533, 0.02875, 0.050533, 0.015873, 0.169091, 0.132525, 0.099192, \n . 0.138667, 0.005926, 0.032593, 0.140135, 0.0878, 0.085333, 0.06101, \n . 0.05798, 0.188754, 0.005067, 0.134276, 0.021533, 0.164933, 0.004175, \n . 0.017667, 0.014333, 0.065933, 0.1038, 0.013467, 0.0242, 0.138267, \n . 0.096067, 0.0082, 0.227267, 0.006532, 0.017404, 0.137467, 0.085733, \n . 0.069899, 0.0595, 0.005859, 0.084733, 0.126933, 0.112533, 0.03596, \n . 0.000667, 0.178733, 0.10862, 0.144512, 0.033725, 0.148133, 0.0424, \n . 0.108013, 0.041549, 0.059731, 0.0414, 0.151467, 0.034478, 0.080388, \n . 0.085933, 0.012067, 0.072557, 0.127, 0.106667, 0.056333, 0.016984, \n . 0.091987, 0.101953, 0.067933, 0.1488, 0.073, 0.0698, 0.118267, \n . 0.1508, 0.1258, 0.067333, 0.070794, 0.085667, 0.055041, 0.144867, \n . 0.139596, 0.163232, 0.026333, 0.141071, 0.014667, 0.080413, 0.135683, \n . 0.022088, 0.017684, 0.1806, 0.036902, 0.054209, 0.025867, 0.038855, \n . 0.099798, 0.149867, 0.018968, 0.081818, 0.154209, 0.008133, 0.008053, \n . 0.124167, 0.273444, 0.021414, 0.064564, 0.091488, 0.112145, 0.076, \n . 0.082, 0.074467, 0.009267, 0.098533, 0.139133, 0.0786, 0.043667, \n . 0.059798, 0.219867, 0.011667, 0.011667, 0.102933, 0.093867, 0.176364, \n . 0.092391, 0.055929, 0.044, 0.106467, 0.0432, 0.1092, 0.0458, \n . 0.046, 0.087542, 0.250467, 0.002733, 0.152997, 0.215, 0.196333, \n . 0.189067, 0.006456, 0.125667, 0.041867, 0.0202, 0.038855, 0.099798, \n . 0.149867, 0.018968, 0.1562, 0.060733, 0.070727, 0.047248, 0.012381, \n . 0.0148, 0.176133, 0.023111, 0.041032, 0.135733, 0.051178, 0.089091, \n . 0.086508, 0.0834, 0.026523, 0.147273, 0.025522, 0.152929, 0.106205, \n . 0.002667, 0.0389, 0.213782, 0.0762, 0.092564, 0.069587, 0.011065, \n . 0.188867, 0.162933, 0.021, 0.076835, 0.037667, 0.179798, 0.0068, \n . 0.074478, 0.18327, 0.048452, 0.066007, 0.027962, 0.2338, 0.096733, \n . 0.035714, 0.05138, 0.051515, 0.082133, 0.019533, 0.014032, 0.011246, \n . 0.154133, 0.133872, 0.05771, 0.068364, 0.105, 0.124626, 0.073137, \n . 0.107475, 0.176122, 0.050909, 0.046128, 0.059405, 0.073199, 0.170774, \n . 0.23131, 0.0064, 0.066429, 0.0606, 0.009048, 0.0304, 0.093267, \n . 0.264467, 0.025791, 0.065993, 0.026889, 0.169238, 0.095758, 0.078067, \n . 0.173867, 0.036733, 0.017576, 0.036162, 0.015333, 0.035556, 0.0044, \n . 0.212533, 0.103733, 0.092054, 0.0424, 0.034097, 0.176733, 0.185714, \n . 0.116871, 0.069936, 0.001226, 0.0118, 0.150867, 0.079259, 0.074891, \n . 0.076467, 0.086533, 0.036267, 0.066136, 0.077067, 0.033533, 0.1968, \n . 0.057, 0.148889, 0.126465, 0.046607, 0.0378, 0.039667, 0.1882, \n . 0.017067, 0.048667, 0.106733, 0.076667, 0.083906, 0.026465, 0.026465, \n . 0.0162, 0.01, 0.0312, 0.078653, 0.012933, 0.1094, 0.029933, 0.037333, \n . 0.011701, 0.205533, 0.112351, 0.059259, 0.124333, 0.175, 0.023067, \n . 0.135867, 0.0236, 0.006465, 0.004646, 0.041333, 0.0618, 0.022761, \n . 0.204377, 0.071, 0.042, 0.054733, 0.084267, 0.024242, 0.158316, \n . 0.039667, 0.098824, 0.120404, 0.063005, 0.072323, 0.063, 0.074733, \n . 0.097533, 0.023, 0.178904, 0.244067, 0.037037, 0.166533, 0.120404, \n . 0.143133, 0.0728, 0.050438, 0.014133, 0.033872, 0.076667, 0.046331, \n . 0.164916, 0.152256, 0.085333, 0.020159, 0.036351, 0.0114, 0.0296, \n . 0.191277, 0.070533, 0.156733, 0.0364, 0.120583, 0.1354, 0.1354, \n . 0.126667, 0.034533, 0.0112, 0.1294, 0.012795, 0.032267, 0.056817, \n . 0.145859, 0.157133, 0.069899, 0.141077, 0.054545, 0.053131, 0.11503, \n . 0.152381, 0.049933, 0.056842, 0.195867, 0.222467, 0.081818, 0.056094, \n . 0.016071, 0.0844, 0.130533, 0.12697, 0.085133, 0.1204, 0.0758, \n . 0.0668, 0.115825, 0.06875, 0.023889, 0.083333, 0.07756, 0.180337, \n . 0.089603, 0.020733, 0.074133, 0.048333, 0.093266, 0.015067, 0.0698, \n . 0.056181, 0.133333, 0.033535, 0.022222, 0.083165, 0.1092, 0.042984, \n . 0.08532, 0.083867, 0.048869, 0.169, 0.126933, 0.138067, 0.131012, \n . 0.095601, 0.070438, 0.094206, 0.029533, 0.056768, 0.054867, 0.060269, \n . 0.152067, 0.1146, 0.050733, 0.011067, 0.1172, 0.030867, 0.061481, \n . 0.06431, 0.037441, 0.112267, 0.095476, 0.005588, 0.018114, 0.004717, \n . 0.069764, 0.006533, 0.011, 0.115578, 0.184889, 0.006533, 0.1848, \n . 0.130635, 0.156733, 0.117386, 0.123746, 0.068299, 0.1932, 0.0346, \n . 0.054133, 0.107067, 0.020952, 0.131224, 0.1872, 0.087531, 0.03125, \n . 0.057333, 0.089333, 0.182267, 0.045926, 0.044133, 0.043724, 0.019192, \n . 0.030444, 0.097933, 0.124067, 0.271515, 0.210833, 0.026222, 0.098133, \n . 0.079667, 0.060135, 0.013733, 0.2314, 0.017133, 0.0374, 0.091582, \n . 0.0948, 0.012929, 0.106196, 0.0724, 0.141347, 0.117508, 0.050333, \n . 0.197467, 0.1438, 0.0148, 0.035133, 0.0552, 0.009933, 0.165522, \n . 0.028215, 0.054133, 0.030505, 0.194267, 0.060269, 0.11138, 0.004512, \n . 0.003901, 0.019865, 0.227493, 0.031987, 0.117959, 0.050627, 0.1116, \n . 0.056229, 0.003165, 0.088276, 0.184948, 0.046936, 0.119533, 0.011515, \n . 0.128333, 0.022533, 0.151733, 0.013133, 0.039267, 0.202071, 0.035926, \n . 0.040281, 0.147917, 0.159192, 0.188467, 0.139133, 0.012929, 0.050707, \n . 0.038733, 0.006667, 0.094058, 0.059461, 0.151919, 0.03297, 0.1224, \n . 0.130467, 0.154, 0.078067, 0.210459, 0.046333, 0.064867, 0.124667, \n . 0.140741, 0.157733, 0.073933, 0.117083, 0.244467, 0.158133, 0.050505, \n . 0.021818, 0.066195, 0.104133, 0.138333, 0.067933, 0.107933, 0.056296, \n . 0.178404, 0.071111, 0.068552, 0.159412, 0.090867, 0.015667, 0.058254, \n . 0.0636, 0.105267, 0.03569, 0.073133, 0.084781, 0.0894, 0.0112, \n . 0.048754, 0.123133, 0.086809, 0.086533, 0.021333, 0.0348, 0.044381, \n . 0.086133, 0.069733, 0.18, 0.023533, 0.041867, 0.074891, 0.077, \n . 0.200667, 0.138788, 0.020467, 0.000673, 0.019573, 0.1468, 0.0544, \n . 0.028267, 0.055, 0.032088, 0.095, 0.059933, 0.140867, 0.014411, \n . 0.163333, 0.008067, 0.237037, 0.186599, 0.228267, 0.028, 0.188867, \n . 0.186734, 0.093133, 0.192256, 0.024533, 0.053266, 0.156162, 0.028867, \n . 0.0332, 0.062611, 0.048148, 0.046607, 0.116488, 0.0714, 0.2212, \n . 0.075219, 0.086067, 0.070417, 0.027018, 0.027018, 0.059663, 0.038923, \n . 0.135556, 0.29165, 0.058333, 0.118467, 0.079663, 0.149733, 0.101597, \n . 0.1026, 0.024533, 0.0958, 0.213981, 0.1344, 0.134209, 0.0314, \n . 0.143653, 0.043467, 0.093533, 0.180333, 0.2464, 0.090572, 0.055623, \n . 0.139533, 0.077, 0.105, 0.047933, 0.065533, 0.097953, 0.0786, \n . 0.030133, 0.028867, 0.045067, 0.012256, 0.002155, 0.01697, 0.046667, \n . 0.040067, 0.205, 0.193199, 0.045051, 0.019333, 0.074067, 0.24862, \n . 0.032937, 0.0392, 0.0984, 0.074, 0.250933, 0.09219, 0.06055, \n . 0.135952, 0.008667, 0.215017, 0.151515, 0.230707, 0.028598, 0.011785, \n . 0.04932, 0.069267, 0.152234, 0.124579, 0.079596, 0.022933, 0.001465, \n . 0.0282, 0.174867, 0.037845, 0.0732, 0.085667, 0.173535, 0.0694, \n . 0.028333, 0.022733, 0.069867, 0.031246, 0.064646, 0.037845, 0.110417, \n . 0.096533, 0.02835, 0.278269, 0.093333, 0.080067, 0.1022, 0.007826, \n . 0.035646, 0.147308, 0.21877, 0.138933, 0.191, 0.137643, 0.1734, \n . 0.163733, 0.048133, 0.004444, 0.2444, 0.052067, 0.181067, 0.105724, \n . 0.147667, 0.051133, 0.015488, 0.087667, 0.0788, 0.098384, 0.030533, \n . 0.195421, 0.042733, 0.062626, 0.001212, 0.055667, 0.053805, 0.118103, \n . 0.020867, 0.1504, 0.075286, 0.016498, 0.028733, 0.157381, 0.102933, \n . 0.096067, 0.0268, 0.117759, 0.033754, 0.034307, 0.122963, 0.11064, \n . 0.036667, 0.018754, 0.026867, 0.113267, 0.174143, 0.138984, 0.06431, \n . 0.26043, 0.172267, 0.035867, 0.047407, 0.103704, 0.10303, 0.104108, \n . 0.219663, 0.073171, 0.0524, 0.0168, 0.088667, 0.174141, 0.085455, \n . 0.111044, 0.090321, 0.0274, 0.040867, 0.205533, 0.132933, 0.111333, \n . 0.0762, 0.080067, 0.057643, 0.103867, 0.0264, 0.041267, 0.213067, \n . 0.063232, 0.117867, 0.033805, 0.143906, 0.0136, 0.125174, 0.2036, \n . 0.122424, 0.081347, 0, 0.116867, 0.068333, 0.021711, 0.128631, \n . 0.058631, 0.022, 0.032997, 0.049428, 0.0582, 0.1082, 0.0266, \n . 0.060533, 0.095533, 0.074708, 0.066429, 0.120533, 0.0328, 0.104667, \n . 0.083656, 0.103267, 0.004659, 0.11595, 0.0626, 0.162467, 0.236768, \n . 0.049938, 0.051785, 0.144512, 0.010303, 0.0367, 0.036087, 0.111582, \n . 0.038653, 0.115286, 0.032929, 0.072143, 0.022267, 0.103788, 0.16585, \n . 0.020079, 0.069733, 6e-04, 0.078495, 0.065962, 0.038451, 0.010438, \n . 0.016498, 0.066599, 0.086467, 0.044674, 0.109422, 0.021333, 0.037133, \n . 0.155758, 0.246061, 0.004043, 0.08695, 0.0054, 0.076667, 0.0304, \n . 0.054545, 0.059048, 0.034933, 0.034533, 0.039467, 0.016458, 0.173469, \n . 0.001267, 0.090168, 0.024533, 0.08404, 0.191111, 0.086778, 0.150567, \n . 0.066733, 0.153, 0.162302, 0.245745, 0.041973, 0.0676, 0.138114, \n . 0.0866, 0.018467, 0.057037, 0.068333, 0.256933, 0.203502, 0.2142, \n . 0.212738, 0.009267, 0.092469, 0.041867, 0.137467, 0.036144, 0.039687, \n . 0.084781, 0.113733, 0.0294, 0.049067, 0.045267, 0.021, 0.250623, \n . 0.085993, 0.021689, 0.031909, 0.20734, 0.218867, 0.250303, 0.1008, \n . 0.296369, 0.035, 0.061933, 0.19869, 0.022128, 0.083098, 0.066465, \n . 0.186667, 0.158933, 0.027267, 0.2224, 0.226467, 0.075467, 0.091246, \n . 0.012121, 0.016722, 0.0372, 0.023133, 0.078069, 0.031178, 0.082533, \n . 0.138047, 0.212862, 0.080867, 0.03325, 0.058467, 0.065333, 0.193333, \n . 0.093467, 0.013133, 0.029697, 0.065878, 0.0364, 0.073267, 0.182467, \n . 0.064646, 0.100333, 0.016768, 0.035892, 0.053401, 0.023636, 0.088533, \n . 0.054949, 0.131533, 0.011933, 0.061267, 0.084933, 0.010933, 0.134733, \n . 0.0968, 0.170733, 0.011267, 0.039533, 0.0404, 0.068956, 0.08841, \n . 0.203434, 0.049764, 0.104982, 0.131313, 0.022866, 0.011651, 0.053267, \n . 0.042424, 0.063016, 0.060404, 0.024733, 0.019663, 0.077643, 0.044248, \n . 0.0646, 0.068155, 0.056892, 0.061867, 0.0332, 0.024133, 0.025467, \n . 0.035867, 0.018869, 0.036267, 0.003968, 0.12303, 0.098114, 0.096498, \n . 0.0962, 0.004983, 0.029899, 0.094343, 0.0534, 0.023667, 0.039798, \n . 0.052458, 0.112525, 0.005, 0.052727, 0.013933, 0.055333, 0.003771, \n . 0.011067, 0.010533, 0.054067, 0.101667, 0.0132, 0.006733, 0.0232, \n . 0.077267, 0.005667, 0.021867, 0.002559, 0.005825, 0.054133, 0.041733, \n . 0.010707, 0.023722, 0.001279, 0.053467, 0.052267, 0.111533, 0.019057, \n . 6e-04, 0.027867, 0.067811, 0.092391, 0.007778, 0.074067, 0.036933, \n . 0.089495, 0.02633, 0.026397, 0.0398, 0.0844, 0.013939, 0.011327, \n . 0.052067, 0.007667, 0.054628, 0.080867, 0.0912, 0.0306, 0.006905, \n . 0.020404, 0.078586, 0.0646, 0.0596, 0.0182, 0.038867, 0.043667, \n . 0.0438, 0.038533, 0.011467, 0.045079, 0.036667, 0.024634, 0.105533, \n . 0.074815, 0.145253, 0.020667, 0.074762, 0.0036, 0.056283, 0.050921, \n . 0.008434, 0.012, 0.139133, 0.03037, 0.018855, 0.023267, 0.01596, \n . 0.024444, 0.108133, 0.015317, 0.061212, 0.096431, 0.004, 0.006601, \n . 0.075417, 0.050889, 0.012997, 0.05745, 0.05119, 0.049373, 0.014467, \n . 0.058533, 0.073133, 0.0062, 0.0518, 0.091867, 0.029867, 0.033133, \n . 0.03771, 0.056133, 0.006067, 0.006067, 0.043133, 0.080933, 0.15596, \n . 0.031111, 0.037286, 0.037533, 0.102667, 0.020867, 0.057667, 0.0378, \n . 0.020867, 0.064848, 0.0256, 0.002333, 0.02835, 0.184933, 0.137867, \n . 0.1174, 0.006246, 0.118867, 0.006867, 0.007, 0.01596, 0.024444, \n . 0.108133, 0.015317, 0.0152, 0.057733, 0.046364, 0.022908, 0.011905, \n . 0.0074, 0.140867, 0.018167, 0.020952, 0.075067, 0.033468, 0.071246, \n . 0.062937, 0.0692, 0.006308, 0.145387, 0.02532, 0.039798, 0.028119, \n . 0.001333, 0.015858, 0.072115, 0.0732, 0.004679, 0.036825, 0.009691, \n . 0.1518, 0.1004, 0.013733, 0.006532, 0.021333, 0.057037, 0.004333, \n . 0.061481, 0.144717, 0.004405, 0.043696, 0.02235, 0.0968, 0.0598, \n . 0.035655, 0.037172, 0.017104, 0.0164, 0.0132, 0, 0.001347, 0.034333, \n . 0.111448, 0.028687, 0.042909, 0.070667, 0.018299, 0.023203, 0.025387, \n . 0.05449, 0.049899, 0.030505, 0.052917, 0.024242, 0.134209, 0.050595, \n . 0.0018, 0.065119, 0.050667, 0.002381, 0.023, 0.021333, 0.052467, \n . 0.007811, 0.032121, 0.008711, 0.068476, 0.055286, 0.0122, 0.1084, \n . 0.020667, 0.004108, 0.032256, 0.008733, 0.024781, 6e-04, 0.090933, \n . 0.030067, 0.037576, 0.0352, 0.020625, 0.101133, 0.105794, 0.082109, \n . 0.048333, 0.000383, 0.001467, 0.112533, 0.056498, 0.067601, 0.037133, \n . 0.045467, 0.012067, 0.056342, 0.056067, 0.006533, 0.156, 0.013733, \n . 0.081212, 0.064579, 0.042222, 0.003333, 0.033667, 0.160133, 0.0038, \n . 0.041467, 0.0236, 0.0494, 0.041145, 0.009966, 0.009966, 0.0106, \n . 0.008533, 0.024733, 0.074949, 0.011467, 0.064267, 0.0096, 0.011333, \n . 0, 0.0696, 0.103368, 0.024242, 0.069, 0.09006, 0.0152, 0.123933, \n . 0.014333, 0.004781, 0.004242, 0.030533, 0.030333, 0.015488, 0.133266, \n . 0.057533, 0.038467, 0.039267, 0.065733, 0.019327, 0.036431, 0.028867, \n . 0.060915, 0.092525, 0.018525, 0.011785, 0.021467, 0.070667, 0.043267, \n . 0.0178, 0.041324, 0.058333, 0.018653, 0.0358, 0.01165, 0.140667, \n . 0.055933, 0.025993, 0.003133, 0.007811, 0.051533, 0.022185, 0.10936, \n . 0.028283, 0.0716, 0.013095, 0.035298, 0.011333, 0.0074, 0.114766, \n . 0.069533, 0.106667, 0.028867, 0.066667, 0.092133, 0.067, 0.119867, \n . 0.028267, 0.01, 0.014, 0.004108, 0.0322, 0.041381, 0.039865, \n . 0.063533, 0.067879, 0.050842, 0.034141, 0.010101, 0.064848, 0.090774, \n . 0.038533, 0.002947, 0.093067, 0.1616, 0.030774, 0.041077, 0.01119, \n . 0.0722, 0.0838, 0.103333, 0.075467, 0.043667, 0.069333, 0.0412, \n . 0.042896, 0.010298, 0.005952, 0.076733, 0.022857, 0.106734, 0.014127, \n . 0.0058, 0.060733, 0.030067, 0.034343, 0.011867, 0.0532, 0.055764, \n . 0.021067, 0.009832, 0.021818, 0.070572, 0.103267, 0.01746, 0.052256, \n . 0.036467, 0.030952, 0.0698, 0.044, 0.082867, 0.017798, 0.054502, \n . 0.014209, 0.056573, 0.025733, 0.019192, 0.0308, 0.006801, 0.074267, \n . 0.058333, 0.033267, 0.0088, 0.0222, 0.026, 0.061347, 0.046869, \n . 0.004579, 0.034333, 0.040655, 0.001569, 0.009899, 0.003082, 0.036768, \n . 0.0054, 0.001867, 0.081633, 0.091492, 0.0058, 0.139933, 0.123175, \n . 0.118467, 0.078497, 0.019429, 0.067755, 0.155267, 0.034267, 0.020733, \n . 0.028333, 0.007302, 0.10449, 0.154, 0.053765, 0.024048, 0.015533, \n . 0.0296, 0.135533, 0.027273, 0.0198, 0.014595, 0.017912, 0.022333, \n . 0.0276, 0.108733, 0.058519, 0.064167, 0.017852, 0.049867, 0.0628, \n . 0.052525, 0.004667, 0.14, 0.016333, 0.033667, 0.073737, 0.0598, \n . 0.008418, 0.019373, 0.055067, 0.068552, 0.030774, 0.035667, 0.182067, \n . 0.049333, 0.012867, 0.012667, 0.027, 0.008133, 0.015556, 0.026936, \n . 0.0258, 0.022828, 0.0342, 0.032795, 0.054209, 0.001684, 0.002766, \n . 0.007003, 0.003422, 0.031852, 0.021973, 0.012541, 0.109533, 0.020135, \n . 0.002963, 0.071724, 0.049141, 0.017441, 0.0472, 0.008889, 0.037133, \n . 0.019867, 0.069067, 0.007, 0.011267, 0.064531, 0.019778, 0.032561, \n . 0.144861, 0.121279, 0.055333, 0.030867, 0.009495, 0.00963, 0.014, \n . 0.004, 0.088261, 0.027946, 0.090101, 0.019576, 0.0972, 0.0768, \n . 0.069933, 0.0668, 0.087645, 0.045933, 0.021, 0.0588, 0.017912, \n . 0.078467, 0.0336, 0.023056, 0.095533, 0.069733, 0.033872, 0.006128, \n . 0.048956, 0.081867, 0.095123, 0.065, 0.092, 0.053603, 0.086291, \n . 0.070438, 0.04404, 0.069935, 0.0472, 0.015533, 0.029683, 0.060933, \n . 0.0668, 0.02963, 0.058533, 0.058047, 0.019933, 0.006067, 0.021077, \n . 0.1036, 0.051773, 0.077933, 0.007533, 0.0048, 0.019746, 0.049467, \n . 0.062867, 0.092204, 0.012867, 0.0278, 0.064548, 0.058733, 0.042133, \n . 0.093131, 0.019867, 0.000606, 0.018889, 0.110733, 0.043333, 0.017333, \n . 0.037667, 0.016996, 0.075333, 0.0264, 0.1364, 0.014209, 0.141933, \n . 0.001, 0.096633, 0.108148, 0.0436, 0.007467, 0.0436, 0.032593, \n . 0.0876, 0.065993, 0.022, 0.014949, 0.042155, 0.007933, 0.028, \n . 0.025889, 0.033333, 0.042619, 0.10756, 0.0234, 0.1342, 0.042626, \n . 0.028, 0.041786, 0.003789, 0.003789, 0.033199, 0.023569, 0.122178, \n . 0.101751, 0.0118, 0.007467, 0.044781, 0.037667, 0.077639, 0.071667, \n . 0.0158, 0.067, 0.085566, 0.037133, 0.061279, 0.0232, 0.059361, \n . 0.0288, 0.058333, 0.0204, 0.163333, 0.068889, 0.012458, 0.026067, \n . 0.055467, 0.0658, 0.026267, 0.058, 0.041813, 0.030133, 0.015533, \n . 0.024067, 0.044133, 0.009832, 0.001481, 0.008013, 0.03078, 0.027467, \n . 0.0624, 0.077576, 0.01798, 0.005067, 0.051667, 0.141212, 0.028779, \n . 0.0306, 0.077533, 0.023867, 0.145667, 0.054667, 0.046598, 0.115774, \n . 0.0072, 0.177845, 0.036162, 0.059192, 0.017632, 0.004714, 0.039159, \n . 0.043733, 0.117595, 0.007003, 0.043973, 0.002933, 0.000513, 0.0106, \n . 0.118467, 0.037374, 0.012933, 0.084933, 0.078451, 0.063933, 0.022133, \n . 0.007267, 0.056867, 0.024512, 0.053737, 0.026801, 0.03506, 0.047133, \n . 0.024916, 0.120256, 0.041172, 0.049933, 0.080333, 0.007464, 0.035306, \n . 0.002436, 0.135728, 0.105733, 0.123533, 0.093064, 0.002933, 0.158933, \n . 0.030667, 0.000698, 0.104267, 0.0256, 0.161667, 0.087946, 0.142267, \n . 0.025733, 0.013333, 0.065467, 0.0748, 0.086195, 0.017933, 0.039192, \n . 0.042667, 0.040202, 0.000673, 0.035133, 0.030976, 0.029897, 0.011533, \n . 0.098333, 0.062559, 0.016027, 0.0258, 0.094583, 0.027133, 0.0418, \n . 0.025867, 0.041513, 0.023063, 0.008015, 0.065118, 0.055556, 0.0258, \n . 0.014891, 0.0144, 0.062667, 0.012399, 0.078921, 0.033401, 0.044086, \n . 0.030533, 0.003533, 0.04431, 0.070168, 0.097172, 0.07266, 0.06734, \n . 0.051328, 0.003867, 0.0156, 0.028667, 0.093737, 0.026936, 0.059394, \n . 0.038205, 0.023133, 0.012667, 0.128733, 0.124867, 0.0974, 0.071067, \n . 0.0304, 0.033872, 0.047333, 0.01, 0.038867, 0.189, 0.010842, \n . 0.058667, 0.032256, 0.124916, 0.013, 0.023184, 0.0816, 0.106869, \n . 0.032525, 0, 0.077733, 0.014533, 0.014572, 0.025536, 0.041131, \n . 0.006933, 0.012458, 0.011785, 0.0318, 0.0516, 0.0124, 0.060267, \n . 0.082867, 0.069278, 0.033175, 0.0554, 0.013267, 0.078333, 0.047957, \n . 0.053733, 0.000573, 0.074642, 0.040867, 0.0672, 0.030842, 0.03537, \n . 0.022222, 0.015825, 0.009158, 0.035556, 0.00587, 0.012391, 0.036835, \n . 0.011313, 0.028822, 0.071429, 0.0142, 0.020985, 0.101905, 0.001825, \n . 0.016267, 6e-04, 0.026738, 0.057832, 0.033064, 0.005387, 0.006397, \n . 0.066195, 0.054533, 0.020412, 0.065244, 0.011867, 0.028933, 0.111785, \n . 0.182424, 0.000851, 0.080284, 0.002067, 0.068, 0.0182, 0.030303, \n . 0.028938, 0.025867, 0.031733, 0.0236, 0.003403, 0.099592, 6e-04, \n . 0.039192, 0.023067, 0.05899, 0.065556, 0.067389, 0.030142, 0.035867, \n . 0.0542, 0.091667, 0.043469, 0.008163, 0.034733, 0.133131, 0.020867, \n . 0.008333, 0.027811, 0.0308, 0.095867, 0.137374, 0.076, 0.039167, \n . 0.0092, 0.017531, 0.021, 0.047533, 0.03085, 0.014362, 0.036633, \n . 0.062067, 0.0064, 0.025933, 0.016067, 0.019533, 0.103443, 0.004444, \n . 0.0164, 0.024078, 0.109226, 0.0908, 0.102694, 0.092667, 0.034881, \n . 0.023933, 0.0376, 0.164702, 0.014965, 0.03064, 0.024175, 0.112667, \n . 0.086133, 0.016, 0.221267, 0.059467, 0.0574, 0.077306, 0.010076, \n . 0.0015, 0.028933, 0.004667, 0.075639, 0.029562, 0.062133, 0.037037, \n . 0.093603, 0.067867, 0.029667, 0.045267, 0.047467, 0.171133, 0.073867, \n . 0.012933, 0.018721, 0.064516, 0.0158, 0.0658, 0.081267, 0.046195, \n . 0.012133, 0.009091, 0.00936, 0.009697, 0.010505, 0.041267, 0.051178, \n . 0.058133, 0.008467, 0.0414, 0.066867, 0.009933, 0.0538, 0.069867, \n . 0.0196, 0.008133, 0.027867, 0.015467, 0.012054, 0.02359, 0.126532, \n . 0.043771, 0.089895, 0.098653, 0.005483, 0.010031, 0.032533, 0.000606, \n . 0.037063, 0.011717, 0.0126, 0.001684, 0.000539, 0.018627, 0.001667, \n . 0.002619, 0.010677, 0.000933, 0.025467, 0.0126, 0.022867, 0.0252, \n . 0.005595, 0, 0.002937, 0.02963, 0.096902, 0.012727, 0.0298, 0.003434, \n . 0.026734, 0.023434, 0.036533, 0.009, 0.01569, 0.012189, 0.014074, \n . 0.002467, 0.00303, 0.004267, 0.0446, 0.002626, 0.005267, 0.002467, \n . 0.0216, 0.001667, 2e-04, 0.003533, 0.003933, 0.076733, 0.002467, \n . 0, 0.001481, 0, 0.0152, 0.016133, 0.00431, 0.017556, 0.000606, \n . 0.035933, 0.015667, 0.0538, 0.000741, 0.000533, 0.0026, 0.001751, \n . 0.023973, 0.007582, 0.0098, 0.0314, 0.002963, 0.005185, 0.013468, \n . 0.000133, 0, 0.010909, 0, 0.0446, 0.005333, 0.017864, 0.027067, \n . 0.011267, 0.009067, 0.001111, 0.009899, 0.011178, 0.005733, 0.000333, \n . 0.0176, 0.000467, 0.002333, 0.0222, 0.019667, 0.007733, 0.038413, \n . 0.035867, 8.1e-05, 6.7e-05, 0.016431, 0.11771, 0.012, 0.05006, \n . 0.003333, 0.019469, 0.04673, 0.006265, 0.000702, 6.7e-05, 0.012525, \n . 0.000606, 0.005267, 0.00963, 0.003569, 0.0208, 0.013175, 0.018316, \n . 0.032795, 6e-04, 0.001452, 0.014702, 0.000556, 0.010505, 0.01651, \n . 0.050833, 0.048119, 0.0076, 0.007067, 0.035333, 0.001133, 0.024467, \n . 0.029067, 0.020333, 0.001, 0.02734, 0.043067, 0.0024, 0.0024, \n . 0.039467, 0.030467, 0.030572, 0.004646, 0.002537, 0.007867, 0.007067, \n . 0.009467, 0.0054, 0.0194, 0.0184, 0.026061, 0.023533, 0.000267, \n . 0.006869, 0.003933, 0.014133, 0.0106, 0.001263, 0, 0.0044, 0.006467, \n . 0.00963, 0.003569, 0.0208, 0.013175, 0.013467, 0.0108, 0.016061, \n . 0.010872, 0.00746, 0.0056, 0.060933, 0.016333, 0.011905, 0.018267, \n . 0.026869, 0.036902, 0.012778, 0.0636, 0.005305, 0.01165, 0.012929, \n . 6.7e-05, 0.016964, 2e-04, 0.01411, 0.065577, 0.019267, 0.000962, \n . 0.018349, 0.007835, 0.000267, 0.007067, 0.008333, 0, 0, 0.001549, \n . 0, 0.050101, 0.054151, 0.004167, 0.040792, 0.007338, 0.007, 0.0146, \n . 0.000536, 0.034074, 0.004175, 0.013867, 0.005133, 0, 0.001212, \n . 0.003467, 0.000471, 0.021414, 0.042182, 0.0086, 0.006054, 0.020719, \n . 0.007407, 0.027211, 0.034545, 0.003502, 0.039048, 0, 0.003502, \n . 0.031786, 0.000133, 0.008869, 0.024133, 0.001508, 0.0166, 0.005867, \n . 0.004067, 0.005387, 0.0167, 0.001556, 0.038, 0.000875, 0.010133, \n . 0.0142, 0.0134, 0, 0.003973, 0.0022, 0.018519, 6.7e-05, 0.0056, \n . 0.0058, 0.035623, 0.015867, 0.015, 0.025333, 7.9e-05, 0.000748, \n . 0.001026, 0, 0.001067, 0.098733, 0.016633, 0.044548, 0.0268, \n . 0.030467, 0.009, 0.014572, 0.041533, 0.006467, 0.0588, 0.011267, \n . 0.015825, 0.048687, 0.014835, 0.001667, 0.029056, 0.002067, 0.000267, \n . 0.001333, 0.000467, 0.0374, 0.024983, 0.003838, 0.003838, 0.005667, \n . 0.0036, 0.0234, 0.043165, 6e-04, 0, 0.004933, 0.006467, 0, 0.008533, \n . 0.056702, 0.020067, 0.009533, 0.020595, 0.010733, 0.002933, 0.000267, \n . 0.004444, 0.002559, 0.000933, 0.003333, 0.000135, 0.00101, 0.0062, \n . 0.022333, 0.036533, 0.039667, 0.005589, 0.018451, 0.016867, 0.050131, \n . 0.016027, 0.011858, 0.010034, 0.018533, 0.024867, 0.003267, 0, \n . 0.002192, 0.049933, 0.008956, 0.000133, 0.006465, 0.004333, 0.034667, \n . 0.01138, 0.000333, 0.006599, 0.026667, 0.009188, 0.023165, 0.017508, \n . 0.026, 7.9e-05, 0.014035, 0.001067, 0.0068, 0.010903, 0.004533, \n . 0.043267, 0.002467, 0.03525, 0.0916, 0.0214, 0.0212, 0.025533, \n . 0.0042, 0.006067, 0.001818, 0.029067, 0.004565, 0.001212, 0.0406, \n . 0.015286, 0.023636, 0.007946, 0.00633, 0.04703, 0.015357, 0.000467, \n . 0.001263, 0.006867, 0.0044, 0.027138, 0.017306, 0.00256, 0.060467, \n . 0.0028, 0.096909, 0, 0.0246, 0.028733, 0.003467, 0.025926, 0.008214, \n . 0.00246, 0.012533, 0.010417, 0.020202, 0.010079, 0.002333, 0.039467, \n . 0.009, 0.000539, 0.008467, 0.0108, 0.015556, 0.011133, 0.003838, \n . 0.006801, 0.009697, 0.000867, 0.002095, 0.011313, 0.020467, 0.015893, \n . 0.0318, 0.011667, 0.008867, 0.006786, 0.054227, 0.013805, 0.003489, \n . 0.0018, 0.008013, 0.023533, 0.003636, 0, 0.000133, 0.0158, 0.003933, \n . 0.021333, 0.0206, 0.038788, 0.006397, 0.000269, 0.016067, 0.004048, \n . 0.000196, 0.001077, 0.001635, 0.004848, 0.003667, 0.0018, 0.070884, \n . 0.014095, 0.004933, 0.0306, 0.005952, 0.061733, 0.040327, 0.013079, \n . 0.00932, 0.042, 0.026533, 0.016467, 0.004067, 0.005016, 0.014558, \n . 0.003333, 0.000494, 0.000714, 0.0112, 0, 0.0332, 0.01569, 0, \n . 0.014054, 0, 0.0085, 0, 0.031333, 0.008148, 0.01006, 0.000444, \n . 0.045333, 0.051733, 0.033805, 6.7e-05, 0.0018, 0.011867, 0.026467, \n . 0, 0.016667, 0.001414, 0.006353, 6.7e-05, 0.010976, 0.016902, \n . 0.0216, 0.011667, 0.033867, 0.001933, 0.0016, 0.022867, 0.006667, \n . 0.014343, 0.021347, 0.012133, 0.004714, 0.025267, 0.001414, 0.043098, \n . 0.001279, 0.000496, 0.006667, 0.001711, 0.010168, 0.00585, 0.007195, \n . 0.0074, 0.00936, 0.002088, 0.022759, 0.039381, 0.010303, 0.008, \n . 0.000202, 0.0102, 0.008, 0.0286, 0.005867, 0.003867, 0.002265, \n . 0, 7e-05, 0.014444, 0.046263, 0.052333, 0.0018, 0.001481, 0.005387, \n . 0.012867, 0.002867, 7.2e-05, 0.025118, 0.027879, 0.019515, 0.083267, \n . 0.026667, 0.042467, 0.009667, 0.00055, 4e-04, 0.012133, 0.042467, \n . 0.014613, 0.010933, 0.013733, 0.017153, 0.0052, 0.033267, 0.021414, \n . 0.003906, 0.025859, 0.015267, 0.002284, 0.0018, 0.010933, 0.041481, \n . 0.007887, 0.005253, 0.037576, 0.046601, 0.002533, 0.0114, 0.011111, \n . 0.021333, 0.001333, 0.000337, 0.001867, 0.023973, 0.014467, 0.000733, \n . 0.017104, 0.023133, 0.011206, 0.009733, 0.000267, 0.001867, 0.004317, \n . 0.023933, 0.0484, 0.009301, 0.004533, 6.7e-05, 0.000748, 0.032133, \n . 0.013733, 0.011852, 0.005667, 0.000202, 0, 0.0034, 0.0276, 2e-04, \n . 0.007467, 0.007179, 0.008533, 0.024733, 0.001933, 0.013939, 0.0074, \n . 0.000867, 0, 0.007744, 0, 0.0024, 0.007333, 0.003838, 0.034867, \n . 0.006263, 0.009, 0.006263, 0.004579, 0.006733, 0.012067, 0.021278, \n . 0.032525, 0.04125, 0.000357, 0.010667, 0.032667, 0.026869, 0.015267, \n . 0.03381, 0.003579, 0.003579, 0.026599, 0.006532, 0.003111, 0.000269, \n . 0.008733, 0.004267, 0.020337, 0.014867, 0.004653, 0.016267, 0.014267, \n . 0.009, 0.007896, 0.024733, 0.003906, 0.000467, 0.038128, 0.0042, \n . 0.005467, 0.018, 0.000133, 0.000741, 0.001549, 0.006667, 0.006667, \n . 0.003467, 0.0228, 0.050533, 0.012047, 0.017733, 0.0078, 0.013, \n . 0.040533, 0.000135, 0.000202, 0.002963, 0.022482, 0.0228, 0.054067, \n . 0.063906, 0.009966, 0.004, 0.042067, 0.032458, 0.002046, 0.002133, \n . 0.006667, 0.019533, 0.016, 0.03727, 0.038007, 0.046905, 0.006933, \n . 0.021616, 0.025791, 0.04404, 0.016386, 0.00303, 0, 0.029267, \n . 0.072577, 0.00431, 0.00101, 0.001733, 0, 0, 0.002067, 0.034007, \n . 0.003533, 0.025533, 0.009158, 0.003467, 0, 0.004533, 0.0314, \n . 0.020673, 0.017104, 0.009158, 0.019643, 0.018467, 0.003771, 0.024936, \n . 0.025861, 0.030067, 6.7e-05, 0.005, 0.031429, 0, 0.013916, 0.000133, \n . 0.001533, 0.00303, 0.0024, 0.018067, 0.0088, 0.000381, 0.0016, \n . 0.0082, 0.134267, 0.067273, 0.0248, 0.0226, 0.010236, 0.0188, \n . 0.0172, 0.012525, 0.012933, 0.006869, 0.019533, 0.01037, 0.000539, \n . 0.0116, 0.026397, 0.006872, 0.009467, 0.0412, 0.032795, 0.002626, \n . 0.0064, 0.028988, 0.0042, 6.7e-05, 0.0184, 0.014566, 0.002943, \n . 0.006442, 0.0033, 0.036498, 0.0126, 0.003115, 0.006, 0.024733, \n . 0.003676, 0.074032, 0.023906, 0.010968, 0.016933, 0.002467, 0.024916, \n . 0.016768, 0.022626, 0.053266, 0.062222, 0.005637, 0.0016, 0.0122, \n . 0.020667, 0.002896, 0.003434, 0.000404, 0.038077, 0.018533, 0.004467, \n . 2e-04, 6e-04, 0.001733, 0.001333, 0.005067, 0.01899, 0, 0.000267, \n . 0.024, 0.039333, 0.005387, 0.0506, 0.003367, 0.000606, 0.0066, \n . 0.020249, 0.016, 0.026397, 0.01367, 0, 0.033733, 0.012867, 0.008673, \n . 0.009762, 0.010536, 0.0042, 0.003098, 0.002626, 0.001133, 0.001733, \n . 0.002333, 4e-04, 0.005133, 0.03677, 0.018571, 0.003733, 0.0044, \n . 0.024533, 0.037921, 0.004, 0.00043, 0.028474, 0.016, 0.009267, \n . 0.015556, 0.006049, 0.016162, 0.009495, 0.001549, 0.008822, 0.004493, \n . 0.010842, 0.013401, 0.008889, 0.018721, 0.006012, 0.0036, 0.009394, \n . 0.003265, 0.000794, 0.005267, 0.000133, 0.022867, 0.051653, 0.008889, \n . 0.005051, 0.005387, 0.001279, 4e-04, 0.009828, 0.025156, 0.007667, \n . 0.023267, 0.03037, 0.015017, 0, 0.025957, 0.001933, 0.0022, 0.0024, \n . 0.026869, 0.001319, 0.001867, 6.7e-05, 0.0104, 0.000764, 0.008639, \n . 0, 0.013872, 0.022, 0.008215, 0.005948, 0.006167, 0.005461, 0.029333, \n . 0.046133, 0.074206, 0.038374, 0.004014, 0.0144, 0.00734, 0.000333, \n . 0.005133, 0.000808, 0.012067, 0.000133, 0.00835, 0.0104, 0.002262, \n . 0.005333, 0, 0.003067, 0.021467, 0.019477, 0.008456, 0.034343, \n . 0.058133, 0.001933, 0.000733, 0.010733, 0.013933, 0.034799, 0.003502, \n . 0.014889, 0.003172, 0.075354, 0.013067, 0.00404, 0.0342, 0.00869, \n . 0.006533, 0.0266, 0.000417, 0.007092, 0.022896, 0.013603, 0.015667, \n . 0.002333, 0.002733, 0.028467, 0.002267, 0.032733, 0.034545, 0.000606, \n . 0.0015, 0.004733, 0.0036, 0.026667, 0.004377, 6.7e-05, 0.036229, \n . 0.001414, 0.055333, 0.02775, 0.0434, 0.0454, 0.007133, 0.000533, \n . 0.002933, 0.000135, 0.035197, 0.014333, 0.003, 0.0138, 0, 0, \n . 0.006801, 0, 0.005118, 0.010505, 0.039533, 0.003636, 0.002, 0.002, \n . 0.002067, 0.003133, 0.003733, 0.021467, 0.018267, 0.0182, 0.006333, \n . 6.7e-05, 0.014, 0.010505, 0.017436, 0.006801, 0.020875, 0.009965, \n . 0.041481, 0.004237, 0.005545, 0.025533, 0.000539, 0.004206, 0.005724, \n . 0.003667, 0.000269, 0.000404, 0.004183, 0.000333, 0.000417, 0.005664, \n . 0, 0.014467, 0.006267, 0.005933, 0.011067, 0.003036, 0, 0.001587, \n . 0.021953, 0.008215, 0.00202, 0.001067, 0.001077, 0.023973, 0.022626, \n . 0.012667, 0.003267, 0.005253, 0.007744, 0.009832, 0.002133, 0.001751, \n . 0.003067, 0.001333, 0.000202, 0.0036, 0.001067, 0.0088, 2e-04, \n . 0.000133, 0.000933, 0.002867, 0.0054, 0.001267, 0, 0.000606, \n . 0, 0.014867, 0.009867, 0.000269, 0.006611, 0.000471, 0.017533, \n . 0.008, 0.041533, 0, 2e-04, 0.0014, 0, 0.004714, 0.007386, 0.002933, \n . 0.009267, 0.000202, 0.002896, 0.002963, 0, 0, 0.008889, 0, 0.040733, \n . 0.003533, 0.00835, 0.0172, 0.003733, 0.008333, 0.001111, 0.003232, \n . 0.009428, 0.001733, 6.7e-05, 0.0022, 0, 0.0012, 0.021333, 0.0106, \n . 2e-04, 0.028571, 0.026667, 8.1e-05, 6.7e-05, 0.014545, 0.022559, \n . 0.007267, 0.032321, 0.001467, 0.006608, 0.020254, 0.00498, 0.000561, \n . 6.7e-05, 0.004175, 0.000539, 0.002533, 0.008754, 0.002222, 0.017, \n . 0.006429, 0.011448, 0.015084, 0.000533, 0.001452, 0, 0, 0.00835, \n . 0.011678, 0.048512, 0.005809, 0.006267, 0.000467, 0.019333, 0.000133, \n . 0.009067, 0.004, 0.017933, 8e-04, 0.005455, 0.003533, 0.000533, \n . 0.000533, 0.024267, 0.0264, 0.007744, 0.0033, 0.001357, 0.006733, \n . 0.004667, 0.0012, 0.002667, 0.0016, 0.012867, 0.018923, 0.014067, \n . 0.000133, 0.004983, 0.001467, 0.004667, 6e-04, 0.000491, 0, 0.002067, \n . 0.002333, 0.008754, 0.002222, 0.017, 0.006429, 0.010333, 0.0016, \n . 0.007394, 0.006174, 0.005, 0.003467, 0.023667, 0.001333, 0.001905, \n . 0.012133, 0.022963, 0.003771, 0.009048, 0.005733, 0.003011, 0.000539, \n . 0.007879, 6.7e-05, 0.01538, 0.000133, 0.010032, 0.021346, 0.003333, \n . 0.000256, 0.014984, 0.004467, 0, 6e-04, 0.001467, 0, 0, 0.001549, \n . 0, 0.020875, 0.006541, 0.003631, 0.0233, 0.001918, 0.003867, \n . 0.009733, 0.000298, 0.024579, 0, 0.002067, 4e-04, 0, 0.000471, \n . 0.000467, 0, 0.010505, 0.035879, 0.003, 0, 0.016863, 0.000269, \n . 0.016463, 0.003098, 0.000943, 0.027202, 0, 0.000808, 0.002143, \n . 6.7e-05, 0.003333, 0.003867, 0.001111, 0.0048, 0.005333, 0.001533, \n . 0.000808, 0.006195, 0.0012, 0.023619, 0.000606, 0.007667, 4e-04, \n . 0.006333, 0, 0.002357, 0, 0.00101, 0, 0.002867, 6e-04, 0.000135, \n . 0.002533, 0.008819, 0.005333, 0, 0.000136, 0.000128, 0, 0, 0.048333, \n . 0.007138, 0.032523, 0.025667, 0.007667, 0.007867, 0.010383, 0.0042, \n . 0.0046, 0.018667, 0.009667, 0.00404, 0.006061, 0.012192, 6e-04, \n . 0.024667, 0.000933, 0, 0.000933, 6.7e-05, 0.0014, 0.014343, 0.003569, \n . 0.003569, 0.003467, 0.000733, 0.0216, 0.01266, 6e-04, 0, 0.000267, \n . 0.001067, 0, 0.007933, 0.042807, 0.018182, 0.0026, 0.012381, \n . 0.005133, 0.001133, 0, 0.004108, 0.001549, 0, 8e-04, 0, 0.000875, \n . 0.002, 0.021333, 0.014933, 0.0088, 0, 0.004983, 0.007733, 0.030588, \n . 0.000673, 0.003497, 0.00202, 0.007333, 0.010933, 0, 0, 0.000868, \n . 0.009733, 0.005185, 6.7e-05, 0.002492, 6.7e-05, 0.0232, 0.011111, \n . 0.000267, 0.005118, 0.024, 0.004874, 0.000404, 0.015556, 0.012067, \n . 0, 0.011368, 0.000267, 0.002867, 0.002555, 0.002, 0.032267, 0.001933, \n . 0.0125, 0.013133, 0.017267, 0.006733, 0.005, 0.004067, 0.004267, \n . 0.000337, 0.020933, 0.003844, 0.000135, 0.0248, 0.012189, 0.022694, \n . 0.006397, 0.002626, 0.012667, 0.011488, 2e-04, 0, 0.0058, 0.000667, \n . 0.001414, 0.008956, 0.002083, 0.017467, 0.002667, 0.024727, 0, \n . 0.005667, 0.0012, 0, 0.008418, 0.008095, 0.001587, 0.008533, \n . 0.007024, 0.018855, 0.008254, 0.002133, 0.034533, 0.007333, 0.000269, \n . 0.0036, 0.000867, 0.010278, 0.004933, 0.002626, 0.002088, 0.004108, \n . 6e-04, 0.00127, 0.009697, 0.006733, 0.009167, 0.019467, 0.004533, \n . 0.008333, 0.006131, 0.027148, 0.01064, 0.003302, 0.001267, 0.00532, \n . 0.011, 0.002492, 0, 0, 0.001533, 0.003667, 0.009333, 0.0184, \n . 0.017576, 0.004512, 0, 0.0102, 0.001786, 9.8e-05, 0, 0.000692, \n . 0, 0.001, 0.001533, 0.000612, 0.007556, 0.001467, 0.011933, 0.000952, \n . 0.022667, 0.013987, 0.003238, 0.003878, 0.0186, 0.011867, 0.008333, \n . 4e-04, 0.002476, 0.004354, 4e-04, 0.000185, 0.000417, 0.0034, \n . 0, 0.0036, 0.011178, 0, 0.010511, 0, 0.000222, 0, 0.000733, 0.002761, \n . 0.002738, 0.000148, 0.021733, 0.018267, 0.01064, 6.7e-05, 0.000533, \n . 0.007933, 0.0058, 0, 0.012467, 0.000471, 0.004471, 0, 0.0033, \n . 0.014074, 0.017267, 0.0104, 0.0266, 6e-04, 0.001467, 0.001667, \n . 0.002067, 0.008956, 0.015623, 0.0042, 0.00229, 0.006867, 0.00101, \n . 0.020337, 0.000808, 0.000355, 0.001077, 0.001652, 0.006734, 0.002653, \n . 0.002178, 0.003267, 0.000606, 0.001347, 0.02023, 0.009759, 0.007542, \n . 0.007733, 0, 6e-04, 0.007133, 0.025067, 0.004533, 0.000533, 0.002071, \n . 0, 0, 0.005764, 0.025387, 0.019133, 0.001533, 6.7e-05, 0.002694, \n . 0.0056, 0.002733, 0, 0.019461, 0.008148, 0.000909, 0.029933, \n . 0.025867, 0.002067, 0.0074, 0.000367, 2e-04, 0.007733, 0.0348, \n . 0.008485, 0.002267, 0.0036, 0.009653, 0.001533, 0.026333, 0.002559, \n . 0.00303, 0.00835, 0.011467, 0, 0.001133, 0.0034, 0.018586, 0, \n . 0, 0.000943, 0.026144, 0.002, 0.000533, 0.000159, 0.018467, 0, \n . 0.000135, 0.001867, 0.013939, 0.0138, 0, 0.005185, 0.021333, \n . 0.005154, 0.0028, 6.7e-05, 0.001733, 0, 0.022733, 0.010333, 0.008978, \n . 0.001533, 6.7e-05, 0.000312, 0.007667, 0.012133, 0.008956, 0.0042, \n . 6.7e-05, 0, 0.002467, 0.023267, 6.7e-05, 0.006467, 0.001172, \n . 0.001733, 0.013667, 2e-04, 0.001886, 0.002267, 0.000267, 0, 0.003636, \n . 0, 0.000933, 0.001, 0.003838, 0.008533, 0, 0.006133, 0.001077, \n . 0.00303, 0.0052, 0.011267, 0.015056, 0.026061, 0.02006, 0, 0.0088, \n . 0.015133, 0.009226, 0.012067, 0.016369, 0.000912, 0.000912, 0.010909, \n . 0.00202, 0.003067, 0, 0.002533, 0.002267, 0.00229, 0.014533, \n . 0.001597, 0.008067, 0.010733, 0.003867, 0.002718, 0, 6.7e-05, \n . 0.000267, 0.02621, 0.001067, 0.003933, 0.002067, 0, 0.000404, \n . 0, 0.002867, 0.004733, 0.0012, 0.008133, 0.025133, 0.00152, 0.007467, \n . 0.004267, 0.0052, 0.024667, 0, 0, 0.000269, 0.014894, 0.0082, \n . 0.003667, 0.010168, 0.008956, 0.000533, 0.006933, 0.005051, 0.001188, \n . 0, 0.006533, 0.004067, 0.010467, 0.00546, 0.036426, 0.032083, \n . 0.002667, 0.004444, 0.012593, 0.001953, 0.011838, 0.002761, 0, \n . 0.0218, 0.07244, 0.000135, 0.000943, 0.001333, 0, 0, 0.001467, \n . 0.026061, 0.003, 0.0092, 0.004512, 0.002, 0, 0.004333, 0.019733, \n . 0.015286, 0.011178, 0.003636, 0.010655, 0, 0.0033, 0.001859, \n . 0.018901, 0.007933, 0, 0.004058, 0.022109, 0, 0.00123, 0, 0.001333, \n . 0.002896, 0.002067, 0.0096, 0.001467, 6.3e-05, 0.000667, 0.002333, \n . 0.036267, 0.035488, 0.005667, 0.015733, 0.001481, 0.009533, 0.001333, \n . 0.002492, 0.008733, 0.0033, 0.005733, 0.006532, 6.7e-05, 0.004667, \n . 0.012458, 0.006359, 0.0086, 0.002933, 0.016162, 0.002155, 0.001867, \n . 0.01619, 0.002867, 0, 0.003133, 0.012997, 0.001441, 0.004494, \n . 0, 0.013805, 0.008, 0.002305, 0.003467, 0.012333, 0.001121, 0.005079, \n . 0.014209, 0, 0.0028, 6e-04, 0.013199, 0.000606, 0.013266, 0.045724, \n . 0.025993, 0.002927, 0.0012, 0.010533, 0.0024, 0.000875, 0.000808, \n . 0, 0.029744, 0.002733, 4e-04, 0, 0, 0.001267, 0.001067, 0.003267, \n . 0.014276, 0, 0.000133, 0.003133, 0.004267, 0.002222, 0.0026, \n . 0.001481, 0.000539, 0.0036, 0.013184, 0.005667, 0.014747, 0.012054, \n . 0, 6.7e-05, 0.008933, 0.00118, 0.004286, 0.009643, 0.001667, \n . 0.002492, 0, 6e-04, 0.001267, 6.7e-05, 2e-04, 0.001067, 0.03354, \n . 0.013413, 0.001467, 0.003533, 0.0086, 0.037133, 0.002467, 0, \n . 0.023489, 0.007667, 0.003733, 0.004714, 0.002099, 0.01165, 0.002222, \n . 0.00101, 0.007138, 0.000942, 0.000135, 0.007609, 0.002088, 0.012593, \n . 0.005893, 0.000133, 0.007197, 0, 7.9e-05, 0, 0.000133, 0.004301, \n . 0.027371, 0.008889, 0.004108, 0.001145, 0.000404, 0.000133, 0.005911, \n . 0.016178, 0.000933, 0.012133, 0.020337, 0.00101, 0, 0.009149, \n . 0.0012, 0.0014, 0.001467, 0.003232, 0, 0.000533, 0, 0.0096, 0.000694, \n . 0.003401, 0, 0.002828, 0.005867, 0.005387, 0.000327, 0.000833, \n . 0.004468, 0.0134, 0.034333, 0.017302, 0.003686, 0.003265, 0.007733, \n . 0.001279, 0, 0.004, 0.000337, 0.0118, 0, 0.000202, 0.001667, \n . 0.002024, 0.003667, 0, 0.0014, 0.003733, 0.007255, 0.006488, \n . 0.032525, 0.0344, 4e-04, 0.000333, 0.009, 6.7e-05, 0.015971, \n . 0.0033, 0.014489, 0.002201, 0.018451, 0.005133, 0.000135, 0.016067, \n . 0.006845, 0.006267, 0.002733, 0, 0.001206, 0.002357, 6.7e-05, \n . 0.010867, 0.0018, 0.001533, 0.002933, 0.000933, 0.021267, 0.014209, \n . 0.00053, 0.001, 0.004333, 0.003267, 0.021184, 0.003367, 6.7e-05, \n . 0.030774, 0.001212, 0.024133, 0.019417, 0.035867, 0.011667, 0.002067, \n . 0, 0.001267, 0.000135, 0.011541, 2e-04, 0.001933, 0.0122, 0, \n . 0, 0.002155, 0, 6.7e-05, 0.008148, 0.0294, 0.001818, 0.001667, \n . 0.000133, 0.000933, 0.002333, 0.002067, 0.002933, 0.012067, 0.018067, \n . 0.0016, 0, 0.004133, 0.0033, 0.009846, 0.000135, 0.005387, 0.006035, \n . 0.036835, 0.003302, 0.005545, 0.000667, 0.000269, 0.004048, 0.0033, \n . 6.7e-05, 0.000202, 0.000269, 0.001765, 0, 6e-05, 0.000201, 0, \n . 0.008933, 0.003067, 0.002733, 0.0046, 0.002619, 0, 7.9e-05, 0.012997, \n . 0.006263, 0.001481, 0, 6.7e-05, 0.003502, 0.000202, 0.0054, 0.002133, \n . 0.000808, 0.004242, 0.009428, 6.7e-05, 0.001145, 0.001267, 0.000467, \n . 6.7e-05, 0.0022, 0.000733, 0.0028, 0, 0, 6.7e-05, 0.001467, 0.0048, \n . 0.000933, 0, 0.000135, 0, 0.004, 0.0026, 0.000202, 0.004778, \n . 0.000404, 0.002533, 0.001133, 0.003333, 0, 6.7e-05, 0.000533, \n . 0, 0.002963, 0.001438, 0.002467, 0.0022, 0, 0.000741, 0.001549, \n . 0, 0, 0.002222, 0, 0.008533, 0.000267, 0, 0.004667, 0.003533, \n . 0.005533, 0, 0.000337, 0.001481, 2e-04, 0, 6.7e-05, 0, 0.000733, \n . 0.0044, 0.005533, 6.7e-05, 0.003175, 0.0168, 0, 0, 0.008889, \n . 0.007744, 0.0036, 0.001726, 0.000667, 0.003009, 0.011492, 0.003775, \n . 7e-05, 0, 0.002963, 0.000337, 0.0014, 0.003098, 0, 0.008, 0.00127, \n . 0.007879, 0.012256, 0.000533, 0.000924, 0, 0, 0.002626, 0.009664, \n . 0.002917, 0.001254, 0.001667, 0.000133, 0.015267, 6.7e-05, 0.007533, \n . 0.0014, 0.005133, 0.000267, 0.000269, 0.000667, 0.000333, 0.000333, \n . 0.005533, 0.014467, 0.006801, 0.001549, 0.000826, 0.000867, 0.002133, \n . 6e-04, 0.0016, 0.001533, 0.001733, 0.002694, 0.008, 6.7e-05, \n . 0.002559, 0.000267, 6.7e-05, 0.000267, 0.000421, 0, 0.000933, \n . 4e-04, 0.003098, 0, 0.008, 0.00127, 0.0022, 8e-04, 0.004364, \n . 0.001521, 7.9e-05, 0.001733, 0.006267, 0, 0.001429, 0.004133, \n . 0.010707, 0, 0.000159, 0, 0.001434, 0.000202, 0.000741, 0, 0.005017, \n . 6.7e-05, 0.001036, 0.015962, 0.002067, 0, 0.003492, 0.001237, \n . 0, 2e-04, 6e-04, 0, 0, 0.000471, 0, 0.017239, 0.004591, 0.002619, \n . 0.004158, 0.001583, 0.002933, 0.004867, 0, 0.023838, 0, 0.000333, \n . 0, 0, 0.000404, 6.7e-05, 0, 0.009764, 0.012545, 0.001333, 0, \n . 0.013333, 0, 0.010272, 0.000808, 0.000337, 0.006607, 0, 0.000606, \n . 6e-05, 0, 0.000893, 0.0012, 0.000238, 0.001267, 0.003867, 8e-04, \n . 6.7e-05, 0.000404, 0.000578, 0.002952, 0.000606, 0.006267, 0, \n . 0.003667, 0, 6.7e-05, 0, 6.7e-05, 0, 0.001733, 0, 0, 0.001067, \n . 0.000139, 0.0044, 0, 0, 6.4e-05, 0, 0, 0.008067, 0.002088, 0.013146, \n . 0.0084, 0.0058, 0.006667, 0.005605, 0.004, 0.003133, 6e-04, 0.0034, \n . 0.00101, 0, 0.002943, 0.000333, 0.004333, 0.000467, 0, 6.7e-05, \n . 6.7e-05, 0.000867, 0.005724, 0.001616, 0.001616, 0.000667, 0, \n . 0.001467, 0.001684, 6.7e-05, 0, 0, 0.000133, 0, 0.0076, 0.011368, \n . 0.00532, 0, 0.010833, 0.004667, 0.000133, 0, 0.000741, 0.000741, \n . 0, 0.000667, 0, 0.000135, 0.0018, 0.002933, 0.002067, 0.001867, \n . 0, 0.00404, 0.0036, 0.023922, 0.000269, 0.000109, 6.7e-05, 0.005333, \n . 0.0074, 0, 0, 0.000548, 0.006333, 0, 0, 0.000337, 0, 0.022533, \n . 0.00303, 6.7e-05, 0.000404, 0.0016, 0.000896, 0.000135, 0.005589, \n . 0.002, 0, 0.001895, 0.000267, 0.000533, 0, 0.000867, 0.003733, \n . 4e-04, 0.002167, 0.012533, 0.004133, 0.0018, 0.003, 0.001533, \n . 0.003867, 0.000202, 0.002733, 0.00024, 0, 0.0228, 0.004512, 0.013131, \n . 0.000673, 0.001481, 0.004545, 0.001012, 0, 0, 0.002733, 6.7e-05, \n . 0.00101, 0.002626, 0.000476, 0.006133, 0.000133, 0.020424, 0, \n . 0.002, 0, 0, 0.000875, 0.000119, 7.9e-05, 0, 0.002321, 0.007407, \n . 0.007857, 0.001267, 0.009267, 0.007133, 0.000135, 0.001067, 0.000867, \n . 0.000139, 0.001867, 0.001684, 0, 0.001481, 0.000267, 0.000952, \n . 0.007475, 0.006667, 0.001607, 0.007067, 0.000267, 0.003533, 0.001845, \n . 0.015052, 0.003906, 0.000561, 0.001133, 0.000673, 0.009867, 0.001818, \n . 0, 0, 4e-04, 0, 0.002533, 0.004333, 0.007677, 0.003906, 0, 0.0096, \n . 0.001131, 9.8e-05, 0, 0.000126, 0, 0, 6e-04, 6.8e-05, 0.001333, \n . 0, 0.0102, 0.000397, 0.017933, 0.009346, 0.002603, 0.000544, \n . 0.002667, 0.0082, 0.005067, 6.7e-05, 0.000825, 0.001429, 6.7e-05, \n . 0.000123, 6e-05, 0.003, 0, 0.002667, 0.009562, 0, 0.005345, 0, \n . 0.000167, 0, 2e-04, 0.000741, 0.000298, 7.4e-05, 0.013733, 0.004333, \n . 0.002222, 0, 6.7e-05, 0.0052, 0.004867, 0, 4e-04, 0.000269, 0.000784, \n . 0, 0.000404, 0.002357, 0.0124, 0.002667, 0.004733, 0.000133, \n . 0.0012, 0.000333, 0.001267, 0.005118, 0.011246, 0.002467, 0, \n . 0.000533, 0.000135, 0.000539, 0.000741, 0.000355, 0.000875, 0.001239, \n . 0.000539, 0.000272, 0.000924, 0.000333, 0, 0.000404, 0.012644, \n . 0.000137, 0.002761, 0.000467, 0, 0, 0.004133, 0.008933, 0, 0.000133, \n . 0.002071, 0, 0, 0.002222, 0.00303, 0.003, 0.001333, 0, 0.001886, \n . 0.003333, 0.000467, 0, 0.004242, 0, 0.000727, 0.0034, 0.002067, \n . 0.001133, 0.000933, 0, 0, 0.000467, 8e-04, 0.005926, 0.002, 0.001533, \n . 0.002361, 0.000267, 0.001467, 0.002222, 0.002357, 0.005859, 0.006533, \n . 0, 0.000667, 0.001067, 0.001145, 0, 0, 0, 0.00732, 0.000267, \n . 0.000333, 0, 0, 0, 0, 8e-04, 0.008552, 0.013733, 0, 0.000269, \n . 0.015867, 0.001087, 0.002333, 0, 4e-04, 0, 0.001267, 0.006533, \n . 0.00543, 0.0014, 0, 0.000125, 0.001733, 0.002933, 0.000135, 0.000133, \n . 0, 0, 6.7e-05, 0.0046, 0, 6e-04, 0.000293, 0.001533, 0, 6.7e-05, \n . 0.000875, 4e-04, 0.000267, 0, 0.001953, 0, 0.000133, 0.000333, \n . 0.002761, 0.000133, 0, 0.002067, 0, 0.00101, 0.000333, 0.0018, \n . 0.0015, 0.012727, 0.001369, 0, 0.0036, 0.003467, 0.005926, 0.011267, \n . 0.002202, 7e-05, 7e-05, 0.002626, 0.001818, 8e-04, 0, 0.000267, \n . 0, 0.00101, 0.012, 0.000347, 0.000867, 0.0012, 0.002333, 6.5e-05, \n . 0, 0, 0, 0.001963, 2e-04, 0.0026, 6e-04, 0, 0.000404, 0, 0.001667, \n . 0.004533, 0.000333, 2e-04, 0, 5.8e-05, 0.006133, 0, 0.000533, \n . 0.0036, 0, 0, 0, 0.000709, 0.006067, 0.001867, 0.000875, 0.000606, \n . 4e-04, 0, 0.000202, 0.000594, 0, 0.000467, 0.0038, 0.001867, \n . 0.00273, 0.000825, 0.01119, 0.000533, 6.7e-05, 0.006599, 0.001279, \n . 0.007227, 0.000606, 0, 0.000533, 0, 0.000135, 0.000471, 0.000733, \n . 0, 0, 0.000733, 0.023434, 0, 2e-04, 0.002088, 0.001667, 0, 0.001267, \n . 0.013133, 0.004579, 0.000269, 0.002559, 0.000476, 0, 6.7e-05, \n . 0.001154, 0.007912, 0.005733, 0, 0.003116, 0.008435, 0, 0.000583, \n . 0, 0, 0.000606, 0.000667, 0.002933, 0.0012, 0, 6e-04, 0.000267, \n . 0.0216, 0.029293, 0.001733, 0.000467, 0.000135, 0.006467, 0.001133, \n . 0.002424, 0.000867, 0, 0, 0.005253, 6.7e-05, 0.004133, 0.005657, \n . 0.003744, 0.001, 0.000667, 0.002424, 0.000269, 0.000267, 0, 0.002733, \n . 0, 0.000533, 0.003025, 0.000601, 0.001648, 0, 0.001077, 0.0048, \n . 6.2e-05, 0.000667, 0.003733, 0.000312, 0.000127, 0.007677, 0, \n . 0.000333, 0.000333, 0.003232, 0, 0.005926, 0.025253, 0.018923, \n . 0.002276, 0.000533, 0.008067, 6.7e-05, 0.000269, 0, 0, 0.02391, \n . 0.002467, 0, 0, 0, 0, 2e-04, 0.000333, 0.00202, 0, 0, 0.000267, \n . 0.0018, 6.7e-05, 0.0016, 0.000135, 0.000135, 0.001067, 0.010199, \n . 0.000133, 0.008754, 0.002896, 0, 0, 0.005333, 5.9e-05, 0.002262, \n . 0.004762, 0.001133, 0.000337, 0, 0.000533, 0, 0, 0.000133, 0.000933, \n . 0.001306, 0.010635, 2e-04, 0.000333, 0.002133, 0.00043, 0.001333, \n . 0, 0.009657, 0.006533, 0.001133, 0.00404, 0.001728, 0.002492, \n . 0.001212, 0, 0.005859, 0.00087, 0, 0.001616, 0.000539, 0.004175, \n . 0.000476, 6.7e-05, 0.000227, 0, 7.9e-05, 0, 0, 0.001649, 0.025149, \n . 0.00532, 6.7e-05, 0.00101, 6.7e-05, 6.7e-05, 0.004261, 0.000444, \n . 0.000667, 0.007, 0.004916, 0.000539, 0, 0.001773, 0.000467, 0, \n . 0.000267, 0.000539, 0, 0.000133, 0, 0, 0.000347, 0.001497, 0, \n . 0.00101, 0.005133, 0.001953, 0.000261, 0.000556, 0.000922, 0.012867, \n . 0.018867, 0.001825, 0, 0.001497, 0.001133, 0.000943, 0, 0, 0, \n . 0.008067, 0, 6.7e-05, 0.000667, 0.000714, 0.001733, 0, 0.001, \n . 0.002733, 0.002092, 0.00179, 0.007811, 0.034067, 2e-04, 2e-04, \n . 0.002733, 0, 0.007033, 0.001077, 0.0064, 0.000906, 0.014141, \n . 0.000667, 0, 0.003667, 0.003869, 0.000133, 0.000133, 0, 0.001064, \n . 0.000337, 0, 0.000733, 2e-04, 0.000667, 0, 0.000867, 0.0058, \n . 0.004646, 0, 0, 0.0026, 0.001733, 0.005545, 0.002559, 0, 0.003165, \n . 0.000202, 0.007867, 0.011, 0.0282, 0.0066, 0.000533, 0, 0.001267, \n . 6.7e-05, 0, 6.7e-05, 0.000733, 2e-04, 0, 0, 0.000673, 0, 6.7e-05, \n . 0.000404, 0.012133, 0.000135, 0, 6.7e-05, 0.000667, 2e-04, 0.000533, \n . 0.001933, 0.006867, 0.005533, 0.000533, 0, 0.001667, 0.002424, \n . 0.001436, 6.7e-05, 0.002761, 0.004561, 0.012391, 0.002741, 0.004112, \n . 0.000267, 6.7e-05, 0, 0.00101, 0, 0, 0, 0.001503, 0, 0, 0, 0, \n . 6e-04, 2e-04, 2e-04, 2e-04, 6e-05, 0, 0, 0.002222, 0.00303, 0.001077, \n . 0, 0, 0.001077, 0.000135, 0.000533, 0.000667, 0.000404, 0.000471, \n . 0.007407, 0, 0.000606, 0.000333, 0, 0, 0.000267, 6.7e-05, 0.0024, \n . 0, 0, 0, 0.001, 6.7e-05, 8e-04, 0, 0, 0, 0.004, 0.001, 0, 0.000556, \n . 0, 8e-04, 0.000267, 0.000267, 0, 6.7e-05, 0, 0, 0, 0.000196, \n . 0, 0, 0, 0.000404, 0.001414, 0, 0, 6.7e-05, 0, 0.006933, 0, 0, \n . 0.000333, 6.7e-05, 0, 0, 0.000337, 0.000135, 0, 0, 0, 0, 0.000133, \n . 0.003133, 0.005067, 0, 0.002063, 0.014933, 0, 0, 0.001279, 0, \n . 0.0024, 0.000119, 0, 0.001652, 0.002476, 0.003614, 0, 0, 0, 6.7e-05, \n . 0, 0.000269, 0, 0.007733, 0, 0.005185, 0.000875, 2e-04, 6.6e-05, \n . 0, 0, 0, 0, 0.002798, 0, 0, 0, 0.000867, 0, 0, 0.000867, 0.0018, \n . 6.7e-05, 0, 0, 0, 0, 0, 0.009133, 0.000471, 0.001279, 0, 0.000467, \n . 0.000133, 0, 2e-04, 6.7e-05, 0, 0, 0, 0, 0.000202, 0, 0, 0, 0.00014, \n . 0, 6e-04, 2e-04, 0.000269, 0, 0.007733, 0, 0.0014, 0, 0, 0.001208, \n . 0, 6.7e-05, 0, 0, 0, 0, 6.7e-05, 0, 0, 0, 0.000215, 0.000135, \n . 0.000202, 0, 0.000198, 0, 0.000259, 0, 4e-04, 0, 0, 0.000275, \n . 0, 0, 0, 0, 0, 0, 0, 0.00862, 0.001006, 0.000238, 0.000264, 0.001343, \n . 0.002, 0.004533, 0, 0.003232, 0, 0.000267, 0, 0, 6.7e-05, 0, \n . 0, 6.7e-05, 0.012303, 0, 0, 0, 0, 0.002857, 0, 0, 6e-05, 0, 6.7e-05, \n . 0, 0, 0.000238, 6.7e-05, 0, 0, 0.001, 0.000267, 0, 6.7e-05, 0.000533, \n . 0.001429, 6.7e-05, 0.000667, 0, 6.7e-05, 0, 6.7e-05, 0, 0, 0, \n . 4e-04, 0, 0, 0.000267, 0, 0.002733, 0, 0, 6.4e-05, 0, 0, 0.000667, \n . 0.000943, 0.000312, 0, 0.002733, 0, 0.002537, 0.000133, 0.0026, \n . 0.000133, 0, 0, 0, 0.000721, 0, 0.000111, 0.000333, 0, 0, 0, \n . 4e-04, 0.002694, 0.000471, 0.000471, 6.7e-05, 0, 6.7e-05, 0.000135, \n . 6.7e-05, 0, 0, 0, 0, 0.006067, 0.00014, 6.7e-05, 0, 0.004226, \n . 0.004667, 0, 0, 0.000471, 0.000673, 0, 0.000333, 0, 0, 0, 0, \n . 0, 2e-04, 0, 0.000135, 0, 0.002288, 0, 5.5e-05, 0, 0, 0.000667, \n . 0, 0, 9.1e-05, 0, 0, 0, 0, 0, 0.017, 0.001077, 0, 0, 8e-04, 0.00028, \n . 0, 0.002088, 0, 0, 0.001404, 0, 0, 0, 0.000133, 0.001133, 0, \n . 0, 2e-04, 4e-04, 0.000733, 0.000467, 0, 0, 0, 0, 0, 0, 0.015733, \n . 0.001818, 0.005051, 0, 6.7e-05, 0.002061, 6e-05, 0, 0, 0.002133, \n . 0, 0, 0.000337, 0, 0.000533, 0, 0.007394, 0, 0, 0, 0, 0, 0, 0, \n . 0, 0.001369, 0.002761, 0.004206, 0, 0.002467, 8e-04, 0, 0.001, \n . 0.000267, 0, 0, 0.000875, 0, 0, 6.7e-05, 0.000698, 0.001077, \n . 0.000733, 0.000357, 0.0024, 0, 0.0034, 0.000119, 0.000275, 0, \n . 0, 8e-04, 0.000539, 0.001067, 0, 0, 0, 0.000333, 0, 2e-04, 0.000133, \n . 0.001145, 0, 0, 0.007067, 0.000714, 4.9e-05, 0, 0, 0, 0, 0, 0, \n . 0, 0, 0, 0.000238, 0.002467, 0.008235, 0.002603, 0, 0.002533, \n . 0.000467, 0.000133, 0, 0.00019, 0.000476, 0, 0, 0, 0, 0, 0.000733, \n . 0.000202, 0, 0.001081, 0, 5.6e-05, 0, 0, 6.7e-05, 0, 0, 0.002467, \n . 0.0014, 0.001953, 0, 0, 0.000867, 0.002667, 0, 0.000333, 0, 0.000706, \n . 0, 0, 0, 0.0018, 0, 0.003267, 0, 6.7e-05, 0, 0.000133, 0.001481, \n . 0.000471, 0.001333, 0, 0, 0, 0, 0, 0, 0, 0.00059, 0.000269, 0, \n . 0.000132, 0, 0, 0, 0, 0, 0, 6.7e-05, 0, 0, 0.001733, 0, 0, 0, \n . 0.000971, 0, 0, 0.001597, 0, 8e-04, 0.000667, 0, 0, 0, 0.000267, \n . 0, 0.00404, 0, 0.000242, 6.7e-05, 6.7e-05, 0.000267, 0, 0, 0, \n . 0.000267, 6e-04, 0, 0, 0.000533, 0.000347, 0.000267, 6.7e-05, \n . 0.000337, 0.000875, 0.000135, 0.005067, 0, 0.000133, 0.000467, \n . 6.7e-05, 0, 0, 0, 0.001176, 0, 0, 0, 0, 0, 0, 0, 0.001481, 0, \n . 0, 0.000135, 0.0024, 0, 0.001067, 0, 0, 0, 6.7e-05, 0, 0.000645, \n . 6.7e-05, 0, 0.000125, 0, 0, 0, 0, 0, 0, 0, 0.000133, 0, 0.000533, \n . 0, 0, 0, 0, 0, 4e-04, 0.000133, 0, 0.000539, 0, 6.7e-05, 2e-04, \n . 0.000269, 0, 0, 6.7e-05, 0, 0, 6.7e-05, 6e-04, 0.000222, 0.01037, \n . 6e-05, 0, 0.000467, 4e-04, 6.7e-05, 0.000133, 0.000476, 0, 0, \n . 0.001481, 0.000471, 0.000178, 0, 0, 0, 0, 0.005267, 6.9e-05, \n . 0.000333, 0, 0.001267, 0, 0, 0, 0, 0.001598, 6.7e-05, 6.7e-05, \n . 6.7e-05, 0, 0, 0, 0.000133, 4e-04, 2e-04, 0.000133, 0, 0, 0.005133, \n . 0, 0, 0.000733, 0, 0, 0, 0, 0.002133, 0.000867, 0.000539, 0, \n . 0, 0, 0, 0.00033, 0, 0, 0.000533, 0.001, 0.000952, 0.000206, \n . 0.010833, 0, 0, 0.000202, 0, 0.006106, 6.7e-05, 0, 2e-04, 0, \n . 0, 0.000202, 6.7e-05, 0, 0, 0, 0.000943, 0, 6.7e-05, 0.000135, \n . 6.7e-05, 0, 0.000733, 0.012067, 0.003165, 0, 0, 0, 0, 0, 0, 0.002857, \n . 0.003333, 0, 0.000797, 0.000408, 0, 0.000518, 0, 0, 0.000202, \n . 0, 0.002067, 6e-04, 0, 6.7e-05, 0, 0, 0.001414, 0.001667, 4e-04, \n . 0, 0.0028, 0.000933, 6.7e-05, 8e-04, 0, 0, 0, 0, 0.000133, 0.00229, \n . 0.00159, 6.7e-05, 6.7e-05, 0.000269, 6.7e-05, 0.000133, 0, 0.001467, \n . 0, 0, 5.6e-05, 0, 0.000599, 0, 6.7e-05, 2e-04, 0, 0, 0, 0, 0, \n . 0.000337, 0, 2e-04, 6.7e-05, 0.001145, 0, 0.002492, 6.7e-05, \n . 0.014949, 0, 4e-04, 6e-04, 0, 0, 0, 0, 0.006603, 0.001867, 0, \n . 0, 0, 0, 0.000133, 0, 0, 0, 0, 6.7e-05, 0.000933, 0, 0.000333, \n . 0, 0, 0.000133, 0.007711, 0, 0.000269, 0.000269, 0, 0, 0.002067, \n . 0, 0, 6e-05, 0, 0, 0, 0.000333, 0, 0, 6.7e-05, 0, 0.000137, 0.000317, \n . 0, 0, 0, 7.2e-05, 0.000133, 0, 0.001495, 4e-04, 0.000533, 0.003636, \n . 0.001481, 0.00101, 0, 0, 0.000875, 0.00029, 0, 0.000202, 0, 0.001145, \n . 0, 0, 0, 0, 0, 0, 0, 0.00043, 0.003848, 0.000875, 0, 0.000875, \n . 0, 0, 0, 0, 6.7e-05, 0.004133, 0.000202, 0, 0, 0, 0, 0, 0, 6.7e-05, \n . 0, 0, 0, 0, 6.9e-05, 0.001293, 0, 6.7e-05, 0.005067, 0.001481, \n . 6.5e-05, 5.6e-05, 0.000355, 0.0034, 2e-04, 0.000794, 0, 0, 0.001067, \n . 0.000673, 0, 0, 0, 0.004933, 0, 0, 6e-04, 0, 6e-04, 0, 0.000933, \n . 0, 0, 0.001655, 0.00101, 0.000333, 0, 0.000133, 0.0014, 0, 0, \n . 0, 0.002489, 0.000647, 0.000875, 0, 0, 0.001133, 0, 0, 0, 0, \n . 0, 0, 0, 0, 0.000133, 0, 0, 2e-04, 0, 0, 0, 0, 0.000133, 0, 0.001371, \n . 6.7e-05, 0, 0.001414, 0, 6.7e-05, 0.009083, 0.0216, 0.001267, \n . 0, 0, 0, 0, 0, 0, 6e-04, 6.7e-05, 0, 0, 0, 0, 6.7e-05, 0.000337, \n . 0.003, 0, 0, 0, 0.000133, 2e-04, 6.7e-05, 0, 0.006067, 0, 0, \n . 0, 0.000533, 0, 0.000615, 0, 0, 7e-05, 0), .Dim = c(946L, 9L), .Dimnames = list(\n .     c(\"1\", \"2\", \"3\", \"4\", \"5\", \"6\", \"7\", \"8\", \"9\", \"10\", \"11\", \n .     \"12\", \"13\", \"14\", \"15\", \"16\", \"17\", \"18\", \"19\", \"20\", \"21\", \n .     \"22\", \"23\", \"24\", \"25\", \"26\", \"27\", \"28\", \"29\", \"30\", \"31\", \n .     \"32\", \"33\", \"34\", \"35\", \"36\", \"37\", \"38\", \"39\", \"40\", \"41\", \n .     \"42\", \"43\", \"44\", \"45\", \"46\", \"47\", \"48\", \"49\", \"50\", \"51\", \n .     \"52\", \"53\", \"54\", \"55\", \"56\", \"57\", \"58\", \"59\", \"60\", \"61\", \n .     \"62\", \"63\", \"64\", \"65\", \"66\", \"67\", \"68\", \"69\", \"70\", \"71\", \n .     \"72\", \"73\", \"74\", \"75\", \"76\", \"77\", \"78\", \"79\", \"80\", \"81\", \n .     \"82\", \"83\", \"84\", \"85\", \"86\", \"87\", \"88\", \"89\", \"90\", \"91\", \n .     \"92\", \"93\", \"94\", \"95\", \"96\", \"97\", \"98\", \"99\", \"100\", \"101\", \n .     \"102\", \"103\", \"104\", \"105\", \"106\", \"107\", \"108\", \"109\", \"110\", \n .     \"111\", \"112\", \"113\", \"114\", \"115\", \"116\", \"117\", \"118\", \"119\", \n .     \"120\", \"121\", \"122\", \"123\", \"124\", \"125\", \"126\", \"127\", \"128\", \n .     \"129\", \"130\", \"131\", \"132\", \"133\", \"134\", \"135\", \"136\", \"137\", \n .     \"138\", \"139\", \"140\", \"141\", \"142\", \"143\", \"144\", \"145\", \"146\", \n .     \"147\", \"148\", \"149\", \"150\", \"151\", \"152\", \"153\", \"154\", \"155\", \n .     \"156\", \"157\", \"158\", \"159\", \"160\", \"161\", \"162\", \"163\", \"164\", \n .     \"165\", \"166\", \"167\", \"168\", \"169\", \"170\", \"171\", \"172\", \"173\", \n .     \"174\", \"175\", \"176\", \"177\", \"178\", \"179\", \"180\", \"181\", \"182\", \n .     \"183\", \"184\", \"185\", \"186\", \"187\", \"188\", \"189\", \"190\", \"191\", \n .     \"192\", \"193\", \"194\", \"195\", \"196\", \"197\", \"198\", \"199\", \"200\", \n .     \"201\", \"202\", \"203\", \"204\", \"205\", \"206\", \"207\", \"208\", \"209\", \n .     \"210\", \"211\", \"212\", \"213\", \"214\", \"215\", \"216\", \"217\", \"218\", \n .     \"219\", \"220\", \"221\", \"222\", \"223\", \"224\", \"225\", \"226\", \"227\", \n .     \"228\", \"229\", \"230\", \"231\", \"232\", \"233\", \"234\", \"235\", \"236\", \n .     \"237\", \"238\", \"239\", \"240\", \"241\", \"242\", \"243\", \"244\", \"245\", \n .     \"246\", \"247\", \"248\", \"249\", \"250\", \"251\", \"252\", \"253\", \"254\", \n .     \"255\", \"256\", \"257\", \"258\", \"259\", \"260\", \"261\", \"262\", \"263\", \n .     \"264\", \"265\", \"266\", \"267\", \"268\", \"269\", \"270\", \"271\", \"272\", \n .     \"273\", \"274\", \"275\", \"276\", \"277\", \"278\", \"279\", \"280\", \"281\", \n .     \"282\", \"283\", \"284\", \"285\", \"286\", \"287\", \"288\", \"289\", \"290\", \n .     \"291\", \"292\", \"293\", \"294\", \"295\", \"296\", \"297\", \"298\", \"299\", \n .     \"300\", \"301\", \"302\", \"303\", \"304\", \"305\", \"306\", \"307\", \"308\", \n .     \"309\", \"310\", \"311\", \"312\", \"313\", \"314\", \"315\", \"316\", \"317\", \n .     \"318\", \"319\", \"320\", \"321\", \"322\", \"323\", \"324\", \"325\", \"326\", \n .     \"327\", \"328\", \"329\", \"330\", \"331\", \"332\", \"333\", \"334\", \"335\", \n .     \"336\", \"337\", \"338\", \"339\", \"340\", \"341\", \"342\", \"343\", \"344\", \n .     \"345\", \"346\", \"347\", \"348\", \"349\", \"350\", \"351\", \"352\", \"353\", \n .     \"354\", \"355\", \"356\", \"357\", \"358\", \"359\", \"360\", \"361\", \"362\", \n .     \"363\", \"364\", \"365\", \"366\", \"367\", \"368\", \"369\", \"370\", \"371\", \n .     \"372\", \"373\", \"374\", \"375\", \"376\", \"377\", \"378\", \"379\", \"380\", \n .     \"381\", \"382\", \"383\", \"384\", \"385\", \"386\", \"387\", \"388\", \"389\", \n .     \"390\", \"391\", \"392\", \"393\", \"394\", \"395\", \"396\", \"397\", \"398\", \n .     \"399\", \"400\", \"401\", \"402\", \"403\", \"404\", \"405\", \"406\", \"407\", \n .     \"408\", \"409\", \"410\", \"411\", \"412\", \"413\", \"414\", \"415\", \"416\", \n .     \"417\", \"418\", \"419\", \"420\", \"421\", \"422\", \"423\", \"424\", \"425\", \n .     \"426\", \"427\", \"428\", \"429\", \"430\", \"431\", \"432\", \"433\", \"434\", \n .     \"435\", \"436\", \"437\", \"438\", \"439\", \"440\", \"441\", \"442\", \"443\", \n .     \"444\", \"445\", \"446\", \"447\", \"448\", \"449\", \"450\", \"451\", \"452\", \n .     \"453\", \"454\", \"455\", \"456\", \"457\", \"458\", \"459\", \"460\", \"461\", \n .     \"462\", \"463\", \"464\", \"465\", \"466\", \"467\", \"468\", \"469\", \"470\", \n .     \"471\", \"472\", \"473\", \"474\", \"475\", \"476\", \"477\", \"478\", \"479\", \n .     \"480\", \"481\", \"482\", \"483\", \"484\", \"485\", \"486\", \"487\", \"488\", \n .     \"489\", \"490\", \"491\", \"492\", \"493\", \"494\", \"495\", \"496\", \"497\", \n .     \"498\", \"499\", \"500\", \"501\", \"502\", \"503\", \"504\", \"505\", \"506\", \n .     \"507\", \"508\", \"509\", \"510\", \"511\", \"512\", \"513\", \"514\", \"515\", \n .     \"516\", \"517\", \"518\", \"519\", \"520\", \"521\", \"522\", \"523\", \"524\", \n .     \"525\", \"526\", \"527\", \"528\", \"529\", \"530\", \"531\", \"532\", \"533\", \n .     \"534\", \"535\", \"536\", \"537\", \"538\", \"539\", \"540\", \"541\", \"542\", \n .     \"543\", \"544\", \"545\", \"546\", \"547\", \"548\", \"549\", \"550\", \"551\", \n .     \"552\", \"553\", \"554\", \"555\", \"556\", \"557\", \"558\", \"559\", \"560\", \n .     \"561\", \"562\", \"563\", \"564\", \"565\", \"566\", \"567\", \"568\", \"569\", \n .     \"570\", \"571\", \"572\", \"573\", \"574\", \"575\", \"576\", \"577\", \"578\", \n .     \"579\", \"580\", \"581\", \"582\", \"583\", \"584\", \"585\", \"586\", \"587\", \n .     \"588\", \"589\", \"590\", \"591\", \"592\", \"593\", \"594\", \"595\", \"596\", \n .     \"597\", \"598\", \"599\", \"600\", \"601\", \"602\", \"603\", \"604\", \"605\", \n .     \"606\", \"607\", \"608\", \"609\", \"610\", \"611\", \"612\", \"613\", \"614\", \n .     \"615\", \"616\", \"617\", \"618\", \"619\", \"620\", \"621\", \"622\", \"623\", \n .     \"624\", \"625\", \"626\", \"627\", \"628\", \"629\", \"630\", \"631\", \"632\", \n .     \"633\", \"634\", \"635\", \"636\", \"637\", \"638\", \"639\", \"640\", \"641\", \n .     \"642\", \"643\", \"644\", \"645\", \"646\", \"647\", \"648\", \"649\", \"650\", \n .     \"651\", \"652\", \"653\", \"654\", \"655\", \"656\", \"657\", \"658\", \"659\", \n .     \"660\", \"661\", \"662\", \"663\", \"664\", \"665\", \"666\", \"667\", \"668\", \n .     \"669\", \"670\", \"671\", \"672\", \"673\", \"674\", \"675\", \"676\", \"677\", \n .     \"678\", \"679\", \"680\", \"681\", \"682\", \"683\", \"684\", \"685\", \"686\", \n .     \"687\", \"688\", \"689\", \"690\", \"691\", \"692\", \"693\", \"694\", \"695\", \n .     \"696\", \"697\", \"698\", \"699\", \"700\", \"701\", \"702\", \"703\", \"704\", \n .     \"705\", \"706\", \"707\", \"708\", \"709\", \"710\", \"711\", \"712\", \"713\", \n .     \"714\", \"715\", \"716\", \"717\", \"718\", \"719\", \"720\", \"721\", \"722\", \n .     \"723\", \"724\", \"725\", \"726\", \"727\", \"728\", \"729\", \"730\", \"731\", \n .     \"732\", \"733\", \"734\", \"735\", \"736\", \"737\", \"738\", \"739\", \"740\", \n .     \"741\", \"742\", \"743\", \"744\", \"745\", \"746\", \"747\", \"748\", \"749\", \n .     \"750\", \"751\", \"752\", \"753\", \"754\", \"755\", \"756\", \"757\", \"758\", \n .     \"759\", \"760\", \"761\", \"762\", \"763\", \"764\", \"765\", \"766\", \"767\", \n .     \"768\", \"769\", \"770\", \"771\", \"772\", \"773\", \"774\", \"775\", \"776\", \n .     \"777\", \"778\", \"779\", \"780\", \"781\", \"782\", \"783\", \"784\", \"785\", \n .     \"786\", \"787\", \"788\", \"789\", \"790\", \"791\", \"792\", \"793\", \"794\", \n .     \"795\", \"796\", \"797\", \"798\", \"799\", \"800\", \"801\", \"802\", \"803\", \n .     \"804\", \"805\", \"806\", \"807\", \"808\", \"809\", \"810\", \"811\", \"812\", \n .     \"813\", \"814\", \"815\", \"816\", \"817\", \"818\", \"819\", \"820\", \"821\", \n .     \"822\", \"823\", \"824\", \"825\", \"826\", \"827\", \"828\", \"829\", \"830\", \n .     \"831\", \"832\", \"833\", \"834\", \"835\", \"836\", \"837\", \"838\", \"839\", \n .     \"840\", \"841\", \"842\", \"843\", \"844\", \"845\", \"846\", \"847\", \"848\", \n .     \"849\", \"850\", \"851\", \"852\", \"853\", \"854\", \"855\", \"856\", \"857\", \n .     \"858\", \"859\", \"860\", \"861\", \"862\", \"863\", \"864\", \"865\", \"866\", \n .     \"867\", \"868\", \"869\", \"870\", \"871\", \"872\", \"873\", \"874\", \"875\", \n .     \"876\", \"877\", \"878\", \"879\", \"880\", \"881\", \"882\", \"883\", \"884\", \n .     \"885\", \"886\", \"887\", \"888\", \"889\", \"890\", \"891\", \"892\", \"893\", \n .     \"894\", \"895\", \"896\", \"897\", \"898\", \"899\", \"900\", \"901\", \"902\", \n .     \"903\", \"904\", \"905\", \"906\", \"907\", \"908\", \"909\", \"910\", \"911\", \n .     \"912\", \"913\", \"914\", \"915\", \"916\", \"917\", \"918\", \"919\", \"920\", \n .     \"921\", \"922\", \"923\", \"924\", \"925\", \"926\", \"927\", \"928\", \"929\", \n .     \"930\", \"931\", \"932\", \"933\", \"934\", \"935\", \"936\", \"937\", \"938\", \n .     \"939\", \"940\", \"941\", \"942\", \"943\", \"944\", \"945\", \"946\"), \n .     c(\"(Intercept)\", \"Color1\", \"Color2\", \"Color3\", \"Color4\", \n .     \"Color5\", \"Color6\", \"Color7\", \"Color8\")), assign = 0:8), \n .     y = structure(c(2.77258872223978, 2.77258872223978, 3.40119738166216, \n .     2.56494935746154, 2.77258872223978, 3.66356164612965, 3.25809653802148, \n .     2.83321334405622, 3.04452243772342, 4.14313472639153, 0.693147180559945, \n .     2.63905732961526, 2.70805020110221, 2.89037175789616, 3.13549421592915, \n .     3.29583686600433, 1.38629436111989, 2.89037175789616, 3.40119738166216, \n .     3.43398720448515, 1.09861228866811, 3.52636052461616, 1.09861228866811, \n .     1.6094379124341, 1.6094379124341, 0.693147180559945, 2.70805020110221, \n .     2.99573227355399, 1.94591014905531, 3.40119738166216, 3.04452243772342, \n .     3.52636052461616, 1.6094379124341, 1.79175946922805, 2.70805020110221, \n .     2.99573227355399, 3.46573590279973, 3.04452243772342, 3.29583686600433, \n .     3.3322045101752, 3.2188758248682, 1.6094379124341, 3.13549421592915, \n .     2.30258509299405, 3.13549421592915, 3.09104245335832, 3.52636052461616, \n .     2.89037175789616, 2.39789527279837, 3.04452243772342, 2.83321334405622, \n .     3.09104245335832, 2.77258872223978, 1.09861228866811, 2.39789527279837, \n .     1.6094379124341, 3.58351893845611, 1.38629436111989, 2.484906649788, \n .     3.29583686600433, 3.8286413964891, 3.09104245335832, 2.70805020110221, \n .     3.25809653802148, 2.30258509299405, 4.55387689160054, 1.94591014905531, \n .     3.40119738166216, 4.20469261939097, 2.94443897916644, 1.09861228866811, \n .     1.6094379124341, 2.94443897916644, 2.83321334405622, 4.57471097850338, \n .     3.36729582998647, 2.56494935746154, 2.39789527279837, 3.25809653802148, \n .     2.99573227355399, 2.94443897916644, 3.40119738166216, 2.99573227355399, \n .     0.693147180559945, 2.77258872223978, 2.94443897916644, 2.30258509299405, \n .     3.87120101090789, 3.89182029811063, 2.30258509299405, 2.77258872223978, \n .     3.49650756146648, 3.55534806148941, 1.38629436111989, 3.2188758248682, \n .     2.484906649788, 1.38629436111989, 2.99573227355399, 1.09861228866811, \n .     3.2188758248682, 3.13549421592915, 3.43398720448515, 2.19722457733622, \n .     3.25809653802148, 3.29583686600433, 1.6094379124341, 1.09861228866811, \n .     2.77258872223978, 3.76120011569356, 1.09861228866811, 2.94443897916644, \n .     3.29583686600433, 2.39789527279837, 1.09861228866811, 2.484906649788, \n .     3.25809653802148, 3.13549421592915, 2.39789527279837, 3.09104245335832, \n .     2.77258872223978, 3.49650756146648, 2.77258872223978, 2.70805020110221, \n .     3.04452243772342, 2.19722457733622, 2.99573227355399, 3.40119738166216, \n .     3.29583686600433, 3.43398720448515, 3.04452243772342, 3.52636052461616, \n .     3.49650756146648, 2.99573227355399, 2.99573227355399, 1.6094379124341, \n .     2.77258872223978, 3.13549421592915, 3.04452243772342, 2.94443897916644, \n .     1.38629436111989, 2.77258872223978, 1.94591014905531, 1.79175946922805, \n .     2.39789527279837, 1.79175946922805, 3.29583686600433, 3.17805383034795, \n .     3.46573590279973, 3.58351893845611, 2.63905732961526, 3.13549421592915, \n .     3.04452243772342, 1.38629436111989, 3.17805383034795, 2.99573227355399, \n .     3.04452243772342, 2.484906649788, 2.63905732961526, 2.39789527279837, \n .     3.2188758248682, 2.484906649788, 2.63905732961526, 2.39789527279837, \n .     3.2188758248682, 2.484906649788, 1.09861228866811, 0.693147180559945, \n .     3.09104245335832, 2.83321334405622, 4.07753744390572, 1.94591014905531, \n .     3.09104245335832, 3.09104245335832, 1.38629436111989, 3.09104245335832, \n .     2.484906649788, 3.46573590279973, 2.89037175789616, 3.55534806148941, \n .     0.693147180559945, 2.83321334405622, 0.693147180559945, 0.693147180559945, \n .     3.13549421592915, 3.95124371858143, 3.49650756146648, 3.89182029811063, \n .     3.40119738166216, 1.6094379124341, 2.94443897916644, 2.83321334405622, \n .     4.17438726989564, 3.29583686600433, 3.17805383034795, 3.09104245335832, \n .     3.52636052461616, 2.484906649788, 1.09861228866811, 3.04452243772342, \n .     1.6094379124341, 3.36729582998647, 2.07944154167984, 3.17805383034795, \n .     2.94443897916644, 2.39789527279837, 2.99573227355399, 3.04452243772342, \n .     0.693147180559945, 3.52636052461616, 3.61091791264422, 3.25809653802148, \n .     1.94591014905531, 2.07944154167984, 3.3322045101752, 2.484906649788, \n .     3.66356164612965, 3.46573590279973, 2.99573227355399, 2.99573227355399, \n .     2.89037175789616, 3.61091791264422, 2.39789527279837, 3.46573590279973, \n .     3.25809653802148, 2.89037175789616, 3.58351893845611, 1.6094379124341, \n .     3.36729582998647, 3.68887945411394, 2.70805020110221, 3.55534806148941, \n .     4.04305126783455, 3.17805383034795, 3.04452243772342, 3.04452243772342, \n .     3.17805383034795, 1.6094379124341, 0, 2.99573227355399, 3.29583686600433, \n .     2.07944154167984, 0, 3.73766961828337, 3.76120011569356, \n .     2.07944154167984, 3.09104245335832, 1.79175946922805, 1.6094379124341, \n .     3.04452243772342, 2.56494935746154, 2.70805020110221, 2.89037175789616, \n .     3.3322045101752, 3.58351893845611, 3.09104245335832, 3.04452243772342, \n .     3.43398720448515, 3.43398720448515, 2.99573227355399, 1.94591014905531, \n .     3.25809653802148, 3.25809653802148, 3.29583686600433, 2.89037175789616, \n .     1.38629436111989, 2.99573227355399, 4.35670882668959, 3.36729582998647, \n .     1.79175946922805, 1.09861228866811, 3.36729582998647, 2.56494935746154, \n .     2.99573227355399, 3.04452243772342, 3.3322045101752, 0.693147180559945, \n .     1.79175946922805, 2.07944154167984, 2.63905732961526, 0, \n .     3.17805383034795, 3.66356164612965, 2.83321334405622, 1.6094379124341, \n .     1.79175946922805, 3.66356164612965, 4.44265125649032, 4.52178857704904, \n .     2.484906649788, 1.09861228866811, 2.83321334405622, 1.09861228866811, \n .     3.55534806148941, 3.2188758248682, 3.3322045101752, 1.6094379124341, \n .     3.3322045101752, 2.19722457733622, 2.77258872223978, 0, 3.36729582998647, \n .     2.63905732961526, 3.17805383034795, 2.70805020110221, 2.07944154167984, \n .     3.2188758248682, 1.6094379124341, 3.40119738166216, 3.17805383034795, \n .     4.0943445622221, 4.40671924726425, 3.2188758248682, 3.04452243772342, \n .     2.63905732961526, 1.09861228866811, 3.2188758248682, 3.43398720448515, \n .     4.36944785246702, 3.29583686600433, 3.25809653802148, 4.30406509320417, \n .     2.56494935746154, 3.2188758248682, 2.94443897916644, 4.14313472639153, \n .     3.58351893845611, 3.09104245335832, 3.66356164612965, 3.29583686600433, \n .     0, 3.80666248977032, 2.30258509299405, 2.94443897916644, \n .     3.52636052461616, 3.52636052461616, 3.52636052461616, 2.77258872223978, \n .     2.19722457733622, 3.13549421592915, 3.04452243772342, 3.63758615972639, \n .     3.25809653802148, 2.94443897916644, 3.40119738166216, 1.79175946922805, \n .     3.04452243772342, 2.70805020110221, 3.13549421592915, 3.25809653802148, \n .     1.6094379124341, 0.693147180559945, 3.09104245335832, 3.17805383034795, \n .     3.25809653802148, 2.70805020110221, 1.09861228866811, 3.40119738166216, \n .     1.94591014905531, 1.09861228866811, 1.38629436111989, 3.2188758248682, \n .     2.70805020110221, 3.46573590279973, 2.07944154167984, 3.68887945411394, \n .     3.17805383034795, 3.2188758248682, 3.13549421592915, 2.39789527279837, \n .     3.36729582998647, 3.25809653802148, 2.70805020110221, 3.09104245335832, \n .     3.29583686600433, 3.09104245335832, 2.99573227355399, 2.56494935746154, \n .     3.78418963391826, 3.36729582998647, 3.36729582998647, 2.83321334405622, \n .     3.2188758248682, 4.12713438504509, 4.55387689160054, 2.83321334405622, \n .     3.49650756146648, 2.39789527279837, 0, 0.693147180559945, \n .     2.94443897916644, 4.00733318523247, 1.38629436111989, 3.04452243772342, \n .     2.99573227355399, 3.04452243772342, 0.693147180559945, 3.04452243772342, \n .     3.3322045101752, 1.38629436111989, 2.56494935746154, 2.39789527279837, \n .     2.94443897916644, 2.94443897916644, 2.94443897916644, 1.6094379124341, \n .     3.43398720448515, 2.77258872223978, 3.17805383034795, 3.17805383034795, \n .     1.94591014905531, 3.46573590279973, 3.71357206670431, 2.77258872223978, \n .     2.89037175789616, 3.09104245335832, 3.09104245335832, 2.99573227355399, \n .     4.00733318523247, 1.79175946922805, 3.43398720448515, 1.09861228866811, \n .     2.99573227355399, 4.57471097850338, 3.43398720448515, 2.484906649788, \n .     0.693147180559945, 2.484906649788, 0, 3.17805383034795, 3.17805383034795, \n .     2.89037175789616, 3.25809653802148, 2.30258509299405, 4.47733681447821, \n .     2.89037175789616, 3.66356164612965, 2.70805020110221, 2.89037175789616, \n .     4.15888308335967, 3.52636052461616, 2.70805020110221, 2.83321334405622, \n .     4.53259949315326, 3.2188758248682, 3.80666248977032, 2.77258872223978, \n .     2.94443897916644, 3.09104245335832, 4.46590811865458, 2.63905732961526, \n .     2.07944154167984, 3.78418963391826, 3.52636052461616, 2.63905732961526, \n .     3.17805383034795, 2.77258872223978, 3.17805383034795, 3.25809653802148, \n .     2.77258872223978, 3.52636052461616, 3.29583686600433, 3.04452243772342, \n .     2.63905732961526, 2.83321334405622, 1.94591014905531, 2.19722457733622, \n .     3.3322045101752, 1.6094379124341, 4.07753744390572, 4.30406509320417, \n .     4.24849524204936, 2.83321334405622, 2.77258872223978, 3.13549421592915, \n .     3.55534806148941, 2.70805020110221, 2.56494935746154, 0.693147180559945, \n .     3.36729582998647, 4.4188406077966, 3.09104245335832, 3.04452243772342, \n .     0.693147180559945, 0.693147180559945, 2.83321334405622, 3.2188758248682, \n .     2.19722457733622, 3.17805383034795, 3.2188758248682, 2.63905732961526, \n .     1.09861228866811, 1.79175946922805, 2.39789527279837, 2.19722457733622, \n .     1.79175946922805, 3.13549421592915, 3.13549421592915, 2.77258872223978, \n .     2.99573227355399, 2.77258872223978, 2.83321334405622, 2.94443897916644, \n .     1.09861228866811, 2.99573227355399, 3.3322045101752, 2.94443897916644, \n .     2.56494935746154, 2.89037175789616, 4.20469261939097, 2.89037175789616, \n .     3.09104245335832, 2.70805020110221, 2.89037175789616, 3.76120011569356, \n .     1.09861228866811, 1.09861228866811, 1.38629436111989, 2.99573227355399, \n .     2.07944154167984, 3.29583686600433, 3.13549421592915, 1.38629436111989, \n .     3.3322045101752, 3.61091791264422, 3.73766961828337, 3.89182029811063, \n .     3.40119738166216, 0.693147180559945, 0.693147180559945, 4.07753744390572, \n .     3.36729582998647, 0.693147180559945, 1.6094379124341, 3.13549421592915, \n .     3.29583686600433, 1.79175946922805, 1.6094379124341, 2.39789527279837, \n .     1.94591014905531, 2.56494935746154, 2.19722457733622, 2.30258509299405, \n .     1.6094379124341, 2.99573227355399, 3.09104245335832, 3.52636052461616, \n .     2.89037175789616, 2.94443897916644, 1.09861228866811, 1.09861228866811, \n .     3.85014760171006, 2.94443897916644, 2.83321334405622, 3.3322045101752, \n .     2.484906649788, 3.25809653802148, 3.73766961828337, 3.17805383034795, \n .     3.43398720448515, 3.36729582998647, 3.25809653802148, 1.38629436111989, \n .     1.79175946922805, 3.43398720448515, 1.38629436111989, 2.30258509299405, \n .     0, 3.13549421592915, 3.66356164612965, 2.39789527279837, \n .     3.40119738166216, 3.66356164612965, 1.6094379124341, 2.39789527279837, \n .     2.484906649788, 1.79175946922805, 2.77258872223978, 2.89037175789616, \n .     1.6094379124341, 2.89037175789616, 2.99573227355399, 3.04452243772342, \n .     2.77258872223978, 2.19722457733622, 3.13549421592915, 2.77258872223978, \n .     4.4188406077966, 3.13549421592915, 2.99573227355399, 1.38629436111989, \n .     1.79175946922805, 3.04452243772342, 2.77258872223978, 3.61091791264422, \n .     3.29583686600433, 4.46590811865458, 3.43398720448515, 3.25809653802148, \n .     0, 3.09104245335832, 3.58351893845611, 3.17805383034795, \n .     2.56494935746154, 2.56494935746154, 0, 2.83321334405622, \n .     3.71357206670431, 4.39444915467244, 3.25809653802148, 2.63905732961526, \n .     2.99573227355399, 0.693147180559945, 1.09861228866811, 3.78418963391826, \n .     3.52636052461616, 2.89037175789616, 0.693147180559945, 2.19722457733622, \n .     1.79175946922805, 3.17805383034795, 3.17805383034795, 3.68887945411394, \n .     3.55534806148941, 3.29583686600433, 3.29583686600433, 2.83321334405622, \n .     2.89037175789616, 2.484906649788, 2.70805020110221, 2.63905732961526, \n .     1.6094379124341, 1.94591014905531, 1.38629436111989, 3.87120101090789, \n .     2.77258872223978, 1.6094379124341, 3.55534806148941, 1.79175946922805, \n .     3.17805383034795, 2.83321334405622, 2.63905732961526, 3.40119738166216, \n .     2.83321334405622, 3.87120101090789, 3.55534806148941, 1.09861228866811, \n .     3.49650756146648, 3.29583686600433, 4.29045944114839, 2.63905732961526, \n .     3.04452243772342, 0.693147180559945, 2.77258872223978, 3.09104245335832, \n .     2.77258872223978, 0, 3.25809653802148, 2.07944154167984, \n .     3.2188758248682, 2.56494935746154, 2.56494935746154, 2.39789527279837, \n .     3.13549421592915, 2.89037175789616, 1.6094379124341, 0.693147180559945, \n .     3.40119738166216, 1.38629436111989, 3.25809653802148, 0.693147180559945, \n .     2.19722457733622, 3.17805383034795, 2.83321334405622, 3.29583686600433, \n .     3.43398720448515, 1.79175946922805, 2.63905732961526, 3.46573590279973, \n .     3.52636052461616, 3.17805383034795, 3.3322045101752, 3.25809653802148, \n .     2.94443897916644, 4.34380542185368, 1.38629436111989, 2.83321334405622, \n .     1.38629436111989, 4.15888308335967, 2.77258872223978, 2.19722457733622, \n .     1.79175946922805, 3.13549421592915, 0.693147180559945, 2.99573227355399, \n .     3.3322045101752, 3.43398720448515, 3.09104245335832, 2.94443897916644, \n .     3.04452243772342, 3.29583686600433, 1.6094379124341, 2.83321334405622, \n .     3.46573590279973, 3.2188758248682, 0, 3.89182029811063, 1.09861228866811, \n .     2.89037175789616, 3.13549421592915, 2.83321334405622, 3.68887945411394, \n .     3.40119738166216, 1.6094379124341, 0.693147180559945, 2.484906649788, \n .     2.63905732961526, 2.77258872223978, 3.43398720448515, 2.484906649788, \n .     3.04452243772342, 3.36729582998647, 3.13549421592915, 2.484906649788, \n .     2.99573227355399, 3.13549421592915, 2.89037175789616, 2.484906649788, \n .     0.693147180559945, 3.3322045101752, 3.13549421592915, 1.6094379124341, \n .     1.38629436111989, 3.17805383034795, 3.13549421592915, 3.66356164612965, \n .     3.17805383034795, 2.07944154167984, 2.99573227355399, 3.58351893845611, \n .     3.61091791264422, 3.09104245335832, 4.18965474202643, 3.40119738166216, \n .     3.43398720448515, 3.91202300542815, 3.87120101090789, 2.89037175789616, \n .     2.94443897916644, 3.09104245335832, 2.89037175789616, 4.35670882668959, \n .     3.46573590279973, 2.63905732961526, 3.97029191355212, 3.13549421592915, \n .     3.13549421592915, 4.34380542185368, 2.83321334405622, 3.58351893845611, \n .     2.56494935746154, 2.484906649788, 2.83321334405622, 3.61091791264422, \n .     1.38629436111989, 3.36729582998647, 1.6094379124341, 1.09861228866811, \n .     2.99573227355399, 1.38629436111989, 1.38629436111989, 1.38629436111989, \n .     0.693147180559945, 0.693147180559945, 4.24849524204936, 3.09104245335832, \n .     2.30258509299405, 3.17805383034795, 2.77258872223978, 2.56494935746154, \n .     2.484906649788, 2.39789527279837, 2.56494935746154, 3.04452243772342, \n .     3.3322045101752, 3.40119738166216, 3.36729582998647, 3.2188758248682, \n .     2.94443897916644, 3.17805383034795, 3.46573590279973, 3.40119738166216, \n .     3.46573590279973, 3.95124371858143, 3.09104245335832, 1.38629436111989, \n .     3.29583686600433, 3.36729582998647, 2.99573227355399, 2.56494935746154, \n .     3.40119738166216, 3.17805383034795, 2.63905732961526, 2.83321334405622, \n .     2.89037175789616, 3.04452243772342, 3.13549421592915, 3.2188758248682, \n .     3.25809653802148, 3.13549421592915, 3.13549421592915, 2.30258509299405, \n .     1.6094379124341, 2.30258509299405, 0, 3.13549421592915, 3.36729582998647, \n .     3.58351893845611, 4.21950770517611, 2.19722457733622, 2.83321334405622, \n .     2.99573227355399, 3.2188758248682, 3.09104245335832, 3.04452243772342, \n .     3.13549421592915, 2.19722457733622, 2.39789527279837, 2.07944154167984, \n .     2.99573227355399, 4.18965474202643, 2.99573227355399, 3.36729582998647, \n .     3.43398720448515, 3.09104245335832, 2.63905732961526, 2.63905732961526, \n .     3.25809653802148, 3.2188758248682, 3.61091791264422, 3.43398720448515, \n .     3.66356164612965, 2.94443897916644, 3.25809653802148, 3.36729582998647, \n .     2.19722457733622, 3.36729582998647, 3.2188758248682, 3.63758615972639, \n .     0.693147180559945, 0.693147180559945, 0.693147180559945, \n .     3.13549421592915, 3.25809653802148, 3.76120011569356, 3.58351893845611, \n .     1.6094379124341, 3.2188758248682, 1.79175946922805, 2.19722457733622, \n .     3.09104245335832, 2.484906649788, 3.49650756146648, 2.89037175789616, \n .     2.99573227355399, 2.99573227355399, 3.29583686600433, 2.63905732961526, \n .     3.29583686600433, 3.09104245335832, 1.09861228866811, 2.89037175789616, \n .     3.09104245335832, 3.89182029811063, 2.99573227355399, 0.693147180559945, \n .     2.99573227355399, 3.3322045101752, 3.13549421592915, 3.3322045101752, \n .     2.83321334405622, 2.89037175789616, 2.99573227355399, 4.14313472639153, \n .     2.70805020110221, 3.55534806148941, 2.83321334405622, 2.94443897916644, \n .     0.693147180559945, 1.09861228866811, 3.36729582998647, 2.89037175789616, \n .     0.693147180559945, 2.99573227355399, 3.13549421592915, 2.94443897916644, \n .     0.693147180559945, 2.63905732961526, 2.99573227355399, 3.36729582998647, \n .     1.79175946922805, 2.63905732961526, 2.94443897916644, 2.484906649788, \n .     3.80666248977032, 2.30258509299405, 3.13549421592915, 2.89037175789616, \n .     3.46573590279973, 3.09104245335832, 1.79175946922805, 3.17805383034795, \n .     3.04452243772342, 2.83321334405622, 4.21950770517611, 1.38629436111989, \n .     2.56494935746154, 3.2188758248682, 2.07944154167984, 3.13549421592915, \n .     2.99573227355399, 3.3322045101752, 2.30258509299405, 2.94443897916644, \n .     3.3322045101752, 2.99573227355399, 2.30258509299405, 2.07944154167984, \n .     1.94591014905531, 3.43398720448515, 3.46573590279973, 2.56494935746154, \n .     2.99573227355399, 2.83321334405622, 2.484906649788, 2.89037175789616, \n .     3.66356164612965, 3.46573590279973, 3.61091791264422, 3.46573590279973, \n .     2.484906649788, 3.55534806148941, 3.8286413964891, 2.07944154167984, \n .     3.13549421592915, 2.94443897916644, 3.13549421592915), .Names = c(\"1\", \n .     \"2\", \"3\", \"4\", \"5\", \"6\", \"7\", \"8\", \"9\", \"10\", \"11\", \"12\", \n .     \"13\", \"14\", \"15\", \"16\", \"17\", \"18\", \"19\", \"20\", \"21\", \"22\", \n .     \"23\", \"24\", \"25\", \"26\", \"27\", \"28\", \"29\", \"30\", \"31\", \"32\", \n .     \"33\", \"34\", \"35\", \"36\", \"37\", \"38\", \"39\", \"40\", \"41\", \"42\", \n .     \"43\", \"44\", \"45\", \"46\", \"47\", \"48\", \"49\", \"50\", \"51\", \"52\", \n .     \"53\", \"54\", \"55\", \"56\", \"57\", \"58\", \"59\", \"60\", \"61\", \"62\", \n .     \"63\", \"64\", \"65\", \"66\", \"67\", \"68\", \"69\", \"70\", \"71\", \"72\", \n .     \"73\", \"74\", \"75\", \"76\", \"77\", \"78\", \"79\", \"80\", \"81\", \"82\", \n .     \"83\", \"84\", \"85\", \"86\", \"87\", \"88\", \"89\", \"90\", \"91\", \"92\", \n .     \"93\", \"94\", \"95\", \"96\", \"97\", \"98\", \"99\", \"100\", \"101\", \"102\", \n .     \"103\", \"104\", \"105\", \"106\", \"107\", \"108\", \"109\", \"110\", \"111\", \n .     \"112\", \"113\", \"114\", \"115\", \"116\", \"117\", \"118\", \"119\", \"120\", \n .     \"121\", \"122\", \"123\", \"124\", \"125\", \"126\", \"127\", \"128\", \"129\", \n .     \"130\", \"131\", \"132\", \"133\", \"134\", \"135\", \"136\", \"137\", \"138\", \n .     \"139\", \"140\", \"141\", \"142\", \"143\", \"144\", \"145\", \"146\", \"147\", \n .     \"148\", \"149\", \"150\", \"151\", \"152\", \"153\", \"154\", \"155\", \"156\", \n .     \"157\", \"158\", \"159\", \"160\", \"161\", \"162\", \"163\", \"164\", \"165\", \n .     \"166\", \"167\", \"168\", \"169\", \"170\", \"171\", \"172\", \"173\", \"174\", \n .     \"175\", \"176\", \"177\", \"178\", \"179\", \"180\", \"181\", \"182\", \"183\", \n .     \"184\", \"185\", \"186\", \"187\", \"188\", \"189\", \"190\", \"191\", \"192\", \n .     \"193\", \"194\", \"195\", \"196\", \"197\", \"198\", \"199\", \"200\", \"201\", \n .     \"202\", \"203\", \"204\", \"205\", \"206\", \"207\", \"208\", \"209\", \"210\", \n .     \"211\", \"212\", \"213\", \"214\", \"215\", \"216\", \"217\", \"218\", \"219\", \n .     \"220\", \"221\", \"222\", \"223\", \"224\", \"225\", \"226\", \"227\", \"228\", \n .     \"229\", \"230\", \"231\", \"232\", \"233\", \"234\", \"235\", \"236\", \"237\", \n .     \"238\", \"239\", \"240\", \"241\", \"242\", \"243\", \"244\", \"245\", \"246\", \n .     \"247\", \"248\", \"249\", \"250\", \"251\", \"252\", \"253\", \"254\", \"255\", \n .     \"256\", \"257\", \"258\", \"259\", \"260\", \"261\", \"262\", \"263\", \"264\", \n .     \"265\", \"266\", \"267\", \"268\", \"269\", \"270\", \"271\", \"272\", \"273\", \n .     \"274\", \"275\", \"276\", \"277\", \"278\", \"279\", \"280\", \"281\", \"282\", \n .     \"283\", \"284\", \"285\", \"286\", \"287\", \"288\", \"289\", \"290\", \"291\", \n .     \"292\", \"293\", \"294\", \"295\", \"296\", \"297\", \"298\", \"299\", \"300\", \n .     \"301\", \"302\", \"303\", \"304\", \"305\", \"306\", \"307\", \"308\", \"309\", \n .     \"310\", \"311\", \"312\", \"313\", \"314\", \"315\", \"316\", \"317\", \"318\", \n .     \"319\", \"320\", \"321\", \"322\", \"323\", \"324\", \"325\", \"326\", \"327\", \n .     \"328\", \"329\", \"330\", \"331\", \"332\", \"333\", \"334\", \"335\", \"336\", \n .     \"337\", \"338\", \"339\", \"340\", \"341\", \"342\", \"343\", \"344\", \"345\", \n .     \"346\", \"347\", \"348\", \"349\", \"350\", \"351\", \"352\", \"353\", \"354\", \n .     \"355\", \"356\", \"357\", \"358\", \"359\", \"360\", \"361\", \"362\", \"363\", \n .     \"364\", \"365\", \"366\", \"367\", \"368\", \"369\", \"370\", \"371\", \"372\", \n .     \"373\", \"374\", \"375\", \"376\", \"377\", \"378\", \"379\", \"380\", \"381\", \n .     \"382\", \"383\", \"384\", \"385\", \"386\", \"387\", \"388\", \"389\", \"390\", \n .     \"391\", \"392\", \"393\", \"394\", \"395\", \"396\", \"397\", \"398\", \"399\", \n .     \"400\", \"401\", \"402\", \"403\", \"404\", \"405\", \"406\", \"407\", \"408\", \n .     \"409\", \"410\", \"411\", \"412\", \"413\", \"414\", \"415\", \"416\", \"417\", \n .     \"418\", \"419\", \"420\", \"421\", \"422\", \"423\", \"424\", \"425\", \"426\", \n .     \"427\", \"428\", \"429\", \"430\", \"431\", \"432\", \"433\", \"434\", \"435\", \n .     \"436\", \"437\", \"438\", \"439\", \"440\", \"441\", \"442\", \"443\", \"444\", \n .     \"445\", \"446\", \"447\", \"448\", \"449\", \"450\", \"451\", \"452\", \"453\", \n .     \"454\", \"455\", \"456\", \"457\", \"458\", \"459\", \"460\", \"461\", \"462\", \n .     \"463\", \"464\", \"465\", \"466\", \"467\", \"468\", \"469\", \"470\", \"471\", \n .     \"472\", \"473\", \"474\", \"475\", \"476\", \"477\", \"478\", \"479\", \"480\", \n .     \"481\", \"482\", \"483\", \"484\", \"485\", \"486\", \"487\", \"488\", \"489\", \n .     \"490\", \"491\", \"492\", \"493\", \"494\", \"495\", \"496\", \"497\", \"498\", \n .     \"499\", \"500\", \"501\", \"502\", \"503\", \"504\", \"505\", \"506\", \"507\", \n .     \"508\", \"509\", \"510\", \"511\", \"512\", \"513\", \"514\", \"515\", \"516\", \n .     \"517\", \"518\", \"519\", \"520\", \"521\", \"522\", \"523\", \"524\", \"525\", \n .     \"526\", \"527\", \"528\", \"529\", \"530\", \"531\", \"532\", \"533\", \"534\", \n .     \"535\", \"536\", \"537\", \"538\", \"539\", \"540\", \"541\", \"542\", \"543\", \n .     \"544\", \"545\", \"546\", \"547\", \"548\", \"549\", \"550\", \"551\", \"552\", \n .     \"553\", \"554\", \"555\", \"556\", \"557\", \"558\", \"559\", \"560\", \"561\", \n .     \"562\", \"563\", \"564\", \"565\", \"566\", \"567\", \"568\", \"569\", \"570\", \n .     \"571\", \"572\", \"573\", \"574\", \"575\", \"576\", \"577\", \"578\", \"579\", \n .     \"580\", \"581\", \"582\", \"583\", \"584\", \"585\", \"586\", \"587\", \"588\", \n .     \"589\", \"590\", \"591\", \"592\", \"593\", \"594\", \"595\", \"596\", \"597\", \n .     \"598\", \"599\", \"600\", \"601\", \"602\", \"603\", \"604\", \"605\", \"606\", \n .     \"607\", \"608\", \"609\", \"610\", \"611\", \"612\", \"613\", \"614\", \"615\", \n .     \"616\", \"617\", \"618\", \"619\", \"620\", \"621\", \"622\", \"623\", \"624\", \n .     \"625\", \"626\", \"627\", \"628\", \"629\", \"630\", \"631\", \"632\", \"633\", \n .     \"634\", \"635\", \"636\", \"637\", \"638\", \"639\", \"640\", \"641\", \"642\", \n .     \"643\", \"644\", \"645\", \"646\", \"647\", \"648\", \"649\", \"650\", \"651\", \n .     \"652\", \"653\", \"654\", \"655\", \"656\", \"657\", \"658\", \"659\", \"660\", \n .     \"661\", \"662\", \"663\", \"664\", \"665\", \"666\", \"667\", \"668\", \"669\", \n .     \"670\", \"671\", \"672\", \"673\", \"674\", \"675\", \"676\", \"677\", \"678\", \n .     \"679\", \"680\", \"681\", \"682\", \"683\", \"684\", \"685\", \"686\", \"687\", \n .     \"688\", \"689\", \"690\", \"691\", \"692\", \"693\", \"694\", \"695\", \"696\", \n .     \"697\", \"698\", \"699\", \"700\", \"701\", \"702\", \"703\", \"704\", \"705\", \n .     \"706\", \"707\", \"708\", \"709\", \"710\", \"711\", \"712\", \"713\", \"714\", \n .     \"715\", \"716\", \"717\", \"718\", \"719\", \"720\", \"721\", \"722\", \"723\", \n .     \"724\", \"725\", \"726\", \"727\", \"728\", \"729\", \"730\", \"731\", \"732\", \n .     \"733\", \"734\", \"735\", \"736\", \"737\", \"738\", \"739\", \"740\", \"741\", \n .     \"742\", \"743\", \"744\", \"745\", \"746\", \"747\", \"748\", \"749\", \"750\", \n .     \"751\", \"752\", \"753\", \"754\", \"755\", \"756\", \"757\", \"758\", \"759\", \n .     \"760\", \"761\", \"762\", \"763\", \"764\", \"765\", \"766\", \"767\", \"768\", \n .     \"769\", \"770\", \"771\", \"772\", \"773\", \"774\", \"775\", \"776\", \"777\", \n .     \"778\", \"779\", \"780\", \"781\", \"782\", \"783\", \"784\", \"785\", \"786\", \n .     \"787\", \"788\", \"789\", \"790\", \"791\", \"792\", \"793\", \"794\", \"795\", \n .     \"796\", \"797\", \"798\", \"799\", \"800\", \"801\", \"802\", \"803\", \"804\", \n .     \"805\", \"806\", \"807\", \"808\", \"809\", \"810\", \"811\", \"812\", \"813\", \n .     \"814\", \"815\", \"816\", \"817\", \"818\", \"819\", \"820\", \"821\", \"822\", \n .     \"823\", \"824\", \"825\", \"826\", \"827\", \"828\", \"829\", \"830\", \"831\", \n .     \"832\", \"833\", \"834\", \"835\", \"836\", \"837\", \"838\", \"839\", \"840\", \n .     \"841\", \"842\", \"843\", \"844\", \"845\", \"846\", \"847\", \"848\", \"849\", \n .     \"850\", \"851\", \"852\", \"853\", \"854\", \"855\", \"856\", \"857\", \"858\", \n .     \"859\", \"860\", \"861\", \"862\", \"863\", \"864\", \"865\", \"866\", \"867\", \n .     \"868\", \"869\", \"870\", \"871\", \"872\", \"873\", \"874\", \"875\", \"876\", \n .     \"877\", \"878\", \"879\", \"880\", \"881\", \"882\", \"883\", \"884\", \"885\", \n .     \"886\", \"887\", \"888\", \"889\", \"890\", \"891\", \"892\", \"893\", \"894\", \n .     \"895\", \"896\", \"897\", \"898\", \"899\", \"900\", \"901\", \"902\", \"903\", \n .     \"904\", \"905\", \"906\", \"907\", \"908\", \"909\", \"910\", \"911\", \"912\", \n .     \"913\", \"914\", \"915\", \"916\", \"917\", \"918\", \"919\", \"920\", \"921\", \n .     \"922\", \"923\", \"924\", \"925\", \"926\", \"927\", \"928\", \"929\", \"930\", \n .     \"931\", \"932\", \"933\", \"934\", \"935\", \"936\", \"937\", \"938\", \"939\", \n .     \"940\", \"941\", \"942\", \"943\", \"944\", \"945\", \"946\")), weights = NULL, \n .     start = NULL, etastart = NULL, mustart = NULL, offset = NULL, \n .     family = structure(list(family = \"binomial\", link = \"logit\", \n .         linkfun = function (mu) \n .         .Call(C_logit_link, mu), linkinv = function (eta) \n .         .Call(C_logit_linkinv, eta), variance = function (mu) \n .         mu * (1 - mu), dev.resids = function (y, mu, wt) \n .         .Call(C_binomial_dev_resids, y, mu, wt), aic = function (y, \n .             n, mu, wt, dev) \n .         {\n .             m <- if (any(n > 1)) \n .                 n\n .             else wt\n .             -2 * sum(ifelse(m > 0, (wt/m), 0) * dbinom(round(m * \n .                 y), round(m), mu, log = TRUE))\n .         }, mu.eta = function (eta) \n .         .Call(C_logit_mu_eta, eta), initialize = expression({\n .             if (NCOL(y) == 1) {\n .                 if (is.factor(y)) \n .                   y <- y != levels(y)[1L]\n .                 n <- rep.int(1, nobs)\n .                 y[weights == 0] <- 0\n .                 if (any(y < 0 | y > 1)) \n .                   stop(\"y values must be 0 <= y <= 1\")\n .                 mustart <- (weights * y + 0.5)/(weights + 1)\n .                 m <- weights * y\n .                 if (any(abs(m - round(m)) > 0.001)) \n .                   warning(\"non-integer #successes in a binomial glm!\")\n .             }\n .             else if (NCOL(y) == 2) {\n .                 if (any(abs(y - round(y)) > 0.001)) \n .                   warning(\"non-integer counts in a binomial glm!\")\n .                 n <- y[, 1] + y[, 2]\n .                 y <- ifelse(n == 0, 0, y[, 1]/n)\n .                 weights <- weights * n\n .                 mustart <- (n * y + 0.5)/(n + 1)\n .             }\n .             else stop(\"for the 'binomial' family, y must be a vector of 0 and 1's\\nor a 2 column matrix where col 1 is no. successes and col 2 is no. failures\")\n .         }), validmu = function (mu) \n .         all(is.finite(mu)) && all(mu > 0 & mu < 1), valideta = function (eta) \n .         TRUE, simulate = function (object, nsim) \n .         {\n .             ftd <- fitted(object)\n .             n <- length(ftd)\n .             ntot <- n * nsim\n .             wts <- object$prior.weights\n .             if (any(wts%%1 != 0)) \n .                 stop(\"cannot simulate from non-integer prior.weights\")\n .             if (!is.null(m <- object$model)) {\n .                 y <- model.response(m)\n .                 if (is.factor(y)) {\n .                   yy <- factor(1 + rbinom(ntot, size = 1, prob = ftd), \n .                     labels = levels(y))\n .                   split(yy, rep(seq_len(nsim), each = n))\n .                 }\n .                 else if (is.matrix(y) && ncol(y) == 2) {\n .                   yy <- vector(\"list\", nsim)\n .                   for (i in seq_len(nsim)) {\n .                     Y <- rbinom(n, size = wts, prob = ftd)\n .                     YY <- cbind(Y, wts - Y)\n .                     colnames(YY) <- colnames(y)\n .                     yy[[i]] <- YY\n .                   }\n .                   yy\n .                 }\n .                 else rbinom(ntot, size = wts, prob = ftd)/wts\n .             }\n .             else rbinom(ntot, size = wts, prob = ftd)/wts\n .         }), .Names = c(\"family\", \"link\", \"linkfun\", \"linkinv\", \n .     \"variance\", \"dev.resids\", \"aic\", \"mu.eta\", \"initialize\", \n .     \"validmu\", \"valideta\", \"simulate\"), class = \"family\"), control = structure(list(\n .         epsilon = 1e-08, maxit = 25, trace = FALSE), .Names = c(\"epsilon\", \n .     \"maxit\", \"trace\")), intercept = TRUE)",
      "5. eval(family$initialize)",
      "6. eval(family$initialize)",
      "7. stop(\"y values must be 0 <= y <= 1\")"
     ]
    }
   ],
   "source": [
    "glm.fit=glm(Likes~.,data=domcolor, family=binomial)\n",
    "summary(glm.fit)"
   ]
  },
  {
   "cell_type": "code",
   "execution_count": 13,
   "metadata": {},
   "outputs": [
    {
     "ename": "ERROR",
     "evalue": "Error: object of type 'closure' is not subsettable\n",
     "output_type": "error",
     "traceback": [
      "Error: object of type 'closure' is not subsettable\nTraceback:\n",
      "1. coef(glm.fit)",
      "2. coef.default(glm.fit)"
     ]
    }
   ],
   "source": [
    "coef(glm.fit)"
   ]
  },
  {
   "cell_type": "code",
   "execution_count": null,
   "metadata": {},
   "outputs": [],
   "source": [
    "summary(glm.fit)$coef"
   ]
  },
  {
   "cell_type": "code",
   "execution_count": null,
   "metadata": {},
   "outputs": [],
   "source": [
    "glm.probs=predict(glm.fit,type=\"response\")\n",
    "glm.probs[1:10]"
   ]
  },
  {
   "cell_type": "code",
   "execution_count": null,
   "metadata": {},
   "outputs": [],
   "source": [
    "glm.pred=rep(\"Down\",1250)\n",
    "glm.pred[glm.probs>0.5]=\"Up\""
   ]
  },
  {
   "cell_type": "code",
   "execution_count": null,
   "metadata": {},
   "outputs": [],
   "source": [
    "table(glm.pred,Direction)\n",
    "mean(glm.pred==Direction)"
   ]
  },
  {
   "cell_type": "code",
   "execution_count": null,
   "metadata": {},
   "outputs": [],
   "source": [
    "train=sample(1:nrow(dat.mat), nrow(dat.mat)/2)\n",
    "test=(-train)\n",
    "Direction.2005=Direction[!train]\n",
    "glm.fit=glm(Direction~Lag1+Lag2+Lag3+Lag4+Lag5+Volume,\n",
    "           data=Smarket, family=binomial,subset=train)\n",
    "glm.probs=predict(glm.fit,Smarket.2005,type=\"response\")"
   ]
  },
  {
   "cell_type": "code",
   "execution_count": null,
   "metadata": {},
   "outputs": [],
   "source": [
    "glm.pred=rep(\"Down\",252)\n",
    "glm.pred[glm.probs>.5]=\"Up\"\n",
    "table(glm.pred,Direction.2005)"
   ]
  },
  {
   "cell_type": "code",
   "execution_count": null,
   "metadata": {},
   "outputs": [],
   "source": [
    "mean(glm.pred==Direction.2005)\n",
    "mean(glm.pred!=Direction.2005)"
   ]
  },
  {
   "cell_type": "code",
   "execution_count": null,
   "metadata": {},
   "outputs": [],
   "source": [
    "predict(glm.fit,newdata=data.frame(Lag1=c(1.2,1.5),Lag2=c(1.1,-0.8)),type=\"response\")"
   ]
  },
  {
   "cell_type": "code",
   "execution_count": 43,
   "metadata": {},
   "outputs": [
    {
     "data": {
      "text/plain": [
       "Call:\n",
       "lda(Likes ~ Color1 * Color2, data = domcolor, subset = train)\n",
       "\n",
       "Prior probabilities of groups:\n",
       "0.693147180559945  1.09861228866811  1.38629436111989   1.6094379124341 \n",
       "            0.035             0.045             0.035             0.045 \n",
       " 1.79175946922805  1.94591014905531  2.19722457733622  2.30258509299405 \n",
       "            0.015             0.020             0.010             0.020 \n",
       " 2.39789527279837    2.484906649788  2.56494935746154  2.63905732961526 \n",
       "            0.040             0.040             0.010             0.020 \n",
       " 2.70805020110221  2.77258872223978  2.83321334405622  2.89037175789616 \n",
       "            0.025             0.055             0.030             0.020 \n",
       " 2.94443897916644  2.99573227355399  3.04452243772342  3.09104245335832 \n",
       "            0.035             0.045             0.045             0.045 \n",
       " 3.13549421592915  3.17805383034795   3.2188758248682  3.25809653802148 \n",
       "            0.040             0.015             0.025             0.025 \n",
       " 3.29583686600433   3.3322045101752  3.36729582998647  3.40119738166216 \n",
       "            0.040             0.005             0.005             0.035 \n",
       " 3.43398720448515  3.46573590279973  3.49650756146648  3.52636052461616 \n",
       "            0.015             0.015             0.020             0.025 \n",
       " 3.55534806148941  3.58351893845611  3.66356164612965  3.76120011569356 \n",
       "            0.010             0.010             0.005             0.005 \n",
       "  3.8286413964891  3.87120101090789  3.89182029811063  3.95124371858143 \n",
       "            0.005             0.005             0.010             0.005 \n",
       " 4.07753744390572  4.14313472639153  4.17438726989564  4.20469261939097 \n",
       "            0.005             0.005             0.005             0.005 \n",
       " 4.55387689160054  4.57471097850338  4.70953020131233  4.77068462446567 \n",
       "            0.005             0.005             0.005             0.005 \n",
       " 5.00394630594546 \n",
       "            0.005 \n",
       "\n",
       "Group means:\n",
       "                     Color1     Color2 Color1:Color2\n",
       "0.693147180559945 0.7079394 0.17247643    0.10536535\n",
       "1.09861228866811  0.6971322 0.13247344    0.07625235\n",
       "1.38629436111989  0.6066726 0.21513729    0.11443100\n",
       "1.6094379124341   0.5945933 0.21575833    0.11953817\n",
       "1.79175946922805  0.7543333 0.13866633    0.09133118\n",
       "1.94591014905531  0.6474598 0.15885275    0.09502429\n",
       "2.19722457733622  0.9385210 0.03757000    0.03526835\n",
       "2.30258509299405  0.6462332 0.22226700    0.13261322\n",
       "2.39789527279837  0.7701616 0.12372600    0.07371320\n",
       "2.484906649788    0.6975685 0.18234925    0.11446394\n",
       "2.56494935746154  0.6279215 0.16889900    0.09878871\n",
       "2.63905732961526  0.5538578 0.20468775    0.10415603\n",
       "2.70805020110221  0.6238642 0.19989600    0.12009297\n",
       "2.77258872223978  0.6928854 0.16094364    0.10712021\n",
       "2.83321334405622  0.5126053 0.23888367    0.11859425\n",
       "2.89037175789616  0.5789362 0.21726050    0.11954457\n",
       "2.94443897916644  0.7574739 0.15395429    0.10391185\n",
       "2.99573227355399  0.6875251 0.17292167    0.11024244\n",
       "3.04452243772342  0.7545762 0.14227711    0.09722349\n",
       "3.09104245335832  0.6212598 0.20154833    0.10761385\n",
       "3.13549421592915  0.5250289 0.28409275    0.14299033\n",
       "3.17805383034795  0.7301450 0.11767367    0.05244196\n",
       "3.2188758248682   0.6419542 0.19520300    0.10961444\n",
       "3.25809653802148  0.5964812 0.23608080    0.12809123\n",
       "3.29583686600433  0.6379681 0.22427463    0.12574592\n",
       "3.3322045101752   0.7998000 0.17100000    0.13676580\n",
       "3.36729582998647  0.5781880 0.26841400    0.15519375\n",
       "3.40119738166216  0.6812741 0.18274571    0.09860643\n",
       "3.43398720448515  0.8658870 0.06248267    0.05319678\n",
       "3.46573590279973  0.4964777 0.28502633    0.13567567\n",
       "3.49650756146648  0.6229750 0.17821675    0.10869608\n",
       "3.52636052461616  0.5968020 0.20023300    0.09515363\n",
       "3.55534806148941  0.7671575 0.19072350    0.10385641\n",
       "3.58351893845611  0.4205000 0.27456700    0.11757949\n",
       "3.66356164612965  0.6422220 0.16417500    0.10543680\n",
       "3.76120011569356  0.7402020 0.12976400    0.09605157\n",
       "3.8286413964891   0.5769330 0.21193300    0.12227114\n",
       "3.87120101090789  0.4330000 0.32133300    0.13913719\n",
       "3.89182029811063  0.5056000 0.25620000    0.12959672\n",
       "3.95124371858143  0.8971820 0.06824700    0.06122998\n",
       "4.07753744390572  0.7381820 0.11656600    0.08604692\n",
       "4.14313472639153  0.6130070 0.17732000    0.10869840\n",
       "4.17438726989564  0.9779330 0.01093300    0.01069174\n",
       "4.20469261939097  0.6333330 0.26114500    0.16539175\n",
       "4.55387689160054  0.7266000 0.15120000    0.10986192\n",
       "4.57471097850338  0.8709330 0.10020000    0.08726749\n",
       "4.70953020131233  0.8999330 0.03700000    0.03329752\n",
       "4.77068462446567  0.6754000 0.16713300    0.11288163\n",
       "5.00394630594546  0.7138670 0.20953300    0.14957869\n",
       "\n",
       "Coefficients of linear discriminants:\n",
       "                    LD1        LD2       LD3\n",
       "Color1        -10.59928  -2.848312  9.658317\n",
       "Color2        -24.78909 -27.209865 20.133196\n",
       "Color1:Color2  39.85349  45.088826 -1.929634\n",
       "\n",
       "Proportion of trace:\n",
       "   LD1    LD2    LD3 \n",
       "0.4909 0.2949 0.2141 "
      ]
     },
     "metadata": {},
     "output_type": "display_data"
    }
   ],
   "source": [
    "#lda here\n",
    "library(MASS)\n",
    "lda.fit=lda(Likes~Color1*Color2, data=domcolor, subset=train)\n",
    "lda.fit"
   ]
  },
  {
   "cell_type": "code",
   "execution_count": 44,
   "metadata": {},
   "outputs": [
    {
     "data": {
      "image/png": "[encoded data removed]",
      "text/plain": [
       "plot without title"
      ]
     },
     "metadata": {},
     "output_type": "display_data"
    }
   ],
   "source": [
    "plot(lda.fit)"
   ]
  },
  {
   "cell_type": "code",
   "execution_count": null,
   "metadata": {},
   "outputs": [],
   "source": [
    "lda.pred=predict(lda.fit, Smarket.2005)\n",
    "names(lda.pred)\n",
    "lda.class=lda.pred$class\n",
    "table(lda.class,Direction.2005)\n",
    "mean(lda.class==Direction.2005)"
   ]
  },
  {
   "cell_type": "code",
   "execution_count": 47,
   "metadata": {},
   "outputs": [
    {
     "data": {
      "text/plain": [
       "Call:\n",
       "lda(Likes ~ Color1 * Color2 * Color3 * Color4, data = domcolor, \n",
       "    subset = train)\n",
       "\n",
       "Prior probabilities of groups:\n",
       "0.693147180559945  1.09861228866811  1.38629436111989   1.6094379124341 \n",
       "            0.035             0.045             0.035             0.045 \n",
       " 1.79175946922805  1.94591014905531  2.19722457733622  2.30258509299405 \n",
       "            0.015             0.020             0.010             0.020 \n",
       " 2.39789527279837    2.484906649788  2.56494935746154  2.63905732961526 \n",
       "            0.040             0.040             0.010             0.020 \n",
       " 2.70805020110221  2.77258872223978  2.83321334405622  2.89037175789616 \n",
       "            0.025             0.055             0.030             0.020 \n",
       " 2.94443897916644  2.99573227355399  3.04452243772342  3.09104245335832 \n",
       "            0.035             0.045             0.045             0.045 \n",
       " 3.13549421592915  3.17805383034795   3.2188758248682  3.25809653802148 \n",
       "            0.040             0.015             0.025             0.025 \n",
       " 3.29583686600433   3.3322045101752  3.36729582998647  3.40119738166216 \n",
       "            0.040             0.005             0.005             0.035 \n",
       " 3.43398720448515  3.46573590279973  3.49650756146648  3.52636052461616 \n",
       "            0.015             0.015             0.020             0.025 \n",
       " 3.55534806148941  3.58351893845611  3.66356164612965  3.76120011569356 \n",
       "            0.010             0.010             0.005             0.005 \n",
       "  3.8286413964891  3.87120101090789  3.89182029811063  3.95124371858143 \n",
       "            0.005             0.005             0.010             0.005 \n",
       " 4.07753744390572  4.14313472639153  4.17438726989564  4.20469261939097 \n",
       "            0.005             0.005             0.005             0.005 \n",
       " 4.55387689160054  4.57471097850338  4.70953020131233  4.77068462446567 \n",
       "            0.005             0.005             0.005             0.005 \n",
       " 5.00394630594546 \n",
       "            0.005 \n",
       "\n",
       "Group means:\n",
       "                     Color1     Color2     Color3     Color4 Color1:Color2\n",
       "0.693147180559945 0.7079394 0.17247643 0.07423343 0.03444100    0.10536535\n",
       "1.09861228866811  0.6971322 0.13247344 0.08155911 0.05445233    0.07625235\n",
       "1.38629436111989  0.6066726 0.21513729 0.08232243 0.07014886    0.11443100\n",
       "1.6094379124341   0.5945933 0.21575833 0.09717056 0.06451289    0.11953817\n",
       "1.79175946922805  0.7543333 0.13866633 0.04613633 0.03588267    0.09133118\n",
       "1.94591014905531  0.6474598 0.15885275 0.09852600 0.06795200    0.09502429\n",
       "2.19722457733622  0.9385210 0.03757000 0.01347550 0.00910000    0.03526835\n",
       "2.30258509299405  0.6462332 0.22226700 0.08948325 0.03398350    0.13261322\n",
       "2.39789527279837  0.7701616 0.12372600 0.05086213 0.03294475    0.07371320\n",
       "2.484906649788    0.6975685 0.18234925 0.05450750 0.03851975    0.11446394\n",
       "2.56494935746154  0.6279215 0.16889900 0.11616000 0.06164550    0.09878871\n",
       "2.63905732961526  0.5538578 0.20468775 0.12549675 0.09012975    0.10415603\n",
       "2.70805020110221  0.6238642 0.19989600 0.09461600 0.05808840    0.12009297\n",
       "2.77258872223978  0.6928854 0.16094364 0.07232145 0.03908755    0.10712021\n",
       "2.83321334405622  0.5126053 0.23888367 0.14649600 0.05501367    0.11859425\n",
       "2.89037175789616  0.5789362 0.21726050 0.14698450 0.03693000    0.11954457\n",
       "2.94443897916644  0.7574739 0.15395429 0.05488714 0.02636871    0.10391185\n",
       "2.99573227355399  0.6875251 0.17292167 0.06899878 0.04028256    0.11024244\n",
       "3.04452243772342  0.7545762 0.14227711 0.05244811 0.03304133    0.09722349\n",
       "3.09104245335832  0.6212598 0.20154833 0.08462767 0.06079356    0.10761385\n",
       "3.13549421592915  0.5250289 0.28409275 0.12132988 0.04459325    0.14299033\n",
       "3.17805383034795  0.7301450 0.11767367 0.07595667 0.05130567    0.05244196\n",
       "3.2188758248682   0.6419542 0.19520300 0.09090460 0.04245400    0.10961444\n",
       "3.25809653802148  0.5964812 0.23608080 0.09776500 0.05553220    0.12809123\n",
       "3.29583686600433  0.6379681 0.22427463 0.07165825 0.03054125    0.12574592\n",
       "3.3322045101752   0.7998000 0.17100000 0.01433300 0.01053300    0.13676580\n",
       "3.36729582998647  0.5781880 0.26841400 0.07255700 0.05462800    0.15519375\n",
       "3.40119738166216  0.6812741 0.18274571 0.06899786 0.04375986    0.09860643\n",
       "3.43398720448515  0.8658870 0.06248267 0.03876267 0.02594467    0.05319678\n",
       "3.46573590279973  0.4964777 0.28502633 0.15695300 0.04116033    0.13567567\n",
       "3.49650756146648  0.6229750 0.17821675 0.09958650 0.06097675    0.10869608\n",
       "3.52636052461616  0.5968020 0.20023300 0.10422900 0.05619680    0.09515363\n",
       "3.55534806148941  0.7671575 0.19072350 0.02885400 0.01298350    0.10385641\n",
       "3.58351893845611  0.4205000 0.27456700 0.17096650 0.11860000    0.11757949\n",
       "3.66356164612965  0.6422220 0.16417500 0.11144800 0.06040400    0.10543680\n",
       "3.76120011569356  0.7402020 0.12976400 0.09979800 0.02444400    0.09605157\n",
       "3.8286413964891   0.5769330 0.21193300 0.17873300 0.02786700    0.12227114\n",
       "3.87120101090789  0.4330000 0.32133300 0.15080000 0.04380000    0.13913719\n",
       "3.89182029811063  0.5056000 0.25620000 0.14436650 0.06946650    0.12959672\n",
       "3.95124371858143  0.8971820 0.06824700 0.01106500 0.00969100    0.06122998\n",
       "4.07753744390572  0.7381820 0.11656600 0.05117800 0.03346800    0.08604692\n",
       "4.14313472639153  0.6130070 0.17732000 0.13934600 0.04424800    0.10869840\n",
       "4.17438726989564  0.9779330 0.01093300 0.00680000 0.00433300    0.01069174\n",
       "4.20469261939097  0.6333330 0.26114500 0.05973100 0.02639700    0.16539175\n",
       "4.55387689160054  0.7266000 0.15120000 0.04240000 0.03693300    0.10986192\n",
       "4.57471097850338  0.8709330 0.10020000 0.01206700 0.00766700    0.08726749\n",
       "4.70953020131233  0.8999330 0.03700000 0.03300000 0.01713300    0.03329752\n",
       "4.77068462446567  0.6754000 0.16713300 0.11426700 0.02400000    0.11288163\n",
       "5.00394630594546  0.7138670 0.20953300 0.05953300 0.01626700    0.14957869\n",
       "                  Color1:Color3 Color2:Color3 Color1:Color4 Color2:Color4\n",
       "0.693147180559945   0.045490745  0.0166032119   0.020524417  8.050402e-03\n",
       "1.09861228866811    0.042684114  0.0156475725   0.027342830  1.053473e-02\n",
       "1.38629436111989    0.043496235  0.0197903857   0.035890518  1.732650e-02\n",
       "1.6094379124341     0.052212775  0.0230222280   0.033105620  1.588485e-02\n",
       "1.79175946922805    0.031219774  0.0074322376   0.024316264  5.879057e-03\n",
       "1.94591014905531    0.063362743  0.0161330412   0.042799334  1.191359e-02\n",
       "2.19722457733622    0.012623140  0.0005002564   0.008524072  3.377400e-04\n",
       "2.30258509299405    0.052586502  0.0215114327   0.018528470  8.934805e-03\n",
       "2.39789527279837    0.031043002  0.0095241853   0.019092852  6.908175e-03\n",
       "2.484906649788      0.031492002  0.0102988919   0.020742118  7.558581e-03\n",
       "2.56494935746154    0.071677710  0.0202960924   0.036471373  1.161194e-02\n",
       "2.63905732961526    0.062971065  0.0276377247   0.045149976  2.004600e-02\n",
       "2.70805020110221    0.056282873  0.0197347422   0.035124549  1.177896e-02\n",
       "2.77258872223978    0.046744108  0.0117170405   0.023426464  6.380008e-03\n",
       "2.83321334405622    0.074372282  0.0337190527   0.027876541  1.247992e-02\n",
       "2.89037175789616    0.081592618  0.0334250829   0.022789173  7.023650e-03\n",
       "2.94443897916644    0.039576624  0.0099500928   0.020126866  3.834098e-03\n",
       "2.99573227355399    0.040451239  0.0135895014   0.023911292  7.663085e-03\n",
       "3.04452243772342    0.034380740  0.0095775200   0.021639154  5.956810e-03\n",
       "3.09104245335832    0.049254809  0.0184082664   0.034343100  1.307806e-02\n",
       "3.13549421592915    0.054122807  0.0372194047   0.020847499  1.300237e-02\n",
       "3.17805383034795    0.033114277  0.0179592194   0.018601450  1.355052e-02\n",
       "3.2188758248682     0.050609552  0.0221138635   0.024546079  9.824726e-03\n",
       "3.25809653802148    0.052498562  0.0242224479   0.029210275  1.275810e-02\n",
       "3.29583686600433    0.035252192  0.0199453266   0.016760240  8.343088e-03\n",
       "3.3322045101752     0.011463533  0.0024509430   0.008424293  1.801143e-03\n",
       "3.36729582998647    0.041951587  0.0194753146   0.031585254  1.466292e-02\n",
       "3.40119738166216    0.039783931  0.0169642839   0.024083016  1.159738e-02\n",
       "3.43398720448515    0.033147009  0.0026427064   0.022012891  1.872480e-03\n",
       "3.46573590279973    0.077561426  0.0449057335   0.020090874  1.174064e-02\n",
       "3.49650756146648    0.054243209  0.0184699484   0.031797398  1.154877e-02\n",
       "3.52636052461616    0.045843651  0.0280812347   0.026138694  1.460064e-02\n",
       "3.55534806148941    0.016223179  0.0104277714   0.007329992  4.667211e-03\n",
       "3.58351893845611    0.068784101  0.0456163507   0.045190379  3.056702e-02\n",
       "3.66356164612965    0.071574357  0.0182969754   0.038792778  9.916827e-03\n",
       "3.76120011569356    0.073870679  0.0129501877   0.018093498  3.171951e-03\n",
       "3.8286413964891     0.103116966  0.0378794209   0.016077392  5.905937e-03\n",
       "3.87120101090789    0.065296400  0.0484570164   0.018965400  1.407439e-02\n",
       "3.89182029811063    0.072416141  0.0369495643   0.034163324  1.773545e-02\n",
       "3.95124371858143    0.009927319  0.0007551531   0.008694591  6.613817e-04\n",
       "4.07753744390572    0.037778678  0.0059656147   0.024705475  3.901231e-03\n",
       "4.14313472639153    0.085420073  0.0247088327   0.027124334  7.846055e-03\n",
       "4.17438726989564    0.006649944  0.0000743444   0.004237384  4.737269e-05\n",
       "4.20469261939097    0.037829613  0.0155984520   0.016718091  6.893445e-03\n",
       "4.55387689160054    0.030807840  0.0064108800   0.026835518  5.584270e-03\n",
       "4.57471097850338    0.010509549  0.0012091134   0.006677443  7.682334e-04\n",
       "4.70953020131233    0.029697789  0.0012210000   0.015418552  6.339210e-04\n",
       "4.77068462446567    0.077175932  0.0190977865   0.016209600  4.011192e-03\n",
       "5.00394630594546    0.042498644  0.0124741281   0.011612474  3.408473e-03\n",
       "                  Color3:Color4 Color1:Color2:Color3 Color1:Color2:Color4\n",
       "0.693147180559945  3.515812e-03         9.590971e-03         4.486715e-03\n",
       "1.09861228866811   7.662766e-03         7.602625e-03         4.952812e-03\n",
       "1.38629436111989   7.897389e-03         9.887476e-03         8.491280e-03\n",
       "1.6094379124341    7.648457e-03         1.168194e-02         7.782122e-03\n",
       "1.79175946922805   2.477833e-03         4.827251e-03         3.809399e-03\n",
       "1.94591014905531   6.749939e-03         9.555295e-03         6.886601e-03\n",
       "2.19722457733622   1.348317e-04         4.687126e-04         3.164312e-04\n",
       "2.30258509299405   4.267795e-03         1.122621e-02         4.295429e-03\n",
       "2.39789527279837   3.404232e-03         4.942712e-03         3.447214e-03\n",
       "2.484906649788     3.971854e-03         5.514646e-03         3.823085e-03\n",
       "2.56494935746154   7.369102e-03         1.168717e-02         6.465578e-03\n",
       "2.63905732961526   1.308747e-02         1.289619e-02         9.395471e-03\n",
       "2.70805020110221   6.148004e-03         1.133202e-02         6.843467e-03\n",
       "2.77258872223978   4.242485e-03         7.248966e-03         3.601206e-03\n",
       "2.83321334405622   8.376597e-03         1.663359e-02         6.078706e-03\n",
       "2.89037175789616   4.874804e-03         1.791332e-02         4.038007e-03\n",
       "2.94443897916644   1.413376e-03         6.337241e-03         2.665915e-03\n",
       "2.99573227355399   4.258808e-03         7.396454e-03         4.232891e-03\n",
       "3.04452243772342   2.771587e-03         6.034267e-03         3.755950e-03\n",
       "3.09104245335832   6.197343e-03         9.461966e-03         6.579653e-03\n",
       "3.13549421592915   6.724160e-03         1.629385e-02         5.916767e-03\n",
       "3.17805383034795   8.938720e-03         6.445390e-03         4.540154e-03\n",
       "3.2188758248682    4.211239e-03         1.150002e-02         5.135755e-03\n",
       "3.25809653802148   7.760545e-03         1.243685e-02         6.608292e-03\n",
       "3.29583686600433   2.556464e-03         9.285617e-03         4.339754e-03\n",
       "3.3322045101752    1.509695e-04         1.960264e-03         1.440554e-03\n",
       "3.36729582998647   3.963644e-03         1.126039e-02         8.477924e-03\n",
       "3.40119738166216   4.030689e-03         7.923326e-03         5.272865e-03\n",
       "3.43398720448515   1.155263e-03         2.234210e-03         1.576318e-03\n",
       "3.46573590279973   6.516657e-03         2.128404e-02         5.485718e-03\n",
       "3.49650756146648   9.354720e-03         9.893913e-03         5.931123e-03\n",
       "3.52636052461616   7.823457e-03         1.155550e-02         6.209923e-03\n",
       "3.55534806148941   6.797176e-04         5.647014e-03         2.527547e-03\n",
       "3.58351893845611   2.319750e-02         1.869165e-02         1.182012e-02\n",
       "3.66356164612965   6.731905e-03         1.175072e-02         6.368804e-03\n",
       "3.76120011569356   2.439462e-03         9.585755e-03         2.347885e-03\n",
       "3.8286413964891    4.980753e-03         2.185389e-02         3.407330e-03\n",
       "3.87120101090789   6.605040e-03         2.098189e-02         6.094209e-03\n",
       "3.89182029811063   1.060296e-02         1.854319e-02         8.725671e-03\n",
       "3.95124371858143   1.072309e-04         6.775097e-04         5.933797e-04\n",
       "4.07753744390572   1.712825e-03         4.403709e-03         2.879818e-03\n",
       "4.14313472639153   6.165782e-03         1.514669e-02         4.809687e-03\n",
       "4.17438726989564   2.946440e-05         7.270384e-05         4.632732e-05\n",
       "4.20469261939097   1.576719e-03         9.879014e-03         4.365846e-03\n",
       "4.55387689160054   1.565959e-03         4.658145e-03         4.057530e-03\n",
       "4.57471097850338   9.251769e-05         1.053057e-03         6.690798e-04\n",
       "4.70953020131233   5.653890e-04         1.098818e-03         5.704864e-04\n",
       "4.77068462446567   2.742408e-03         1.289865e-02         2.709159e-03\n",
       "5.00394630594546   9.684233e-04         8.904868e-03         2.433197e-03\n",
       "                  Color1:Color3:Color4 Color2:Color3:Color4\n",
       "0.693147180559945         1.964413e-03         8.826047e-04\n",
       "1.09861228866811          3.536144e-03         1.585785e-03\n",
       "1.38629436111989          3.915859e-03         1.967097e-03\n",
       "1.6094379124341           3.685004e-03         1.962276e-03\n",
       "1.79175946922805          1.674397e-03         3.634351e-04\n",
       "1.94591014905531          4.215535e-03         1.222113e-03\n",
       "2.19722457733622          1.261030e-04         4.954979e-06\n",
       "2.30258509299405          2.188767e-03         1.194902e-03\n",
       "2.39789527279837          1.771334e-03         7.622457e-04\n",
       "2.484906649788            1.719697e-03         7.857547e-04\n",
       "2.56494935746154          4.289574e-03         1.425755e-03\n",
       "2.63905732961526          6.027826e-03         3.062969e-03\n",
       "2.70805020110221          3.557006e-03         1.295744e-03\n",
       "2.77258872223978          2.253851e-03         7.428260e-04\n",
       "2.83321334405622          4.177330e-03         1.848589e-03\n",
       "2.89037175789616          2.863958e-03         1.003748e-03\n",
       "2.94443897916644          1.039878e-03         2.342329e-04\n",
       "2.99573227355399          2.339206e-03         8.696815e-04\n",
       "3.04452243772342          1.697701e-03         5.383652e-04\n",
       "3.09104245335832          3.344392e-03         1.383130e-03\n",
       "3.13549421592915          2.804758e-03         2.043437e-03\n",
       "3.17805383034795          2.988017e-03         2.459546e-03\n",
       "3.2188758248682           2.206583e-03         1.112881e-03\n",
       "3.25809653802148          3.930465e-03         1.717544e-03\n",
       "3.29583686600433          1.248422e-03         7.345996e-04\n",
       "3.3322045101752           1.207454e-04         2.581578e-05\n",
       "3.36729582998647          2.291731e-03         1.063897e-03\n",
       "3.40119738166216          1.913224e-03         1.256631e-03\n",
       "3.43398720448515          9.760446e-04         8.507272e-05\n",
       "3.46573590279973          3.162696e-03         1.868147e-03\n",
       "3.49650756146648          4.637343e-03         1.803305e-03\n",
       "3.52636052461616          3.117148e-03         2.229864e-03\n",
       "3.55534806148941          3.687895e-04         2.567949e-04\n",
       "3.58351893845611          8.585741e-03         5.870719e-03\n",
       "3.66356164612965          4.323377e-03         1.105211e-03\n",
       "3.76120011569356          1.805695e-03         3.165544e-04\n",
       "3.8286413964891           2.873560e-03         1.055586e-03\n",
       "3.87120101090789          2.859982e-03         2.122417e-03\n",
       "3.89182029811063          5.182437e-03         2.704968e-03\n",
       "3.95124371858143          9.620565e-05         7.318188e-06\n",
       "4.07753744390572          1.264377e-03         1.996572e-04\n",
       "4.14313472639153          3.779667e-03         1.093316e-03\n",
       "4.17438726989564          2.881421e-05         3.221343e-07\n",
       "4.20469261939097          9.985883e-04         4.117523e-04\n",
       "4.55387689160054          1.137826e-03         2.367730e-04\n",
       "4.57471097850338          8.057671e-05         9.270272e-06\n",
       "4.70953020131233          5.088122e-04         2.091939e-05\n",
       "4.77068462446567          1.852222e-03         4.583469e-04\n",
       "5.00394630594546          6.913254e-04         2.029166e-04\n",
       "                  Color1:Color2:Color3:Color4\n",
       "0.693147180559945                4.790600e-04\n",
       "1.09861228866811                 7.152546e-04\n",
       "1.38629436111989                 9.571856e-04\n",
       "1.6094379124341                  9.146560e-04\n",
       "1.79175946922805                 2.392375e-04\n",
       "1.94591014905531                 6.992390e-04\n",
       "2.19722457733622                 4.634938e-06\n",
       "2.30258509299405                 5.425567e-04\n",
       "2.39789527279837                 3.662988e-04\n",
       "2.484906649788                   3.324253e-04\n",
       "2.56494935746154                 7.846865e-04\n",
       "2.63905732961526                 1.335821e-03\n",
       "2.70805020110221                 7.251549e-04\n",
       "2.77258872223978                 3.711917e-04\n",
       "2.83321334405622                 8.890321e-04\n",
       "2.89037175789616                 5.567461e-04\n",
       "2.94443897916644                 1.539719e-04\n",
       "2.99573227355399                 4.483222e-04\n",
       "3.04452243772342                 3.226391e-04\n",
       "3.09104245335832                 6.837148e-04\n",
       "3.13549421592915                 8.407202e-04\n",
       "3.17805383034795                 8.112369e-04\n",
       "3.2188758248682                  5.404239e-04\n",
       "3.25809653802148                 8.667362e-04\n",
       "3.29583686600433                 3.452727e-04\n",
       "3.3322045101752                  2.064746e-05\n",
       "3.36729582998647                 6.151328e-04\n",
       "3.40119738166216                 5.251303e-04\n",
       "3.43398720448515                 7.151005e-05\n",
       "3.46573590279973                 8.684487e-04\n",
       "3.49650756146648                 8.837397e-04\n",
       "3.52636052461616                 8.530379e-04\n",
       "3.55534806148941                 1.390263e-04\n",
       "3.58351893845611                 2.196994e-03\n",
       "3.66356164612965                 7.097905e-04\n",
       "3.76120011569356                 2.343142e-04\n",
       "3.8286413964891                  6.090023e-04\n",
       "3.87120101090789                 9.190067e-04\n",
       "3.89182029811063                 1.322578e-03\n",
       "3.95124371858143                 6.565747e-06\n",
       "4.07753744390572                 1.473833e-04\n",
       "4.14313472639153                 6.702106e-04\n",
       "4.17438726989564                 3.150257e-07\n",
       "4.20469261939097                 2.607763e-04\n",
       "4.55387689160054                 1.720393e-04\n",
       "4.57471097850338                 8.073786e-06\n",
       "4.70953020131233                 1.882605e-05\n",
       "4.77068462446567                 3.095675e-04\n",
       "5.00394630594546                 1.448555e-04\n",
       "\n",
       "Coefficients of linear discriminants:\n",
       "                                     LD1         LD2          LD3          LD4\n",
       "Color1                         -50.33413    63.49095    -33.43751    -11.96765\n",
       "Color2                        -102.77409   127.48405    -91.81642    -41.23236\n",
       "Color3                         -95.14054   473.81422   -170.60829    193.26200\n",
       "Color4                        -740.88620   351.52851   -232.05711   -216.33866\n",
       "Color1:Color2                   56.20836   -86.87304    114.00960     33.46274\n",
       "Color1:Color3                  -88.51628  -441.91097    198.55032   -365.26442\n",
       "Color2:Color3                 -117.81602 -1323.24112    720.16815   -401.04555\n",
       "Color1:Color4                  678.06238   -98.10338    283.91616     60.67678\n",
       "Color2:Color4                 1481.90585   178.33461   1615.81667    781.08097\n",
       "Color3:Color4                 1754.50819 -2351.22849   1145.35237  -1583.15891\n",
       "Color1:Color2:Color3          1275.55839  1256.17135  -1107.01472    683.17077\n",
       "Color1:Color2:Color4          -734.82785 -1859.53662  -2896.14989    -97.92587\n",
       "Color1:Color3:Color4          1492.79298   -84.21412  -1190.43154   5327.34566\n",
       "Color2:Color3:Color4           741.88107  1894.20352 -11872.30862   4372.85884\n",
       "Color1:Color2:Color3:Color4 -17376.01700  8419.14872  22688.64491 -19023.68239\n",
       "                                      LD5           LD6         LD7\n",
       "Color1                         -25.284957      3.566173    27.95442\n",
       "Color2                         -24.779047     -2.315628    96.59257\n",
       "Color3                         -41.468120     25.210376    42.77858\n",
       "Color4                        -598.936878   -114.595312   790.66490\n",
       "Color1:Color2                   -1.520348     29.964360   -91.11484\n",
       "Color1:Color3                   44.065074    -26.215594    22.59318\n",
       "Color2:Color3                  -46.216484     38.317812  -133.06029\n",
       "Color1:Color4                  579.563607    394.979261  -867.25027\n",
       "Color2:Color4                 1571.482022    911.916503 -2346.32821\n",
       "Color3:Color4                 3401.975351   2649.303021 -3183.65313\n",
       "Color1:Color2:Color3           -62.265820   -101.548658  -252.14425\n",
       "Color1:Color2:Color4         -1564.547091  -2718.657014  1708.69128\n",
       "Color1:Color3:Color4         -3315.600401  -6518.676809  1726.17422\n",
       "Color2:Color3:Color4        -10719.907271 -13658.681389  5835.84384\n",
       "Color1:Color2:Color3:Color4  13247.514540  33081.206664  9976.91586\n",
       "                                     LD8          LD9        LD10          LD11\n",
       "Color1                         -26.05784    -3.637195    22.25806     -2.783211\n",
       "Color2                         -28.59355    -2.657306    75.83432    -30.625833\n",
       "Color3                         -96.11398  -192.874177    40.66209   -119.353744\n",
       "Color4                        -708.24029   274.648531    49.21930     45.579704\n",
       "Color1:Color2                  -10.60549     2.196281   -67.74031     25.966017\n",
       "Color1:Color3                   38.94881   307.115724    11.53586     21.195530\n",
       "Color2:Color3                  217.62634   687.669359   -51.30098    120.843154\n",
       "Color1:Color4                  913.08595  -554.625742   -71.49014   -112.474638\n",
       "Color2:Color4                 1887.87499  -650.227037  -765.73034   -111.453519\n",
       "Color3:Color4                 3414.35336 -1301.401293   455.61041  -1254.433866\n",
       "Color1:Color2:Color3           -19.96218 -1150.050285  -236.11823    614.244182\n",
       "Color1:Color2:Color4         -2357.32824  1098.694673  1553.05921    124.446549\n",
       "Color1:Color3:Color4         -3724.01711  3420.032114    79.75871   4162.997521\n",
       "Color2:Color3:Color4        -11082.11986  3583.215335  1367.82262   5835.771682\n",
       "Color1:Color2:Color3:Color4  13163.57793 -9920.582634 -7874.75732 -16295.356531\n",
       "                                    LD12        LD13        LD14        LD15\n",
       "Color1                         23.497463     9.30711   -17.98967    13.00400\n",
       "Color2                         38.133612   -47.36101   -62.18789   -32.95591\n",
       "Color3                        186.524849    19.64108  -203.06274   -78.10200\n",
       "Color4                        311.507970  -532.75942    29.87692    28.25601\n",
       "Color1:Color2                  -0.545043    81.03572    41.23831    53.49869\n",
       "Color1:Color3                -268.531038   -94.25953   140.71720   148.97969\n",
       "Color2:Color3                -510.129082    86.52972   430.88207   708.40598\n",
       "Color1:Color4                 -85.521326   608.51528   -93.98721  -118.82450\n",
       "Color2:Color4                 -45.428985  2590.10895   639.74960    74.65093\n",
       "Color3:Color4               -2507.627797  2067.76385  1047.94095  1437.15028\n",
       "Color1:Color2:Color3          756.334186   322.58219   292.00137 -1022.05762\n",
       "Color1:Color2:Color4        -1881.650793 -2881.86245  -591.05046   866.53063\n",
       "Color1:Color3:Color4         2567.747298  -193.62327   250.34643 -1256.42442\n",
       "Color2:Color3:Color4         5322.447264 -8656.59492 -3848.79363 -6016.24054\n",
       "Color1:Color2:Color3:Color4 -2080.908959  -820.51283 -6597.57312  1107.46506\n",
       "\n",
       "Proportion of trace:\n",
       "   LD1    LD2    LD3    LD4    LD5    LD6    LD7    LD8    LD9   LD10   LD11 \n",
       "0.2277 0.1410 0.1103 0.0941 0.0684 0.0620 0.0571 0.0476 0.0472 0.0414 0.0327 \n",
       "  LD12   LD13   LD14   LD15 \n",
       "0.0256 0.0229 0.0126 0.0093 "
      ]
     },
     "metadata": {},
     "output_type": "display_data"
    }
   ],
   "source": [
    "lda.fit=lda(Likes~Color1*Color2*Color3*Color4, data=domcolor, subset=train)\n",
    "lda.fit"
   ]
  },
  {
   "cell_type": "code",
   "execution_count": null,
   "metadata": {},
   "outputs": [],
   "source": [
    "plot(lda.fit)"
   ]
  },
  {
   "cell_type": "code",
   "execution_count": null,
   "metadata": {},
   "outputs": [],
   "source": []
  },
  {
   "cell_type": "code",
   "execution_count": null,
   "metadata": {},
   "outputs": [],
   "source": [
    "qda.fit=qda(Likes~., data=domcolor, subset=train)\n",
    "qda.fit"
   ]
  },
  {
   "cell_type": "code",
   "execution_count": null,
   "metadata": {},
   "outputs": [],
   "source": [
    "qda.class=predict(qda.fit,Smarket.2005)$class\n",
    "table(qda.class,Direction.2005)\n",
    "mean(qda.class==Direction.2005)"
   ]
  },
  {
   "cell_type": "code",
   "execution_count": null,
   "metadata": {},
   "outputs": [],
   "source": [
    "library(class)\n",
    "train.X=cbind(Color1,Color2,Color3,Color4,Color5,Color6,Color7,Color8)[train,]\n",
    "test.X=cbind(Color1,Color2,Color3,Color4,Color5,Color6,Color7,Color8)[!train,]\n",
    "train.Direction=Likes[train]"
   ]
  },
  {
   "cell_type": "code",
   "execution_count": null,
   "metadata": {},
   "outputs": [],
   "source": [
    "set.seed(1)\n",
    "knn.pred=knn(train.X,test.X,train.Direction,k=1)\n",
    "table(knn.pred,Direction.2005)\n",
    "#change k accordingly\n",
    "lda.fit = lda(Likes ~ Color2:Color1, data = domcolor, subset = train)\n",
    "lda.pred = predict(lda.fit, Weekly.200910)\n",
    "table(lda.pred$class, Direction.200910)\n",
    "mean(lda.pred$class == Direction.200910)\n",
    "\n",
    "qda.fit = qda(Likes ~ Color2 + sqrt(abs(Color2)), data = domcolor, subset = train)\n",
    "qda.class = predict(qda.fit, Weekly.200910)$class\n",
    "table(qda.class, Direction.200910)\n",
    "\n",
    "mean(qda.class == Direction.200910)"
   ]
  },
  {
   "cell_type": "code",
   "execution_count": null,
   "metadata": {},
   "outputs": [],
   "source": [
    "library(glmnet)\n",
    "fit1 <- lm(Likes ~ ., data = Colors.train)\n",
    "pred1 <- predict(fit1, Colors.test)\n",
    "mean((pred1 - Colors.test$Likes)^2)\n",
    "\n",
    "x <- model.matrix(Likes ~ ., data = Colors.train)\n",
    "x.test <- model.matrix(Likes ~ ., data = Colors.test)\n",
    "y <- Colors.train$Likes\n",
    "fit2 <- glmnet(x, y, alpha = 0)\n",
    "pred2 <- predict(fit2, s = 0.01, newx = x.test)\n",
    "mean((pred2 - Colors.test$Likes)^2)\n",
    "\n",
    "#3\n",
    "\n",
    "lasso.fit = glmnet(x, y, alpha = 1) #NOT HAS\n",
    "lasso.pred = predict(lasso.fit, s = 0.01, newx = x.test) #NOT HAS"
   ]
  },
  {
   "cell_type": "code",
   "execution_count": null,
   "metadata": {},
   "outputs": [],
   "source": [
    "boost.colors = gbm(Likes~.,data=Colors.train,distribution=\"gaussian\", n.trees = 1000,shrinkage = lambdas[which.min(test.err)])\n",
    "summary(boost.hitters)"
   ]
  },
  {
   "cell_type": "code",
   "execution_count": null,
   "metadata": {},
   "outputs": [],
   "source": [
    "set.seed(120)\n",
    "bag.colors <- randomForest(Likes ~ ., data = Colors.train, mtry = 19, ntree = 500)\n",
    "yhat.bag <- predict(bag.colors, newdata = Colors.test)\n",
    "mean((yhat.bag - Colors.test$Likes)^2)\n",
    "\n",
    "#2\n",
    "cs.bagging<-randomForest(Likes~.,Colors.train,mtry=19,importance=TRUE) #NO HAS\n",
    "cs.bagg.predict<-predict(cs.bagging,Colors.test)\n",
    "cs.bagg.test.mse<-mean((cs.bagg.predict-Colors.test$Likes)^2)\n",
    "cs.bagg.test.mse\n"
   ]
  }
 ],
 "metadata": {
  "kernelspec": {
   "display_name": "R",
   "language": "R",
   "name": "ir"
  },
  "language_info": {
   "codemirror_mode": "r",
   "file_extension": ".r",
   "mimetype": "text/x-r-source",
   "name": "R",
   "pygments_lexer": "r",
   "version": "3.4.2"
  }
 },
 "nbformat": 4,
 "nbformat_minor": 2
}
