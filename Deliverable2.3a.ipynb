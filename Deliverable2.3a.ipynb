{
 "cells": [
  {
   "cell_type": "code",
   "execution_count": 1,
   "metadata": {},
   "outputs": [
    {
     "name": "stderr",
     "output_type": "stream",
     "text": [
      "\n",
      "Attaching package: 'dplyr'\n",
      "\n",
      "The following objects are masked from 'package:data.table':\n",
      "\n",
      "    between, first, last\n",
      "\n",
      "The following objects are masked from 'package:stats':\n",
      "\n",
      "    filter, lag\n",
      "\n",
      "The following objects are masked from 'package:base':\n",
      "\n",
      "    intersect, setdiff, setequal, union\n",
      "\n",
      "Warning message:\n",
      "\"package 'e1071' was built under R version 3.4.3\"Loading required package: lattice\n",
      "Loading tidyverse: tibble\n",
      "Loading tidyverse: tidyr\n",
      "Loading tidyverse: readr\n",
      "Loading tidyverse: purrr\n",
      "Conflicts with tidy packages ---------------------------------------------------\n",
      "between():   dplyr, data.table\n",
      "filter():    dplyr, stats\n",
      "first():     dplyr, data.table\n",
      "lag():       dplyr, stats\n",
      "last():      dplyr, data.table\n",
      "lift():      purrr, caret\n",
      "transpose(): purrr, data.table\n",
      "Warning message:\n",
      "\"package 'ISLR' was built under R version 3.4.3\""
     ]
    }
   ],
   "source": [
    "#finish MachineLearning 2-3 (1)(1)\n",
    "library(data.table) \n",
    "library(ggplot2)\n",
    "library(dplyr)\n",
    "library(e1071)\n",
    "library(rpart)\n",
    "library(caret)\n",
    "library(tidyverse)\n",
    "library(ggplot2)\n",
    "library(stringr)\n",
    "library(ISLR)"
   ]
  },
  {
   "cell_type": "code",
   "execution_count": 2,
   "metadata": {},
   "outputs": [],
   "source": [
    "colorstats <- read.csv('Stats.csv')\n",
    "colorstats %>%\n",
    "  select(Percentage.Black, Percentage.White, Percentage.Blue, Percentage.Red, Percentage.Yellow,\n",
    "         Percentage.Green, Percentage.Purple, People, Percentage.Cyan, Number.of.Likes) ->stat\n",
    "stat %>%\n",
    " select(Percentage.Black, Percentage.White, Percentage.Blue, Percentage.Red, Percentage.Yellow,\n",
    "         Percentage.Green, Percentage.Purple, Percentage.Cyan) ->sorted\n",
    "cbind(sorted, t(apply(sorted, 1, sort, decreasing = TRUE))) -> sorted1\n",
    "colnames(sorted1) <- c(\"Percentage.Black\", \"Percentage.White\", \"Percentage.Blue\", \"Percentage.Red\", \"Percentage.Yellow\",\n",
    "                     \"Percentage.Green\",\"Percentage.Purple\",\"Percentage.Cyan\", \"Color1\", \"Color2\", \"Color3\",\n",
    "                     \"Color4\", \"Color5\", \"Color6\", \"Color7\", \"Color8\")\n",
    "sorted1 %>%\n",
    " select(Color1, Color2, Color3, Color4, Color5, Color6, Color7, Color8) ->domcolor\n",
    "domcolor$Likes <- stat$Number.of.Likes\n",
    "dompcolor <- domcolor\n",
    "dompcolor$People <- stat$People"
   ]
  },
  {
   "cell_type": "code",
   "execution_count": 3,
   "metadata": {},
   "outputs": [],
   "source": [
    "set.seed(1)\n",
    "train=sample(c(TRUE ,FALSE), nrow(domcolor),rep=TRUE)\n",
    "test=(!train)"
   ]
  },
  {
   "cell_type": "code",
   "execution_count": 5,
   "metadata": {},
   "outputs": [
    {
     "name": "stderr",
     "output_type": "stream",
     "text": [
      "Warning message:\n",
      "\"package 'leaps' was built under R version 3.4.4\""
     ]
    }
   ],
   "source": [
    "library(leaps)\n",
    "regfit.best=regsubsets(Likes∼.,data=domcolor[train ,],nvmax=19)"
   ]
  },
  {
   "cell_type": "code",
   "execution_count": 6,
   "metadata": {},
   "outputs": [],
   "source": [
    "test.mat=model.matrix(Likes∼.,data=domcolor[test ,])"
   ]
  },
  {
   "cell_type": "code",
   "execution_count": 13,
   "metadata": {},
   "outputs": [],
   "source": [
    "val.errors =rep(NA ,19)\n",
    "for(i in 1:8){\n",
    "    coefi=coef(regfit.best ,id=i)\n",
    "    pred=test.mat[,names(coefi)]%*%coefi\n",
    "    val.errors[i]=mean((domcolor$Likes[test]-pred)^2)\n",
    "}"
   ]
  },
  {
   "cell_type": "code",
   "execution_count": 14,
   "metadata": {},
   "outputs": [
    {
     "data": {
      "text/html": [
       "<ol class=list-inline>\n",
       "\t<li>14156.614014703</li>\n",
       "\t<li>14149.2414849112</li>\n",
       "\t<li>14141.1652579941</li>\n",
       "\t<li>14126.3901541476</li>\n",
       "\t<li>14139.7080618976</li>\n",
       "\t<li>14159.0483916062</li>\n",
       "\t<li>14159.0450861269</li>\n",
       "\t<li>14154.8439267185</li>\n",
       "\t<li>&lt;NA&gt;</li>\n",
       "\t<li>&lt;NA&gt;</li>\n",
       "\t<li>&lt;NA&gt;</li>\n",
       "\t<li>&lt;NA&gt;</li>\n",
       "\t<li>&lt;NA&gt;</li>\n",
       "\t<li>&lt;NA&gt;</li>\n",
       "\t<li>&lt;NA&gt;</li>\n",
       "\t<li>&lt;NA&gt;</li>\n",
       "\t<li>&lt;NA&gt;</li>\n",
       "\t<li>&lt;NA&gt;</li>\n",
       "\t<li>&lt;NA&gt;</li>\n",
       "</ol>\n"
      ],
      "text/latex": [
       "\\begin{enumerate*}\n",
       "\\item 14156.614014703\n",
       "\\item 14149.2414849112\n",
       "\\item 14141.1652579941\n",
       "\\item 14126.3901541476\n",
       "\\item 14139.7080618976\n",
       "\\item 14159.0483916062\n",
       "\\item 14159.0450861269\n",
       "\\item 14154.8439267185\n",
       "\\item <NA>\n",
       "\\item <NA>\n",
       "\\item <NA>\n",
       "\\item <NA>\n",
       "\\item <NA>\n",
       "\\item <NA>\n",
       "\\item <NA>\n",
       "\\item <NA>\n",
       "\\item <NA>\n",
       "\\item <NA>\n",
       "\\item <NA>\n",
       "\\end{enumerate*}\n"
      ],
      "text/markdown": [
       "1. 14156.614014703\n",
       "2. 14149.2414849112\n",
       "3. 14141.1652579941\n",
       "4. 14126.3901541476\n",
       "5. 14139.7080618976\n",
       "6. 14159.0483916062\n",
       "7. 14159.0450861269\n",
       "8. 14154.8439267185\n",
       "9. &lt;NA&gt;\n",
       "10. &lt;NA&gt;\n",
       "11. &lt;NA&gt;\n",
       "12. &lt;NA&gt;\n",
       "13. &lt;NA&gt;\n",
       "14. &lt;NA&gt;\n",
       "15. &lt;NA&gt;\n",
       "16. &lt;NA&gt;\n",
       "17. &lt;NA&gt;\n",
       "18. &lt;NA&gt;\n",
       "19. &lt;NA&gt;\n",
       "\n",
       "\n"
      ],
      "text/plain": [
       " [1] 14156.61 14149.24 14141.17 14126.39 14139.71 14159.05 14159.05 14154.84\n",
       " [9]       NA       NA       NA       NA       NA       NA       NA       NA\n",
       "[17]       NA       NA       NA"
      ]
     },
     "metadata": {},
     "output_type": "display_data"
    }
   ],
   "source": [
    "val.errors"
   ]
  },
  {
   "cell_type": "code",
   "execution_count": 15,
   "metadata": {},
   "outputs": [
    {
     "data": {
      "text/html": [
       "4"
      ],
      "text/latex": [
       "4"
      ],
      "text/markdown": [
       "4"
      ],
      "text/plain": [
       "[1] 4"
      ]
     },
     "metadata": {},
     "output_type": "display_data"
    }
   ],
   "source": [
    "which.min(val.errors)"
   ]
  },
  {
   "cell_type": "code",
   "execution_count": 16,
   "metadata": {},
   "outputs": [
    {
     "data": {
      "text/html": [
       "<dl class=dl-horizontal>\n",
       "\t<dt>(Intercept)</dt>\n",
       "\t\t<dd>34.4469479115637</dd>\n",
       "\t<dt>Color5</dt>\n",
       "\t\t<dd>315.640400754182</dd>\n",
       "\t<dt>Color6</dt>\n",
       "\t\t<dd>-964.592786283821</dd>\n",
       "\t<dt>Color7</dt>\n",
       "\t\t<dd>2552.63741981154</dd>\n",
       "\t<dt>Color8</dt>\n",
       "\t\t<dd>-2395.99866162501</dd>\n",
       "</dl>\n"
      ],
      "text/latex": [
       "\\begin{description*}\n",
       "\\item[(Intercept)] 34.4469479115637\n",
       "\\item[Color5] 315.640400754182\n",
       "\\item[Color6] -964.592786283821\n",
       "\\item[Color7] 2552.63741981154\n",
       "\\item[Color8] -2395.99866162501\n",
       "\\end{description*}\n"
      ],
      "text/markdown": [
       "(Intercept)\n",
       ":   34.4469479115637Color5\n",
       ":   315.640400754182Color6\n",
       ":   -964.592786283821Color7\n",
       ":   2552.63741981154Color8\n",
       ":   -2395.99866162501\n",
       "\n"
      ],
      "text/plain": [
       "(Intercept)      Color5      Color6      Color7      Color8 \n",
       "   34.44695   315.64040  -964.59279  2552.63742 -2395.99866 "
      ]
     },
     "metadata": {},
     "output_type": "display_data"
    }
   ],
   "source": [
    "coef(regfit.best,4)"
   ]
  },
  {
   "cell_type": "code",
   "execution_count": 17,
   "metadata": {},
   "outputs": [],
   "source": [
    "predict.regsubsets=function (object,newdata,id,...){\n",
    "    form=as.formula (object$call [[2]])\n",
    "    mat=model.matrix(form ,newdata)\n",
    "    coefi=coef(object ,id=id)\n",
    "    xvars=names(coefi)\n",
    "    mat[,xvars]%*%coefi\n",
    "}"
   ]
  },
  {
   "cell_type": "code",
   "execution_count": 18,
   "metadata": {},
   "outputs": [
    {
     "data": {
      "text/html": [
       "<dl class=dl-horizontal>\n",
       "\t<dt>(Intercept)</dt>\n",
       "\t\t<dd>41.5685694705214</dd>\n",
       "\t<dt>Color4</dt>\n",
       "\t\t<dd>-82.4336720289952</dd>\n",
       "\t<dt>Color5</dt>\n",
       "\t\t<dd>448.899820605462</dd>\n",
       "\t<dt>Color6</dt>\n",
       "\t\t<dd>-987.825449578492</dd>\n",
       "\t<dt>Color7</dt>\n",
       "\t\t<dd>1049.88364291451</dd>\n",
       "</dl>\n"
      ],
      "text/latex": [
       "\\begin{description*}\n",
       "\\item[(Intercept)] 41.5685694705214\n",
       "\\item[Color4] -82.4336720289952\n",
       "\\item[Color5] 448.899820605462\n",
       "\\item[Color6] -987.825449578492\n",
       "\\item[Color7] 1049.88364291451\n",
       "\\end{description*}\n"
      ],
      "text/markdown": [
       "(Intercept)\n",
       ":   41.5685694705214Color4\n",
       ":   -82.4336720289952Color5\n",
       ":   448.899820605462Color6\n",
       ":   -987.825449578492Color7\n",
       ":   1049.88364291451\n",
       "\n"
      ],
      "text/plain": [
       "(Intercept)      Color4      Color5      Color6      Color7 \n",
       "   41.56857   -82.43367   448.89982  -987.82545  1049.88364 "
      ]
     },
     "metadata": {},
     "output_type": "display_data"
    }
   ],
   "source": [
    "regfit.best=regsubsets (Likes∼.,data=domcolor ,nvmax=19)\n",
    "coef(regfit.best,4)"
   ]
  },
  {
   "cell_type": "code",
   "execution_count": null,
   "metadata": {},
   "outputs": [],
   "source": []
  },
  {
   "cell_type": "code",
   "execution_count": null,
   "metadata": {},
   "outputs": [],
   "source": []
  }
 ],
 "metadata": {
  "kernelspec": {
   "display_name": "R",
   "language": "R",
   "name": "ir"
  },
  "language_info": {
   "codemirror_mode": "r",
   "file_extension": ".r",
   "mimetype": "text/x-r-source",
   "name": "R",
   "pygments_lexer": "r",
   "version": "3.4.2"
  }
 },
 "nbformat": 4,
 "nbformat_minor": 2
}
