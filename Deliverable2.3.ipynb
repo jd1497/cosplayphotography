{
 "cells": [
  {
   "cell_type": "code",
   "execution_count": null,
   "metadata": {},
   "outputs": [],
   "source": [
    "#finish MachineLearning 2-3 (1)(1)\n",
    "library(data.table) \n",
    "library(ggplot2)\n",
    "library(dplyr)\n",
    "library(e1071)\n",
    "library(rpart)\n",
    "library(caret)\n",
    "library(tidyverse)\n",
    "library(ggplot2)\n",
    "library(stringr)\n",
    "library(ISLR)"
   ]
  },
  {
   "cell_type": "code",
   "execution_count": null,
   "metadata": {},
   "outputs": [],
   "source": [
    "colorstats <- read.csv('Stats.csv')\n",
    "colorstats %>%\n",
    "  select(Percentage.Black, Percentage.White, Percentage.Blue, Percentage.Red, Percentage.Yellow,\n",
    "         Percentage.Green, Percentage.Purple, People, Percentage.Cyan, Number.of.Likes) ->stat\n",
    "stat %>%\n",
    " select(Percentage.Black, Percentage.White, Percentage.Blue, Percentage.Red, Percentage.Yellow,\n",
    "         Percentage.Green, Percentage.Purple, Percentage.Cyan) ->sorted\n",
    "cbind(sorted, t(apply(sorted, 1, sort, decreasing = TRUE))) -> sorted1\n",
    "colnames(sorted1) <- c(\"Percentage.Black\", \"Percentage.White\", \"Percentage.Blue\", \"Percentage.Red\", \"Percentage.Yellow\",\n",
    "                     \"Percentage.Green\",\"Percentage.Purple\",\"Percentage.Cyan\", \"Color1\", \"Color2\", \"Color3\",\n",
    "                     \"Color4\", \"Color5\", \"Color6\", \"Color7\", \"Color8\")\n",
    "sorted1 %>%\n",
    " select(Color1, Color2, Color3, Color4, Color5, Color6, Color7, Color8) ->domcolor\n",
    "domcolor$Likes <- stat$Number.of.Likes\n",
    "dompcolor <- domcolor\n",
    "dompcolor$People <- stat$People"
   ]
  },
  {
   "cell_type": "code",
   "execution_count": null,
   "metadata": {},
   "outputs": [],
   "source": [
    "set.seed(1)\n",
    "train=sample(c(TRUE ,FALSE), nrow(domcolor),rep=TRUE)\n",
    "test=(!train)"
   ]
  },
  {
   "cell_type": "code",
   "execution_count": null,
   "metadata": {},
   "outputs": [],
   "source": [
    "regfit.best=regsubsets(Likes∼.,data=domcolor[train ,],nvmax=19)"
   ]
  },
  {
   "cell_type": "code",
   "execution_count": null,
   "metadata": {},
   "outputs": [],
   "source": [
    "test.mat=model.matrix(Salary∼.,data=Hitters [test ,])"
   ]
  },
  {
   "cell_type": "code",
   "execution_count": null,
   "metadata": {},
   "outputs": [],
   "source": [
    "val.errors =rep(NA ,19)\n",
    "for(i in 1:19){\n",
    "    coefi=coef(regfit.best ,id=i)\n",
    "    pred=test.mat[,names(coefi)]%*%coefi\n",
    "    val.errors[i]=mean(( Hitters$Salary[test]-pred)^2)\n",
    "}"
   ]
  },
  {
   "cell_type": "code",
   "execution_count": null,
   "metadata": {},
   "outputs": [],
   "source": [
    "val.errors"
   ]
  },
  {
   "cell_type": "code",
   "execution_count": null,
   "metadata": {},
   "outputs": [],
   "source": [
    "which.min(val.errors)"
   ]
  },
  {
   "cell_type": "code",
   "execution_count": null,
   "metadata": {},
   "outputs": [],
   "source": [
    "coef(regfit.best,10)"
   ]
  },
  {
   "cell_type": "code",
   "execution_count": null,
   "metadata": {},
   "outputs": [],
   "source": [
    "predict.regsubsets=function (object,newdata,id,...){\n",
    "    form=as.formula (object$call [[2]])\n",
    "    mat=model.matrix(form ,newdata)\n",
    "    coefi=coef(object ,id=id)\n",
    "    xvars=names(coefi)\n",
    "    mat[,xvars]%*%coefi\n",
    "}"
   ]
  },
  {
   "cell_type": "code",
   "execution_count": null,
   "metadata": {},
   "outputs": [],
   "source": [
    "regfit.best=regsubsets (Likes∼.,data=Hitters ,nvmax=19)\n",
    "coef(regfit.best,10)"
   ]
  },
  {
   "cell_type": "code",
   "execution_count": null,
   "metadata": {},
   "outputs": [],
   "source": []
  },
  {
   "cell_type": "code",
   "execution_count": null,
   "metadata": {},
   "outputs": [],
   "source": []
  }
 ],
 "metadata": {
  "kernelspec": {
   "display_name": "R",
   "language": "R",
   "name": "ir"
  },
  "language_info": {
   "codemirror_mode": "r",
   "file_extension": ".r",
   "mimetype": "text/x-r-source",
   "name": "R",
   "pygments_lexer": "r",
   "version": "3.4.2"
  }
 },
 "nbformat": 4,
 "nbformat_minor": 2
}
