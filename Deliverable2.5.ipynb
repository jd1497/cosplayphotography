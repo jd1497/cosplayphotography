{
 "cells": [
  {
   "cell_type": "code",
   "execution_count": null,
   "metadata": {},
   "outputs": [],
   "source": [
    "library(ISLR)\n",
    "library(MASS)\n",
    "library(class)\n",
    "library(ISLR)\n",
    "library(MASS)\n",
    "library(data.table) \n",
    "library(ggplot2)\n",
    "library(dplyr)\n",
    "library(e1071)\n",
    "library(rpart)\n",
    "library(caret)\n",
    "library(tidyverse)\n",
    "library(ggplot2)\n",
    "library(stringr)"
   ]
  },
  {
   "cell_type": "code",
   "execution_count": null,
   "metadata": {},
   "outputs": [],
   "source": [
    "colorstats <- read.csv('Stats.csv')\n",
    "colorstats %>%\n",
    "  select(Percentage.Black, Percentage.White, Percentage.Blue, Percentage.Red, Percentage.Yellow,\n",
    "         Percentage.Green, Percentage.Purple, People, Percentage.Cyan, Number.of.Likes) ->stat\n",
    "stat %>%\n",
    " select(Percentage.Black, Percentage.White, Percentage.Blue, Percentage.Red, Percentage.Yellow,\n",
    "         Percentage.Green, Percentage.Purple, Percentage.Cyan) ->sorted\n",
    "cbind(sorted, t(apply(sorted, 1, sort, decreasing = TRUE))) -> sorted1\n",
    "colnames(sorted1) <- c(\"Percentage.Black\", \"Percentage.White\", \"Percentage.Blue\", \"Percentage.Red\", \"Percentage.Yellow\",\n",
    "                     \"Percentage.Green\",\"Percentage.Purple\",\"Percentage.Cyan\", \"Color1\", \"Color2\", \"Color3\",\n",
    "                     \"Color4\", \"Color5\", \"Color6\", \"Color7\", \"Color8\")\n",
    "sorted1 %>%\n",
    " select(Color1, Color2, Color3, Color4, Color5, Color6, Color7, Color8) ->domcolor\n",
    "dompcolor <- domcolor\n",
    "domcolor$Likes <- stat$Number.of.Likes\n",
    "dompcolor$People <- stat$People"
   ]
  },
  {
   "cell_type": "code",
   "execution_count": null,
   "metadata": {},
   "outputs": [],
   "source": []
  },
  {
   "cell_type": "code",
   "execution_count": null,
   "metadata": {},
   "outputs": [],
   "source": [
    "glm.fit=glm(mpg~horsepower,data=Auto)\n",
    "coef(glm.fit)"
   ]
  },
  {
   "cell_type": "code",
   "execution_count": null,
   "metadata": {},
   "outputs": [],
   "source": []
  },
  {
   "cell_type": "code",
   "execution_count": null,
   "metadata": {},
   "outputs": [],
   "source": []
  },
  {
   "cell_type": "code",
   "execution_count": null,
   "metadata": {},
   "outputs": [],
   "source": [
    "boot.fn=function(data,index)\n",
    "    return(coef(lm(mpg~horsepower,data=data,subset=index)))\n",
    "boot.fn(Auto,1:392)"
   ]
  },
  {
   "cell_type": "code",
   "execution_count": null,
   "metadata": {},
   "outputs": [],
   "source": [
    "boot(Auto,boot.fn,1000)"
   ]
  },
  {
   "cell_type": "code",
   "execution_count": null,
   "metadata": {},
   "outputs": [],
   "source": [
    "boot.fn=function(data,index)\n",
    "    coefficients(lm(mpg~horsepower+I(horsepower^2),data=data,subset=index))\n",
    "set.seed(1)\n",
    "boot(Auto,boot.fn,1000)"
   ]
  },
  {
   "cell_type": "code",
   "execution_count": null,
   "metadata": {},
   "outputs": [],
   "source": [
    "summary(lm(mpg~horsepower+I(horsepower^2),data=Auto))$coef"
   ]
  },
  {
   "cell_type": "code",
   "execution_count": null,
   "metadata": {},
   "outputs": [],
   "source": [
    "#tree\n",
    "library(ISLR)\n",
    "attach(OJ)\n",
    "set.seed(20)\n",
    "train=sample(1:nrow(OJ),800)\n",
    "oj.train=OJ[train,]\n",
    "oj.test=OJ[-train,]\n",
    "\n",
    "library(tree)\n",
    "\n",
    "tree.oj=tree(Purchase~.,data=oj.train)\n",
    "summary(tree.oj)"
   ]
  },
  {
   "cell_type": "code",
   "execution_count": null,
   "metadata": {},
   "outputs": [],
   "source": [
    "tree.oj"
   ]
  },
  {
   "cell_type": "code",
   "execution_count": null,
   "metadata": {},
   "outputs": [],
   "source": [
    "plot(tree.oj)\n",
    "text(tree.oj, pretty = 0)"
   ]
  },
  {
   "cell_type": "code",
   "execution_count": null,
   "metadata": {},
   "outputs": [],
   "source": [
    "tree.pred =predict(tree.oj, oj.test,type = \"class\")\n",
    "table(tree.pred,oj.test$Purchase)\n",
    "\n",
    "\n",
    "\n",
    "TE = table(tree.pred, oj.test$Purchase)\n",
    "(TE[1, 2] + TE[2, 1])/sum(TE)"
   ]
  },
  {
   "cell_type": "code",
   "execution_count": null,
   "metadata": {},
   "outputs": [],
   "source": [
    "cv.oj = cv.tree(tree.oj, FUN = prune.misclass)\n",
    "cv.oj"
   ]
  },
  {
   "cell_type": "code",
   "execution_count": null,
   "metadata": {},
   "outputs": [],
   "source": [
    "plot(cv.oj$size,cv.oj$dev,xlab=\"Tree size\",ylab=\"CV Deviance\",type = \"b\")\n",
    "points(7,min(cv.oj$dev),col=\"red\")\n"
   ]
  },
  {
   "cell_type": "code",
   "execution_count": null,
   "metadata": {},
   "outputs": [],
   "source": [
    "prune.oj <- prune.misclass(tree.oj, best = 7)\n",
    "plot(prune.oj)\n",
    "text(prune.oj, pretty = 0)"
   ]
  },
  {
   "cell_type": "code",
   "execution_count": null,
   "metadata": {},
   "outputs": [],
   "source": [
    "summary(tree.oj)"
   ]
  },
  {
   "cell_type": "code",
   "execution_count": null,
   "metadata": {},
   "outputs": [],
   "source": [
    "summary(prune.oj)"
   ]
  },
  {
   "cell_type": "code",
   "execution_count": null,
   "metadata": {},
   "outputs": [],
   "source": [
    "prune.misclas=summary(prune.oj)$misclass[1]*100/summary(prune.oj)$misclass[2]\n",
    "prune.misclas"
   ]
  },
  {
   "cell_type": "code",
   "execution_count": null,
   "metadata": {},
   "outputs": [],
   "source": [
    "yprune = predict(tree.oj, newdata = oj.train, type = \"class\")\n",
    "CT = table(yprune, OJ[train, ]$Purchase)\n",
    "print((CT[1, 2] + CT[2, 1])/sum(CT))"
   ]
  },
  {
   "cell_type": "code",
   "execution_count": null,
   "metadata": {},
   "outputs": [],
   "source": [
    "ypune01 = predict(prune.oj, newdata = oj.train, type = \"class\")\n",
    "CT = table(ypune01, oj.train$Purchase)\n",
    "print((CT[1, 2] + CT[2, 1])/sum(CT))"
   ]
  },
  {
   "cell_type": "code",
   "execution_count": null,
   "metadata": {},
   "outputs": [],
   "source": [
    "prune.pred <- predict(prune.oj, oj.test, type = \"class\")\n",
    "table(prune.pred, oj.test$Purchase)\n",
    "1 - (132 + 85) / 270\n",
    "\n",
    "#2\n",
    "\n",
    "pred.unpruned = predict(tree.oj, oj.test, type = \"class\")\n",
    "misclass.unpruned = sum(oj.test$Purchase != pred.unpruned)\n",
    "misclass.unpruned/length(pred.unpruned)\n",
    "\n",
    "pred.pruned = predict(prune.oj, oj.test, type = \"class\")\n",
    "misclass.pruned = sum(oj.test$Purchase != pred.pruned)\n",
    "misclass.pruned/length(pred.pruned)"
   ]
  },
  {
   "cell_type": "code",
   "execution_count": null,
   "metadata": {},
   "outputs": [],
   "source": [
    "library (gam) \n",
    "gam.m3=gam(wage∼s(year,4)+s(age,5)+education,data=Wage)\n",
    "anova(gam.m1,gam.m2,gam.m3,test=\"F\") "
   ]
  },
  {
   "cell_type": "code",
   "execution_count": null,
   "metadata": {},
   "outputs": [],
   "source": [
    "preds=predict(gam.m2,newdata =Wage)\n",
    "gam.lo=gam(wage∼s(year,df=4)+lo(age,span=0.7)+education, data=Wage) \n",
    "plot.gam(gam.lo, se=TRUE , col=\"green\") "
   ]
  },
  {
   "cell_type": "code",
   "execution_count": null,
   "metadata": {},
   "outputs": [],
   "source": [
    "library (akima) \n",
    "gam.lo.i=gam(wage∼lo(year,age,span=0.5)+education, data=Wage) \n",
    "plot(gam.lo.i)"
   ]
  }
 ],
 "metadata": {
  "kernelspec": {
   "display_name": "R",
   "language": "R",
   "name": "ir"
  },
  "language_info": {
   "codemirror_mode": "r",
   "file_extension": ".r",
   "mimetype": "text/x-r-source",
   "name": "R",
   "pygments_lexer": "r",
   "version": "3.4.2"
  }
 },
 "nbformat": 4,
 "nbformat_minor": 2
}
