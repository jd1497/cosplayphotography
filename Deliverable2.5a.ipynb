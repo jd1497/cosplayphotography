{
 "cells": [
  {
   "cell_type": "code",
   "execution_count": 2,
   "metadata": {},
   "outputs": [
    {
     "name": "stderr",
     "output_type": "stream",
     "text": [
      "Warning message:\n",
      "\"package 'ISLR' was built under R version 3.4.3\"\n",
      "Attaching package: 'dplyr'\n",
      "\n",
      "The following objects are masked from 'package:data.table':\n",
      "\n",
      "    between, first, last\n",
      "\n",
      "The following object is masked from 'package:MASS':\n",
      "\n",
      "    select\n",
      "\n",
      "The following objects are masked from 'package:stats':\n",
      "\n",
      "    filter, lag\n",
      "\n",
      "The following objects are masked from 'package:base':\n",
      "\n",
      "    intersect, setdiff, setequal, union\n",
      "\n",
      "Warning message:\n",
      "\"package 'e1071' was built under R version 3.4.3\"Loading required package: lattice\n",
      "Loading tidyverse: tibble\n",
      "Loading tidyverse: tidyr\n",
      "Loading tidyverse: readr\n",
      "Loading tidyverse: purrr\n",
      "Conflicts with tidy packages ---------------------------------------------------\n",
      "between():   dplyr, data.table\n",
      "filter():    dplyr, stats\n",
      "first():     dplyr, data.table\n",
      "lag():       dplyr, stats\n",
      "last():      dplyr, data.table\n",
      "lift():      purrr, caret\n",
      "select():    dplyr, MASS\n",
      "transpose(): purrr, data.table\n"
     ]
    }
   ],
   "source": [
    "library(ISLR)\n",
    "library(MASS)\n",
    "library(class)\n",
    "library(ISLR)\n",
    "library(MASS)\n",
    "library(data.table) \n",
    "library(ggplot2)\n",
    "library(dplyr)\n",
    "library(e1071)\n",
    "library(rpart)\n",
    "library(caret)\n",
    "library(tidyverse)\n",
    "library(ggplot2)\n",
    "library(stringr)"
   ]
  },
  {
   "cell_type": "code",
   "execution_count": 3,
   "metadata": {},
   "outputs": [],
   "source": [
    "colorstats <- read.csv('Stats.csv')\n",
    "colorstats %>%\n",
    "  select(Percentage.Black, Percentage.White, Percentage.Blue, Percentage.Red, Percentage.Yellow,\n",
    "         Percentage.Green, Percentage.Purple, People, Percentage.Cyan, Number.of.Likes) ->stat\n",
    "stat %>%\n",
    "    filter(Number.of.Likes <=100) -> stat1\n",
    "\n",
    "stat1 %>%\n",
    "    select(Percentage.Black, Percentage.White, Percentage.Blue, Percentage.Red, Percentage.Yellow,\n",
    "         Percentage.Green, Percentage.Purple, Percentage.Cyan) ->sorted\n",
    "cbind(sorted, t(apply(sorted, 1, sort, decreasing = TRUE))) -> sorted1\n",
    "colnames(sorted1) <- c(\"Percentage.Black\", \"Percentage.White\", \"Percentage.Blue\", \"Percentage.Red\", \"Percentage.Yellow\",\n",
    "                     \"Percentage.Green\",\"Percentage.Purple\",\"Percentage.Cyan\", \"Color1\", \"Color2\", \"Color3\",\n",
    "                     \"Color4\", \"Color5\", \"Color6\", \"Color7\", \"Color8\")\n",
    "sorted1 %>%\n",
    " select(Color1, Color2, Color3, Color4, Color5, Color6, Color7, Color8) ->domcolor\n",
    "dompcolor <- domcolor\n",
    "domcolor$Likes <- stat1$Number.of.Likes\n",
    "dompcolor$People <- stat1$People"
   ]
  },
  {
   "cell_type": "code",
   "execution_count": null,
   "metadata": {},
   "outputs": [],
   "source": []
  },
  {
   "cell_type": "code",
   "execution_count": 8,
   "metadata": {},
   "outputs": [
    {
     "data": {
      "text/html": [
       "<dl class=dl-horizontal>\n",
       "\t<dt>(Intercept)</dt>\n",
       "\t\t<dd>626194.660768813</dd>\n",
       "\t<dt>Color1</dt>\n",
       "\t\t<dd>-626172.784927993</dd>\n",
       "\t<dt>Color2</dt>\n",
       "\t\t<dd>-626174.758107799</dd>\n",
       "\t<dt>Color3</dt>\n",
       "\t\t<dd>-626155.530723628</dd>\n",
       "\t<dt>Color4</dt>\n",
       "\t\t<dd>-626227.003343643</dd>\n",
       "\t<dt>Color5</dt>\n",
       "\t\t<dd>-626127.029007172</dd>\n",
       "\t<dt>Color6</dt>\n",
       "\t\t<dd>-626131.090374196</dd>\n",
       "\t<dt>Color7</dt>\n",
       "\t\t<dd>-626053.679479601</dd>\n",
       "\t<dt>Color8</dt>\n",
       "\t\t<dd>-626178.676411067</dd>\n",
       "</dl>\n"
      ],
      "text/latex": [
       "\\begin{description*}\n",
       "\\item[(Intercept)] 626194.660768813\n",
       "\\item[Color1] -626172.784927993\n",
       "\\item[Color2] -626174.758107799\n",
       "\\item[Color3] -626155.530723628\n",
       "\\item[Color4] -626227.003343643\n",
       "\\item[Color5] -626127.029007172\n",
       "\\item[Color6] -626131.090374196\n",
       "\\item[Color7] -626053.679479601\n",
       "\\item[Color8] -626178.676411067\n",
       "\\end{description*}\n"
      ],
      "text/markdown": [
       "(Intercept)\n",
       ":   626194.660768813Color1\n",
       ":   -626172.784927993Color2\n",
       ":   -626174.758107799Color3\n",
       ":   -626155.530723628Color4\n",
       ":   -626227.003343643Color5\n",
       ":   -626127.029007172Color6\n",
       ":   -626131.090374196Color7\n",
       ":   -626053.679479601Color8\n",
       ":   -626178.676411067\n",
       "\n"
      ],
      "text/plain": [
       "(Intercept)      Color1      Color2      Color3      Color4      Color5 \n",
       "   626194.7   -626172.8   -626174.8   -626155.5   -626227.0   -626127.0 \n",
       "     Color6      Color7      Color8 \n",
       "  -626131.1   -626053.7   -626178.7 "
      ]
     },
     "metadata": {},
     "output_type": "display_data"
    }
   ],
   "source": [
    "glm.fit=glm(Likes~.,data=domcolor)\n",
    "coef(glm.fit)"
   ]
  },
  {
   "cell_type": "code",
   "execution_count": null,
   "metadata": {},
   "outputs": [],
   "source": []
  },
  {
   "cell_type": "code",
   "execution_count": null,
   "metadata": {},
   "outputs": [],
   "source": []
  },
  {
   "cell_type": "code",
   "execution_count": 9,
   "metadata": {},
   "outputs": [
    {
     "data": {
      "text/html": [
       "<dl class=dl-horizontal>\n",
       "\t<dt>(Intercept)</dt>\n",
       "\t\t<dd>584001.839946737</dd>\n",
       "\t<dt>Color1</dt>\n",
       "\t\t<dd>-583979.923187177</dd>\n",
       "\t<dt>Color2</dt>\n",
       "\t\t<dd>-583981.15514396</dd>\n",
       "\t<dt>Color3</dt>\n",
       "\t\t<dd>-583964.626347344</dd>\n",
       "\t<dt>Color4</dt>\n",
       "\t\t<dd>-584038.059642349</dd>\n",
       "\t<dt>Color5</dt>\n",
       "\t\t<dd>-583923.676968981</dd>\n",
       "\t<dt>Color6</dt>\n",
       "\t\t<dd>-583940.416575715</dd>\n",
       "\t<dt>Color7</dt>\n",
       "\t\t<dd>-583850.337775829</dd>\n",
       "\t<dt>Color8</dt>\n",
       "\t\t<dd>-583991.2844263</dd>\n",
       "</dl>\n"
      ],
      "text/latex": [
       "\\begin{description*}\n",
       "\\item[(Intercept)] 584001.839946737\n",
       "\\item[Color1] -583979.923187177\n",
       "\\item[Color2] -583981.15514396\n",
       "\\item[Color3] -583964.626347344\n",
       "\\item[Color4] -584038.059642349\n",
       "\\item[Color5] -583923.676968981\n",
       "\\item[Color6] -583940.416575715\n",
       "\\item[Color7] -583850.337775829\n",
       "\\item[Color8] -583991.2844263\n",
       "\\end{description*}\n"
      ],
      "text/markdown": [
       "(Intercept)\n",
       ":   584001.839946737Color1\n",
       ":   -583979.923187177Color2\n",
       ":   -583981.15514396Color3\n",
       ":   -583964.626347344Color4\n",
       ":   -584038.059642349Color5\n",
       ":   -583923.676968981Color6\n",
       ":   -583940.416575715Color7\n",
       ":   -583850.337775829Color8\n",
       ":   -583991.2844263\n",
       "\n"
      ],
      "text/plain": [
       "(Intercept)      Color1      Color2      Color3      Color4      Color5 \n",
       "   584001.8   -583979.9   -583981.2   -583964.6   -584038.1   -583923.7 \n",
       "     Color6      Color7      Color8 \n",
       "  -583940.4   -583850.3   -583991.3 "
      ]
     },
     "metadata": {},
     "output_type": "display_data"
    }
   ],
   "source": [
    "boot.fn=function(data,index)\n",
    "    return(coef(lm(Likes~.,data=data,subset=index)))\n",
    "boot.fn(domcolor,1:900)"
   ]
  },
  {
   "cell_type": "code",
   "execution_count": 10,
   "metadata": {},
   "outputs": [
    {
     "name": "stderr",
     "output_type": "stream",
     "text": [
      "\n",
      "Attaching package: 'boot'\n",
      "\n",
      "The following object is masked from 'package:survival':\n",
      "\n",
      "    aml\n",
      "\n",
      "The following object is masked from 'package:lattice':\n",
      "\n",
      "    melanoma\n",
      "\n"
     ]
    },
    {
     "data": {
      "text/plain": [
       "\n",
       "ORDINARY NONPARAMETRIC BOOTSTRAP\n",
       "\n",
       "\n",
       "Call:\n",
       "boot(data = domcolor, statistic = boot.fn, R = 10000)\n",
       "\n",
       "\n",
       "Bootstrap Statistics :\n",
       "     original    bias    std. error\n",
       "t1*  626194.7 -2938.848    689976.1\n",
       "t2* -626172.8  2938.843    689976.3\n",
       "t3* -626174.8  2938.852    689975.2\n",
       "t4* -626155.5  2938.923    689975.7\n",
       "t5* -626227.0  2938.518    689977.5\n",
       "t6* -626127.0  2940.110    689981.9\n",
       "t7* -626131.1  2942.378    689967.7\n",
       "t8* -626053.7  2928.765    689948.7\n",
       "t9* -626178.7  2930.440    690017.4"
      ]
     },
     "metadata": {},
     "output_type": "display_data"
    }
   ],
   "source": [
    "library(boot)\n",
    "boot(domcolor,boot.fn,10000)"
   ]
  },
  {
   "cell_type": "code",
   "execution_count": 11,
   "metadata": {},
   "outputs": [
    {
     "data": {
      "text/plain": [
       "\n",
       "ORDINARY NONPARAMETRIC BOOTSTRAP\n",
       "\n",
       "\n",
       "Call:\n",
       "boot(data = domcolor, statistic = boot.fn, R = 10000)\n",
       "\n",
       "\n",
       "Bootstrap Statistics :\n",
       "         original        bias     std. error\n",
       "t1*  1.698600e+01 -1.209492e+00 5.969350e+00\n",
       "t2*  6.000427e+00  1.380935e+00 7.210681e+00\n",
       "t3*  7.727578e+00  3.636233e+00 1.923102e+01\n",
       "t4*  3.589304e+02  1.933176e+01 2.990992e+02\n",
       "t5* -4.550786e+03  2.612312e+02 4.306417e+03\n",
       "t6*  2.411952e+05 -4.258051e+04 5.008095e+05\n",
       "t7* -7.450644e+07  5.526763e+08 1.069346e+09\n",
       "t8*  8.082718e+10  1.796439e+11 6.462782e+11\n",
       "t9*  1.659312e+14  1.423827e+15 6.723586e+15"
      ]
     },
     "metadata": {},
     "output_type": "display_data"
    }
   ],
   "source": [
    "boot.fn=function(data,index)\n",
    "    coefficients(lm(Likes~Color1+I(Color2^2)+I(Color3^3)+I(Color4^4)+I(Color5^5)+I(Color6^6)+I(Color7^7)+I(Color8^8),\n",
    "                    data=data,subset=index))\n",
    "set.seed(1)\n",
    "boot(domcolor,boot.fn,10000)"
   ]
  },
  {
   "cell_type": "code",
   "execution_count": 12,
   "metadata": {},
   "outputs": [
    {
     "data": {
      "text/html": [
       "<table>\n",
       "<thead><tr><th></th><th scope=col>Estimate</th><th scope=col>Std. Error</th><th scope=col>t value</th><th scope=col>Pr(&gt;|t|)</th></tr></thead>\n",
       "<tbody>\n",
       "\t<tr><th scope=row>(Intercept)</th><td> 1.698600e+01</td><td>5.442872e+00 </td><td> 3.1207798   </td><td>0.001858963  </td></tr>\n",
       "\t<tr><th scope=row>Color1</th><td> 6.000427e+00</td><td>6.576454e+00 </td><td> 0.9124108   </td><td>0.361787195  </td></tr>\n",
       "\t<tr><th scope=row>I(Color2^2)</th><td> 7.727578e+00</td><td>1.939085e+01 </td><td> 0.3985167   </td><td>0.690340154  </td></tr>\n",
       "\t<tr><th scope=row>I(Color3^3)</th><td> 3.589304e+02</td><td>2.207030e+02 </td><td> 1.6263046   </td><td>0.104221122  </td></tr>\n",
       "\t<tr><th scope=row>I(Color4^4)</th><td>-4.550786e+03</td><td>4.140720e+03 </td><td>-1.0990325   </td><td>0.272036208  </td></tr>\n",
       "\t<tr><th scope=row>I(Color5^5)</th><td> 2.411952e+05</td><td>3.169193e+05 </td><td> 0.7610619   </td><td>0.446811573  </td></tr>\n",
       "\t<tr><th scope=row>I(Color6^6)</th><td>-7.450644e+07</td><td>1.102835e+08 </td><td>-0.6755903   </td><td>0.499467507  </td></tr>\n",
       "\t<tr><th scope=row>I(Color7^7)</th><td> 8.082718e+10</td><td>2.792339e+11 </td><td> 0.2894605   </td><td>0.772293012  </td></tr>\n",
       "\t<tr><th scope=row>I(Color8^8)</th><td> 1.659312e+14</td><td>3.430206e+14 </td><td> 0.4837354   </td><td>0.628686720  </td></tr>\n",
       "</tbody>\n",
       "</table>\n"
      ],
      "text/latex": [
       "\\begin{tabular}{r|llll}\n",
       "  & Estimate & Std. Error & t value & Pr(>\\textbar{}t\\textbar{})\\\\\n",
       "\\hline\n",
       "\t(Intercept) &  1.698600e+01 & 5.442872e+00  &  3.1207798    & 0.001858963  \\\\\n",
       "\tColor1 &  6.000427e+00 & 6.576454e+00  &  0.9124108    & 0.361787195  \\\\\n",
       "\tI(Color2\\textasciicircum{}2) &  7.727578e+00 & 1.939085e+01  &  0.3985167    & 0.690340154  \\\\\n",
       "\tI(Color3\\textasciicircum{}3) &  3.589304e+02 & 2.207030e+02  &  1.6263046    & 0.104221122  \\\\\n",
       "\tI(Color4\\textasciicircum{}4) & -4.550786e+03 & 4.140720e+03  & -1.0990325    & 0.272036208  \\\\\n",
       "\tI(Color5\\textasciicircum{}5) &  2.411952e+05 & 3.169193e+05  &  0.7610619    & 0.446811573  \\\\\n",
       "\tI(Color6\\textasciicircum{}6) & -7.450644e+07 & 1.102835e+08  & -0.6755903    & 0.499467507  \\\\\n",
       "\tI(Color7\\textasciicircum{}7) &  8.082718e+10 & 2.792339e+11  &  0.2894605    & 0.772293012  \\\\\n",
       "\tI(Color8\\textasciicircum{}8) &  1.659312e+14 & 3.430206e+14  &  0.4837354    & 0.628686720  \\\\\n",
       "\\end{tabular}\n"
      ],
      "text/markdown": [
       "\n",
       "| <!--/--> | Estimate | Std. Error | t value | Pr(>|t|) | \n",
       "|---|---|---|---|---|---|---|---|---|\n",
       "| (Intercept) |  1.698600e+01 | 5.442872e+00  |  3.1207798    | 0.001858963   | \n",
       "| Color1 |  6.000427e+00 | 6.576454e+00  |  0.9124108    | 0.361787195   | \n",
       "| I(Color2^2) |  7.727578e+00 | 1.939085e+01  |  0.3985167    | 0.690340154   | \n",
       "| I(Color3^3) |  3.589304e+02 | 2.207030e+02  |  1.6263046    | 0.104221122   | \n",
       "| I(Color4^4) | -4.550786e+03 | 4.140720e+03  | -1.0990325    | 0.272036208   | \n",
       "| I(Color5^5) |  2.411952e+05 | 3.169193e+05  |  0.7610619    | 0.446811573   | \n",
       "| I(Color6^6) | -7.450644e+07 | 1.102835e+08  | -0.6755903    | 0.499467507   | \n",
       "| I(Color7^7) |  8.082718e+10 | 2.792339e+11  |  0.2894605    | 0.772293012   | \n",
       "| I(Color8^8) |  1.659312e+14 | 3.430206e+14  |  0.4837354    | 0.628686720   | \n",
       "\n",
       "\n"
      ],
      "text/plain": [
       "            Estimate      Std. Error   t value    Pr(>|t|)   \n",
       "(Intercept)  1.698600e+01 5.442872e+00  3.1207798 0.001858963\n",
       "Color1       6.000427e+00 6.576454e+00  0.9124108 0.361787195\n",
       "I(Color2^2)  7.727578e+00 1.939085e+01  0.3985167 0.690340154\n",
       "I(Color3^3)  3.589304e+02 2.207030e+02  1.6263046 0.104221122\n",
       "I(Color4^4) -4.550786e+03 4.140720e+03 -1.0990325 0.272036208\n",
       "I(Color5^5)  2.411952e+05 3.169193e+05  0.7610619 0.446811573\n",
       "I(Color6^6) -7.450644e+07 1.102835e+08 -0.6755903 0.499467507\n",
       "I(Color7^7)  8.082718e+10 2.792339e+11  0.2894605 0.772293012\n",
       "I(Color8^8)  1.659312e+14 3.430206e+14  0.4837354 0.628686720"
      ]
     },
     "metadata": {},
     "output_type": "display_data"
    }
   ],
   "source": [
    "summary(lm(Likes~Color1+I(Color2^2)+I(Color3^3)+I(Color4^4)+I(Color5^5)+I(Color6^6)+I(Color7^7)+I(Color8^8),\n",
    "           data=domcolor))$coef"
   ]
  },
  {
   "cell_type": "code",
   "execution_count": 13,
   "metadata": {},
   "outputs": [
    {
     "name": "stderr",
     "output_type": "stream",
     "text": [
      "Warning message:\n",
      "\"package 'tree' was built under R version 3.4.3\""
     ]
    },
    {
     "data": {
      "text/plain": [
       "\n",
       "Regression tree:\n",
       "tree(formula = Likes ~ ., data = dc.train, subset = train)\n",
       "Variables actually used in tree construction:\n",
       "[1] \"Color1\" \"Color6\" \"Color5\" \"Color7\" \"Color4\" \"Color8\" \"Color3\"\n",
       "Number of terminal nodes:  15 \n",
       "Residual mean deviance:  233.4 = 51820 / 222 \n",
       "Distribution of residuals:\n",
       "    Min.  1st Qu.   Median     Mean  3rd Qu.     Max. \n",
       "-54.5000  -8.8590  -0.8592   0.0000   5.4590  76.1400 "
      ]
     },
     "metadata": {},
     "output_type": "display_data"
    }
   ],
   "source": [
    "#tree\n",
    "library(MASS)\n",
    "\n",
    "\n",
    "library(ISLR)\n",
    "set.seed(20)\n",
    "train=sample(1:nrow(domcolor),nrow(domcolor)/2)\n",
    "dc.train=domcolor[train,]\n",
    "dc.test=domcolor[-train,]\n",
    "\n",
    "library(tree)\n",
    "\n",
    "tree.dc=tree(Likes~.,data=dc.train, subset=train)\n",
    "summary(tree.dc)"
   ]
  },
  {
   "cell_type": "code",
   "execution_count": 14,
   "metadata": {},
   "outputs": [
    {
     "data": {
      "text/plain": [
       "node), split, n, deviance, yval\n",
       "      * denotes terminal node\n",
       "\n",
       "  1) root 237 84130.0 22.58  \n",
       "    2) Color1 < 0.601166 120 27580.0 19.42  \n",
       "      4) Color1 < 0.38953 29 10340.0 27.03  \n",
       "        8) Color6 < 0.0013485 6   352.0 11.00 *\n",
       "        9) Color6 > 0.0013485 23  8046.0 31.22  \n",
       "         18) Color5 < 0.0086115 6  3225.0 46.67 *\n",
       "         19) Color5 > 0.0086115 17  2883.0 25.76 *\n",
       "      5) Color1 > 0.38953 91 15020.0 17.00  \n",
       "       10) Color7 < 0.000147 20   918.8 10.40 *\n",
       "       11) Color7 > 0.000147 71 12980.0 18.86 *\n",
       "    3) Color1 > 0.601166 117 54130.0 25.82  \n",
       "      6) Color5 < 0.016381 89 29180.0 21.99  \n",
       "       12) Color4 < 0.007383 23 13370.0 29.09  \n",
       "         24) Color5 < 0.0037865 16  3112.0 20.50 *\n",
       "         25) Color5 > 0.0037865 7  6383.0 48.71 *\n",
       "       13) Color4 > 0.007383 66 14240.0 19.52  \n",
       "         26) Color6 < 3.35e-005 6  4195.0 35.83 *\n",
       "         27) Color6 > 3.35e-005 60  8290.0 17.88  \n",
       "           54) Color8 < 0.000267 37  3111.0 14.54 *\n",
       "           55) Color8 > 0.000267 23  4100.0 23.26  \n",
       "            110) Color7 < 0.001566 9  2764.0 31.00 *\n",
       "            111) Color7 > 0.001566 14   450.9 18.29 *\n",
       "      7) Color5 > 0.016381 28 19490.0 38.00  \n",
       "       14) Color5 < 0.0413655 21 15310.0 43.81  \n",
       "         28) Color5 < 0.0266 13  4487.0 32.92  \n",
       "           56) Color3 < 0.0366385 6   359.3 22.67 *\n",
       "           57) Color3 > 0.0366385 7  2955.0 41.71 *\n",
       "         29) Color5 > 0.0266 8  6776.0 61.50 *\n",
       "       15) Color5 > 0.0413655 7  1348.0 20.57 *"
      ]
     },
     "metadata": {},
     "output_type": "display_data"
    }
   ],
   "source": [
    "tree.dc"
   ]
  },
  {
   "cell_type": "code",
   "execution_count": 15,
   "metadata": {},
   "outputs": [
    {
     "data": {
      "image/png": "[encoded data removed]",
      "text/plain": [
       "plot without title"
      ]
     },
     "metadata": {},
     "output_type": "display_data"
    }
   ],
   "source": [
    "plot(tree.dc)\n",
    "text(tree.dc, pretty = 0)"
   ]
  },
  {
   "cell_type": "code",
   "execution_count": 16,
   "metadata": {},
   "outputs": [
    {
     "data": {
      "text/plain": [
       "                  \n",
       "tree.pred          1 2 3 4 5 6 7 8 9 10 11 12 13 14 15 16 17 18 19 20 21 22 23\n",
       "  10.4             0 3 2 2 2 1 2 1 1  1  1  1  1  1  0  0  0  2  0  3  1  0  1\n",
       "  11               0 0 0 0 0 0 0 0 0  0  0  0  0  0  0  0  0  1  0  1  0  1  1\n",
       "  14.5405405405405 2 5 1 3 3 2 1 0 4  3  0  3  5  4  0  4  5  4  5  4  1  3  6\n",
       "  18.2857142857143 1 1 0 1 0 0 0 0 0  0  0  1  0  1  0  1  1  1  0  1  1  0  1\n",
       "  18.8591549295775 2 9 0 6 5 1 2 1 1  0  2  5  4  3  3  3  4  4  3  5  4  2  9\n",
       "  20.5             0 2 3 1 1 1 0 0 2  0  3  1  1  0  1  0  0  1  1  2  2  3  1\n",
       "  20.5714285714286 0 0 0 0 0 1 0 0 0  0  0  0  0  0  0  0  0  0  0  0  0  0  0\n",
       "  22.6666666666667 0 0 0 0 1 0 0 0 0  0  0  0  0  1  0  0  0  0  0  0  0  0  1\n",
       "  25.7647058823529 1 0 1 0 1 0 0 1 0  0  0  0  0  1  0  1  2  0  1  2  0  1  0\n",
       "  31               0 1 0 0 1 0 0 0 0  0  1  0  0  0  0  0  0  0  1  1  2  0  0\n",
       "  35.8333333333333 1 0 0 0 1 1 0 0 3  1  1  0  0  4  0  2  0  1  5  1  0  2  0\n",
       "  41.7142857142857 0 0 0 0 2 2 0 1 0  0  1  0  0  2  1  1  0  1  1  0  1  2  2\n",
       "  46.6666666666667 0 0 0 0 0 0 1 0 0  0  0  0  0  0  0  0  0  0  0  0  0  0  0\n",
       "  48.7142857142857 0 0 1 1 0 0 0 0 0  0  0  0  0  0  0  1  0  0  0  1  1  1  0\n",
       "  61.5             0 0 1 0 0 0 0 0 0  0  0  0  0  0  1  2  0  0  0  2  0  0  0\n",
       "                  \n",
       "tree.pred          24 25 26 27 28 29 30 31 32 33 34 35 36 37 38 39 40 42 43 44\n",
       "  10.4              0  0  2  0  1  1  1  0  1  1  0  0  0  0  0  2  0  0  0  0\n",
       "  11                0  0  0  0  0  1  0  0  0  0  0  1  0  1  0  0  0  0  0  0\n",
       "  14.5405405405405  5  3  5  4  1  4  2  4  1  0  1  2  1  1  0  2  2  0  0  0\n",
       "  18.2857142857143  1  0  0  2  2  1  0  0  0  0  1  0  0  0  0  0  0  0  0  0\n",
       "  18.8591549295775  3  5  4  5  1  4  2  2  2  1  5  0  2  2  1  1  0  0  0  2\n",
       "  20.5              3  2  1  2  1  0  1  1  0  1  1  0  1  0  0  0  0  0  0  0\n",
       "  20.5714285714286  0  0  0  0  0  1  0  0  1  1  0  0  0  0  0  0  0  0  0  0\n",
       "  22.6666666666667  0  0  1  0  0  0  0  0  0  0  0  0  0  0  0  0  0  0  1  0\n",
       "  25.7647058823529  2  1  1  0  1  0  0  0  1  0  2  0  1  0  0  0  0  0  0  0\n",
       "  31                0  0  0  0  0  0  1  0  0  0  0  0  1  0  0  0  0  1  0  0\n",
       "  35.8333333333333  1  0  0  1  0  0  0  1  1  0  1  1  0  0  0  1  0  1  0  0\n",
       "  41.7142857142857  2  3  2  0  0  2  1  0  0  0  1  0  0  0  0  1  0  0  0  0\n",
       "  46.6666666666667  0  0  0  0  0  0  1  0  0  0  0  0  0  0  0  0  0  0  0  0\n",
       "  48.7142857142857  0  0  1  0  0  0  0  0  1  0  0  0  0  0  0  0  0  0  0  0\n",
       "  61.5              0  1  0  1  0  1  0  2  0  0  0  0  0  0  0  0  0  0  0  0\n",
       "                  \n",
       "tree.pred          45 46 48 49 53 55 57 59 60 63 64 66 67 68 73 74 77 79 81 85\n",
       "  10.4              0  0  0  0  0  0  0  0  0  0  0  0  0  1  0  0  0  0  0  0\n",
       "  11                0  0  0  0  0  0  0  0  0  0  0  0  0  0  0  0  0  0  1  0\n",
       "  14.5405405405405  0  0  0  0  0  0  0  1  1  0  1  0  0  0  0  1  1  1  0  0\n",
       "  18.2857142857143  1  0  0  0  0  0  0  0  0  0  0  0  0  0  0  0  0  0  0  0\n",
       "  18.8591549295775  0  1  1  2  0  0  1  0  0  0  1  0  1  0  0  0  0  0  0  1\n",
       "  20.5              0  0  0  0  0  0  0  0  0  0  0  1  0  0  0  0  0  0  0  0\n",
       "  20.5714285714286  0  0  0  0  0  0  0  0  0  0  0  0  0  0  0  0  0  0  0  0\n",
       "  22.6666666666667  0  0  0  0  0  0  0  0  0  0  0  0  0  0  0  0  0  0  0  0\n",
       "  25.7647058823529  0  0  0  0  0  0  0  0  0  0  0  0  0  0  0  0  0  0  0  0\n",
       "  31                0  0  0  0  0  0  0  0  0  0  0  0  0  0  1  0  0  0  0  0\n",
       "  35.8333333333333  1  0  0  0  1  1  0  0  0  0  0  0  0  0  0  0  0  0  0  0\n",
       "  41.7142857142857  0  1  0  1  0  0  0  0  0  1  0  0  0  0  0  0  0  0  0  0\n",
       "  46.6666666666667  0  0  0  0  0  0  0  0  0  0  0  0  0  0  0  0  0  0  0  0\n",
       "  48.7142857142857  0  0  0  0  0  0  0  0  0  0  0  0  0  0  0  0  0  0  0  0\n",
       "  61.5              0  0  0  0  0  0  0  0  0  0  0  0  0  0  0  0  0  0  0  0\n",
       "                  \n",
       "tree.pred          97\n",
       "  10.4              0\n",
       "  11                0\n",
       "  14.5405405405405  1\n",
       "  18.2857142857143  0\n",
       "  18.8591549295775  0\n",
       "  20.5              0\n",
       "  20.5714285714286  0\n",
       "  22.6666666666667  0\n",
       "  25.7647058823529  0\n",
       "  31                0\n",
       "  35.8333333333333  0\n",
       "  41.7142857142857  0\n",
       "  46.6666666666667  0\n",
       "  48.7142857142857  0\n",
       "  61.5              0"
      ]
     },
     "metadata": {},
     "output_type": "display_data"
    },
    {
     "data": {
      "text/html": [
       "0.00634249471458774"
      ],
      "text/latex": [
       "0.00634249471458774"
      ],
      "text/markdown": [
       "0.00634249471458774"
      ],
      "text/plain": [
       "[1] 0.006342495"
      ]
     },
     "metadata": {},
     "output_type": "display_data"
    }
   ],
   "source": [
    "tree.pred =predict(tree.dc, dc.test)\n",
    "table(tree.pred,dc.test$Likes)\n",
    "\n",
    "\n",
    "\n",
    "TE = table(tree.pred, dc.test$Likes)\n",
    "(TE[1, 2] + TE[2, 1])/sum(TE)"
   ]
  },
  {
   "cell_type": "code",
   "execution_count": 17,
   "metadata": {},
   "outputs": [
    {
     "data": {
      "image/png": "[encoded data removed]",
      "text/plain": [
       "plot without title"
      ]
     },
     "metadata": {},
     "output_type": "display_data"
    }
   ],
   "source": [
    "cv.dc =cv.tree(tree.dc)\n",
    "plot(cv.dc$size ,cv.dc$dev ,type=\"b\")"
   ]
  },
  {
   "cell_type": "code",
   "execution_count": 18,
   "metadata": {},
   "outputs": [
    {
     "data": {
      "image/png": "[encoded data removed]",
      "text/plain": [
       "plot without title"
      ]
     },
     "metadata": {},
     "output_type": "display_data"
    },
    {
     "data": {
      "image/png": "[encoded data removed]",
      "text/plain": [
       "plot without title"
      ]
     },
     "metadata": {},
     "output_type": "display_data"
    }
   ],
   "source": [
    "prune.dc =prune.tree(tree.dc,best =4)\n",
    "plot(prune.dc )\n",
    "text(prune.dc,pretty =0)\n",
    "plot(cv.dc$size,cv.dc$dev,xlab=\"Tree size\",ylab=\"CV Deviance\",type = \"b\")\n",
    "points(4,min(cv.dc$dev),col=\"red\")\n"
   ]
  },
  {
   "cell_type": "code",
   "execution_count": 19,
   "metadata": {},
   "outputs": [
    {
     "data": {
      "text/html": [
       "327.802686462211"
      ],
      "text/latex": [
       "327.802686462211"
      ],
      "text/markdown": [
       "327.802686462211"
      ],
      "text/plain": [
       "[1] 327.8027"
      ]
     },
     "metadata": {},
     "output_type": "display_data"
    },
    {
     "data": {
      "image/png": "[encoded data removed]",
      "text/plain": [
       "plot without title"
      ]
     },
     "metadata": {},
     "output_type": "display_data"
    }
   ],
   "source": [
    "yhat=predict(tree.dc,newdata=domcolor[-train ,])\n",
    "dc.test=domcolor[-train ,\"Likes\"]\n",
    "plot(yhat,dc.test)\n",
    "abline (0,1)\n",
    "mean((yhat-dc.test)^2)"
   ]
  },
  {
   "cell_type": "code",
   "execution_count": 20,
   "metadata": {},
   "outputs": [
    {
     "name": "stderr",
     "output_type": "stream",
     "text": [
      "randomForest 4.6-12\n",
      "Type rfNews() to see new features/changes/bug fixes.\n",
      "\n",
      "Attaching package: 'randomForest'\n",
      "\n",
      "The following object is masked from 'package:dplyr':\n",
      "\n",
      "    combine\n",
      "\n",
      "The following object is masked from 'package:ggplot2':\n",
      "\n",
      "    margin\n",
      "\n"
     ]
    },
    {
     "data": {
      "text/plain": [
       "\n",
       "Call:\n",
       " randomForest(formula = Likes ~ ., data = domcolor, mtry = 8,      importance = TRUE, subset = train) \n",
       "               Type of random forest: regression\n",
       "                     Number of trees: 500\n",
       "No. of variables tried at each split: 8\n",
       "\n",
       "          Mean of squared residuals: 334.7457\n",
       "                    % Var explained: -11.22"
      ]
     },
     "metadata": {},
     "output_type": "display_data"
    }
   ],
   "source": [
    "library (randomForest)\n",
    "set.seed (1)\n",
    "bag.dc =randomForest(Likes∼.,data=domcolor,subset=train ,mtry=8, importance=TRUE)\n",
    "bag.dc"
   ]
  },
  {
   "cell_type": "code",
   "execution_count": 21,
   "metadata": {},
   "outputs": [
    {
     "data": {
      "text/html": [
       "233.271222470472"
      ],
      "text/latex": [
       "233.271222470472"
      ],
      "text/markdown": [
       "233.271222470472"
      ],
      "text/plain": [
       "[1] 233.2712"
      ]
     },
     "metadata": {},
     "output_type": "display_data"
    },
    {
     "data": {
      "image/png": "[encoded data removed]",
      "text/plain": [
       "plot without title"
      ]
     },
     "metadata": {},
     "output_type": "display_data"
    }
   ],
   "source": [
    "yhat.bag = predict(bag.dc,newdata=domcolor[-train ,])\n",
    "plot(yhat.bag, dc.test)\n",
    "abline (0,1)\n",
    "mean((yhat.bag -dc.test)^2)"
   ]
  },
  {
   "cell_type": "code",
   "execution_count": 22,
   "metadata": {},
   "outputs": [
    {
     "name": "stderr",
     "output_type": "stream",
     "text": [
      "Warning message in randomForest.default(m, y, ...):\n",
      "\"invalid mtry: reset to within valid range\""
     ]
    },
    {
     "data": {
      "text/html": [
       "242.40846068311"
      ],
      "text/latex": [
       "242.40846068311"
      ],
      "text/markdown": [
       "242.40846068311"
      ],
      "text/plain": [
       "[1] 242.4085"
      ]
     },
     "metadata": {},
     "output_type": "display_data"
    }
   ],
   "source": [
    "bag.dc =randomForest(Likes∼.,data=domcolor,subset =train ,mtry=13, ntree =25)\n",
    "yhat.bag = predict(bag.dc,newdata =domcolor[-train ,])\n",
    "mean((yhat.bag-dc.test)^2)"
   ]
  },
  {
   "cell_type": "code",
   "execution_count": 23,
   "metadata": {},
   "outputs": [
    {
     "data": {
      "text/html": [
       "232.295853382232"
      ],
      "text/latex": [
       "232.295853382232"
      ],
      "text/markdown": [
       "232.295853382232"
      ],
      "text/plain": [
       "[1] 232.2959"
      ]
     },
     "metadata": {},
     "output_type": "display_data"
    }
   ],
   "source": [
    "set.seed (1)\n",
    "rf.dc =randomForest(Likes∼.,data=domcolor,subset=train,mtry=6, importance =TRUE)\n",
    "yhat.rf= predict(rf.dc ,newdata =domcolor [-train ,])\n",
    "mean((yhat.rf -dc.test)^2)"
   ]
  },
  {
   "cell_type": "code",
   "execution_count": 24,
   "metadata": {},
   "outputs": [
    {
     "data": {
      "text/html": [
       "<table>\n",
       "<thead><tr><th></th><th scope=col>%IncMSE</th><th scope=col>IncNodePurity</th></tr></thead>\n",
       "<tbody>\n",
       "\t<tr><th scope=row>Color1</th><td>14.360160</td><td>17835.325</td></tr>\n",
       "\t<tr><th scope=row>Color2</th><td>10.720262</td><td>15497.046</td></tr>\n",
       "\t<tr><th scope=row>Color3</th><td>11.685574</td><td>18919.867</td></tr>\n",
       "\t<tr><th scope=row>Color4</th><td>12.698435</td><td>20340.347</td></tr>\n",
       "\t<tr><th scope=row>Color5</th><td>16.293317</td><td>19698.706</td></tr>\n",
       "\t<tr><th scope=row>Color6</th><td>11.771296</td><td>14566.642</td></tr>\n",
       "\t<tr><th scope=row>Color7</th><td>10.905228</td><td>13617.939</td></tr>\n",
       "\t<tr><th scope=row>Color8</th><td> 8.716156</td><td> 9065.871</td></tr>\n",
       "</tbody>\n",
       "</table>\n"
      ],
      "text/latex": [
       "\\begin{tabular}{r|ll}\n",
       "  & \\%IncMSE & IncNodePurity\\\\\n",
       "\\hline\n",
       "\tColor1 & 14.360160 & 17835.325\\\\\n",
       "\tColor2 & 10.720262 & 15497.046\\\\\n",
       "\tColor3 & 11.685574 & 18919.867\\\\\n",
       "\tColor4 & 12.698435 & 20340.347\\\\\n",
       "\tColor5 & 16.293317 & 19698.706\\\\\n",
       "\tColor6 & 11.771296 & 14566.642\\\\\n",
       "\tColor7 & 10.905228 & 13617.939\\\\\n",
       "\tColor8 &  8.716156 &  9065.871\\\\\n",
       "\\end{tabular}\n"
      ],
      "text/markdown": [
       "\n",
       "| <!--/--> | %IncMSE | IncNodePurity | \n",
       "|---|---|---|---|---|---|---|---|\n",
       "| Color1 | 14.360160 | 17835.325 | \n",
       "| Color2 | 10.720262 | 15497.046 | \n",
       "| Color3 | 11.685574 | 18919.867 | \n",
       "| Color4 | 12.698435 | 20340.347 | \n",
       "| Color5 | 16.293317 | 19698.706 | \n",
       "| Color6 | 11.771296 | 14566.642 | \n",
       "| Color7 | 10.905228 | 13617.939 | \n",
       "| Color8 |  8.716156 |  9065.871 | \n",
       "\n",
       "\n"
      ],
      "text/plain": [
       "       %IncMSE   IncNodePurity\n",
       "Color1 14.360160 17835.325    \n",
       "Color2 10.720262 15497.046    \n",
       "Color3 11.685574 18919.867    \n",
       "Color4 12.698435 20340.347    \n",
       "Color5 16.293317 19698.706    \n",
       "Color6 11.771296 14566.642    \n",
       "Color7 10.905228 13617.939    \n",
       "Color8  8.716156  9065.871    "
      ]
     },
     "metadata": {},
     "output_type": "display_data"
    }
   ],
   "source": [
    "importance(rf.dc)"
   ]
  },
  {
   "cell_type": "code",
   "execution_count": 25,
   "metadata": {},
   "outputs": [
    {
     "data": {
      "image/png": "[encoded data removed]",
      "text/plain": [
       "plot without title"
      ]
     },
     "metadata": {},
     "output_type": "display_data"
    }
   ],
   "source": [
    "varImpPlot(rf.dc)"
   ]
  },
  {
   "cell_type": "code",
   "execution_count": 26,
   "metadata": {},
   "outputs": [],
   "source": [
    "library (gbm)\n",
    "set.seed (1)\n",
    "train=sample(1:nrow(domcolor),nrow(domcolor)/2)\n",
    "boost.dc =gbm(Likes∼.,data=domcolor[train ,], distribution=\"gaussian\",n.trees=5000, interaction.depth =4)"
   ]
  },
  {
   "cell_type": "code",
   "execution_count": 27,
   "metadata": {},
   "outputs": [
    {
     "ename": "ERROR",
     "evalue": "Error in plot.gbm(boost.dc, i = \"rm\"): Plot variables not used in gbm model fit: rm\n",
     "output_type": "error",
     "traceback": [
      "Error in plot.gbm(boost.dc, i = \"rm\"): Plot variables not used in gbm model fit: rm\nTraceback:\n",
      "1. plot(boost.dc, i = \"rm\")",
      "2. plot(boost.dc, i = \"rm\")",
      "3. plot.gbm(boost.dc, i = \"rm\")",
      "4. stop(\"Plot variables not used in gbm model fit: \", i.var[is.na(i)])"
     ]
    }
   ],
   "source": [
    "\n",
    "plot(boost.dc,i=\"rm\")\n",
    "plot(boost.dc,i=\"lstat\")"
   ]
  },
  {
   "cell_type": "code",
   "execution_count": 28,
   "metadata": {},
   "outputs": [
    {
     "data": {
      "text/html": [
       "225.024079487796"
      ],
      "text/latex": [
       "225.024079487796"
      ],
      "text/markdown": [
       "225.024079487796"
      ],
      "text/plain": [
       "[1] 225.0241"
      ]
     },
     "metadata": {},
     "output_type": "display_data"
    }
   ],
   "source": [
    "yhat.boost=predict(boost.dc,newdata =domcolor[-train ,],n.trees =5000)\n",
    "mean((yhat.boost -dc.test)^2)"
   ]
  },
  {
   "cell_type": "code",
   "execution_count": 31,
   "metadata": {},
   "outputs": [
    {
     "data": {
      "text/html": [
       "314.663884455456"
      ],
      "text/latex": [
       "314.663884455456"
      ],
      "text/markdown": [
       "314.663884455456"
      ],
      "text/plain": [
       "[1] 314.6639"
      ]
     },
     "metadata": {},
     "output_type": "display_data"
    }
   ],
   "source": [
    "boost.dc=gbm(Likes∼.,data=domcolor[train ,], distribution=\"gaussian\",n.trees=5000,interaction.depth =4,shrinkage =0.2,verbose=F)\n",
    "yhat.boost=predict(boost.dc ,newdata =domcolor[-train ,],n.trees =5000)\n",
    "mean((yhat.boost -dc.test)^2)"
   ]
  },
  {
   "cell_type": "code",
   "execution_count": 32,
   "metadata": {},
   "outputs": [
    {
     "name": "stderr",
     "output_type": "stream",
     "text": [
      "Warning message:\n",
      "\"package 'gam' was built under R version 3.4.4\"Loading required package: foreach\n",
      "\n",
      "Attaching package: 'foreach'\n",
      "\n",
      "The following objects are masked from 'package:purrr':\n",
      "\n",
      "    accumulate, when\n",
      "\n",
      "Loaded gam 1.15\n",
      "\n"
     ]
    },
    {
     "data": {
      "text/html": [
       "<table>\n",
       "<thead><tr><th></th><th scope=col>Npar Df</th><th scope=col>Npar F</th><th scope=col>Pr(F)</th></tr></thead>\n",
       "<tbody>\n",
       "\t<tr><th scope=row>(Intercept)</th><td>NA          </td><td>       NA   </td><td>          NA</td></tr>\n",
       "\t<tr><th scope=row>s(Color1, 1)</th><td> 0          </td><td>0.9916303   </td><td>6.405046e-05</td></tr>\n",
       "\t<tr><th scope=row>s(Color5, 5)</th><td> 4          </td><td>0.5933463   </td><td>6.675174e-01</td></tr>\n",
       "\t<tr><th scope=row>s(Color2, 2)</th><td> 1          </td><td>0.1881536   </td><td>6.645681e-01</td></tr>\n",
       "\t<tr><th scope=row>s(Color3, 3)</th><td> 2          </td><td>4.9807950   </td><td>7.051430e-03</td></tr>\n",
       "\t<tr><th scope=row>s(Color4, 4)</th><td> 3          </td><td>0.7493380   </td><td>5.228559e-01</td></tr>\n",
       "</tbody>\n",
       "</table>\n"
      ],
      "text/latex": [
       "\\begin{tabular}{r|lll}\n",
       "  & Npar Df & Npar F & Pr(F)\\\\\n",
       "\\hline\n",
       "\t(Intercept) & NA           &        NA    &           NA\\\\\n",
       "\ts(Color1, 1) &  0           & 0.9916303    & 6.405046e-05\\\\\n",
       "\ts(Color5, 5) &  4           & 0.5933463    & 6.675174e-01\\\\\n",
       "\ts(Color2, 2) &  1           & 0.1881536    & 6.645681e-01\\\\\n",
       "\ts(Color3, 3) &  2           & 4.9807950    & 7.051430e-03\\\\\n",
       "\ts(Color4, 4) &  3           & 0.7493380    & 5.228559e-01\\\\\n",
       "\\end{tabular}\n"
      ],
      "text/markdown": [
       "\n",
       "| <!--/--> | Npar Df | Npar F | Pr(F) | \n",
       "|---|---|---|---|---|---|\n",
       "| (Intercept) | NA           |        NA    |           NA | \n",
       "| s(Color1, 1) |  0           | 0.9916303    | 6.405046e-05 | \n",
       "| s(Color5, 5) |  4           | 0.5933463    | 6.675174e-01 | \n",
       "| s(Color2, 2) |  1           | 0.1881536    | 6.645681e-01 | \n",
       "| s(Color3, 3) |  2           | 4.9807950    | 7.051430e-03 | \n",
       "| s(Color4, 4) |  3           | 0.7493380    | 5.228559e-01 | \n",
       "\n",
       "\n"
      ],
      "text/plain": [
       "             Npar Df Npar F    Pr(F)       \n",
       "(Intercept)  NA             NA           NA\n",
       "s(Color1, 1)  0      0.9916303 6.405046e-05\n",
       "s(Color5, 5)  4      0.5933463 6.675174e-01\n",
       "s(Color2, 2)  1      0.1881536 6.645681e-01\n",
       "s(Color3, 3)  2      4.9807950 7.051430e-03\n",
       "s(Color4, 4)  3      0.7493380 5.228559e-01"
      ]
     },
     "metadata": {},
     "output_type": "display_data"
    }
   ],
   "source": [
    "library (gam) \n",
    "gam.m3=gam(Likes∼s(Color1,1)+s(Color5,5)+s(Color2,2)+s(Color3,3)+s(Color4,4),data=domcolor)\n",
    "anova(gam.m3,test=\"F\") "
   ]
  },
  {
   "cell_type": "code",
   "execution_count": 33,
   "metadata": {
    "scrolled": false
   },
   "outputs": [
    {
     "data": {
      "image/png": "[encoded data removed]",
      "text/plain": [
       "plot without title"
      ]
     },
     "metadata": {},
     "output_type": "display_data"
    },
    {
     "data": {
      "image/png": "[encoded data removed]",
      "text/plain": [
       "plot without title"
      ]
     },
     "metadata": {},
     "output_type": "display_data"
    },
    {
     "data": {
      "image/png": "[encoded data removed]",
      "text/plain": [
       "plot without title"
      ]
     },
     "metadata": {},
     "output_type": "display_data"
    }
   ],
   "source": [
    "preds=predict(gam.m3,newdata =domcolor)\n",
    "gam.lo=gam(Likes∼s(Color4,df=4)+lo(Color2,span=0.7)+Color1, data=domcolor) \n",
    "plot(gam.lo, se=TRUE , col=\"green\") "
   ]
  },
  {
   "cell_type": "code",
   "execution_count": 34,
   "metadata": {},
   "outputs": [
    {
     "name": "stderr",
     "output_type": "stream",
     "text": [
      "Warning message:\n",
      "\"package 'akima' was built under R version 3.4.4\""
     ]
    },
    {
     "data": {
      "image/png": "[encoded data removed]",
      "text/plain": [
       "plot without title"
      ]
     },
     "metadata": {},
     "output_type": "display_data"
    },
    {
     "data": {
      "image/png": "[encoded data removed]",
      "text/plain": [
       "plot without title"
      ]
     },
     "metadata": {},
     "output_type": "display_data"
    }
   ],
   "source": [
    "library (akima) \n",
    "gam.lo.i=gam(Likes∼lo(Color2,Color3,span=0.5)+Color1, data=domcolor) \n",
    "plot(gam.lo.i)"
   ]
  },
  {
   "cell_type": "code",
   "execution_count": 35,
   "metadata": {},
   "outputs": [],
   "source": [
    "library (ROCR)\n",
    "rocplot =function (pred , truth , ...){\n",
    "    predob = prediction (pred , truth )\n",
    "    perf = performance (predob , \"tpr \", \"fpr \")\n",
    "    plot(perf ,...)}"
   ]
  },
  {
   "cell_type": "code",
   "execution_count": 56,
   "metadata": {},
   "outputs": [
    {
     "name": "stderr",
     "output_type": "stream",
     "text": [
      "Warning message:\n",
      "\"package 'pROC' was built under R version 3.4.4\"Type 'citation(\"pROC\")' for a citation.\n",
      "\n",
      "Attaching package: 'pROC'\n",
      "\n",
      "The following objects are masked from 'package:stats':\n",
      "\n",
      "    cov, smooth, var\n",
      "\n",
      "Warning message in roc.default(response, m[[predictors]], ...):\n",
      "\"'response' has more than two levels. Consider setting 'levels' explicitly or using 'multiclass.roc' instead\""
     ]
    },
    {
     "data": {
      "image/png": "[encoded data removed]",
      "text/plain": [
       "plot without title"
      ]
     },
     "metadata": {},
     "output_type": "display_data"
    }
   ],
   "source": [
    "prob = predict(glm.fit, type=c(\"response\"))\n",
    "domcolor-> domcolor1 \n",
    "domcolor1$prob = prob\n",
    "library(pROC)\n",
    "g = roc(Likes ~ prob, data=domcolor)\n",
    "plot(g)"
   ]
  },
  {
   "cell_type": "code",
   "execution_count": 60,
   "metadata": {},
   "outputs": [
    {
     "name": "stderr",
     "output_type": "stream",
     "text": [
      "Warning message in roc.default(response, m[[predictors]], ...):\n",
      "\"'response' has more than two levels. Consider setting 'levels' explicitly or using 'multiclass.roc' instead\""
     ]
    },
    {
     "data": {
      "image/png": "[encoded data removed]",
      "text/plain": [
       "plot without title"
      ]
     },
     "metadata": {},
     "output_type": "display_data"
    }
   ],
   "source": [
    "lmreg = lm(Likes~Color1+I(Color2^2)+I(Color3^3)+I(Color4^4)+I(Color5^5)+I(Color6^6)+I(Color7^7)+I(Color8^8),\n",
    "           data=domcolor)\n",
    "prob = predict(lmreg, type=c(\"response\"))\n",
    "domcolor-> domcolor1 \n",
    "domcolor1$prob = prob\n",
    "library(pROC)\n",
    "g = roc(Likes ~ prob, data=domcolor)\n",
    "plot(g)"
   ]
  },
  {
   "cell_type": "code",
   "execution_count": 57,
   "metadata": {},
   "outputs": [],
   "source": [
    "#svmfit .opt=svm(y∼., data=dat[train ,], kernel =\" radial \",gamma =2, cost=1, decision .values =T)\n",
    "fitted=attributes(predict(glm.fit,domcolor[train ,], decision.values=TRUE))$decision.values"
   ]
  },
  {
   "cell_type": "code",
   "execution_count": 59,
   "metadata": {},
   "outputs": [
    {
     "ename": "ERROR",
     "evalue": "Error in prediction(pred, truth): Format of predictions is invalid.\n",
     "output_type": "error",
     "traceback": [
      "Error in prediction(pred, truth): Format of predictions is invalid.\nTraceback:\n",
      "1. rocplot(fitted, domcolor[train, ])",
      "2. prediction(pred, truth)   # at line 3 of file <text>",
      "3. stop(\"Format of predictions is invalid.\")"
     ]
    }
   ],
   "source": [
    "rocplot(fitted, domcolor[train,])"
   ]
  },
  {
   "cell_type": "code",
   "execution_count": null,
   "metadata": {},
   "outputs": [],
   "source": [
    "fitted =attributes (predict (svmfit .flex ,dat[-train ,], decision .\n",
    "values =T))$decision .values\n",
    "> rocplot (fitted ,dat [-train ,\"y\"], add=T,col =\" red \")"
   ]
  }
 ],
 "metadata": {
  "kernelspec": {
   "display_name": "R",
   "language": "R",
   "name": "ir"
  },
  "language_info": {
   "codemirror_mode": "r",
   "file_extension": ".r",
   "mimetype": "text/x-r-source",
   "name": "R",
   "pygments_lexer": "r",
   "version": "3.4.2"
  }
 },
 "nbformat": 4,
 "nbformat_minor": 2
}
