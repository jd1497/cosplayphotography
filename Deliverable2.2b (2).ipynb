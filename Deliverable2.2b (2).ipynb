{
 "cells": [
  {
   "cell_type": "code",
   "execution_count": 2,
   "metadata": {},
   "outputs": [
    {
     "name": "stderr",
     "output_type": "stream",
     "text": [
      "\n",
      "Attaching package: 'dplyr'\n",
      "\n",
      "The following objects are masked from 'package:data.table':\n",
      "\n",
      "    between, first, last\n",
      "\n",
      "The following objects are masked from 'package:stats':\n",
      "\n",
      "    filter, lag\n",
      "\n",
      "The following objects are masked from 'package:base':\n",
      "\n",
      "    intersect, setdiff, setequal, union\n",
      "\n",
      "Loading required package: lattice\n",
      "Loading tidyverse: tibble\n",
      "Loading tidyverse: tidyr\n",
      "Loading tidyverse: readr\n",
      "Loading tidyverse: purrr\n",
      "Conflicts with tidy packages ---------------------------------------------------\n",
      "between():   dplyr, data.table\n",
      "filter():    dplyr, stats\n",
      "first():     dplyr, data.table\n",
      "lag():       dplyr, stats\n",
      "last():      dplyr, data.table\n",
      "lift():      purrr, caret\n",
      "transpose(): purrr, data.table\n",
      "Warning message:\n",
      "\"package 'ISLR' was built under R version 3.4.3\""
     ]
    }
   ],
   "source": [
    "library(data.table) \n",
    "library(ggplot2)\n",
    "library(dplyr)\n",
    "library(e1071)\n",
    "library(rpart)\n",
    "library(caret)\n",
    "library(tidyverse)\n",
    "library(ggplot2)\n",
    "library(stringr)\n",
    "library(ISLR)"
   ]
  },
  {
   "cell_type": "code",
   "execution_count": 3,
   "metadata": {},
   "outputs": [],
   "source": [
    "colorstats <- read.csv('Stats.csv')\n",
    "colorstats %>%\n",
    "  select(Percentage.Black, Percentage.White, Percentage.Blue, Percentage.Red, Percentage.Yellow,\n",
    "         Percentage.Green, Percentage.Purple, People, Percentage.Cyan, Number.of.Likes) ->stat\n",
    "stat %>%\n",
    "    filter(Number.of.Likes <=100) -> stat1\n",
    "\n",
    "stat1 %>%\n",
    "    select(Percentage.Black, Percentage.White, Percentage.Blue, Percentage.Red, Percentage.Yellow,\n",
    "         Percentage.Green, Percentage.Purple, Percentage.Cyan) ->sorted\n",
    "cbind(sorted, t(apply(sorted, 1, sort, decreasing = TRUE))) -> sorted1\n",
    "colnames(sorted1) <- c(\"Percentage.Black\", \"Percentage.White\", \"Percentage.Blue\", \"Percentage.Red\", \"Percentage.Yellow\",\n",
    "                     \"Percentage.Green\",\"Percentage.Purple\",\"Percentage.Cyan\", \"Color1\", \"Color2\", \"Color3\",\n",
    "                     \"Color4\", \"Color5\", \"Color6\", \"Color7\", \"Color8\")\n",
    "sorted1 %>%\n",
    " select(Color1, Color2, Color3, Color4, Color5, Color6, Color7, Color8) ->domcolor\n",
    "dompcolor <- domcolor\n",
    "domcolor$Likes <- stat1$Number.of.Likes\n",
    "dompcolor$People <- stat1$People"
   ]
  },
  {
   "cell_type": "code",
   "execution_count": 4,
   "metadata": {},
   "outputs": [
    {
     "data": {
      "text/plain": [
       "Subset selection object\n",
       "Call: regsubsets.formula(Number.of.Likes ~ ., stat1)\n",
       "9 Variables  (and intercept)\n",
       "                  Forced in Forced out\n",
       "Percentage.Black      FALSE      FALSE\n",
       "Percentage.White      FALSE      FALSE\n",
       "Percentage.Blue       FALSE      FALSE\n",
       "Percentage.Red        FALSE      FALSE\n",
       "Percentage.Yellow     FALSE      FALSE\n",
       "Percentage.Green      FALSE      FALSE\n",
       "Percentage.Purple     FALSE      FALSE\n",
       "People                FALSE      FALSE\n",
       "Percentage.Cyan       FALSE      FALSE\n",
       "1 subsets of each size up to 8\n",
       "Selection Algorithm: exhaustive\n",
       "         Percentage.Black Percentage.White Percentage.Blue Percentage.Red\n",
       "1  ( 1 ) \" \"              \" \"              \" \"             \" \"           \n",
       "2  ( 1 ) \" \"              \" \"              \" \"             \" \"           \n",
       "3  ( 1 ) \" \"              \" \"              \" \"             \" \"           \n",
       "4  ( 1 ) \" \"              \" \"              \" \"             \" \"           \n",
       "5  ( 1 ) \" \"              \" \"              \" \"             \"*\"           \n",
       "6  ( 1 ) \" \"              \" \"              \"*\"             \"*\"           \n",
       "7  ( 1 ) \"*\"              \"*\"              \" \"             \" \"           \n",
       "8  ( 1 ) \"*\"              \"*\"              \"*\"             \"*\"           \n",
       "         Percentage.Yellow Percentage.Green Percentage.Purple People\n",
       "1  ( 1 ) \"*\"               \" \"              \" \"               \" \"   \n",
       "2  ( 1 ) \"*\"               \" \"              \"*\"               \" \"   \n",
       "3  ( 1 ) \"*\"               \"*\"              \"*\"               \" \"   \n",
       "4  ( 1 ) \"*\"               \"*\"              \"*\"               \"*\"   \n",
       "5  ( 1 ) \"*\"               \"*\"              \"*\"               \"*\"   \n",
       "6  ( 1 ) \"*\"               \"*\"              \"*\"               \"*\"   \n",
       "7  ( 1 ) \"*\"               \"*\"              \"*\"               \"*\"   \n",
       "8  ( 1 ) \"*\"               \"*\"              \"*\"               \" \"   \n",
       "         Percentage.Cyan\n",
       "1  ( 1 ) \" \"            \n",
       "2  ( 1 ) \" \"            \n",
       "3  ( 1 ) \" \"            \n",
       "4  ( 1 ) \" \"            \n",
       "5  ( 1 ) \" \"            \n",
       "6  ( 1 ) \" \"            \n",
       "7  ( 1 ) \"*\"            \n",
       "8  ( 1 ) \"*\"            "
      ]
     },
     "metadata": {},
     "output_type": "display_data"
    }
   ],
   "source": [
    "#domcolor 1st\n",
    "library(leaps)\n",
    "regfit.full=regsubsets(Number.of.Likes∼.,stat1)\n",
    "summary(regfit.full)"
   ]
  },
  {
   "cell_type": "code",
   "execution_count": 5,
   "metadata": {},
   "outputs": [
    {
     "name": "stderr",
     "output_type": "stream",
     "text": [
      "Warning message in leaps.exhaustive(a, really.big):\n",
      "\"XHAUST returned error code -999\""
     ]
    },
    {
     "data": {
      "text/html": [
       "<ol class=list-inline>\n",
       "\t<li>1.61668118519032e-05</li>\n",
       "\t<li>0.000685629165618651</li>\n",
       "\t<li>0.00100970535927736</li>\n",
       "\t<li>0.00149769189718985</li>\n",
       "\t<li>0.00433827930583053</li>\n",
       "\t<li>0.00456064004300827</li>\n",
       "\t<li>0.00582618222134801</li>\n",
       "\t<li>0.00649731008540233</li>\n",
       "\t<li>0.00741743703680697</li>\n",
       "</ol>\n"
      ],
      "text/latex": [
       "\\begin{enumerate*}\n",
       "\\item 1.61668118519032e-05\n",
       "\\item 0.000685629165618651\n",
       "\\item 0.00100970535927736\n",
       "\\item 0.00149769189718985\n",
       "\\item 0.00433827930583053\n",
       "\\item 0.00456064004300827\n",
       "\\item 0.00582618222134801\n",
       "\\item 0.00649731008540233\n",
       "\\item 0.00741743703680697\n",
       "\\end{enumerate*}\n"
      ],
      "text/markdown": [
       "1. 1.61668118519032e-05\n",
       "2. 0.000685629165618651\n",
       "3. 0.00100970535927736\n",
       "4. 0.00149769189718985\n",
       "5. 0.00433827930583053\n",
       "6. 0.00456064004300827\n",
       "7. 0.00582618222134801\n",
       "8. 0.00649731008540233\n",
       "9. 0.00741743703680697\n",
       "\n",
       "\n"
      ],
      "text/plain": [
       "[1] 1.616681e-05 6.856292e-04 1.009705e-03 1.497692e-03 4.338279e-03\n",
       "[6] 4.560640e-03 5.826182e-03 6.497310e-03 7.417437e-03"
      ]
     },
     "metadata": {},
     "output_type": "display_data"
    }
   ],
   "source": [
    "regfit.full=regsubsets(Number.of.Likes∼.,data=stat1 ,nvmax=19)\n",
    "reg.summary =summary (regfit.full)\n",
    " reg.summary$rsq"
   ]
  },
  {
   "cell_type": "code",
   "execution_count": 10,
   "metadata": {},
   "outputs": [
    {
     "data": {
      "image/png": "[encoded data removed]",
      "text/plain": [
       "plot without title"
      ]
     },
     "metadata": {},
     "output_type": "display_data"
    },
    {
     "data": {
      "image/png": "[encoded data removed]",
      "text/plain": [
       "plot without title"
      ]
     },
     "metadata": {},
     "output_type": "display_data"
    }
   ],
   "source": [
    " plot(reg.summary$rss ,xlab=\"Number of Variables \",ylab=\"RSS\",type=\"l\")\n",
    " plot(reg.summary$adjr2 ,xlab=\"Number of Variables \",ylab=\"Adjusted RSq\",type=\"l\")\n",
    "points(5,reg.summary$adjr2[5],col=\"red\",cex=2,pch=20)"
   ]
  },
  {
   "cell_type": "code",
   "execution_count": 9,
   "metadata": {},
   "outputs": [
    {
     "data": {
      "text/html": [
       "5"
      ],
      "text/latex": [
       "5"
      ],
      "text/markdown": [
       "5"
      ],
      "text/plain": [
       "[1] 5"
      ]
     },
     "metadata": {},
     "output_type": "display_data"
    }
   ],
   "source": [
    "which.max(reg.summary$adjr2)\n",
    "a <- which.max(reg.summary$adjr2) "
   ]
  },
  {
   "cell_type": "code",
   "execution_count": 11,
   "metadata": {},
   "outputs": [
    {
     "ename": "ERROR",
     "evalue": "Error in plot.xy(xy.coords(x, y), type = type, ...): plot.new has not been called yet\n",
     "output_type": "error",
     "traceback": [
      "Error in plot.xy(xy.coords(x, y), type = type, ...): plot.new has not been called yet\nTraceback:\n",
      "1. points(2, reg.summary$adjr2[2], col = \"red\", cex = 2, pch = 20)",
      "2. points.default(2, reg.summary$adjr2[2], col = \"red\", cex = 2, \n .     pch = 20)",
      "3. plot.xy(xy.coords(x, y), type = type, ...)"
     ]
    }
   ],
   "source": []
  },
  {
   "cell_type": "code",
   "execution_count": 11,
   "metadata": {},
   "outputs": [
    {
     "data": {
      "text/html": [
       "1"
      ],
      "text/latex": [
       "1"
      ],
      "text/markdown": [
       "1"
      ],
      "text/plain": [
       "[1] 1"
      ]
     },
     "metadata": {},
     "output_type": "display_data"
    },
    {
     "data": {
      "image/png": "[encoded data removed]",
      "text/plain": [
       "plot without title"
      ]
     },
     "metadata": {},
     "output_type": "display_data"
    }
   ],
   "source": [
    "plot(reg.summary$cp ,xlab=\"Number of Variables \",ylab=\"Cp\",type='l')\n",
    "\n",
    "which.min(reg.summary$cp)\n",
    "b <- which.min(reg.summary$cp)\n",
    "points (1,reg.summary$cp[1], col =\"red\",cex=2,pch=20)"
   ]
  },
  {
   "cell_type": "code",
   "execution_count": 12,
   "metadata": {},
   "outputs": [
    {
     "data": {
      "text/html": [
       "1"
      ],
      "text/latex": [
       "1"
      ],
      "text/markdown": [
       "1"
      ],
      "text/plain": [
       "[1] 1"
      ]
     },
     "metadata": {},
     "output_type": "display_data"
    }
   ],
   "source": [
    "\n",
    "which.min(reg.summary$bic)\n",
    "c <- which.min(reg.summary$bic)\n"
   ]
  },
  {
   "cell_type": "code",
   "execution_count": 13,
   "metadata": {},
   "outputs": [
    {
     "data": {
      "image/png": "[encoded data removed]",
      "text/plain": [
       "plot without title"
      ]
     },
     "metadata": {},
     "output_type": "display_data"
    }
   ],
   "source": [
    "plot(reg.summary$bic,xlab=\"Number of Variables \",ylab=\"BIC\",type=\"l\")\n",
    "points (1,reg.summary$bic[1],col=\"red\",cex=2,pch =20)"
   ]
  },
  {
   "cell_type": "code",
   "execution_count": 14,
   "metadata": {
    "scrolled": false
   },
   "outputs": [
    {
     "data": {
      "image/png": "[encoded data removed]",
      "text/plain": [
       "plot without title"
      ]
     },
     "metadata": {},
     "output_type": "display_data"
    },
    {
     "data": {
      "image/png": "[encoded data removed]",
      "text/plain": [
       "plot without title"
      ]
     },
     "metadata": {},
     "output_type": "display_data"
    },
    {
     "data": {
      "image/png": "[encoded data removed]",
      "text/plain": [
       "plot without title"
      ]
     },
     "metadata": {},
     "output_type": "display_data"
    },
    {
     "data": {
      "image/png": "[encoded data removed]",
      "text/plain": [
       "plot without title"
      ]
     },
     "metadata": {},
     "output_type": "display_data"
    }
   ],
   "source": [
    "plot(regfit.full ,scale=\"r2\")\n",
    "plot(regfit.full ,scale=\"adjr2\")\n",
    "plot(regfit.full ,scale=\"Cp\")\n",
    "plot(regfit.full ,scale=\"bic\")"
   ]
  },
  {
   "cell_type": "code",
   "execution_count": 15,
   "metadata": {},
   "outputs": [
    {
     "data": {
      "text/html": [
       "<dl class=dl-horizontal>\n",
       "\t<dt>(Intercept)</dt>\n",
       "\t\t<dd>21.6384121097338</dd>\n",
       "\t<dt>Percentage.Black</dt>\n",
       "\t\t<dd>0.226751377518648</dd>\n",
       "</dl>\n"
      ],
      "text/latex": [
       "\\begin{description*}\n",
       "\\item[(Intercept)] 21.6384121097338\n",
       "\\item[Percentage.Black] 0.226751377518648\n",
       "\\end{description*}\n"
      ],
      "text/markdown": [
       "(Intercept)\n",
       ":   21.6384121097338Percentage.Black\n",
       ":   0.226751377518648\n",
       "\n"
      ],
      "text/plain": [
       "     (Intercept) Percentage.Black \n",
       "      21.6384121        0.2267514 "
      ]
     },
     "metadata": {},
     "output_type": "display_data"
    }
   ],
   "source": [
    "coef(regfit.full,1)\n",
    "#a, b, and c are values/numbers, so if it doesn't work, try replacing with\n",
    "#numbers"
   ]
  },
  {
   "cell_type": "code",
   "execution_count": 16,
   "metadata": {},
   "outputs": [
    {
     "data": {
      "text/plain": [
       "Subset selection object\n",
       "Call: regsubsets.formula(Number.of.Likes ~ ., data = stat1, nvmax = 19, \n",
       "    method = \"forward\")\n",
       "9 Variables  (and intercept)\n",
       "                  Forced in Forced out\n",
       "Percentage.Black      FALSE      FALSE\n",
       "Percentage.White      FALSE      FALSE\n",
       "Percentage.Blue       FALSE      FALSE\n",
       "Percentage.Red        FALSE      FALSE\n",
       "Percentage.Yellow     FALSE      FALSE\n",
       "Percentage.Green      FALSE      FALSE\n",
       "Percentage.Purple     FALSE      FALSE\n",
       "People                FALSE      FALSE\n",
       "Percentage.Cyan       FALSE      FALSE\n",
       "1 subsets of each size up to 9\n",
       "Selection Algorithm: forward\n",
       "         Percentage.Black Percentage.White Percentage.Blue Percentage.Red\n",
       "1  ( 1 ) \" \"              \" \"              \" \"             \" \"           \n",
       "2  ( 1 ) \" \"              \" \"              \" \"             \" \"           \n",
       "3  ( 1 ) \" \"              \" \"              \" \"             \" \"           \n",
       "4  ( 1 ) \" \"              \" \"              \" \"             \" \"           \n",
       "5  ( 1 ) \" \"              \" \"              \" \"             \"*\"           \n",
       "6  ( 1 ) \" \"              \" \"              \"*\"             \"*\"           \n",
       "7  ( 1 ) \" \"              \" \"              \"*\"             \"*\"           \n",
       "8  ( 1 ) \"*\"              \" \"              \"*\"             \"*\"           \n",
       "9  ( 1 ) \"*\"              \"*\"              \"*\"             \"*\"           \n",
       "         Percentage.Yellow Percentage.Green Percentage.Purple People\n",
       "1  ( 1 ) \"*\"               \" \"              \" \"               \" \"   \n",
       "2  ( 1 ) \"*\"               \" \"              \"*\"               \" \"   \n",
       "3  ( 1 ) \"*\"               \"*\"              \"*\"               \" \"   \n",
       "4  ( 1 ) \"*\"               \"*\"              \"*\"               \"*\"   \n",
       "5  ( 1 ) \"*\"               \"*\"              \"*\"               \"*\"   \n",
       "6  ( 1 ) \"*\"               \"*\"              \"*\"               \"*\"   \n",
       "7  ( 1 ) \"*\"               \"*\"              \"*\"               \"*\"   \n",
       "8  ( 1 ) \"*\"               \"*\"              \"*\"               \"*\"   \n",
       "9  ( 1 ) \"*\"               \"*\"              \"*\"               \"*\"   \n",
       "         Percentage.Cyan\n",
       "1  ( 1 ) \" \"            \n",
       "2  ( 1 ) \" \"            \n",
       "3  ( 1 ) \" \"            \n",
       "4  ( 1 ) \" \"            \n",
       "5  ( 1 ) \" \"            \n",
       "6  ( 1 ) \" \"            \n",
       "7  ( 1 ) \"*\"            \n",
       "8  ( 1 ) \"*\"            \n",
       "9  ( 1 ) \"*\"            "
      ]
     },
     "metadata": {},
     "output_type": "display_data"
    }
   ],
   "source": [
    "regfit.fwd=regsubsets (Number.of.Likes∼.,data=stat1, nvmax=19, method =\"forward\")\n",
    "summary(regfit.fwd)\n"
   ]
  },
  {
   "cell_type": "code",
   "execution_count": 17,
   "metadata": {},
   "outputs": [
    {
     "data": {
      "text/plain": [
       "Subset selection object\n",
       "Call: regsubsets.formula(Number.of.Likes ~ ., data = stat1, nvmax = 19, \n",
       "    method = \"backward\")\n",
       "9 Variables  (and intercept)\n",
       "                  Forced in Forced out\n",
       "Percentage.Black      FALSE      FALSE\n",
       "Percentage.White      FALSE      FALSE\n",
       "Percentage.Blue       FALSE      FALSE\n",
       "Percentage.Red        FALSE      FALSE\n",
       "Percentage.Yellow     FALSE      FALSE\n",
       "Percentage.Green      FALSE      FALSE\n",
       "Percentage.Purple     FALSE      FALSE\n",
       "People                FALSE      FALSE\n",
       "Percentage.Cyan       FALSE      FALSE\n",
       "1 subsets of each size up to 9\n",
       "Selection Algorithm: backward\n",
       "         Percentage.Black Percentage.White Percentage.Blue Percentage.Red\n",
       "1  ( 1 ) \" \"              \" \"              \" \"             \" \"           \n",
       "2  ( 1 ) \" \"              \" \"              \" \"             \"*\"           \n",
       "3  ( 1 ) \"*\"              \" \"              \" \"             \"*\"           \n",
       "4  ( 1 ) \"*\"              \"*\"              \" \"             \"*\"           \n",
       "5  ( 1 ) \"*\"              \"*\"              \"*\"             \"*\"           \n",
       "6  ( 1 ) \"*\"              \"*\"              \"*\"             \"*\"           \n",
       "7  ( 1 ) \"*\"              \"*\"              \"*\"             \"*\"           \n",
       "8  ( 1 ) \"*\"              \"*\"              \"*\"             \"*\"           \n",
       "9  ( 1 ) \"*\"              \"*\"              \"*\"             \"*\"           \n",
       "         Percentage.Yellow Percentage.Green Percentage.Purple People\n",
       "1  ( 1 ) \"*\"               \" \"              \" \"               \" \"   \n",
       "2  ( 1 ) \"*\"               \" \"              \" \"               \" \"   \n",
       "3  ( 1 ) \"*\"               \" \"              \" \"               \" \"   \n",
       "4  ( 1 ) \"*\"               \" \"              \" \"               \" \"   \n",
       "5  ( 1 ) \"*\"               \" \"              \" \"               \" \"   \n",
       "6  ( 1 ) \"*\"               \" \"              \" \"               \" \"   \n",
       "7  ( 1 ) \"*\"               \"*\"              \" \"               \" \"   \n",
       "8  ( 1 ) \"*\"               \"*\"              \"*\"               \" \"   \n",
       "9  ( 1 ) \"*\"               \"*\"              \"*\"               \"*\"   \n",
       "         Percentage.Cyan\n",
       "1  ( 1 ) \" \"            \n",
       "2  ( 1 ) \" \"            \n",
       "3  ( 1 ) \" \"            \n",
       "4  ( 1 ) \" \"            \n",
       "5  ( 1 ) \" \"            \n",
       "6  ( 1 ) \"*\"            \n",
       "7  ( 1 ) \"*\"            \n",
       "8  ( 1 ) \"*\"            \n",
       "9  ( 1 ) \"*\"            "
      ]
     },
     "metadata": {},
     "output_type": "display_data"
    }
   ],
   "source": [
    "regfit.bwd=regsubsets(Number.of.Likes∼.,data=stat1 , nvmax=19, method =\"backward\")\n",
    "summary(regfit.bwd)"
   ]
  },
  {
   "cell_type": "code",
   "execution_count": 18,
   "metadata": {},
   "outputs": [
    {
     "data": {
      "text/html": [
       "<dl class=dl-horizontal>\n",
       "\t<dt>(Intercept)</dt>\n",
       "\t\t<dd>29.490301560743</dd>\n",
       "\t<dt>Percentage.Black</dt>\n",
       "\t\t<dd>-7.40449791803001</dd>\n",
       "\t<dt>Percentage.White</dt>\n",
       "\t\t<dd>-7.08664211530385</dd>\n",
       "\t<dt>Percentage.Blue</dt>\n",
       "\t\t<dd>-10.8440466872182</dd>\n",
       "\t<dt>Percentage.Red</dt>\n",
       "\t\t<dd>-10.654771063582</dd>\n",
       "\t<dt>Percentage.Yellow</dt>\n",
       "\t\t<dd>-17.2108210398336</dd>\n",
       "\t<dt>Percentage.Green</dt>\n",
       "\t\t<dd>10.7333968320249</dd>\n",
       "</dl>\n"
      ],
      "text/latex": [
       "\\begin{description*}\n",
       "\\item[(Intercept)] 29.490301560743\n",
       "\\item[Percentage.Black] -7.40449791803001\n",
       "\\item[Percentage.White] -7.08664211530385\n",
       "\\item[Percentage.Blue] -10.8440466872182\n",
       "\\item[Percentage.Red] -10.654771063582\n",
       "\\item[Percentage.Yellow] -17.2108210398336\n",
       "\\item[Percentage.Green] 10.7333968320249\n",
       "\\end{description*}\n"
      ],
      "text/markdown": [
       "(Intercept)\n",
       ":   29.490301560743Percentage.Black\n",
       ":   -7.40449791803001Percentage.White\n",
       ":   -7.08664211530385Percentage.Blue\n",
       ":   -10.8440466872182Percentage.Red\n",
       ":   -10.654771063582Percentage.Yellow\n",
       ":   -17.2108210398336Percentage.Green\n",
       ":   10.7333968320249\n",
       "\n"
      ],
      "text/plain": [
       "      (Intercept)  Percentage.Black  Percentage.White   Percentage.Blue \n",
       "        29.490302         -7.404498         -7.086642        -10.844047 \n",
       "   Percentage.Red Percentage.Yellow  Percentage.Green \n",
       "       -10.654771        -17.210821         10.733397 "
      ]
     },
     "metadata": {},
     "output_type": "display_data"
    }
   ],
   "source": [
    "coef(regfit.full,6)"
   ]
  },
  {
   "cell_type": "code",
   "execution_count": 19,
   "metadata": {},
   "outputs": [
    {
     "data": {
      "text/html": [
       "<dl class=dl-horizontal>\n",
       "\t<dt>(Intercept)</dt>\n",
       "\t\t<dd>31.9546584097585</dd>\n",
       "\t<dt>Percentage.Black</dt>\n",
       "\t\t<dd>-9.82777014237701</dd>\n",
       "\t<dt>Percentage.White</dt>\n",
       "\t\t<dd>-9.59151242316146</dd>\n",
       "\t<dt>Percentage.Blue</dt>\n",
       "\t\t<dd>-14.4811504978037</dd>\n",
       "\t<dt>Percentage.Red</dt>\n",
       "\t\t<dd>-13.4669500386111</dd>\n",
       "\t<dt>Percentage.Yellow</dt>\n",
       "\t\t<dd>-18.7566274419621</dd>\n",
       "</dl>\n"
      ],
      "text/latex": [
       "\\begin{description*}\n",
       "\\item[(Intercept)] 31.9546584097585\n",
       "\\item[Percentage.Black] -9.82777014237701\n",
       "\\item[Percentage.White] -9.59151242316146\n",
       "\\item[Percentage.Blue] -14.4811504978037\n",
       "\\item[Percentage.Red] -13.4669500386111\n",
       "\\item[Percentage.Yellow] -18.7566274419621\n",
       "\\end{description*}\n"
      ],
      "text/markdown": [
       "(Intercept)\n",
       ":   31.9546584097585Percentage.Black\n",
       ":   -9.82777014237701Percentage.White\n",
       ":   -9.59151242316146Percentage.Blue\n",
       ":   -14.4811504978037Percentage.Red\n",
       ":   -13.4669500386111Percentage.Yellow\n",
       ":   -18.7566274419621\n",
       "\n"
      ],
      "text/plain": [
       "      (Intercept)  Percentage.Black  Percentage.White   Percentage.Blue \n",
       "        31.954658         -9.827770         -9.591512        -14.481150 \n",
       "   Percentage.Red Percentage.Yellow \n",
       "       -13.466950        -18.756627 "
      ]
     },
     "metadata": {},
     "output_type": "display_data"
    }
   ],
   "source": [
    "coef(regfit.full,5)"
   ]
  },
  {
   "cell_type": "code",
   "execution_count": 20,
   "metadata": {},
   "outputs": [
    {
     "data": {
      "text/html": [
       "<dl class=dl-horizontal>\n",
       "\t<dt>(Intercept)</dt>\n",
       "\t\t<dd>21.6452658713206</dd>\n",
       "\t<dt>Percentage.Blue</dt>\n",
       "\t\t<dd>-2.86532435370098</dd>\n",
       "\t<dt>Percentage.Red</dt>\n",
       "\t\t<dd>-4.62974830863201</dd>\n",
       "\t<dt>Percentage.Yellow</dt>\n",
       "\t\t<dd>-9.74266289790694</dd>\n",
       "\t<dt>Percentage.Green</dt>\n",
       "\t\t<dd>20.0629287025668</dd>\n",
       "\t<dt>Percentage.Purple</dt>\n",
       "\t\t<dd>29.2940304436702</dd>\n",
       "\t<dt>People</dt>\n",
       "\t\t<dd>0.476095650316731</dd>\n",
       "</dl>\n"
      ],
      "text/latex": [
       "\\begin{description*}\n",
       "\\item[(Intercept)] 21.6452658713206\n",
       "\\item[Percentage.Blue] -2.86532435370098\n",
       "\\item[Percentage.Red] -4.62974830863201\n",
       "\\item[Percentage.Yellow] -9.74266289790694\n",
       "\\item[Percentage.Green] 20.0629287025668\n",
       "\\item[Percentage.Purple] 29.2940304436702\n",
       "\\item[People] 0.476095650316731\n",
       "\\end{description*}\n"
      ],
      "text/markdown": [
       "(Intercept)\n",
       ":   21.6452658713206Percentage.Blue\n",
       ":   -2.86532435370098Percentage.Red\n",
       ":   -4.62974830863201Percentage.Yellow\n",
       ":   -9.74266289790694Percentage.Green\n",
       ":   20.0629287025668Percentage.Purple\n",
       ":   29.2940304436702People\n",
       ":   0.476095650316731\n",
       "\n"
      ],
      "text/plain": [
       "      (Intercept)   Percentage.Blue    Percentage.Red Percentage.Yellow \n",
       "       21.6452659        -2.8653244        -4.6297483        -9.7426629 \n",
       " Percentage.Green Percentage.Purple            People \n",
       "       20.0629287        29.2940304         0.4760957 "
      ]
     },
     "metadata": {},
     "output_type": "display_data"
    }
   ],
   "source": [
    "coef(regfit.fwd,6)"
   ]
  },
  {
   "cell_type": "code",
   "execution_count": 21,
   "metadata": {},
   "outputs": [
    {
     "data": {
      "text/html": [
       "<dl class=dl-horizontal>\n",
       "\t<dt>(Intercept)</dt>\n",
       "\t\t<dd>21.5208248373783</dd>\n",
       "\t<dt>Percentage.Red</dt>\n",
       "\t\t<dd>-4.26137578509184</dd>\n",
       "\t<dt>Percentage.Yellow</dt>\n",
       "\t\t<dd>-9.44249891938514</dd>\n",
       "\t<dt>Percentage.Green</dt>\n",
       "\t\t<dd>20.6028683887738</dd>\n",
       "\t<dt>Percentage.Purple</dt>\n",
       "\t\t<dd>28.0364653419282</dd>\n",
       "\t<dt>People</dt>\n",
       "\t\t<dd>0.476330806942955</dd>\n",
       "</dl>\n"
      ],
      "text/latex": [
       "\\begin{description*}\n",
       "\\item[(Intercept)] 21.5208248373783\n",
       "\\item[Percentage.Red] -4.26137578509184\n",
       "\\item[Percentage.Yellow] -9.44249891938514\n",
       "\\item[Percentage.Green] 20.6028683887738\n",
       "\\item[Percentage.Purple] 28.0364653419282\n",
       "\\item[People] 0.476330806942955\n",
       "\\end{description*}\n"
      ],
      "text/markdown": [
       "(Intercept)\n",
       ":   21.5208248373783Percentage.Red\n",
       ":   -4.26137578509184Percentage.Yellow\n",
       ":   -9.44249891938514Percentage.Green\n",
       ":   20.6028683887738Percentage.Purple\n",
       ":   28.0364653419282People\n",
       ":   0.476330806942955\n",
       "\n"
      ],
      "text/plain": [
       "      (Intercept)    Percentage.Red Percentage.Yellow  Percentage.Green \n",
       "       21.5208248        -4.2613758        -9.4424989        20.6028684 \n",
       "Percentage.Purple            People \n",
       "       28.0364653         0.4763308 "
      ]
     },
     "metadata": {},
     "output_type": "display_data"
    }
   ],
   "source": [
    "coef(regfit.fwd,5)"
   ]
  },
  {
   "cell_type": "code",
   "execution_count": 22,
   "metadata": {},
   "outputs": [
    {
     "data": {
      "text/html": [
       "<dl class=dl-horizontal>\n",
       "\t<dt>(Intercept)</dt>\n",
       "\t\t<dd>45.7134686430495</dd>\n",
       "\t<dt>Percentage.Black</dt>\n",
       "\t\t<dd>-23.6769793543101</dd>\n",
       "\t<dt>Percentage.White</dt>\n",
       "\t\t<dd>-23.371268700921</dd>\n",
       "\t<dt>Percentage.Blue</dt>\n",
       "\t\t<dd>-26.7134607818738</dd>\n",
       "\t<dt>Percentage.Red</dt>\n",
       "\t\t<dd>-27.5082215204991</dd>\n",
       "\t<dt>Percentage.Yellow</dt>\n",
       "\t\t<dd>-33.4799128419798</dd>\n",
       "\t<dt>Percentage.Cyan</dt>\n",
       "\t\t<dd>-20.8054715844224</dd>\n",
       "</dl>\n"
      ],
      "text/latex": [
       "\\begin{description*}\n",
       "\\item[(Intercept)] 45.7134686430495\n",
       "\\item[Percentage.Black] -23.6769793543101\n",
       "\\item[Percentage.White] -23.371268700921\n",
       "\\item[Percentage.Blue] -26.7134607818738\n",
       "\\item[Percentage.Red] -27.5082215204991\n",
       "\\item[Percentage.Yellow] -33.4799128419798\n",
       "\\item[Percentage.Cyan] -20.8054715844224\n",
       "\\end{description*}\n"
      ],
      "text/markdown": [
       "(Intercept)\n",
       ":   45.7134686430495Percentage.Black\n",
       ":   -23.6769793543101Percentage.White\n",
       ":   -23.371268700921Percentage.Blue\n",
       ":   -26.7134607818738Percentage.Red\n",
       ":   -27.5082215204991Percentage.Yellow\n",
       ":   -33.4799128419798Percentage.Cyan\n",
       ":   -20.8054715844224\n",
       "\n"
      ],
      "text/plain": [
       "      (Intercept)  Percentage.Black  Percentage.White   Percentage.Blue \n",
       "         45.71347         -23.67698         -23.37127         -26.71346 \n",
       "   Percentage.Red Percentage.Yellow   Percentage.Cyan \n",
       "        -27.50822         -33.47991         -20.80547 "
      ]
     },
     "metadata": {},
     "output_type": "display_data"
    }
   ],
   "source": [
    "coef(regfit.bwd,6)\n",
    "#machinelearning 2-3 (1)(1)"
   ]
  },
  {
   "cell_type": "code",
   "execution_count": 23,
   "metadata": {},
   "outputs": [
    {
     "data": {
      "text/html": [
       "<dl class=dl-horizontal>\n",
       "\t<dt>(Intercept)</dt>\n",
       "\t\t<dd>31.9546584097585</dd>\n",
       "\t<dt>Percentage.Black</dt>\n",
       "\t\t<dd>-9.82777014237701</dd>\n",
       "\t<dt>Percentage.White</dt>\n",
       "\t\t<dd>-9.59151242316146</dd>\n",
       "\t<dt>Percentage.Blue</dt>\n",
       "\t\t<dd>-14.4811504978037</dd>\n",
       "\t<dt>Percentage.Red</dt>\n",
       "\t\t<dd>-13.4669500386111</dd>\n",
       "\t<dt>Percentage.Yellow</dt>\n",
       "\t\t<dd>-18.7566274419621</dd>\n",
       "</dl>\n"
      ],
      "text/latex": [
       "\\begin{description*}\n",
       "\\item[(Intercept)] 31.9546584097585\n",
       "\\item[Percentage.Black] -9.82777014237701\n",
       "\\item[Percentage.White] -9.59151242316146\n",
       "\\item[Percentage.Blue] -14.4811504978037\n",
       "\\item[Percentage.Red] -13.4669500386111\n",
       "\\item[Percentage.Yellow] -18.7566274419621\n",
       "\\end{description*}\n"
      ],
      "text/markdown": [
       "(Intercept)\n",
       ":   31.9546584097585Percentage.Black\n",
       ":   -9.82777014237701Percentage.White\n",
       ":   -9.59151242316146Percentage.Blue\n",
       ":   -14.4811504978037Percentage.Red\n",
       ":   -13.4669500386111Percentage.Yellow\n",
       ":   -18.7566274419621\n",
       "\n"
      ],
      "text/plain": [
       "      (Intercept)  Percentage.Black  Percentage.White   Percentage.Blue \n",
       "        31.954658         -9.827770         -9.591512        -14.481150 \n",
       "   Percentage.Red Percentage.Yellow \n",
       "       -13.466950        -18.756627 "
      ]
     },
     "metadata": {},
     "output_type": "display_data"
    }
   ],
   "source": [
    "coef(regfit.bwd,5)"
   ]
  },
  {
   "cell_type": "code",
   "execution_count": 24,
   "metadata": {},
   "outputs": [
    {
     "data": {
      "image/png": "[encoded data removed]",
      "text/plain": [
       "plot without title"
      ]
     },
     "metadata": {},
     "output_type": "display_data"
    }
   ],
   "source": [
    "regfit.fwd <- regsubsets(Number.of.Likes ~ ., data = stat1, nvmax = 10, method = \"forward\")\n",
    "reg.summary.fwd <- summary(regfit.fwd)\n",
    "par(mfrow = c(2, 2))\n",
    "plot(reg.summary.fwd$cp, xlab = \"Number of variables\", ylab = \"C_p\", type = \"l\")\n",
    "points(which.min(reg.summary.fwd$cp), reg.summary.fwd$cp[which.min(reg.summary.fwd$cp)], col = \"red\", cex = 2, pch = 20)\n",
    "plot(reg.summary.fwd$bic, xlab = \"Number of variables\", ylab = \"BIC\", type = \"l\")\n",
    "points(which.min(reg.summary.fwd$bic), reg.summary.fwd$bic[which.min(reg.summary.fwd$bic)], col = \"red\", cex = 2, pch = 20)\n",
    "plot(reg.summary.fwd$adjr2, xlab = \"Number of variables\", ylab = \"Adjusted R^2\", type = \"l\")\n",
    "points(which.max(reg.summary.fwd$adjr2), reg.summary.fwd$adjr2[which.max(reg.summary.fwd$adjr2)], col = \"red\", cex = 2, pch = 20)\n",
    "mtext(\"Plots of Cp, BIC and adjusted R^2 for forward stepwise selection\", side = 3, line = -2, outer = TRUE)"
   ]
  },
  {
   "cell_type": "code",
   "execution_count": 25,
   "metadata": {},
   "outputs": [
    {
     "data": {
      "image/png": "[encoded data removed]",
      "text/plain": [
       "plot without title"
      ]
     },
     "metadata": {},
     "output_type": "display_data"
    }
   ],
   "source": [
    "regfit.bwd <- regsubsets(Number.of.Likes ~ ., data = stat1, nvmax = 10, method = \"backward\")\n",
    "reg.summary.bwd <- summary(regfit.bwd)\n",
    "par(mfrow = c(2, 2))\n",
    "plot(reg.summary.bwd$cp, xlab = \"Number of variables\", ylab = \"Cp\", type = \"l\")\n",
    "points(which.min(reg.summary.bwd$cp), reg.summary.bwd$cp[which.min(reg.summary.bwd$cp)], col = \"red\", cex = 2, pch = 20)\n",
    "plot(reg.summary.bwd$bic, xlab = \"Number of variables\", ylab = \"BIC\", type = \"l\")\n",
    "points(which.min(reg.summary.bwd$bic), reg.summary.bwd$bic[which.min(reg.summary.bwd$bic)], col = \"red\", cex = 2, pch = 20)\n",
    "plot(reg.summary.bwd$adjr2, xlab = \"Number of variables\", ylab = \"Adjusted R^2\", type = \"l\")\n",
    "points(which.max(reg.summary.bwd$adjr2), reg.summary.bwd$adjr2[which.max(reg.summary.bwd$adjr2)], col = \"red\", cex = 2, pch = 20)\n",
    "mtext(\"Plots of Cp, BIC and adjusted R^2 for backward stepwise selection\", side = 3, line = -2, outer = TRUE)"
   ]
  },
  {
   "cell_type": "code",
   "execution_count": 26,
   "metadata": {},
   "outputs": [
    {
     "name": "stderr",
     "output_type": "stream",
     "text": [
      "Loading required package: Matrix\n",
      "\n",
      "Attaching package: 'Matrix'\n",
      "\n",
      "The following object is masked from 'package:tidyr':\n",
      "\n",
      "    expand\n",
      "\n",
      "Loading required package: foreach\n",
      "\n",
      "Attaching package: 'foreach'\n",
      "\n",
      "The following objects are masked from 'package:purrr':\n",
      "\n",
      "    accumulate, when\n",
      "\n",
      "Loaded glmnet 2.0-13\n",
      "\n"
     ]
    },
    {
     "data": {
      "text/html": [
       "0.0495545353070984"
      ],
      "text/latex": [
       "0.0495545353070984"
      ],
      "text/markdown": [
       "0.0495545353070984"
      ],
      "text/plain": [
       "[1] 0.04955454"
      ]
     },
     "metadata": {},
     "output_type": "display_data"
    }
   ],
   "source": [
    "library(glmnet)\n",
    "dat.mat=model.matrix(Number.of.Likes~.,data=stat1)[,-1]\n",
    "y = stat1$Number.of.Likes\n",
    "grid =10^ seq (10,-2, length =100)\n",
    "ridge.mod =glmnet(dat.mat,y,alpha =0, lambda =grid)\n",
    "sqrt(sum(coef(ridge.mod)[ -1 ,50]^2) )\n"
   ]
  },
  {
   "cell_type": "code",
   "execution_count": 27,
   "metadata": {},
   "outputs": [
    {
     "data": {
      "text/html": [
       "0.789860030801354"
      ],
      "text/latex": [
       "0.789860030801354"
      ],
      "text/markdown": [
       "0.789860030801354"
      ],
      "text/plain": [
       "[1] 0.78986"
      ]
     },
     "metadata": {},
     "output_type": "display_data"
    }
   ],
   "source": [
    "sqrt(sum(coef(ridge.mod)[ -1 ,60]^2) )"
   ]
  },
  {
   "cell_type": "code",
   "execution_count": 28,
   "metadata": {},
   "outputs": [
    {
     "data": {
      "text/html": [
       "<dl class=dl-horizontal>\n",
       "\t<dt>(Intercept)</dt>\n",
       "\t\t<dd>21.6456622617141</dd>\n",
       "\t<dt>Percentage.Black</dt>\n",
       "\t\t<dd>0.0606819269249657</dd>\n",
       "\t<dt>Percentage.White</dt>\n",
       "\t\t<dd>0.130041468602347</dd>\n",
       "\t<dt>Percentage.Blue</dt>\n",
       "\t\t<dd>0.115803445804201</dd>\n",
       "\t<dt>Percentage.Red</dt>\n",
       "\t\t<dd>-1.41212314679829</dd>\n",
       "\t<dt>Percentage.Yellow</dt>\n",
       "\t\t<dd>-2.33813568279326</dd>\n",
       "\t<dt>Percentage.Green</dt>\n",
       "\t\t<dd>4.12176351815163</dd>\n",
       "\t<dt>Percentage.Purple</dt>\n",
       "\t\t<dd>7.0638809355141</dd>\n",
       "\t<dt>People</dt>\n",
       "\t\t<dd>0.0998718057879858</dd>\n",
       "</dl>\n"
      ],
      "text/latex": [
       "\\begin{description*}\n",
       "\\item[(Intercept)] 21.6456622617141\n",
       "\\item[Percentage.Black] 0.0606819269249657\n",
       "\\item[Percentage.White] 0.130041468602347\n",
       "\\item[Percentage.Blue] 0.115803445804201\n",
       "\\item[Percentage.Red] -1.41212314679829\n",
       "\\item[Percentage.Yellow] -2.33813568279326\n",
       "\\item[Percentage.Green] 4.12176351815163\n",
       "\\item[Percentage.Purple] 7.0638809355141\n",
       "\\item[People] 0.0998718057879858\n",
       "\\end{description*}\n"
      ],
      "text/markdown": [
       "(Intercept)\n",
       ":   21.6456622617141Percentage.Black\n",
       ":   0.0606819269249657Percentage.White\n",
       ":   0.130041468602347Percentage.Blue\n",
       ":   0.115803445804201Percentage.Red\n",
       ":   -1.41212314679829Percentage.Yellow\n",
       ":   -2.33813568279326Percentage.Green\n",
       ":   4.12176351815163Percentage.Purple\n",
       ":   7.0638809355141People\n",
       ":   0.0998718057879858\n",
       "\n"
      ],
      "text/plain": [
       "      (Intercept)  Percentage.Black  Percentage.White   Percentage.Blue \n",
       "      21.64566226        0.06068193        0.13004147        0.11580345 \n",
       "   Percentage.Red Percentage.Yellow  Percentage.Green Percentage.Purple \n",
       "      -1.41212315       -2.33813568        4.12176352        7.06388094 \n",
       "           People \n",
       "       0.09987181 "
      ]
     },
     "metadata": {},
     "output_type": "display_data"
    }
   ],
   "source": [
    "predict(ridge.mod,s=50, type =\"coefficients\")[1:9 ,]"
   ]
  },
  {
   "cell_type": "code",
   "execution_count": 29,
   "metadata": {},
   "outputs": [],
   "source": [
    "set.seed (1)\n",
    "train=sample(1:nrow(dat.mat), nrow(dat.mat)/2)\n",
    "test=(-train)\n",
    "y.test=y[test]"
   ]
  },
  {
   "cell_type": "code",
   "execution_count": 30,
   "metadata": {},
   "outputs": [
    {
     "data": {
      "text/html": [
       "257.836764762436"
      ],
      "text/latex": [
       "257.836764762436"
      ],
      "text/markdown": [
       "257.836764762436"
      ],
      "text/plain": [
       "[1] 257.8368"
      ]
     },
     "metadata": {},
     "output_type": "display_data"
    }
   ],
   "source": [
    "ridge.mod =glmnet(dat.mat[train,] , y[train], alpha=0, lambda=grid, thresh= 1e-12)\n",
    "ridge.pred=predict(ridge.mod ,s=4, newx=dat.mat[test,])\n",
    "mean((ridge.pred-y.test)^2)"
   ]
  },
  {
   "cell_type": "code",
   "execution_count": 31,
   "metadata": {},
   "outputs": [
    {
     "data": {
      "text/html": [
       "253.260221071028"
      ],
      "text/latex": [
       "253.260221071028"
      ],
      "text/markdown": [
       "253.260221071028"
      ],
      "text/plain": [
       "[1] 253.2602"
      ]
     },
     "metadata": {},
     "output_type": "display_data"
    }
   ],
   "source": [
    "mean(( mean(y[train ])-y.test)^2)"
   ]
  },
  {
   "cell_type": "code",
   "execution_count": 32,
   "metadata": {},
   "outputs": [
    {
     "data": {
      "image/png": "[encoded data removed]",
      "text/plain": [
       "plot without title"
      ]
     },
     "metadata": {},
     "output_type": "display_data"
    }
   ],
   "source": [
    "lasso.mod =glmnet(dat.mat[train ,],y[train],alpha =1, lambda=grid)\n",
    "plot(lasso.mod)\n"
   ]
  },
  {
   "cell_type": "code",
   "execution_count": 33,
   "metadata": {},
   "outputs": [
    {
     "data": {
      "text/html": [
       "253.394962399154"
      ],
      "text/latex": [
       "253.394962399154"
      ],
      "text/markdown": [
       "253.394962399154"
      ],
      "text/plain": [
       "[1] 253.395"
      ]
     },
     "metadata": {},
     "output_type": "display_data"
    },
    {
     "data": {
      "image/png": "[encoded data removed]",
      "text/plain": [
       "plot without title"
      ]
     },
     "metadata": {},
     "output_type": "display_data"
    }
   ],
   "source": [
    "set.seed (1)\n",
    "cv.out =cv.glmnet(dat.mat[train ,],y[train],alpha=1)\n",
    "plot(cv.out)\n",
    "bestlam =cv.out$lambda.min\n",
    "lasso.pred=predict(lasso.mod ,s=bestlam ,newx=dat.mat[test,])\n",
    "mean((lasso.pred-y.test)^2)\n"
   ]
  },
  {
   "cell_type": "code",
   "execution_count": 35,
   "metadata": {
    "collapsed": true
   },
   "outputs": [
    {
     "ename": "ERROR",
     "evalue": "Error in storage.mode(y) <- \"double\": (list) object cannot be coerced to type 'double'\n",
     "output_type": "error",
     "traceback": [
      "Error in storage.mode(y) <- \"double\": (list) object cannot be coerced to type 'double'\nTraceback:\n",
      "1. cv.glmnet(dat.mat, stat1, alpha = 1)",
      "2. glmnet(x, y, weights = weights, offset = offset, lambda = lambda, \n .     ...)",
      "3. elnet(x, is.sparse, ix, jx, y, weights, offset, type.gaussian, \n .     alpha, nobs, nvars, jd, vp, cl, ne, nx, nlam, flmin, ulam, \n .     thresh, isd, intr, vnames, maxit)"
     ]
    }
   ],
   "source": [
    "cv.out=cv.glmnet(dat.mat,stat1,alpha=1)\n",
    "plot(cv.out)\n",
    "bestlam=cv.out$lambda.min\n",
    "bestlam\n",
    "\n",
    "lasso.mod=glmnet(dat.mat,y,alpha=1,lambda=bestlam)\n",
    "coef(lasso.mod)"
   ]
  },
  {
   "cell_type": "code",
   "execution_count": 5,
   "metadata": {},
   "outputs": [],
   "source": [
    "Cols= function(vec){\n",
    "    cols=rainbow(length(unique(vec)))\n",
    "    return(cols[as.numeric(as.factor(vec))])\n",
    "}\n"
   ]
  },
  {
   "cell_type": "code",
   "execution_count": 6,
   "metadata": {},
   "outputs": [
    {
     "ename": "ERROR",
     "evalue": "Error in plot(pr.out$x[, 1:2], col = Cols(domcolor), pch = 19, xlab = \"Z1\", : object 'pr.out' not found\n",
     "output_type": "error",
     "traceback": [
      "Error in plot(pr.out$x[, 1:2], col = Cols(domcolor), pch = 19, xlab = \"Z1\", : object 'pr.out' not found\nTraceback:\n",
      "1. plot(pr.out$x[, 1:2], col = Cols(domcolor), pch = 19, xlab = \"Z1\", \n .     ylab = \"Z2\")"
     ]
    }
   ],
   "source": [
    "plot(pr.out$x[,1:2], col=Cols(domcolor), pch=19, xlab=\"Z1\", ylab=\"Z2\")\n",
    "#not sure what x is used for, but probably try that with the actual\n",
    "#data instead?"
   ]
  },
  {
   "cell_type": "code",
   "execution_count": null,
   "metadata": {},
   "outputs": [],
   "source": [
    "plot(pr.out$x[,c(1,3)], col=Cols(nci.labs), pch=19, xlab=\"Z1\", ylab=\"Z3\")"
   ]
  },
  {
   "cell_type": "code",
   "execution_count": null,
   "metadata": {},
   "outputs": [],
   "source": [
    "summary(pr.out)"
   ]
  },
  {
   "cell_type": "code",
   "execution_count": null,
   "metadata": {},
   "outputs": [],
   "source": [
    "plot(pr.out)"
   ]
  },
  {
   "cell_type": "code",
   "execution_count": null,
   "metadata": {},
   "outputs": [],
   "source": [
    "pve=100*pr.out$sdev^2/ sum(pr.out$sdev^2)\n",
    "\n",
    "plot(pve, type=\"o\", ylab=\"PVE\", xlab=\"Principal Component\", col=\"blue\")"
   ]
  },
  {
   "cell_type": "code",
   "execution_count": null,
   "metadata": {},
   "outputs": [],
   "source": [
    "plot(cumsum(pve), type=\"o\", ylab=\"Cumulative PVE\", xlab=\"Principal Component\", col=\"brown3\")"
   ]
  },
  {
   "cell_type": "code",
   "execution_count": null,
   "metadata": {},
   "outputs": [],
   "source": [
    "sd.data=scale(nci.data)"
   ]
  },
  {
   "cell_type": "code",
   "execution_count": null,
   "metadata": {},
   "outputs": [],
   "source": [
    "data.dist=dist(sd.data)\n",
    "plot(hclust(data.dist), labels=nci.labs, main=\"Complete Linkage\",\n",
    "    xlab=\"\", sub=\"\", ylab=\"\")"
   ]
  },
  {
   "cell_type": "code",
   "execution_count": null,
   "metadata": {},
   "outputs": [],
   "source": [
    "plot(hclust(data.dist, method=\"average\"), labels=nci.labs, main=\"Average Linkage\",\n",
    "    xlab=\"\", sub=\"\", ylab=\"\")"
   ]
  },
  {
   "cell_type": "code",
   "execution_count": null,
   "metadata": {},
   "outputs": [],
   "source": [
    "plot(hclust(data.dist, method=\"single\"), labels=nci.labs, main=\"Single Linkage\",\n",
    "    xlab=\"\", sub=\"\", ylab=\"\")"
   ]
  },
  {
   "cell_type": "code",
   "execution_count": null,
   "metadata": {},
   "outputs": [],
   "source": [
    "hc.out=hclust(dist(sd.data))\n",
    "hc.clusters=cutree(hc.out,4)\n",
    "table(hc.clusters,nci.labs)"
   ]
  },
  {
   "cell_type": "code",
   "execution_count": null,
   "metadata": {},
   "outputs": [],
   "source": [
    "plot(hc.out, labels=nci.labs)\n",
    "abline(h=139, col=\"red\")"
   ]
  },
  {
   "cell_type": "code",
   "execution_count": null,
   "metadata": {},
   "outputs": [],
   "source": [
    "hc.out"
   ]
  },
  {
   "cell_type": "code",
   "execution_count": null,
   "metadata": {},
   "outputs": [],
   "source": [
    "set.seed(2)\n",
    "km.out=kmeans(sd.data,4, nstart=20)\n",
    "km.clusters=km.out$cluster\n",
    "table(km.clusters,hc.clusters)"
   ]
  },
  {
   "cell_type": "code",
   "execution_count": null,
   "metadata": {},
   "outputs": [],
   "source": [
    "hc.out=hclust(dist(pr.out$x[,1:5]))\n",
    "plot(hc.out, labels=nci.labs, main=\"Hier. Clust. on First Five Score Vectors\")"
   ]
  },
  {
   "cell_type": "code",
   "execution_count": null,
   "metadata": {},
   "outputs": [],
   "source": [
    "table(cutree(hc.out,4), nci.labs)"
   ]
  }
 ],
 "metadata": {
  "kernelspec": {
   "display_name": "R",
   "language": "R",
   "name": "ir"
  },
  "language_info": {
   "codemirror_mode": "r",
   "file_extension": ".r",
   "mimetype": "text/x-r-source",
   "name": "R",
   "pygments_lexer": "r",
   "version": "3.4.2"
  }
 },
 "nbformat": 4,
 "nbformat_minor": 2
}
