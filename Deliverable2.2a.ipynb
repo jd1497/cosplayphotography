{
 "cells": [
  {
   "cell_type": "code",
   "execution_count": 1,
   "metadata": {},
   "outputs": [
    {
     "name": "stderr",
     "output_type": "stream",
     "text": [
      "\n",
      "Attaching package: 'dplyr'\n",
      "\n",
      "The following objects are masked from 'package:data.table':\n",
      "\n",
      "    between, first, last\n",
      "\n",
      "The following objects are masked from 'package:stats':\n",
      "\n",
      "    filter, lag\n",
      "\n",
      "The following objects are masked from 'package:base':\n",
      "\n",
      "    intersect, setdiff, setequal, union\n",
      "\n",
      "Warning message:\n",
      "\"package 'e1071' was built under R version 3.4.3\"Loading required package: lattice\n",
      "Loading tidyverse: tibble\n",
      "Loading tidyverse: tidyr\n",
      "Loading tidyverse: readr\n",
      "Loading tidyverse: purrr\n",
      "Conflicts with tidy packages ---------------------------------------------------\n",
      "between():   dplyr, data.table\n",
      "filter():    dplyr, stats\n",
      "first():     dplyr, data.table\n",
      "lag():       dplyr, stats\n",
      "last():      dplyr, data.table\n",
      "lift():      purrr, caret\n",
      "transpose(): purrr, data.table\n",
      "Warning message:\n",
      "\"package 'ISLR' was built under R version 3.4.3\""
     ]
    }
   ],
   "source": [
    "library(data.table) \n",
    "library(ggplot2)\n",
    "library(dplyr)\n",
    "library(e1071)\n",
    "library(rpart)\n",
    "library(caret)\n",
    "library(tidyverse)\n",
    "library(ggplot2)\n",
    "library(stringr)\n",
    "library(ISLR)"
   ]
  },
  {
   "cell_type": "code",
   "execution_count": 2,
   "metadata": {},
   "outputs": [],
   "source": [
    "colorstats <- read.csv('Stats.csv')\n",
    "colorstats %>%\n",
    "  select(Percentage.Black, Percentage.White, Percentage.Blue, Percentage.Red, Percentage.Yellow,\n",
    "         Percentage.Green, Percentage.Purple, People, Percentage.Cyan, Number.of.Likes) ->stat\n",
    "stat %>%\n",
    " select(Percentage.Black, Percentage.White, Percentage.Blue, Percentage.Red, Percentage.Yellow,\n",
    "         Percentage.Green, Percentage.Purple, Percentage.Cyan) ->sorted\n",
    "cbind(sorted, t(apply(sorted, 1, sort, decreasing = TRUE))) -> sorted1\n",
    "colnames(sorted1) <- c(\"Percentage.Black\", \"Percentage.White\", \"Percentage.Blue\", \"Percentage.Red\", \"Percentage.Yellow\",\n",
    "                     \"Percentage.Green\",\"Percentage.Purple\",\"Percentage.Cyan\", \"Color1\", \"Color2\", \"Color3\",\n",
    "                     \"Color4\", \"Color5\", \"Color6\", \"Color7\", \"Color8\")\n",
    "sorted1 %>%\n",
    " select(Color1, Color2, Color3, Color4, Color5, Color6, Color7, Color8) ->domcolor\n",
    "domcolor$Likes <- stat$Number.of.Likes\n",
    "dompcolor <- domcolor\n",
    "dompcolor$People <- stat$People"
   ]
  },
  {
   "cell_type": "code",
   "execution_count": 4,
   "metadata": {},
   "outputs": [
    {
     "name": "stderr",
     "output_type": "stream",
     "text": [
      "Warning message:\n",
      "\"package 'leaps' was built under R version 3.4.4\""
     ]
    },
    {
     "data": {
      "text/plain": [
       "Subset selection object\n",
       "Call: regsubsets.formula(Likes ~ ., domcolor)\n",
       "8 Variables  (and intercept)\n",
       "       Forced in Forced out\n",
       "Color1     FALSE      FALSE\n",
       "Color2     FALSE      FALSE\n",
       "Color3     FALSE      FALSE\n",
       "Color4     FALSE      FALSE\n",
       "Color5     FALSE      FALSE\n",
       "Color6     FALSE      FALSE\n",
       "Color7     FALSE      FALSE\n",
       "Color8     FALSE      FALSE\n",
       "1 subsets of each size up to 8\n",
       "Selection Algorithm: exhaustive\n",
       "         Color1 Color2 Color3 Color4 Color5 Color6 Color7 Color8\n",
       "1  ( 1 ) \" \"    \" \"    \" \"    \" \"    \"*\"    \" \"    \" \"    \" \"   \n",
       "2  ( 1 ) \" \"    \" \"    \" \"    \" \"    \"*\"    \"*\"    \" \"    \" \"   \n",
       "3  ( 1 ) \" \"    \" \"    \" \"    \" \"    \"*\"    \"*\"    \"*\"    \" \"   \n",
       "4  ( 1 ) \" \"    \" \"    \" \"    \"*\"    \"*\"    \"*\"    \"*\"    \" \"   \n",
       "5  ( 1 ) \" \"    \" \"    \" \"    \"*\"    \"*\"    \"*\"    \"*\"    \"*\"   \n",
       "6  ( 1 ) \" \"    \" \"    \"*\"    \"*\"    \"*\"    \"*\"    \"*\"    \"*\"   \n",
       "7  ( 1 ) \"*\"    \"*\"    \"*\"    \"*\"    \"*\"    \"*\"    \" \"    \"*\"   \n",
       "8  ( 1 ) \"*\"    \"*\"    \"*\"    \"*\"    \"*\"    \"*\"    \"*\"    \"*\"   "
      ]
     },
     "metadata": {},
     "output_type": "display_data"
    }
   ],
   "source": [
    "#domcolor 1st\n",
    "library(leaps)\n",
    "regfit.full=regsubsets(Likes∼.,domcolor)\n",
    "summary(regfit.full)"
   ]
  },
  {
   "cell_type": "code",
   "execution_count": 5,
   "metadata": {},
   "outputs": [
    {
     "data": {
      "text/html": [
       "<ol class=list-inline>\n",
       "\t<li>0.000583043029425578</li>\n",
       "\t<li>0.0019442023959102</li>\n",
       "\t<li>0.00291978560685546</li>\n",
       "\t<li>0.00366213542509353</li>\n",
       "\t<li>0.00435850581599717</li>\n",
       "\t<li>0.0044042006894055</li>\n",
       "\t<li>0.00444018343263008</li>\n",
       "\t<li>0.00618775026780993</li>\n",
       "</ol>\n"
      ],
      "text/latex": [
       "\\begin{enumerate*}\n",
       "\\item 0.000583043029425578\n",
       "\\item 0.0019442023959102\n",
       "\\item 0.00291978560685546\n",
       "\\item 0.00366213542509353\n",
       "\\item 0.00435850581599717\n",
       "\\item 0.0044042006894055\n",
       "\\item 0.00444018343263008\n",
       "\\item 0.00618775026780993\n",
       "\\end{enumerate*}\n"
      ],
      "text/markdown": [
       "1. 0.000583043029425578\n",
       "2. 0.0019442023959102\n",
       "3. 0.00291978560685546\n",
       "4. 0.00366213542509353\n",
       "5. 0.00435850581599717\n",
       "6. 0.0044042006894055\n",
       "7. 0.00444018343263008\n",
       "8. 0.00618775026780993\n",
       "\n",
       "\n"
      ],
      "text/plain": [
       "[1] 0.000583043 0.001944202 0.002919786 0.003662135 0.004358506 0.004404201\n",
       "[7] 0.004440183 0.006187750"
      ]
     },
     "metadata": {},
     "output_type": "display_data"
    }
   ],
   "source": [
    "regfit.full=regsubsets(Likes∼.,data=domcolor ,nvmax=19)\n",
    "reg.summary =summary (regfit.full)\n",
    " reg.summary$rsq"
   ]
  },
  {
   "cell_type": "code",
   "execution_count": 6,
   "metadata": {},
   "outputs": [
    {
     "data": {
      "image/png": "[encoded data removed]",
      "text/plain": [
       "plot without title"
      ]
     },
     "metadata": {},
     "output_type": "display_data"
    },
    {
     "data": {
      "image/png": "[encoded data removed]",
      "text/plain": [
       "plot without title"
      ]
     },
     "metadata": {},
     "output_type": "display_data"
    }
   ],
   "source": [
    " plot(reg.summary$rss ,xlab=\"Number of Variables \",ylab=\"RSS\",type=\"l\")\n",
    " plot(reg.summary$adjr2 ,xlab=\"Number of Variables \",ylab=\"Adjusted RSq\",type=\"l\")\n",
    "points(2,reg.summary$adjr2[2],col=\"red\",cex=2,pch=20)"
   ]
  },
  {
   "cell_type": "code",
   "execution_count": 7,
   "metadata": {},
   "outputs": [
    {
     "data": {
      "text/html": [
       "2"
      ],
      "text/latex": [
       "2"
      ],
      "text/markdown": [
       "2"
      ],
      "text/plain": [
       "[1] 2"
      ]
     },
     "metadata": {},
     "output_type": "display_data"
    }
   ],
   "source": [
    "which.max(reg.summary$adjr2)\n",
    "a <- which.max(reg.summary$adjr2) "
   ]
  },
  {
   "cell_type": "code",
   "execution_count": 11,
   "metadata": {},
   "outputs": [
    {
     "ename": "ERROR",
     "evalue": "Error in plot.xy(xy.coords(x, y), type = type, ...): plot.new has not been called yet\n",
     "output_type": "error",
     "traceback": [
      "Error in plot.xy(xy.coords(x, y), type = type, ...): plot.new has not been called yet\nTraceback:\n",
      "1. points(2, reg.summary$adjr2[2], col = \"red\", cex = 2, pch = 20)",
      "2. points.default(2, reg.summary$adjr2[2], col = \"red\", cex = 2, \n .     pch = 20)",
      "3. plot.xy(xy.coords(x, y), type = type, ...)"
     ]
    }
   ],
   "source": []
  },
  {
   "cell_type": "code",
   "execution_count": 8,
   "metadata": {},
   "outputs": [
    {
     "data": {
      "text/html": [
       "1"
      ],
      "text/latex": [
       "1"
      ],
      "text/markdown": [
       "1"
      ],
      "text/plain": [
       "[1] 1"
      ]
     },
     "metadata": {},
     "output_type": "display_data"
    },
    {
     "data": {
      "image/png": "[encoded data removed]",
      "text/plain": [
       "plot without title"
      ]
     },
     "metadata": {},
     "output_type": "display_data"
    }
   ],
   "source": [
    "plot(reg.summary$cp ,xlab=\"Number of Variables \",ylab=\"Cp\",type='l')\n",
    "\n",
    "which.min(reg.summary$cp)\n",
    "b <- which.min(reg.summary$cp)\n",
    "points (1,reg.summary$cp[1], col =\"red\",cex=2,pch=20)"
   ]
  },
  {
   "cell_type": "code",
   "execution_count": 9,
   "metadata": {},
   "outputs": [
    {
     "data": {
      "text/html": [
       "1"
      ],
      "text/latex": [
       "1"
      ],
      "text/markdown": [
       "1"
      ],
      "text/plain": [
       "[1] 1"
      ]
     },
     "metadata": {},
     "output_type": "display_data"
    }
   ],
   "source": [
    "\n",
    "which.min(reg.summary$bic)\n",
    "c <- which.min(reg.summary$bic)\n"
   ]
  },
  {
   "cell_type": "code",
   "execution_count": 10,
   "metadata": {},
   "outputs": [
    {
     "data": {
      "image/png": "[encoded data removed]",
      "text/plain": [
       "plot without title"
      ]
     },
     "metadata": {},
     "output_type": "display_data"
    }
   ],
   "source": [
    "plot(reg.summary$bic,xlab=\"Number of Variables \",ylab=\"BIC\",type=\"l\")\n",
    "points (1,reg.summary$bic[1],col=\"red\",cex=2,pch =20)"
   ]
  },
  {
   "cell_type": "code",
   "execution_count": 18,
   "metadata": {
    "scrolled": false
   },
   "outputs": [
    {
     "data": {
      "image/png": "[encoded data removed]",
      "text/plain": [
       "plot without title"
      ]
     },
     "metadata": {},
     "output_type": "display_data"
    },
    {
     "data": {
      "image/png": "[encoded data removed]",
      "text/plain": [
       "plot without title"
      ]
     },
     "metadata": {},
     "output_type": "display_data"
    },
    {
     "data": {
      "image/png": "[encoded data removed]",
      "text/plain": [
       "plot without title"
      ]
     },
     "metadata": {},
     "output_type": "display_data"
    },
    {
     "data": {
      "image/png": "[encoded data removed]",
      "text/plain": [
       "plot without title"
      ]
     },
     "metadata": {},
     "output_type": "display_data"
    }
   ],
   "source": [
    "plot(regfit.full ,scale=\"r2\")\n",
    "plot(regfit.full ,scale=\"adjr2\")\n",
    "plot(regfit.full ,scale=\"Cp\")\n",
    "plot(regfit.full ,scale=\"bic\")"
   ]
  },
  {
   "cell_type": "code",
   "execution_count": 11,
   "metadata": {},
   "outputs": [
    {
     "data": {
      "text/html": [
       "<dl class=dl-horizontal>\n",
       "\t<dt>(Intercept)</dt>\n",
       "\t\t<dd>38.0755381196714</dd>\n",
       "\t<dt>Color5</dt>\n",
       "\t\t<dd>156.506334802273</dd>\n",
       "</dl>\n"
      ],
      "text/latex": [
       "\\begin{description*}\n",
       "\\item[(Intercept)] 38.0755381196714\n",
       "\\item[Color5] 156.506334802273\n",
       "\\end{description*}\n"
      ],
      "text/markdown": [
       "(Intercept)\n",
       ":   38.0755381196714Color5\n",
       ":   156.506334802273\n",
       "\n"
      ],
      "text/plain": [
       "(Intercept)      Color5 \n",
       "   38.07554   156.50633 "
      ]
     },
     "metadata": {},
     "output_type": "display_data"
    }
   ],
   "source": [
    "coef(regfit.full,1)\n",
    "#a, b, and c are values/numbers, so if it doesn't work, try replacing with\n",
    "#numbers"
   ]
  },
  {
   "cell_type": "code",
   "execution_count": 12,
   "metadata": {},
   "outputs": [
    {
     "data": {
      "text/plain": [
       "Subset selection object\n",
       "Call: regsubsets.formula(Likes ~ ., data = domcolor, nvmax = 19, method = \"forward\")\n",
       "8 Variables  (and intercept)\n",
       "       Forced in Forced out\n",
       "Color1     FALSE      FALSE\n",
       "Color2     FALSE      FALSE\n",
       "Color3     FALSE      FALSE\n",
       "Color4     FALSE      FALSE\n",
       "Color5     FALSE      FALSE\n",
       "Color6     FALSE      FALSE\n",
       "Color7     FALSE      FALSE\n",
       "Color8     FALSE      FALSE\n",
       "1 subsets of each size up to 8\n",
       "Selection Algorithm: forward\n",
       "         Color1 Color2 Color3 Color4 Color5 Color6 Color7 Color8\n",
       "1  ( 1 ) \" \"    \" \"    \" \"    \" \"    \"*\"    \" \"    \" \"    \" \"   \n",
       "2  ( 1 ) \" \"    \" \"    \" \"    \" \"    \"*\"    \"*\"    \" \"    \" \"   \n",
       "3  ( 1 ) \" \"    \" \"    \" \"    \" \"    \"*\"    \"*\"    \"*\"    \" \"   \n",
       "4  ( 1 ) \" \"    \" \"    \" \"    \"*\"    \"*\"    \"*\"    \"*\"    \" \"   \n",
       "5  ( 1 ) \" \"    \" \"    \" \"    \"*\"    \"*\"    \"*\"    \"*\"    \"*\"   \n",
       "6  ( 1 ) \" \"    \" \"    \"*\"    \"*\"    \"*\"    \"*\"    \"*\"    \"*\"   \n",
       "7  ( 1 ) \"*\"    \" \"    \"*\"    \"*\"    \"*\"    \"*\"    \"*\"    \"*\"   \n",
       "8  ( 1 ) \"*\"    \"*\"    \"*\"    \"*\"    \"*\"    \"*\"    \"*\"    \"*\"   "
      ]
     },
     "metadata": {},
     "output_type": "display_data"
    }
   ],
   "source": [
    "regfit.fwd=regsubsets (Likes∼.,data=domcolor, nvmax=19, method =\"forward\")\n",
    "summary(regfit.fwd)\n"
   ]
  },
  {
   "cell_type": "code",
   "execution_count": 13,
   "metadata": {},
   "outputs": [
    {
     "data": {
      "text/plain": [
       "Subset selection object\n",
       "Call: regsubsets.formula(Likes ~ ., data = domcolor, nvmax = 19, method = \"backward\")\n",
       "8 Variables  (and intercept)\n",
       "       Forced in Forced out\n",
       "Color1     FALSE      FALSE\n",
       "Color2     FALSE      FALSE\n",
       "Color3     FALSE      FALSE\n",
       "Color4     FALSE      FALSE\n",
       "Color5     FALSE      FALSE\n",
       "Color6     FALSE      FALSE\n",
       "Color7     FALSE      FALSE\n",
       "Color8     FALSE      FALSE\n",
       "1 subsets of each size up to 8\n",
       "Selection Algorithm: backward\n",
       "         Color1 Color2 Color3 Color4 Color5 Color6 Color7 Color8\n",
       "1  ( 1 ) \" \"    \" \"    \" \"    \"*\"    \" \"    \" \"    \" \"    \" \"   \n",
       "2  ( 1 ) \"*\"    \" \"    \" \"    \"*\"    \" \"    \" \"    \" \"    \" \"   \n",
       "3  ( 1 ) \"*\"    \" \"    \"*\"    \"*\"    \" \"    \" \"    \" \"    \" \"   \n",
       "4  ( 1 ) \"*\"    \"*\"    \"*\"    \"*\"    \" \"    \" \"    \" \"    \" \"   \n",
       "5  ( 1 ) \"*\"    \"*\"    \"*\"    \"*\"    \" \"    \"*\"    \" \"    \" \"   \n",
       "6  ( 1 ) \"*\"    \"*\"    \"*\"    \"*\"    \" \"    \"*\"    \" \"    \"*\"   \n",
       "7  ( 1 ) \"*\"    \"*\"    \"*\"    \"*\"    \"*\"    \"*\"    \" \"    \"*\"   \n",
       "8  ( 1 ) \"*\"    \"*\"    \"*\"    \"*\"    \"*\"    \"*\"    \"*\"    \"*\"   "
      ]
     },
     "metadata": {},
     "output_type": "display_data"
    }
   ],
   "source": [
    "regfit.bwd=regsubsets(Likes∼.,data=domcolor , nvmax=19, method =\"backward\")\n",
    "summary(regfit.bwd)"
   ]
  },
  {
   "cell_type": "code",
   "execution_count": 14,
   "metadata": {},
   "outputs": [
    {
     "data": {
      "text/html": [
       "<dl class=dl-horizontal>\n",
       "\t<dt>(Intercept)</dt>\n",
       "\t\t<dd>42.1730086438939</dd>\n",
       "\t<dt>Color3</dt>\n",
       "\t\t<dd>-17.0607873622288</dd>\n",
       "\t<dt>Color4</dt>\n",
       "\t\t<dd>-60.6725179404776</dd>\n",
       "\t<dt>Color5</dt>\n",
       "\t\t<dd>425.002412825492</dd>\n",
       "\t<dt>Color6</dt>\n",
       "\t\t<dd>-962.475019084857</dd>\n",
       "\t<dt>Color7</dt>\n",
       "\t\t<dd>1566.18536491316</dd>\n",
       "\t<dt>Color8</dt>\n",
       "\t\t<dd>-1908.88888503981</dd>\n",
       "</dl>\n"
      ],
      "text/latex": [
       "\\begin{description*}\n",
       "\\item[(Intercept)] 42.1730086438939\n",
       "\\item[Color3] -17.0607873622288\n",
       "\\item[Color4] -60.6725179404776\n",
       "\\item[Color5] 425.002412825492\n",
       "\\item[Color6] -962.475019084857\n",
       "\\item[Color7] 1566.18536491316\n",
       "\\item[Color8] -1908.88888503981\n",
       "\\end{description*}\n"
      ],
      "text/markdown": [
       "(Intercept)\n",
       ":   42.1730086438939Color3\n",
       ":   -17.0607873622288Color4\n",
       ":   -60.6725179404776Color5\n",
       ":   425.002412825492Color6\n",
       ":   -962.475019084857Color7\n",
       ":   1566.18536491316Color8\n",
       ":   -1908.88888503981\n",
       "\n"
      ],
      "text/plain": [
       "(Intercept)      Color3      Color4      Color5      Color6      Color7 \n",
       "   42.17301   -17.06079   -60.67252   425.00241  -962.47502  1566.18536 \n",
       "     Color8 \n",
       "-1908.88889 "
      ]
     },
     "metadata": {},
     "output_type": "display_data"
    }
   ],
   "source": [
    "coef(regfit.full,6)"
   ]
  },
  {
   "cell_type": "code",
   "execution_count": 15,
   "metadata": {},
   "outputs": [
    {
     "data": {
      "text/html": [
       "<dl class=dl-horizontal>\n",
       "\t<dt>(Intercept)</dt>\n",
       "\t\t<dd>41.5685694705214</dd>\n",
       "\t<dt>Color4</dt>\n",
       "\t\t<dd>-82.4336720289952</dd>\n",
       "\t<dt>Color5</dt>\n",
       "\t\t<dd>448.899820605462</dd>\n",
       "\t<dt>Color6</dt>\n",
       "\t\t<dd>-987.825449578492</dd>\n",
       "\t<dt>Color7</dt>\n",
       "\t\t<dd>1049.88364291451</dd>\n",
       "</dl>\n"
      ],
      "text/latex": [
       "\\begin{description*}\n",
       "\\item[(Intercept)] 41.5685694705214\n",
       "\\item[Color4] -82.4336720289952\n",
       "\\item[Color5] 448.899820605462\n",
       "\\item[Color6] -987.825449578492\n",
       "\\item[Color7] 1049.88364291451\n",
       "\\end{description*}\n"
      ],
      "text/markdown": [
       "(Intercept)\n",
       ":   41.5685694705214Color4\n",
       ":   -82.4336720289952Color5\n",
       ":   448.899820605462Color6\n",
       ":   -987.825449578492Color7\n",
       ":   1049.88364291451\n",
       "\n"
      ],
      "text/plain": [
       "(Intercept)      Color4      Color5      Color6      Color7 \n",
       "   41.56857   -82.43367   448.89982  -987.82545  1049.88364 "
      ]
     },
     "metadata": {},
     "output_type": "display_data"
    }
   ],
   "source": [
    "coef(regfit.full,4)"
   ]
  },
  {
   "cell_type": "code",
   "execution_count": 16,
   "metadata": {},
   "outputs": [
    {
     "data": {
      "text/html": [
       "<dl class=dl-horizontal>\n",
       "\t<dt>(Intercept)</dt>\n",
       "\t\t<dd>42.1730086438939</dd>\n",
       "\t<dt>Color3</dt>\n",
       "\t\t<dd>-17.0607873622289</dd>\n",
       "\t<dt>Color4</dt>\n",
       "\t\t<dd>-60.6725179404776</dd>\n",
       "\t<dt>Color5</dt>\n",
       "\t\t<dd>425.002412825492</dd>\n",
       "\t<dt>Color6</dt>\n",
       "\t\t<dd>-962.475019084857</dd>\n",
       "\t<dt>Color7</dt>\n",
       "\t\t<dd>1566.18536491316</dd>\n",
       "\t<dt>Color8</dt>\n",
       "\t\t<dd>-1908.88888503982</dd>\n",
       "</dl>\n"
      ],
      "text/latex": [
       "\\begin{description*}\n",
       "\\item[(Intercept)] 42.1730086438939\n",
       "\\item[Color3] -17.0607873622289\n",
       "\\item[Color4] -60.6725179404776\n",
       "\\item[Color5] 425.002412825492\n",
       "\\item[Color6] -962.475019084857\n",
       "\\item[Color7] 1566.18536491316\n",
       "\\item[Color8] -1908.88888503982\n",
       "\\end{description*}\n"
      ],
      "text/markdown": [
       "(Intercept)\n",
       ":   42.1730086438939Color3\n",
       ":   -17.0607873622289Color4\n",
       ":   -60.6725179404776Color5\n",
       ":   425.002412825492Color6\n",
       ":   -962.475019084857Color7\n",
       ":   1566.18536491316Color8\n",
       ":   -1908.88888503982\n",
       "\n"
      ],
      "text/plain": [
       "(Intercept)      Color3      Color4      Color5      Color6      Color7 \n",
       "   42.17301   -17.06079   -60.67252   425.00241  -962.47502  1566.18536 \n",
       "     Color8 \n",
       "-1908.88889 "
      ]
     },
     "metadata": {},
     "output_type": "display_data"
    }
   ],
   "source": [
    "coef(regfit.fwd,6)"
   ]
  },
  {
   "cell_type": "code",
   "execution_count": 17,
   "metadata": {},
   "outputs": [
    {
     "data": {
      "text/html": [
       "<dl class=dl-horizontal>\n",
       "\t<dt>(Intercept)</dt>\n",
       "\t\t<dd>41.5685694705214</dd>\n",
       "\t<dt>Color4</dt>\n",
       "\t\t<dd>-82.4336720289952</dd>\n",
       "\t<dt>Color5</dt>\n",
       "\t\t<dd>448.899820605462</dd>\n",
       "\t<dt>Color6</dt>\n",
       "\t\t<dd>-987.825449578493</dd>\n",
       "\t<dt>Color7</dt>\n",
       "\t\t<dd>1049.88364291451</dd>\n",
       "</dl>\n"
      ],
      "text/latex": [
       "\\begin{description*}\n",
       "\\item[(Intercept)] 41.5685694705214\n",
       "\\item[Color4] -82.4336720289952\n",
       "\\item[Color5] 448.899820605462\n",
       "\\item[Color6] -987.825449578493\n",
       "\\item[Color7] 1049.88364291451\n",
       "\\end{description*}\n"
      ],
      "text/markdown": [
       "(Intercept)\n",
       ":   41.5685694705214Color4\n",
       ":   -82.4336720289952Color5\n",
       ":   448.899820605462Color6\n",
       ":   -987.825449578493Color7\n",
       ":   1049.88364291451\n",
       "\n"
      ],
      "text/plain": [
       "(Intercept)      Color4      Color5      Color6      Color7 \n",
       "   41.56857   -82.43367   448.89982  -987.82545  1049.88364 "
      ]
     },
     "metadata": {},
     "output_type": "display_data"
    }
   ],
   "source": [
    "coef(regfit.fwd,4)"
   ]
  },
  {
   "cell_type": "code",
   "execution_count": 18,
   "metadata": {},
   "outputs": [
    {
     "data": {
      "text/html": [
       "<dl class=dl-horizontal>\n",
       "\t<dt>(Intercept)</dt>\n",
       "\t\t<dd>573.319214523626</dd>\n",
       "\t<dt>Color1</dt>\n",
       "\t\t<dd>-531.899369717235</dd>\n",
       "\t<dt>Color2</dt>\n",
       "\t\t<dd>-525.739241548728</dd>\n",
       "\t<dt>Color3</dt>\n",
       "\t\t<dd>-552.622196754087</dd>\n",
       "\t<dt>Color4</dt>\n",
       "\t\t<dd>-603.619573683905</dd>\n",
       "\t<dt>Color6</dt>\n",
       "\t\t<dd>-1380.42777114383</dd>\n",
       "\t<dt>Color8</dt>\n",
       "\t\t<dd>-1546.45975087348</dd>\n",
       "</dl>\n"
      ],
      "text/latex": [
       "\\begin{description*}\n",
       "\\item[(Intercept)] 573.319214523626\n",
       "\\item[Color1] -531.899369717235\n",
       "\\item[Color2] -525.739241548728\n",
       "\\item[Color3] -552.622196754087\n",
       "\\item[Color4] -603.619573683905\n",
       "\\item[Color6] -1380.42777114383\n",
       "\\item[Color8] -1546.45975087348\n",
       "\\end{description*}\n"
      ],
      "text/markdown": [
       "(Intercept)\n",
       ":   573.319214523626Color1\n",
       ":   -531.899369717235Color2\n",
       ":   -525.739241548728Color3\n",
       ":   -552.622196754087Color4\n",
       ":   -603.619573683905Color6\n",
       ":   -1380.42777114383Color8\n",
       ":   -1546.45975087348\n",
       "\n"
      ],
      "text/plain": [
       "(Intercept)      Color1      Color2      Color3      Color4      Color6 \n",
       "   573.3192   -531.8994   -525.7392   -552.6222   -603.6196  -1380.4278 \n",
       "     Color8 \n",
       " -1546.4598 "
      ]
     },
     "metadata": {},
     "output_type": "display_data"
    }
   ],
   "source": [
    "coef(regfit.bwd,6)\n",
    "#machinelearning 2-3 (1)(1)"
   ]
  },
  {
   "cell_type": "code",
   "execution_count": 19,
   "metadata": {},
   "outputs": [
    {
     "data": {
      "text/html": [
       "<dl class=dl-horizontal>\n",
       "\t<dt>(Intercept)</dt>\n",
       "\t\t<dd>126.466968971528</dd>\n",
       "\t<dt>Color1</dt>\n",
       "\t\t<dd>-85.3262312095493</dd>\n",
       "\t<dt>Color2</dt>\n",
       "\t\t<dd>-82.5734815004841</dd>\n",
       "\t<dt>Color3</dt>\n",
       "\t\t<dd>-96.9548554693448</dd>\n",
       "\t<dt>Color4</dt>\n",
       "\t\t<dd>-137.607436477234</dd>\n",
       "</dl>\n"
      ],
      "text/latex": [
       "\\begin{description*}\n",
       "\\item[(Intercept)] 126.466968971528\n",
       "\\item[Color1] -85.3262312095493\n",
       "\\item[Color2] -82.5734815004841\n",
       "\\item[Color3] -96.9548554693448\n",
       "\\item[Color4] -137.607436477234\n",
       "\\end{description*}\n"
      ],
      "text/markdown": [
       "(Intercept)\n",
       ":   126.466968971528Color1\n",
       ":   -85.3262312095493Color2\n",
       ":   -82.5734815004841Color3\n",
       ":   -96.9548554693448Color4\n",
       ":   -137.607436477234\n",
       "\n"
      ],
      "text/plain": [
       "(Intercept)      Color1      Color2      Color3      Color4 \n",
       "  126.46697   -85.32623   -82.57348   -96.95486  -137.60744 "
      ]
     },
     "metadata": {},
     "output_type": "display_data"
    }
   ],
   "source": [
    "coef(regfit.bwd,4)"
   ]
  },
  {
   "cell_type": "code",
   "execution_count": 20,
   "metadata": {},
   "outputs": [
    {
     "data": {
      "image/png": "[encoded data removed]",
      "text/plain": [
       "plot without title"
      ]
     },
     "metadata": {},
     "output_type": "display_data"
    }
   ],
   "source": [
    "regfit.fwd <- regsubsets(Likes ~ ., data = domcolor, nvmax = 10, method = \"forward\")\n",
    "reg.summary.fwd <- summary(regfit.fwd)\n",
    "par(mfrow = c(2, 2))\n",
    "plot(reg.summary.fwd$cp, xlab = \"Number of variables\", ylab = \"C_p\", type = \"l\")\n",
    "points(which.min(reg.summary.fwd$cp), reg.summary.fwd$cp[which.min(reg.summary.fwd$cp)], col = \"red\", cex = 2, pch = 20)\n",
    "plot(reg.summary.fwd$bic, xlab = \"Number of variables\", ylab = \"BIC\", type = \"l\")\n",
    "points(which.min(reg.summary.fwd$bic), reg.summary.fwd$bic[which.min(reg.summary.fwd$bic)], col = \"red\", cex = 2, pch = 20)\n",
    "plot(reg.summary.fwd$adjr2, xlab = \"Number of variables\", ylab = \"Adjusted R^2\", type = \"l\")\n",
    "points(which.max(reg.summary.fwd$adjr2), reg.summary.fwd$adjr2[which.max(reg.summary.fwd$adjr2)], col = \"red\", cex = 2, pch = 20)\n",
    "mtext(\"Plots of Cp, BIC and adjusted R^2 for forward stepwise selection\", side = 3, line = -2, outer = TRUE)"
   ]
  },
  {
   "cell_type": "code",
   "execution_count": 21,
   "metadata": {},
   "outputs": [
    {
     "data": {
      "image/png": "[encoded data removed]",
      "text/plain": [
       "plot without title"
      ]
     },
     "metadata": {},
     "output_type": "display_data"
    }
   ],
   "source": [
    "regfit.bwd <- regsubsets(Likes ~ ., data = domcolor, nvmax = 10, method = \"backward\")\n",
    "reg.summary.bwd <- summary(regfit.bwd)\n",
    "par(mfrow = c(2, 2))\n",
    "plot(reg.summary.bwd$cp, xlab = \"Number of variables\", ylab = \"Cp\", type = \"l\")\n",
    "points(which.min(reg.summary.bwd$cp), reg.summary.bwd$cp[which.min(reg.summary.bwd$cp)], col = \"red\", cex = 2, pch = 20)\n",
    "plot(reg.summary.bwd$bic, xlab = \"Number of variables\", ylab = \"BIC\", type = \"l\")\n",
    "points(which.min(reg.summary.bwd$bic), reg.summary.bwd$bic[which.min(reg.summary.bwd$bic)], col = \"red\", cex = 2, pch = 20)\n",
    "plot(reg.summary.bwd$adjr2, xlab = \"Number of variables\", ylab = \"Adjusted R^2\", type = \"l\")\n",
    "points(which.max(reg.summary.bwd$adjr2), reg.summary.bwd$adjr2[which.max(reg.summary.bwd$adjr2)], col = \"red\", cex = 2, pch = 20)\n",
    "mtext(\"Plots of Cp, BIC and adjusted R^2 for backward stepwise selection\", side = 3, line = -2, outer = TRUE)"
   ]
  },
  {
   "cell_type": "code",
   "execution_count": 8,
   "metadata": {},
   "outputs": [
    {
     "data": {
      "text/html": [
       "8.45995471111134"
      ],
      "text/latex": [
       "8.45995471111134"
      ],
      "text/markdown": [
       "8.45995471111134"
      ],
      "text/plain": [
       "[1] 8.459955"
      ]
     },
     "metadata": {},
     "output_type": "display_data"
    }
   ],
   "source": [
    "library(glmnet)\n",
    "dat.mat=model.matrix(Likes~.,data=domcolor)[,-1]\n",
    "y = domcolor$Likes\n",
    "grid =10^ seq (10,-2, length =100)\n",
    "ridge.mod =glmnet(dat.mat,y,alpha =0, lambda =grid)\n",
    "sqrt(sum(coef(ridge.mod)[ -1 ,50]^2) )\n"
   ]
  },
  {
   "cell_type": "code",
   "execution_count": 9,
   "metadata": {},
   "outputs": [
    {
     "data": {
      "text/html": [
       "132.628633487828"
      ],
      "text/latex": [
       "132.628633487828"
      ],
      "text/markdown": [
       "132.628633487828"
      ],
      "text/plain": [
       "[1] 132.6286"
      ]
     },
     "metadata": {},
     "output_type": "display_data"
    }
   ],
   "source": [
    "sqrt(sum(coef(ridge.mod)[ -1 ,60]^2) )"
   ]
  },
  {
   "cell_type": "code",
   "execution_count": 13,
   "metadata": {},
   "outputs": [
    {
     "data": {
      "text/html": [
       "<dl class=dl-horizontal>\n",
       "\t<dt>(Intercept)</dt>\n",
       "\t\t<dd>40.3096586022055</dd>\n",
       "\t<dt>Color1</dt>\n",
       "\t\t<dd>0.994738317588701</dd>\n",
       "\t<dt>Color2</dt>\n",
       "\t\t<dd>2.37870715849052</dd>\n",
       "\t<dt>Color3</dt>\n",
       "\t\t<dd>-12.9673519553007</dd>\n",
       "\t<dt>Color4</dt>\n",
       "\t\t<dd>-31.6961870753351</dd>\n",
       "\t<dt>Color5</dt>\n",
       "\t\t<dd>166.963861067662</dd>\n",
       "\t<dt>Color6</dt>\n",
       "\t\t<dd>-277.661087159902</dd>\n",
       "\t<dt>Color7</dt>\n",
       "\t\t<dd>604.504969080556</dd>\n",
       "\t<dt>Color8</dt>\n",
       "\t\t<dd>-896.470929541498</dd>\n",
       "</dl>\n"
      ],
      "text/latex": [
       "\\begin{description*}\n",
       "\\item[(Intercept)] 40.3096586022055\n",
       "\\item[Color1] 0.994738317588701\n",
       "\\item[Color2] 2.37870715849052\n",
       "\\item[Color3] -12.9673519553007\n",
       "\\item[Color4] -31.6961870753351\n",
       "\\item[Color5] 166.963861067662\n",
       "\\item[Color6] -277.661087159902\n",
       "\\item[Color7] 604.504969080556\n",
       "\\item[Color8] -896.470929541498\n",
       "\\end{description*}\n"
      ],
      "text/markdown": [
       "(Intercept)\n",
       ":   40.3096586022055Color1\n",
       ":   0.994738317588701Color2\n",
       ":   2.37870715849052Color3\n",
       ":   -12.9673519553007Color4\n",
       ":   -31.6961870753351Color5\n",
       ":   166.963861067662Color6\n",
       ":   -277.661087159902Color7\n",
       ":   604.504969080556Color8\n",
       ":   -896.470929541498\n",
       "\n"
      ],
      "text/plain": [
       " (Intercept)       Color1       Color2       Color3       Color4       Color5 \n",
       "  40.3096586    0.9947383    2.3787072  -12.9673520  -31.6961871  166.9638611 \n",
       "      Color6       Color7       Color8 \n",
       "-277.6610872  604.5049691 -896.4709295 "
      ]
     },
     "metadata": {},
     "output_type": "display_data"
    }
   ],
   "source": [
    "predict(ridge.mod,s=50, type =\"coefficients\")[1:9 ,]"
   ]
  },
  {
   "cell_type": "code",
   "execution_count": 22,
   "metadata": {},
   "outputs": [],
   "source": [
    "set.seed (1)\n",
    "train=sample(1:nrow(dat.mat), nrow(dat.mat)/2)\n",
    "test=(-train)\n",
    "y.test=y[test]"
   ]
  },
  {
   "cell_type": "code",
   "execution_count": 23,
   "metadata": {},
   "outputs": [
    {
     "data": {
      "text/html": [
       "9270.62793640859"
      ],
      "text/latex": [
       "9270.62793640859"
      ],
      "text/markdown": [
       "9270.62793640859"
      ],
      "text/plain": [
       "[1] 9270.628"
      ]
     },
     "metadata": {},
     "output_type": "display_data"
    }
   ],
   "source": [
    "ridge.mod =glmnet(dat.mat[train,] , y[train], alpha=0, lambda=grid, thresh= 1e-12)\n",
    "ridge.pred=predict(ridge.mod ,s=4, newx=dat.mat[test,])\n",
    "mean((ridge.pred-y.test)^2)"
   ]
  },
  {
   "cell_type": "code",
   "execution_count": 24,
   "metadata": {},
   "outputs": [
    {
     "data": {
      "text/html": [
       "9127.54907673213"
      ],
      "text/latex": [
       "9127.54907673213"
      ],
      "text/markdown": [
       "9127.54907673213"
      ],
      "text/plain": [
       "[1] 9127.549"
      ]
     },
     "metadata": {},
     "output_type": "display_data"
    }
   ],
   "source": [
    "mean(( mean(y[train ])-y.test)^2)"
   ]
  },
  {
   "cell_type": "code",
   "execution_count": 25,
   "metadata": {},
   "outputs": [
    {
     "data": {
      "image/png": "[encoded data removed]",
      "text/plain": [
       "plot without title"
      ]
     },
     "metadata": {},
     "output_type": "display_data"
    }
   ],
   "source": [
    "lasso.mod =glmnet(dat.mat[train ,],y[train],alpha =1, lambda=grid)\n",
    "plot(lasso.mod)\n"
   ]
  },
  {
   "cell_type": "code",
   "execution_count": 29,
   "metadata": {},
   "outputs": [
    {
     "data": {
      "text/html": [
       "9129.37658173783"
      ],
      "text/latex": [
       "9129.37658173783"
      ],
      "text/markdown": [
       "9129.37658173783"
      ],
      "text/plain": [
       "[1] 9129.377"
      ]
     },
     "metadata": {},
     "output_type": "display_data"
    },
    {
     "data": {
      "image/png": "[encoded data removed]",
      "text/plain": [
       "plot without title"
      ]
     },
     "metadata": {},
     "output_type": "display_data"
    }
   ],
   "source": [
    "set.seed (1)\n",
    "cv.out =cv.glmnet(dat.mat[train ,],y[train],alpha=1)\n",
    "plot(cv.out)\n",
    "bestlam =cv.out$lambda.min\n",
    "lasso.pred=predict(lasso.mod ,s=bestlam ,newx=dat.mat[test,])\n",
    "mean((lasso.pred-y.test)^2)\n"
   ]
  },
  {
   "cell_type": "code",
   "execution_count": 30,
   "metadata": {
    "collapsed": true
   },
   "outputs": [
    {
     "ename": "ERROR",
     "evalue": "Error in storage.mode(y) <- \"double\": (list) object cannot be coerced to type 'double'\n",
     "output_type": "error",
     "traceback": [
      "Error in storage.mode(y) <- \"double\": (list) object cannot be coerced to type 'double'\nTraceback:\n",
      "1. cv.glmnet(dat.mat, domcolor, alpha = 1)",
      "2. glmnet(x, y, weights = weights, offset = offset, lambda = lambda, \n .     ...)",
      "3. elnet(x, is.sparse, ix, jx, y, weights, offset, type.gaussian, \n .     alpha, nobs, nvars, jd, vp, cl, ne, nx, nlam, flmin, ulam, \n .     thresh, isd, intr, vnames, maxit)"
     ]
    }
   ],
   "source": [
    "cv.out=cv.glmnet(dat.mat,domcolor,alpha=1)\n",
    "plot(cv.out)\n",
    "bestlam=cv.out$lambda.min\n",
    "bestlam\n",
    "\n",
    "lasso.mod=glmnet(dat.mat,y,alpha=1,lambda=bestlam)\n",
    "coef(lasso.mod)"
   ]
  },
  {
   "cell_type": "code",
   "execution_count": 5,
   "metadata": {},
   "outputs": [],
   "source": [
    "Cols= function(vec){\n",
    "    cols=rainbow(length(unique(vec)))\n",
    "    return(cols[as.numeric(as.factor(vec))])\n",
    "}\n"
   ]
  },
  {
   "cell_type": "code",
   "execution_count": 6,
   "metadata": {},
   "outputs": [
    {
     "ename": "ERROR",
     "evalue": "Error in plot(pr.out$x[, 1:2], col = Cols(domcolor), pch = 19, xlab = \"Z1\", : object 'pr.out' not found\n",
     "output_type": "error",
     "traceback": [
      "Error in plot(pr.out$x[, 1:2], col = Cols(domcolor), pch = 19, xlab = \"Z1\", : object 'pr.out' not found\nTraceback:\n",
      "1. plot(pr.out$x[, 1:2], col = Cols(domcolor), pch = 19, xlab = \"Z1\", \n .     ylab = \"Z2\")"
     ]
    }
   ],
   "source": [
    "plot(pr.out$x[,1:2], col=Cols(domcolor), pch=19, xlab=\"Z1\", ylab=\"Z2\")\n",
    "#not sure what x is used for, but probably try that with the actual\n",
    "#data instead?"
   ]
  },
  {
   "cell_type": "code",
   "execution_count": null,
   "metadata": {},
   "outputs": [],
   "source": [
    "plot(pr.out$x[,c(1,3)], col=Cols(nci.labs), pch=19, xlab=\"Z1\", ylab=\"Z3\")"
   ]
  },
  {
   "cell_type": "code",
   "execution_count": null,
   "metadata": {},
   "outputs": [],
   "source": [
    "summary(pr.out)"
   ]
  },
  {
   "cell_type": "code",
   "execution_count": null,
   "metadata": {},
   "outputs": [],
   "source": [
    "plot(pr.out)"
   ]
  },
  {
   "cell_type": "code",
   "execution_count": null,
   "metadata": {},
   "outputs": [],
   "source": [
    "pve=100*pr.out$sdev^2/ sum(pr.out$sdev^2)\n",
    "\n",
    "plot(pve, type=\"o\", ylab=\"PVE\", xlab=\"Principal Component\", col=\"blue\")"
   ]
  },
  {
   "cell_type": "code",
   "execution_count": null,
   "metadata": {},
   "outputs": [],
   "source": [
    "plot(cumsum(pve), type=\"o\", ylab=\"Cumulative PVE\", xlab=\"Principal Component\", col=\"brown3\")"
   ]
  },
  {
   "cell_type": "code",
   "execution_count": null,
   "metadata": {},
   "outputs": [],
   "source": [
    "sd.data=scale(nci.data)"
   ]
  },
  {
   "cell_type": "code",
   "execution_count": null,
   "metadata": {},
   "outputs": [],
   "source": [
    "data.dist=dist(sd.data)\n",
    "plot(hclust(data.dist), labels=nci.labs, main=\"Complete Linkage\",\n",
    "    xlab=\"\", sub=\"\", ylab=\"\")"
   ]
  },
  {
   "cell_type": "code",
   "execution_count": null,
   "metadata": {},
   "outputs": [],
   "source": [
    "plot(hclust(data.dist, method=\"average\"), labels=nci.labs, main=\"Average Linkage\",\n",
    "    xlab=\"\", sub=\"\", ylab=\"\")"
   ]
  },
  {
   "cell_type": "code",
   "execution_count": null,
   "metadata": {},
   "outputs": [],
   "source": [
    "plot(hclust(data.dist, method=\"single\"), labels=nci.labs, main=\"Single Linkage\",\n",
    "    xlab=\"\", sub=\"\", ylab=\"\")"
   ]
  },
  {
   "cell_type": "code",
   "execution_count": null,
   "metadata": {},
   "outputs": [],
   "source": [
    "hc.out=hclust(dist(sd.data))\n",
    "hc.clusters=cutree(hc.out,4)\n",
    "table(hc.clusters,nci.labs)"
   ]
  },
  {
   "cell_type": "code",
   "execution_count": null,
   "metadata": {},
   "outputs": [],
   "source": [
    "plot(hc.out, labels=nci.labs)\n",
    "abline(h=139, col=\"red\")"
   ]
  },
  {
   "cell_type": "code",
   "execution_count": null,
   "metadata": {},
   "outputs": [],
   "source": [
    "hc.out"
   ]
  },
  {
   "cell_type": "code",
   "execution_count": null,
   "metadata": {},
   "outputs": [],
   "source": [
    "set.seed(2)\n",
    "km.out=kmeans(sd.data,4, nstart=20)\n",
    "km.clusters=km.out$cluster\n",
    "table(km.clusters,hc.clusters)"
   ]
  },
  {
   "cell_type": "code",
   "execution_count": null,
   "metadata": {},
   "outputs": [],
   "source": [
    "hc.out=hclust(dist(pr.out$x[,1:5]))\n",
    "plot(hc.out, labels=nci.labs, main=\"Hier. Clust. on First Five Score Vectors\")"
   ]
  },
  {
   "cell_type": "code",
   "execution_count": null,
   "metadata": {},
   "outputs": [],
   "source": [
    "table(cutree(hc.out,4), nci.labs)"
   ]
  }
 ],
 "metadata": {
  "kernelspec": {
   "display_name": "R",
   "language": "R",
   "name": "ir"
  },
  "language_info": {
   "codemirror_mode": "r",
   "file_extension": ".r",
   "mimetype": "text/x-r-source",
   "name": "R",
   "pygments_lexer": "r",
   "version": "3.4.2"
  }
 },
 "nbformat": 4,
 "nbformat_minor": 2
}
